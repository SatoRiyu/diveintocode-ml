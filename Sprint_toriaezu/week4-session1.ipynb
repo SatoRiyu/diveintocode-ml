{
 "cells": [
  {
   "cell_type": "markdown",
   "metadata": {},
   "source": [
    "# Week4授業課題 信用情報の学習"
   ]
  },
  {
   "cell_type": "code",
   "execution_count": 78,
   "metadata": {},
   "outputs": [],
   "source": [
    "import os\n",
    "import pandas as pd\n",
    "import numpy as np\n",
    "\n",
    "import matplotlib.pyplot as plt\n",
    "\n",
    "from sklearn.model_selection import train_test_split\n",
    "from sklearn.ensemble import RandomForestClassifier\n",
    "from sklearn.preprocessing import LabelEncoder, StandardScaler, MinMaxScaler\n",
    "\n",
    "from sklearn.metrics import accuracy_score, recall_score, precision_score, f1_score, confusion_matrix, roc_curve, auc"
   ]
  },
  {
   "cell_type": "markdown",
   "metadata": {},
   "source": [
    "## 【問題1】コンペティション内容の確認\n",
    "コンペティションのOverviewページ読み、「Home Credit Default Risk」について以下の観点について確認してください。\n",
    "\n",
    "何を学習し、何を予測するのか\n",
    "どのようなファイルを作りKaggleに提出するか\n",
    "提出されたものはどういった指標値で評価されるのか"
   ]
  },
  {
   "cell_type": "markdown",
   "metadata": {},
   "source": [
    "<pre>\n",
    "122個ある特徴量からその人が返済する確率を予測する\n",
    "\n",
    "IDとTARGETがカラムとして入っているcsvファイルを提出する\n",
    "TARGETにはその人が返済する確率が入っている\n",
    "\n",
    "提出された課題はAUCで評価される"
   ]
  },
  {
   "cell_type": "markdown",
   "metadata": {},
   "source": [
    "## 【問題2】学習と検証\n",
    "<pre>\n",
    "データを簡単に分析、前処理し、学習、検証するまでの一連の流れを作成・実行してください。\n",
    "\n",
    "検証にはこのコンペティションで使用される評価指標を用いるようにしてください。学習に用いる手法は指定しません。"
   ]
  },
  {
   "cell_type": "code",
   "execution_count": 3,
   "metadata": {},
   "outputs": [
    {
     "data": {
      "text/plain": [
       "'/Users/morishuuya/Desktop/DIC/diveintocode-ml'"
      ]
     },
     "execution_count": 3,
     "metadata": {},
     "output_type": "execute_result"
    }
   ],
   "source": [
    "os.getcwd()"
   ]
  },
  {
   "cell_type": "code",
   "execution_count": 4,
   "metadata": {},
   "outputs": [],
   "source": [
    "test_data_raw = pd.read_csv(\"/Users/morishuuya/Desktop/dataset/from kaggle/Home Credit Default/application_test.csv\")\n",
    "train_data_raw=pd.read_csv(\"/Users/morishuuya/Desktop/dataset/from kaggle/Home Credit Default/application_train.csv\")"
   ]
  },
  {
   "cell_type": "code",
   "execution_count": 71,
   "metadata": {},
   "outputs": [],
   "source": [
    "train_data = train_data_raw.copy(deep=True)\n",
    "test_data = test_data_raw.copy(deep=True)"
   ]
  },
  {
   "cell_type": "code",
   "execution_count": 6,
   "metadata": {},
   "outputs": [],
   "source": [
    "#欠損値がある列を削除\n",
    "droped_train = train_data.dropna(axis=1)\n",
    "droped_test = test_data.dropna(axis=1)\n",
    "\n",
    "#train, testのデータで共通する列を抜きだす\n",
    "drop_column_intersection = droped_train.columns & droped_test.columns\n",
    "\n",
    "droped_train_inter = train_data[drop_column_intersection]\n",
    "droped_train_inter.insert(1, \"TARGET\", train_data.loc[:, \"TARGET\"])\n",
    "droped_test_inter = test_data[drop_column_intersection]\n",
    "\n",
    "#機械学習させる上で文字列を使えないので、objectタイプを削除する\n",
    "on_train = droped_train_inter.select_dtypes(include=\"number\")\n",
    "on_test = droped_test_inter.select_dtypes(include=\"number\")\n",
    "\n",
    "#機械学習用のtrain_test_splitのために説明変数と目的変数を分ける\n",
    "X = on_train.drop(columns=\"TARGET\")\n",
    "y = on_train[\"TARGET\"]"
   ]
  },
  {
   "cell_type": "code",
   "execution_count": 7,
   "metadata": {},
   "outputs": [],
   "source": [
    "X_train, X_test, y_train, y_test = train_test_split(X, y, test_size=0.25, random_state=0)"
   ]
  },
  {
   "cell_type": "code",
   "execution_count": 8,
   "metadata": {
    "scrolled": true
   },
   "outputs": [
    {
     "data": {
      "text/plain": [
       "RandomForestClassifier(bootstrap=True, class_weight=None, criterion='gini',\n",
       "            max_depth=None, max_features='auto', max_leaf_nodes=None,\n",
       "            min_impurity_decrease=0.0, min_impurity_split=None,\n",
       "            min_samples_leaf=1, min_samples_split=2,\n",
       "            min_weight_fraction_leaf=0.0, n_estimators=10, n_jobs=None,\n",
       "            oob_score=False, random_state=None, verbose=0,\n",
       "            warm_start=False)"
      ]
     },
     "execution_count": 8,
     "metadata": {},
     "output_type": "execute_result"
    }
   ],
   "source": [
    "RFC = RandomForestClassifier(n_estimators=10)\n",
    "RFC.fit(X_train, y_train)"
   ]
  },
  {
   "cell_type": "markdown",
   "metadata": {},
   "source": [
    "## 【問題3】テストデータに対する推定\n",
    "テストデータ（application_test.csv）に対して推定を行い、Kaggleに提出を行ってください。\n",
    "\n",
    "正しく提出が行えていれば、精度は低くても構いません。"
   ]
  },
  {
   "cell_type": "code",
   "execution_count": 9,
   "metadata": {
    "scrolled": true
   },
   "outputs": [
    {
     "name": "stdout",
     "output_type": "stream",
     "text": [
      "accuracy： 0.9200291370743255\n",
      "recall: 0.002134296503037268\n",
      "precision: 0.1566265060240964\n",
      "f1: 0.004211208292840946\n",
      "matrix:\n",
      " [[70717    70]\n",
      " [ 6078    13]]\n",
      "--------------------\n",
      "auc: 0.5005727071818307\n"
     ]
    }
   ],
   "source": [
    "y_pred_1 = RFC.predict(X_test)\n",
    "fpr_1, tpr_1, thresholds_1 = roc_curve(y_test, y_pred_1)\n",
    "auc_1 = auc(fpr_1, tpr_1)\n",
    "print(\"accuracy：\", accuracy_score(y_test, y_pred_1))\n",
    "print(\"recall:\", recall_score(y_test, y_pred_1))\n",
    "print(\"precision:\", precision_score(y_test, y_pred_1))\n",
    "print(\"f1:\",f1_score(y_test, y_pred_1))\n",
    "print(\"matrix:\\n\", confusion_matrix(y_test, y_pred_1))\n",
    "print(\"-\"*20)\n",
    "print(\"auc:\",auc_1)"
   ]
  },
  {
   "cell_type": "markdown",
   "metadata": {},
   "source": [
    "### kaggle提出　　public_score:0.49024"
   ]
  },
  {
   "cell_type": "markdown",
   "metadata": {},
   "source": [
    "## 【問題4】特徴量エンジニアリング\n",
    "<pre>\n",
    "精度を上げるために以下のような観点で 特徴量エンジニアリング（Feature Engineering） を行ってください。\n",
    "\n",
    "どの特徴量を使うか\n",
    "どう前処理をするか\n",
    "何をした時に検証データに対する評価指標がどのようになったかをまとめてください。最低5パターンの学習・検証を行ってください。\n",
    "\n",
    "精度が高かったものに関してはテストデータに対しても推定を行い、Kaggleに提出を行ってください。"
   ]
  },
  {
   "cell_type": "markdown",
   "metadata": {},
   "source": [
    "### パターン１：RandomForestの重要な特徴量でソートし、高い方から５つ選んで学習する"
   ]
  },
  {
   "cell_type": "code",
   "execution_count": 10,
   "metadata": {},
   "outputs": [
    {
     "name": "stdout",
     "output_type": "stream",
     "text": [
      "重要度が高い特徴量順:\n",
      "[(0.12, 'DAYS_REGISTRATION'), (0.12, 'DAYS_ID_PUBLISH'), (0.12, 'DAYS_BIRTH'), (0.11, 'SK_ID_CURR'), (0.11, 'AMT_CREDIT'), (0.1, 'DAYS_EMPLOYED'), (0.08, 'REGION_POPULATION_RELATIVE'), (0.08, 'AMT_INCOME_TOTAL'), (0.07, 'HOUR_APPR_PROCESS_START'), (0.02, 'CNT_CHILDREN'), (0.01, 'REGION_RATING_CLIENT_W_CITY'), (0.01, 'REGION_RATING_CLIENT'), (0.01, 'FLAG_WORK_PHONE'), (0.01, 'FLAG_PHONE'), (0.01, 'FLAG_EMAIL'), (0.01, 'FLAG_DOCUMENT_3'), (0.0, 'REG_REGION_NOT_WORK_REGION'), (0.0, 'REG_REGION_NOT_LIVE_REGION'), (0.0, 'REG_CITY_NOT_WORK_CITY'), (0.0, 'REG_CITY_NOT_LIVE_CITY'), (0.0, 'LIVE_REGION_NOT_WORK_REGION'), (0.0, 'LIVE_CITY_NOT_WORK_CITY'), (0.0, 'FLAG_MOBIL'), (0.0, 'FLAG_EMP_PHONE'), (0.0, 'FLAG_DOCUMENT_9'), (0.0, 'FLAG_DOCUMENT_8'), (0.0, 'FLAG_DOCUMENT_7'), (0.0, 'FLAG_DOCUMENT_6'), (0.0, 'FLAG_DOCUMENT_5'), (0.0, 'FLAG_DOCUMENT_4'), (0.0, 'FLAG_DOCUMENT_21'), (0.0, 'FLAG_DOCUMENT_20'), (0.0, 'FLAG_DOCUMENT_2'), (0.0, 'FLAG_DOCUMENT_19'), (0.0, 'FLAG_DOCUMENT_18'), (0.0, 'FLAG_DOCUMENT_17'), (0.0, 'FLAG_DOCUMENT_16'), (0.0, 'FLAG_DOCUMENT_15'), (0.0, 'FLAG_DOCUMENT_14'), (0.0, 'FLAG_DOCUMENT_13'), (0.0, 'FLAG_DOCUMENT_12'), (0.0, 'FLAG_DOCUMENT_11'), (0.0, 'FLAG_DOCUMENT_10'), (0.0, 'FLAG_CONT_MOBILE')]\n"
     ]
    }
   ],
   "source": [
    "features = X_train.columns\n",
    "importances = RFC.feature_importances_\n",
    "\n",
    "print(\"重要度が高い特徴量順:\")\n",
    "print(sorted(zip(map(lambda x: round(x, 2), RFC.feature_importances_), features), \n",
    "             reverse=True))"
   ]
  },
  {
   "cell_type": "markdown",
   "metadata": {},
   "source": [
    "<pre>\n",
    "使う特徴量を5つにする\n",
    "'DAYS_REGISTRATION'\n",
    "'DAYS_BIRTH'\n",
    "'DAYS_ID_PUBLISH'\n",
    "'DAYS_EMPLOYED'\n",
    "'AMT_CREDIT'"
   ]
  },
  {
   "cell_type": "code",
   "execution_count": 11,
   "metadata": {},
   "outputs": [],
   "source": [
    "importance_feature = [\"DAYS_REGISTRATION\", \"DAYS_BIRTH\", \"DAYS_ID_PUBLISH\", \"DAYS_EMPLOYED\", \"AMT_CREDIT\"]\n",
    "train_data_pattern1 = on_train[importance_feature]\n",
    "test_data_pattern1 = on_test[importance_feature]\n",
    "TARGET = on_train[\"TARGET\"]"
   ]
  },
  {
   "cell_type": "code",
   "execution_count": 12,
   "metadata": {},
   "outputs": [],
   "source": [
    "X_pattern1 = train_data_pattern1\n",
    "y_pattern1 = TARGET"
   ]
  },
  {
   "cell_type": "code",
   "execution_count": 13,
   "metadata": {},
   "outputs": [],
   "source": [
    "X_train_pattern1, X_test_pattern1, y_train_pattern1, y_test_pattern1 = train_test_split(X_pattern1, y_pattern1, test_size=0.25,\n",
    "                                                                                       random_state=42)"
   ]
  },
  {
   "cell_type": "code",
   "execution_count": 103,
   "metadata": {},
   "outputs": [],
   "source": [
    "RFC_pattern1 = RandomForestClassifier(n_estimators=100)"
   ]
  },
  {
   "cell_type": "code",
   "execution_count": 104,
   "metadata": {},
   "outputs": [
    {
     "data": {
      "text/plain": [
       "RandomForestClassifier(bootstrap=True, class_weight=None, criterion='gini',\n",
       "            max_depth=None, max_features='auto', max_leaf_nodes=None,\n",
       "            min_impurity_decrease=0.0, min_impurity_split=None,\n",
       "            min_samples_leaf=1, min_samples_split=2,\n",
       "            min_weight_fraction_leaf=0.0, n_estimators=100, n_jobs=None,\n",
       "            oob_score=False, random_state=None, verbose=0,\n",
       "            warm_start=False)"
      ]
     },
     "execution_count": 104,
     "metadata": {},
     "output_type": "execute_result"
    }
   ],
   "source": [
    "RFC_pattern1.fit(X_train_pattern1, y_train_pattern1)"
   ]
  },
  {
   "cell_type": "code",
   "execution_count": 105,
   "metadata": {},
   "outputs": [],
   "source": [
    "y_pred_pattern1 = RFC_pattern1.predict(X_test_pattern1)"
   ]
  },
  {
   "cell_type": "code",
   "execution_count": 106,
   "metadata": {},
   "outputs": [
    {
     "name": "stdout",
     "output_type": "stream",
     "text": [
      "accuracy： 0.9205364343505295\n",
      "recall: 0.0\n",
      "precision: 0.0\n",
      "f1: 0.0\n",
      "matrix:\n",
      " [[70769    18]\n",
      " [ 6091     0]]\n",
      "--------------------\n",
      "auc: 0.5004875289786099\n"
     ]
    }
   ],
   "source": [
    "fpr_pattern1, tpr_pattern1, thresholds_pattern1 = roc_curve(y_test_pattern1, y_pred_pattern1)\n",
    "auc_pattern1 = auc(fpr_pattern1, tpr_pattern1)\n",
    "print(\"accuracy：\", accuracy_score(y_test, y_pred_pattern1))\n",
    "print(\"recall:\", recall_score(y_test, y_pred_pattern1))\n",
    "print(\"precision:\", precision_score(y_test, y_pred_pattern1))\n",
    "print(\"f1:\",f1_score(y_test, y_pred_pattern1))\n",
    "print(\"matrix:\\n\", confusion_matrix(y_test, y_pred_pattern1))\n",
    "print(\"-\"*20)\n",
    "print(\"auc:\",auc_pattern1)"
   ]
  },
  {
   "cell_type": "markdown",
   "metadata": {},
   "source": [
    "### パターン2：勘で３つ抜き出して　学習させる"
   ]
  },
  {
   "cell_type": "code",
   "execution_count": 108,
   "metadata": {},
   "outputs": [],
   "source": [
    "pattern2_selected_columns = [\"AMT_INCOME_TOTAL\", \"NAME_HOUSING_TYPE\", \"NAME_EDUCATION_TYPE\"]"
   ]
  },
  {
   "cell_type": "code",
   "execution_count": 109,
   "metadata": {},
   "outputs": [],
   "source": [
    "train_data_pattern2 = train_data[pattern2_selected_columns].copy(deep=True)"
   ]
  },
  {
   "cell_type": "code",
   "execution_count": 111,
   "metadata": {},
   "outputs": [],
   "source": [
    "train_data_pattern2 = pd.get_dummies(train_data_pattern2, drop_first=True)"
   ]
  },
  {
   "cell_type": "code",
   "execution_count": 112,
   "metadata": {},
   "outputs": [],
   "source": [
    "X_train_pattern2, X_test_pattern2, y_train_pattern2, y_test_pattern2 = train_test_split(train_data_pattern2, TARGET, test_size=0.25,\n",
    "                                                                                       random_state=42)"
   ]
  },
  {
   "cell_type": "code",
   "execution_count": 113,
   "metadata": {},
   "outputs": [],
   "source": [
    "RFC_pattern2 = RandomForestClassifier(n_estimators=100)"
   ]
  },
  {
   "cell_type": "code",
   "execution_count": 114,
   "metadata": {},
   "outputs": [
    {
     "data": {
      "text/plain": [
       "RandomForestClassifier(bootstrap=True, class_weight=None, criterion='gini',\n",
       "            max_depth=None, max_features='auto', max_leaf_nodes=None,\n",
       "            min_impurity_decrease=0.0, min_impurity_split=None,\n",
       "            min_samples_leaf=1, min_samples_split=2,\n",
       "            min_weight_fraction_leaf=0.0, n_estimators=100, n_jobs=None,\n",
       "            oob_score=False, random_state=None, verbose=0,\n",
       "            warm_start=False)"
      ]
     },
     "execution_count": 114,
     "metadata": {},
     "output_type": "execute_result"
    }
   ],
   "source": [
    "RFC_pattern2.fit(X_train_pattern2, y_train_pattern2)"
   ]
  },
  {
   "cell_type": "code",
   "execution_count": 115,
   "metadata": {},
   "outputs": [],
   "source": [
    "y_pred_pattern2 = RFC_pattern2.predict(X_test_pattern2)"
   ]
  },
  {
   "cell_type": "code",
   "execution_count": 184,
   "metadata": {},
   "outputs": [
    {
     "name": "stdout",
     "output_type": "stream",
     "text": [
      "accuracy： 0.918780405317516\n",
      "recall: 0.0006460991762235503\n",
      "precision: 0.06557377049180328\n",
      "f1: 0.0012795905310300703\n",
      "matrix:\n",
      " [[70630    57]\n",
      " [ 6187     4]]\n",
      "--------------------\n",
      "auc: 0.49991986371234964\n"
     ]
    }
   ],
   "source": [
    "fpr_pattern2, tpr_pattern2, thresholds_pattern2 = roc_curve(y_test_pattern2, y_pred_pattern2)\n",
    "auc_pattern2 = auc(fpr_pattern2, tpr_pattern2)\n",
    "print(\"accuracy：\", accuracy_score(y_test_pattern2, y_pred_pattern2))\n",
    "print(\"recall:\", recall_score(y_test_pattern2, y_pred_pattern2))\n",
    "print(\"precision:\", precision_score(y_test_pattern2, y_pred_pattern2))\n",
    "print(\"f1:\",f1_score(y_test_pattern2, y_pred_pattern2))\n",
    "print(\"matrix:\\n\", confusion_matrix(y_test_pattern2, y_pred_pattern2))\n",
    "print(\"-\"*20)\n",
    "print(\"auc:\",auc_pattern2)"
   ]
  },
  {
   "cell_type": "markdown",
   "metadata": {},
   "source": [
    "### パターン3：上記の特徴量をlabel encordingで試してみる"
   ]
  },
  {
   "cell_type": "code",
   "execution_count": 117,
   "metadata": {},
   "outputs": [],
   "source": [
    "pattern3_selected_columns = [\"AMT_INCOME_TOTAL\", \"NAME_HOUSING_TYPE\", \"NAME_EDUCATION_TYPE\"]"
   ]
  },
  {
   "cell_type": "code",
   "execution_count": 118,
   "metadata": {},
   "outputs": [],
   "source": [
    "train_data_pattern3 = train_data[pattern3_selected_columns].copy(deep=True)"
   ]
  },
  {
   "cell_type": "code",
   "execution_count": 119,
   "metadata": {},
   "outputs": [],
   "source": [
    "le = LabelEncoder()"
   ]
  },
  {
   "cell_type": "code",
   "execution_count": 120,
   "metadata": {},
   "outputs": [],
   "source": [
    "for col in train_data_pattern3:\n",
    "    if train_data_pattern3[col].dtype == \"object\":\n",
    "        train_data_pattern3[col] = le.fit_transform(train_data_pattern3[col])"
   ]
  },
  {
   "cell_type": "code",
   "execution_count": 121,
   "metadata": {
    "scrolled": true
   },
   "outputs": [],
   "source": [
    "X_train_pattern3, X_test_pattern3, y_train_pattern3, y_test_pattern3 = train_test_split(train_data_pattern3, TARGET, test_size=0.25,\n",
    "                                                                                       random_state=42)"
   ]
  },
  {
   "cell_type": "code",
   "execution_count": 122,
   "metadata": {},
   "outputs": [],
   "source": [
    "RFC_pattern3 = RandomForestClassifier(n_estimators=100)"
   ]
  },
  {
   "cell_type": "code",
   "execution_count": 123,
   "metadata": {},
   "outputs": [
    {
     "data": {
      "text/plain": [
       "RandomForestClassifier(bootstrap=True, class_weight=None, criterion='gini',\n",
       "            max_depth=None, max_features='auto', max_leaf_nodes=None,\n",
       "            min_impurity_decrease=0.0, min_impurity_split=None,\n",
       "            min_samples_leaf=1, min_samples_split=2,\n",
       "            min_weight_fraction_leaf=0.0, n_estimators=100, n_jobs=None,\n",
       "            oob_score=False, random_state=None, verbose=0,\n",
       "            warm_start=False)"
      ]
     },
     "execution_count": 123,
     "metadata": {},
     "output_type": "execute_result"
    }
   ],
   "source": [
    "RFC_pattern3.fit(X_train_pattern3, y_train_pattern3)"
   ]
  },
  {
   "cell_type": "code",
   "execution_count": 124,
   "metadata": {},
   "outputs": [],
   "source": [
    "y_pred_pattern3 = RFC_pattern3.predict(X_test_pattern3)"
   ]
  },
  {
   "cell_type": "code",
   "execution_count": 183,
   "metadata": {},
   "outputs": [
    {
     "name": "stdout",
     "output_type": "stream",
     "text": [
      "accuracy： 0.918780405317516\n",
      "recall: 0.0006460991762235503\n",
      "precision: 0.06557377049180328\n",
      "f1: 0.0012795905310300703\n",
      "matrix:\n",
      " [[70630    57]\n",
      " [ 6187     4]]\n",
      "--------------------\n",
      "auc: 0.49991986371234964\n"
     ]
    }
   ],
   "source": [
    "fpr_pattern3 ,tpr_pattern3, thresholds_pattern3 = roc_curve(y_test_pattern3, y_pred_pattern3)\n",
    "auc_pattern3 = auc(fpr_pattern3, tpr_pattern3)\n",
    "print(\"accuracy：\", accuracy_score(y_test_pattern3, y_pred_pattern3))\n",
    "print(\"recall:\", recall_score(y_test_pattern3, y_pred_pattern3))\n",
    "print(\"precision:\", precision_score(y_test_pattern3, y_pred_pattern3))\n",
    "print(\"f1:\",f1_score(y_test_pattern3, y_pred_pattern3))\n",
    "print(\"matrix:\\n\", confusion_matrix(y_test_pattern3, y_pred_pattern3))\n",
    "print(\"-\"*20)\n",
    "print(\"auc:\",auc_pattern3)"
   ]
  },
  {
   "cell_type": "markdown",
   "metadata": {},
   "source": [
    "### パターン4：上記の特徴量を標準化してみる"
   ]
  },
  {
   "cell_type": "code",
   "execution_count": 138,
   "metadata": {},
   "outputs": [],
   "source": [
    "pattern4_selected_columns = [\"AMT_INCOME_TOTAL\", \"NAME_HOUSING_TYPE\", \"NAME_EDUCATION_TYPE\"]"
   ]
  },
  {
   "cell_type": "code",
   "execution_count": 127,
   "metadata": {},
   "outputs": [],
   "source": [
    "sc = StandardScaler()"
   ]
  },
  {
   "cell_type": "code",
   "execution_count": 141,
   "metadata": {},
   "outputs": [],
   "source": [
    "train_data_pattern4 = train_data[pattern4_selected_columns].copy(deep=True)"
   ]
  },
  {
   "cell_type": "code",
   "execution_count": 129,
   "metadata": {},
   "outputs": [
    {
     "data": {
      "text/plain": [
       "array([202500., 270000.,  67500., ..., 153000., 171000., 157500.])"
      ]
     },
     "execution_count": 129,
     "metadata": {},
     "output_type": "execute_result"
    }
   ],
   "source": [
    "train_data_pattern4[\"AMT_INCOME_TOTAL\"].ravel()"
   ]
  },
  {
   "cell_type": "code",
   "execution_count": 130,
   "metadata": {},
   "outputs": [],
   "source": [
    "train_data_pattern4[\"AMT_INCOME_TOTAL\"] = sc.fit_transform(train_data_pattern4[\"AMT_INCOME_TOTAL\"].values.reshape(-1, 1))"
   ]
  },
  {
   "cell_type": "code",
   "execution_count": 131,
   "metadata": {},
   "outputs": [],
   "source": [
    "train_data_pattern4 = pd.get_dummies(train_data_pattern4, drop_first=True)"
   ]
  },
  {
   "cell_type": "code",
   "execution_count": 132,
   "metadata": {},
   "outputs": [],
   "source": [
    "X_train_pattern4, X_test_pattern4, y_train_pattern4, y_test_pattern4 = train_test_split(train_data_pattern4, TARGET, test_size=0.25,\n",
    "                                                                                       random_state=42)"
   ]
  },
  {
   "cell_type": "code",
   "execution_count": 133,
   "metadata": {},
   "outputs": [],
   "source": [
    "RFC_pattern4 = RandomForestClassifier(n_estimators=100)"
   ]
  },
  {
   "cell_type": "code",
   "execution_count": 135,
   "metadata": {
    "scrolled": true
   },
   "outputs": [
    {
     "data": {
      "text/plain": [
       "RandomForestClassifier(bootstrap=True, class_weight=None, criterion='gini',\n",
       "            max_depth=None, max_features='auto', max_leaf_nodes=None,\n",
       "            min_impurity_decrease=0.0, min_impurity_split=None,\n",
       "            min_samples_leaf=1, min_samples_split=2,\n",
       "            min_weight_fraction_leaf=0.0, n_estimators=100, n_jobs=None,\n",
       "            oob_score=False, random_state=None, verbose=0,\n",
       "            warm_start=False)"
      ]
     },
     "execution_count": 135,
     "metadata": {},
     "output_type": "execute_result"
    }
   ],
   "source": [
    "RFC_pattern4.fit(X_train_pattern4, y_train_pattern4)"
   ]
  },
  {
   "cell_type": "code",
   "execution_count": 136,
   "metadata": {},
   "outputs": [],
   "source": [
    "y_pred_pattern4 = RFC_pattern4.predict(X_test_pattern4)"
   ]
  },
  {
   "cell_type": "code",
   "execution_count": 181,
   "metadata": {},
   "outputs": [
    {
     "name": "stdout",
     "output_type": "stream",
     "text": [
      "accuracy： 0.918780405317516\n",
      "recall: 0.00048457438216766274\n",
      "precision: 0.05084745762711865\n",
      "f1: 0.00096\n",
      "matrix:\n",
      " [[70631    56]\n",
      " [ 6188     3]]\n",
      "--------------------\n",
      "auc: 0.4998461747517386\n"
     ]
    }
   ],
   "source": [
    "fpr_pattern4 ,tpr_pattern4, thresholds_pattern4 = roc_curve(y_test_pattern4, y_pred_pattern4)\n",
    "auc_pattern4 = auc(fpr_pattern4, tpr_pattern4)\n",
    "print(\"accuracy：\", accuracy_score(y_test_pattern4, y_pred_pattern4))\n",
    "print(\"recall:\", recall_score(y_test_pattern4, y_pred_pattern4))\n",
    "print(\"precision:\", precision_score(y_test_pattern4, y_pred_pattern4))\n",
    "print(\"f1:\",f1_score(y_test_pattern4, y_pred_pattern4))\n",
    "print(\"matrix:\\n\", confusion_matrix(y_test_pattern4, y_pred_pattern4))\n",
    "print(\"-\"*20)\n",
    "print(\"auc:\",auc_pattern4)"
   ]
  },
  {
   "cell_type": "markdown",
   "metadata": {},
   "source": [
    "### パターン5：欠損値をデータとして扱ってみる"
   ]
  },
  {
   "cell_type": "code",
   "execution_count": 149,
   "metadata": {},
   "outputs": [],
   "source": [
    "pattern5_selected_columns = [\"AMT_ANNUITY\", \"AMT_GOODS_PRICE\" , \"NAME_TYPE_SUITE\"]"
   ]
  },
  {
   "cell_type": "code",
   "execution_count": 150,
   "metadata": {},
   "outputs": [],
   "source": [
    "train_data_pattern5 = train_data[pattern5_selected_columns].copy(deep=True)"
   ]
  },
  {
   "cell_type": "code",
   "execution_count": 153,
   "metadata": {},
   "outputs": [
    {
     "data": {
      "text/plain": [
       "AMT_ANNUITY          12\n",
       "AMT_GOODS_PRICE     278\n",
       "NAME_TYPE_SUITE    1292\n",
       "dtype: int64"
      ]
     },
     "execution_count": 153,
     "metadata": {},
     "output_type": "execute_result"
    }
   ],
   "source": [
    "train_data_pattern5.isnull().sum()"
   ]
  },
  {
   "cell_type": "code",
   "execution_count": 164,
   "metadata": {},
   "outputs": [],
   "source": [
    "train_data_pattern5 = train_data_pattern5.isnull()"
   ]
  },
  {
   "cell_type": "code",
   "execution_count": 172,
   "metadata": {},
   "outputs": [],
   "source": [
    "train_data_pattern5 = pd.get_dummies(train_data_pattern5, columns=[\"AMT_ANNUITY\", \"AMT_GOODS_PRICE\" , \"NAME_TYPE_SUITE\"],\n",
    "                                     drop_first=True)"
   ]
  },
  {
   "cell_type": "code",
   "execution_count": 175,
   "metadata": {},
   "outputs": [],
   "source": [
    "X_train_pattern5, X_test_pattern5, y_train_pattern5, y_test_pattern5 = train_test_split(train_data_pattern5, TARGET, test_size=0.25,\n",
    "                                                                                       random_state=42)"
   ]
  },
  {
   "cell_type": "code",
   "execution_count": 176,
   "metadata": {},
   "outputs": [],
   "source": [
    "RFC_pattern5 = RandomForestClassifier(n_estimators=100)"
   ]
  },
  {
   "cell_type": "code",
   "execution_count": 177,
   "metadata": {},
   "outputs": [
    {
     "data": {
      "text/plain": [
       "RandomForestClassifier(bootstrap=True, class_weight=None, criterion='gini',\n",
       "            max_depth=None, max_features='auto', max_leaf_nodes=None,\n",
       "            min_impurity_decrease=0.0, min_impurity_split=None,\n",
       "            min_samples_leaf=1, min_samples_split=2,\n",
       "            min_weight_fraction_leaf=0.0, n_estimators=100, n_jobs=None,\n",
       "            oob_score=False, random_state=None, verbose=0,\n",
       "            warm_start=False)"
      ]
     },
     "execution_count": 177,
     "metadata": {},
     "output_type": "execute_result"
    }
   ],
   "source": [
    "RFC_pattern5.fit(X_train_pattern5, y_train_pattern5)"
   ]
  },
  {
   "cell_type": "code",
   "execution_count": 178,
   "metadata": {},
   "outputs": [],
   "source": [
    "y_pred_pattern5 = RFC_pattern5.predict(X_test_pattern5)"
   ]
  },
  {
   "cell_type": "code",
   "execution_count": 180,
   "metadata": {},
   "outputs": [
    {
     "name": "stdout",
     "output_type": "stream",
     "text": [
      "accuracy： 0.9194698093082546\n",
      "recall: 0.0\n",
      "precision: 0.0\n",
      "f1: 0.0\n",
      "matrix:\n",
      " [[70687     0]\n",
      " [ 6191     0]]\n",
      "--------------------\n",
      "auc: 0.5\n"
     ]
    }
   ],
   "source": [
    "fpr_pattern5 ,tpr_pattern5, thresholds_pattern5 = roc_curve(y_test_pattern5, y_pred_pattern5)\n",
    "auc_pattern5 = auc(fpr_pattern5, tpr_pattern5)\n",
    "print(\"accuracy：\", accuracy_score(y_test_pattern5, y_pred_pattern5))\n",
    "print(\"recall:\", recall_score(y_test_pattern5, y_pred_pattern5))\n",
    "print(\"precision:\", precision_score(y_test_pattern5, y_pred_pattern5))\n",
    "print(\"f1:\",f1_score(y_test_pattern5, y_pred_pattern5))\n",
    "print(\"matrix:\\n\", confusion_matrix(y_test_pattern5, y_pred_pattern5))\n",
    "print(\"-\"*20)\n",
    "print(\"auc:\",auc_pattern5)"
   ]
  }
 ],
 "metadata": {
  "kernelspec": {
   "display_name": "Python 3",
   "language": "python",
   "name": "python3"
  },
  "language_info": {
   "codemirror_mode": {
    "name": "ipython",
    "version": 3
   },
   "file_extension": ".py",
   "mimetype": "text/x-python",
   "name": "python",
   "nbconvert_exporter": "python",
   "pygments_lexer": "ipython3",
   "version": "3.7.3"
  }
 },
 "nbformat": 4,
 "nbformat_minor": 2
}
