{
 "cells": [
  {
   "cell_type": "markdown",
   "metadata": {},
   "source": [
    "# Sprint課題 機械学習フロー"
   ]
  },
  {
   "cell_type": "code",
   "execution_count": 99,
   "metadata": {},
   "outputs": [],
   "source": [
    "import pandas as pd\n",
    "import numpy as np\n",
    "import statistics\n",
    "\n",
    "from sklearn.ensemble import RandomForestClassifier\n",
    "from sklearn.model_selection import train_test_split\n",
    "from sklearn.model_selection import StratifiedKFold, cross_val_score, GridSearchCV, KFold, ShuffleSplit\n",
    "\n",
    "from sklearn.metrics import accuracy_score, recall_score, precision_score, f1_score, confusion_matrix, roc_curve, auc"
   ]
  },
  {
   "cell_type": "markdown",
   "metadata": {},
   "source": [
    "#### データ前処理をしてから課題に移る"
   ]
  },
  {
   "cell_type": "code",
   "execution_count": 2,
   "metadata": {},
   "outputs": [],
   "source": [
    "test_data_raw = pd.read_csv(\"application_test.csv\")\n",
    "train_data_raw = pd.read_csv(\"application_train.csv\")"
   ]
  },
  {
   "cell_type": "code",
   "execution_count": 3,
   "metadata": {},
   "outputs": [],
   "source": [
    "train_data = train_data_raw.copy(deep=True)\n",
    "test_data = test_data_raw.copy(deep=True)"
   ]
  },
  {
   "cell_type": "code",
   "execution_count": 4,
   "metadata": {},
   "outputs": [],
   "source": [
    "#欠損値がある列を削除\n",
    "droped_train = train_data.dropna(axis=1)\n",
    "droped_test = test_data.dropna(axis=1)"
   ]
  },
  {
   "cell_type": "code",
   "execution_count": 5,
   "metadata": {},
   "outputs": [],
   "source": [
    "#train, testのデータで共通する列を抜きだす\n",
    "drop_column_intersection = droped_train.columns & droped_test.columns"
   ]
  },
  {
   "cell_type": "code",
   "execution_count": 6,
   "metadata": {},
   "outputs": [],
   "source": [
    "droped_train_inter = train_data[drop_column_intersection]\n",
    "droped_train_inter.insert(1, \"TARGET\", train_data.loc[:, \"TARGET\"])\n",
    "droped_test_inter = test_data[drop_column_intersection]"
   ]
  },
  {
   "cell_type": "code",
   "execution_count": 7,
   "metadata": {},
   "outputs": [],
   "source": [
    "#機械学習させる上で文字列を使えないので、objectタイプを削除する\n",
    "on_train = droped_train_inter.select_dtypes(include=\"number\")\n",
    "on_test = droped_test_inter.select_dtypes(include=\"number\")"
   ]
  },
  {
   "cell_type": "code",
   "execution_count": 8,
   "metadata": {},
   "outputs": [],
   "source": [
    "#機械学習用のtrain_test_splitのために説明変数と目的変数を分ける\n",
    "X = on_train.drop(columns=\"TARGET\")\n",
    "y = on_train[\"TARGET\"]"
   ]
  },
  {
   "cell_type": "code",
   "execution_count": 9,
   "metadata": {},
   "outputs": [],
   "source": [
    "X_train, X_test, y_train, y_test = train_test_split(X, y, test_size=0.25, random_state=0)"
   ]
  },
  {
   "cell_type": "code",
   "execution_count": 10,
   "metadata": {},
   "outputs": [
    {
     "data": {
      "text/plain": [
       "RandomForestClassifier(bootstrap=True, class_weight=None, criterion='gini',\n",
       "            max_depth=None, max_features='auto', max_leaf_nodes=None,\n",
       "            min_impurity_decrease=0.0, min_impurity_split=None,\n",
       "            min_samples_leaf=1, min_samples_split=2,\n",
       "            min_weight_fraction_leaf=0.0, n_estimators=10, n_jobs=None,\n",
       "            oob_score=False, random_state=None, verbose=0,\n",
       "            warm_start=False)"
      ]
     },
     "execution_count": 10,
     "metadata": {},
     "output_type": "execute_result"
    }
   ],
   "source": [
    "RFC = RandomForestClassifier(n_estimators=10)\n",
    "RFC.fit(X_train, y_train)"
   ]
  },
  {
   "cell_type": "code",
   "execution_count": 13,
   "metadata": {},
   "outputs": [
    {
     "name": "stdout",
     "output_type": "stream",
     "text": [
      "accuracy： 0.9200811675641927\n",
      "recall: 0.0016417665407978984\n",
      "precision: 0.136986301369863\n",
      "f1: 0.0032446463335496427\n",
      "matrix:\n",
      " [[70724    63]\n",
      " [ 6081    10]]\n",
      "--------------------\n",
      "auc: 0.5003758863076798\n"
     ]
    }
   ],
   "source": [
    "y_pred_1 = RFC.predict(X_test)\n",
    "fpr_1, tpr_1, thresholds_1 = roc_curve(y_test, y_pred_1)\n",
    "auc_1 = auc(fpr_1, tpr_1)\n",
    "print(\"accuracy：\", accuracy_score(y_test, y_pred_1))\n",
    "print(\"recall:\", recall_score(y_test, y_pred_1))\n",
    "print(\"precision:\", precision_score(y_test, y_pred_1))\n",
    "print(\"f1:\",f1_score(y_test, y_pred_1))\n",
    "print(\"matrix:\\n\", confusion_matrix(y_test, y_pred_1))\n",
    "print(\"-\"*20)\n",
    "print(\"auc:\",auc_1)"
   ]
  },
  {
   "cell_type": "code",
   "execution_count": 14,
   "metadata": {},
   "outputs": [
    {
     "name": "stdout",
     "output_type": "stream",
     "text": [
      "重要度が高い特徴量順:\n",
      "[(0.12, 'SK_ID_CURR'), (0.12, 'DAYS_BIRTH'), (0.11, 'DAYS_REGISTRATION'), (0.11, 'DAYS_ID_PUBLISH'), (0.1, 'DAYS_EMPLOYED'), (0.1, 'AMT_CREDIT'), (0.08, 'REGION_POPULATION_RELATIVE'), (0.08, 'AMT_INCOME_TOTAL'), (0.07, 'HOUR_APPR_PROCESS_START'), (0.02, 'CNT_CHILDREN'), (0.01, 'REG_CITY_NOT_WORK_CITY'), (0.01, 'REGION_RATING_CLIENT_W_CITY'), (0.01, 'REGION_RATING_CLIENT'), (0.01, 'FLAG_WORK_PHONE'), (0.01, 'FLAG_PHONE'), (0.01, 'FLAG_EMAIL'), (0.01, 'FLAG_DOCUMENT_3'), (0.0, 'REG_REGION_NOT_WORK_REGION'), (0.0, 'REG_REGION_NOT_LIVE_REGION'), (0.0, 'REG_CITY_NOT_LIVE_CITY'), (0.0, 'LIVE_REGION_NOT_WORK_REGION'), (0.0, 'LIVE_CITY_NOT_WORK_CITY'), (0.0, 'FLAG_MOBIL'), (0.0, 'FLAG_EMP_PHONE'), (0.0, 'FLAG_DOCUMENT_9'), (0.0, 'FLAG_DOCUMENT_8'), (0.0, 'FLAG_DOCUMENT_7'), (0.0, 'FLAG_DOCUMENT_6'), (0.0, 'FLAG_DOCUMENT_5'), (0.0, 'FLAG_DOCUMENT_4'), (0.0, 'FLAG_DOCUMENT_21'), (0.0, 'FLAG_DOCUMENT_20'), (0.0, 'FLAG_DOCUMENT_2'), (0.0, 'FLAG_DOCUMENT_19'), (0.0, 'FLAG_DOCUMENT_18'), (0.0, 'FLAG_DOCUMENT_17'), (0.0, 'FLAG_DOCUMENT_16'), (0.0, 'FLAG_DOCUMENT_15'), (0.0, 'FLAG_DOCUMENT_14'), (0.0, 'FLAG_DOCUMENT_13'), (0.0, 'FLAG_DOCUMENT_12'), (0.0, 'FLAG_DOCUMENT_11'), (0.0, 'FLAG_DOCUMENT_10'), (0.0, 'FLAG_CONT_MOBILE')]\n"
     ]
    }
   ],
   "source": [
    "features = X_train.columns\n",
    "importances = RFC.feature_importances_\n",
    "\n",
    "print(\"重要度が高い特徴量順:\")\n",
    "print(sorted(zip(map(lambda x: round(x, 2), RFC.feature_importances_), features), \n",
    "             reverse=True))"
   ]
  },
  {
   "cell_type": "markdown",
   "metadata": {},
   "source": [
    "<pre>\n",
    "使う特徴量を5つにする\n",
    "'DAYS_REGISTRATION'\n",
    "'DAYS_BIRTH'\n",
    "'DAYS_ID_PUBLISH'\n",
    "'DAYS_EMPLOYED'\n",
    "'AMT_CREDIT'"
   ]
  },
  {
   "cell_type": "code",
   "execution_count": 15,
   "metadata": {},
   "outputs": [],
   "source": [
    "importance_feature = [\"DAYS_REGISTRATION\", \"DAYS_BIRTH\", \"DAYS_ID_PUBLISH\", \"DAYS_EMPLOYED\", \"AMT_CREDIT\"]\n",
    "X_5 = on_train[importance_feature]\n",
    "y = on_train[\"TARGET\"]\n",
    "test_data_5 = on_test[importance_feature]"
   ]
  },
  {
   "cell_type": "markdown",
   "metadata": {},
   "source": [
    "## 【問題1】クロスバリデーション\n",
    "事前学習期間では検証用データをはじめに分割しておき、それに対して指標値を計算することで検証を行っていました。（ホールドアウト法）しかし、分割の仕方により精度は変化します。実践的には クロスバリデーション（交差検証） を行います。分割を複数回行い、それぞれに対して学習と検証を行う方法です。複数回の分割のためにscikit-learnにはKFoldクラスが用意されています。\n",
    "\n",
    "事前学習期間の課題で作成したベースラインモデルに対してKFoldクラスによるクロスバリデーションを行うコードを作成し実行してください。"
   ]
  },
  {
   "cell_type": "code",
   "execution_count": 16,
   "metadata": {},
   "outputs": [
    {
     "name": "stdout",
     "output_type": "stream",
     "text": [
      "TRAIN: [101986 101997 102002 ... 307508 307509 307510] TEST: [101986 101997 102002 ... 307508 307509 307510]\n",
      "TRAIN: [     0      1      2 ... 307508 307509 307510] TEST: [     0      1      2 ... 307508 307509 307510]\n",
      "TRAIN: [     0      1      2 ... 205109 205110 205111] TEST: [     0      1      2 ... 205109 205110 205111]\n"
     ]
    }
   ],
   "source": [
    "SKF = StratifiedKFold(n_splits=3)\n",
    "for train_index, test_index in SKF.split(X_5, y):\n",
    "    print(\"TRAIN:\", train_index, \"TEST:\", train_index)"
   ]
  },
  {
   "cell_type": "code",
   "execution_count": 17,
   "metadata": {},
   "outputs": [
    {
     "data": {
      "text/plain": [
       "0.5474147875075216"
      ]
     },
     "execution_count": 17,
     "metadata": {},
     "output_type": "execute_result"
    }
   ],
   "source": [
    "result_1 = cross_val_score(RFC ,X_5 ,y , cv = SKF , scoring = \"roc_auc\")\n",
    "result_1.mean()"
   ]
  },
  {
   "cell_type": "markdown",
   "metadata": {},
   "source": [
    "## 【問題2】グリッドサーチ\n",
    "<pre>\n",
    "これまで分類器のパラメータには触れず、デフォルトの設定を使用していました。パラメータの詳細は今後のSprintで学んでいくことになります。機械学習の前提として、パラメータは状況に応じて最適なものを選ぶ必要があります。最適なパラメータを探していくことを パラメータチューニング と呼びます。パラメータチューニングをある程度自動化する単純な方法としては グリッドサーチ があります。\n",
    "\n",
    "scikit-learnのGridSearchCVを使い、グリッドサーチを行うコードを作成してください。そして、ベースラインモデルに対して何らかしらのパラメータチューニングを行なってください。どのパラメータをチューニングするかは、使用した手法の公式ドキュメントを参考にしてください。\n",
    "\n",
    "sklearn.model_selection.GridSearchCV — scikit-learn 0.21.3 documentation\n",
    "\n",
    "GridSearchCVクラスには引数としてモデル、探索範囲、さらにクロスバリデーションを何分割で行うかを与えます。クロスバリデーションの機能も含まれているため、これを使用する場合はKFoldクラスを利用する必要はありません。"
   ]
  },
  {
   "cell_type": "code",
   "execution_count": 18,
   "metadata": {},
   "outputs": [],
   "source": [
    "grid_param = {\"n_estimators\": [10, 20, 30],\n",
    "                          \"criterion\": [\"gini\", \"entropy\"]}\n",
    "gscv_1 = GridSearchCV(RFC , param_grid=grid_param , cv=3 , scoring=\"roc_auc\", return_train_score=True)"
   ]
  },
  {
   "cell_type": "code",
   "execution_count": 19,
   "metadata": {},
   "outputs": [
    {
     "data": {
      "text/plain": [
       "GridSearchCV(cv=3, error_score='raise-deprecating',\n",
       "       estimator=RandomForestClassifier(bootstrap=True, class_weight=None, criterion='gini',\n",
       "            max_depth=None, max_features='auto', max_leaf_nodes=None,\n",
       "            min_impurity_decrease=0.0, min_impurity_split=None,\n",
       "            min_samples_leaf=1, min_samples_split=2,\n",
       "            min_weight_fraction_leaf=0.0, n_estimators=10, n_jobs=None,\n",
       "            oob_score=False, random_state=None, verbose=0,\n",
       "            warm_start=False),\n",
       "       fit_params=None, iid='warn', n_jobs=None,\n",
       "       param_grid={'n_estimators': [10, 20, 30], 'criterion': ['gini', 'entropy']},\n",
       "       pre_dispatch='2*n_jobs', refit=True, return_train_score=True,\n",
       "       scoring='roc_auc', verbose=0)"
      ]
     },
     "execution_count": 19,
     "metadata": {},
     "output_type": "execute_result"
    }
   ],
   "source": [
    "gscv_1.fit(X_5, y)"
   ]
  },
  {
   "cell_type": "code",
   "execution_count": 20,
   "metadata": {},
   "outputs": [],
   "source": [
    "#結果をデータフレームとして保存\n",
    "gscv_result_1 = pd.DataFrame.from_dict(gscv_1.cv_results_)\n",
    "#最も良いパラメータを保存\n",
    "best_params_1 = gscv_1.best_params_\n",
    "#ベストスコアを保存\n",
    "gscv_1.best_score_\n",
    "#ベストスコアを出したモデルを保存\n",
    "best_RFC = gscv_1.best_estimator_"
   ]
  },
  {
   "cell_type": "code",
   "execution_count": 27,
   "metadata": {},
   "outputs": [],
   "source": [
    "y_pred = best_RFC.predict_proba(test_data_5)\n",
    "\n",
    "submit_data_1 = test_data_5.copy(deep=True)\n",
    "\n",
    "submit_data_1.insert(0, \"SK_ID_CURR\", on_test.loc[:, \"SK_ID_CURR\"])\n",
    "\n",
    "submit_data_1.loc[:, \"TARGET\"] = y_pred[:,1]\n",
    "\n",
    "submit_data_1 = submit_data_1.loc[:, [\"SK_ID_CURR\", \"TARGET\"]]\n",
    "\n",
    "submit_1.to_csv(\"submit_1.csv\", index=False)"
   ]
  },
  {
   "cell_type": "code",
   "execution_count": 30,
   "metadata": {},
   "outputs": [
    {
     "name": "stdout",
     "output_type": "stream",
     "text": [
      "ローカルのAUC: 0.5688849571345059\n",
      "kaggleに提出した結果の１AUC: 0.56855\n"
     ]
    }
   ],
   "source": [
    "print(\"ローカルのAUC:\", gscv_1.best_score_)\n",
    "print(\"kaggleに提出した結果の１AUC:\", 0.56855)"
   ]
  },
  {
   "cell_type": "markdown",
   "metadata": {},
   "source": [
    "### 【問題3】Kernelからの調査\n",
    "KaggleのKernelから様々なアイデアを見つけ出して、列挙してください。"
   ]
  },
  {
   "cell_type": "markdown",
   "metadata": {},
   "source": [
    "#### Improved Model: Random Forest¶\n",
    "<pre>\n",
    "To try and beat the poor performance of our baseline, we can update the algorithm.\n",
    "Let's try using a Random Forest on the same training data to see how that affects performance. \n",
    "The Random Forest is a much more powerful model especially when we use hundreds of trees. \n",
    "We will use 100 trees in the random forest.\n",
    "\n",
    "ランダムフォレストのn-estimators＝100を試しているので、n-estimatorsを変えてみる"
   ]
  },
  {
   "cell_type": "markdown",
   "metadata": {},
   "source": [
    "## 【問題4】高い汎化性能のモデル作成\n",
    "問題3で見つけたアイデアと、独自のアイデアを組み合わせ高い汎化性能のモデル作りを進めてください。\n",
    "\n",
    "その過程として、何を行うことで、クロスバリデーションの結果がどの程度変化したかを表にまとめてください。"
   ]
  },
  {
   "cell_type": "code",
   "execution_count": 32,
   "metadata": {},
   "outputs": [],
   "source": [
    "grid_param_2 = {\"n_estimators\": [10, 100, 300]}\n",
    "gscv_2 = GridSearchCV(RFC , param_grid=grid_param_2 , cv=3 , scoring=\"roc_auc\", return_train_score=True)"
   ]
  },
  {
   "cell_type": "code",
   "execution_count": 33,
   "metadata": {},
   "outputs": [
    {
     "data": {
      "text/plain": [
       "GridSearchCV(cv=3, error_score='raise-deprecating',\n",
       "       estimator=RandomForestClassifier(bootstrap=True, class_weight=None, criterion='gini',\n",
       "            max_depth=None, max_features='auto', max_leaf_nodes=None,\n",
       "            min_impurity_decrease=0.0, min_impurity_split=None,\n",
       "            min_samples_leaf=1, min_samples_split=2,\n",
       "            min_weight_fraction_leaf=0.0, n_estimators=10, n_jobs=None,\n",
       "            oob_score=False, random_state=None, verbose=0,\n",
       "            warm_start=False),\n",
       "       fit_params=None, iid='warn', n_jobs=None,\n",
       "       param_grid={'n_estimators': [10, 100, 300]},\n",
       "       pre_dispatch='2*n_jobs', refit=True, return_train_score=True,\n",
       "       scoring='roc_auc', verbose=0)"
      ]
     },
     "execution_count": 33,
     "metadata": {},
     "output_type": "execute_result"
    }
   ],
   "source": [
    "gscv_2.fit(X_5, y)"
   ]
  },
  {
   "cell_type": "code",
   "execution_count": 34,
   "metadata": {},
   "outputs": [],
   "source": [
    "gscv_result_2 = pd.DataFrame.from_dict(gscv_2.cv_results_)\n",
    "\n",
    "best_params_2 = gscv_2.best_params_\n",
    "\n",
    "gscv_2.best_score_\n",
    "\n",
    "best_RFC_2 = gscv_2.best_estimator_"
   ]
  },
  {
   "cell_type": "code",
   "execution_count": 49,
   "metadata": {},
   "outputs": [],
   "source": [
    "y_pred_2 = best_RFC_2.predict_proba(test_data_5)\n",
    "\n",
    "submit_data_2 = test_data_5.copy(deep=True)\n",
    "\n",
    "submit_data_2.insert(0, \"SK_ID_CURR\", on_test.loc[:, \"SK_ID_CURR\"])\n",
    "\n",
    "submit_data_2.loc[:, \"TARGET\"] = y_pred_2[:,1]\n",
    "\n",
    "submit_data_2 = submit_data_2.loc[:, [\"SK_ID_CURR\", \"TARGET\"]]\n",
    "\n",
    "submit_data_2.to_csv(\"submit_2.csv\", index=False)"
   ]
  },
  {
   "cell_type": "code",
   "execution_count": 42,
   "metadata": {},
   "outputs": [
    {
     "name": "stdout",
     "output_type": "stream",
     "text": [
      "ローカルのAUC: 0.5868421136799019\n",
      "kaggleに提出した結果の１AUC: 0.59282\n"
     ]
    }
   ],
   "source": [
    "print(\"ローカルのAUC:\", gscv_2.best_score_)\n",
    "print(\"kaggleに提出した結果の１AUC:\", 0.59282)"
   ]
  },
  {
   "cell_type": "code",
   "execution_count": 38,
   "metadata": {},
   "outputs": [],
   "source": [
    "grid_param_3 ={\"max_depth\":[5, 8, 15],\n",
    "             \"max_leaf_nodes\":[2, None]}\n",
    "gscv_3 = GridSearchCV(RFC , param_grid=grid_param_3 , cv=3 , scoring=\"roc_auc\", return_train_score=True)"
   ]
  },
  {
   "cell_type": "code",
   "execution_count": 39,
   "metadata": {},
   "outputs": [
    {
     "data": {
      "text/plain": [
       "GridSearchCV(cv=3, error_score='raise-deprecating',\n",
       "       estimator=RandomForestClassifier(bootstrap=True, class_weight=None, criterion='gini',\n",
       "            max_depth=None, max_features='auto', max_leaf_nodes=None,\n",
       "            min_impurity_decrease=0.0, min_impurity_split=None,\n",
       "            min_samples_leaf=1, min_samples_split=2,\n",
       "            min_weight_fraction_leaf=0.0, n_estimators=10, n_jobs=None,\n",
       "            oob_score=False, random_state=None, verbose=0,\n",
       "            warm_start=False),\n",
       "       fit_params=None, iid='warn', n_jobs=None,\n",
       "       param_grid={'max_depth': [5, 8, 15], 'max_leaf_nodes': [2, None]},\n",
       "       pre_dispatch='2*n_jobs', refit=True, return_train_score=True,\n",
       "       scoring='roc_auc', verbose=0)"
      ]
     },
     "execution_count": 39,
     "metadata": {},
     "output_type": "execute_result"
    }
   ],
   "source": [
    "gscv_3.fit(X_5, y)"
   ]
  },
  {
   "cell_type": "code",
   "execution_count": 40,
   "metadata": {},
   "outputs": [],
   "source": [
    "gscv_result_3 = pd.DataFrame.from_dict(gscv_3.cv_results_)\n",
    "\n",
    "best_params_3 = gscv_3.best_params_\n",
    "\n",
    "gscv_3.best_score_\n",
    "\n",
    "best_RFC_3 = gscv_3.best_estimator_"
   ]
  },
  {
   "cell_type": "code",
   "execution_count": 50,
   "metadata": {},
   "outputs": [],
   "source": [
    "y_pred_3 = best_RFC_3.predict_proba(test_data_5)\n",
    "\n",
    "submit_data_3 = test_data_5.copy(deep=True)\n",
    "\n",
    "submit_data_3.insert(0, \"SK_ID_CURR\", on_test.loc[:, \"SK_ID_CURR\"])\n",
    "\n",
    "submit_data_3.loc[:, \"TARGET\"] = y_pred_3[:,1]\n",
    "\n",
    "submit_data_3 = submit_data_3.loc[:, [\"SK_ID_CURR\", \"TARGET\"]]\n",
    "\n",
    "submit_data_3.to_csv(\"submit_3.csv\", index=False)"
   ]
  },
  {
   "cell_type": "code",
   "execution_count": 45,
   "metadata": {},
   "outputs": [
    {
     "name": "stdout",
     "output_type": "stream",
     "text": [
      "ローカルのAUC: 0.620469089921196\n",
      "kaggleに提出した結果のAUC: 0.62332\n"
     ]
    }
   ],
   "source": [
    "print(\"ローカルのAUC:\", gscv_3.best_score_)\n",
    "print(\"kaggleに提出した結果のAUC:\", 0.62332)"
   ]
  },
  {
   "cell_type": "markdown",
   "metadata": {},
   "source": [
    "## 【問題5】最終的なモデルの選定\n",
    "最終的にこれは良いというモデルを選び、推定した結果をKaggleに提出してスコアを確認してください。どういったアイデアを取り入れ、どの程度のスコアになったかを記載してください。"
   ]
  },
  {
   "cell_type": "code",
   "execution_count": 46,
   "metadata": {},
   "outputs": [],
   "source": [
    "best_RF = RandomForestClassifier(n_estimators=300, \n",
    "                                criterion=\"gini\",\n",
    "                                max_depth=8,\n",
    "                                 max_leaf_nodes=None)"
   ]
  },
  {
   "cell_type": "code",
   "execution_count": 47,
   "metadata": {},
   "outputs": [
    {
     "data": {
      "text/plain": [
       "RandomForestClassifier(bootstrap=True, class_weight=None, criterion='gini',\n",
       "            max_depth=8, max_features='auto', max_leaf_nodes=None,\n",
       "            min_impurity_decrease=0.0, min_impurity_split=None,\n",
       "            min_samples_leaf=1, min_samples_split=2,\n",
       "            min_weight_fraction_leaf=0.0, n_estimators=300, n_jobs=None,\n",
       "            oob_score=False, random_state=None, verbose=0,\n",
       "            warm_start=False)"
      ]
     },
     "execution_count": 47,
     "metadata": {},
     "output_type": "execute_result"
    }
   ],
   "source": [
    "best_RF.fit(X_5, y)"
   ]
  },
  {
   "cell_type": "code",
   "execution_count": 51,
   "metadata": {},
   "outputs": [],
   "source": [
    "y_pred_best = best_RF.predict_proba(test_data_5)\n",
    "\n",
    "submit_data_best = test_data_5.copy(deep=True)\n",
    "\n",
    "submit_data_best.insert(0, \"SK_ID_CURR\", on_test.loc[:, \"SK_ID_CURR\"])\n",
    "\n",
    "submit_data_best.loc[:, \"TARGET\"] = y_pred_best[:,1]\n",
    "\n",
    "submit_data_best = submit_data_best.loc[:, [\"SK_ID_CURR\", \"TARGET\"]]\n",
    "\n",
    "submit_data_best.to_csv(\"submit_4.csv\", index=False)"
   ]
  },
  {
   "cell_type": "code",
   "execution_count": 53,
   "metadata": {},
   "outputs": [],
   "source": [
    "result_cvs_best_RF = cross_val_score(best_RF ,X_5 ,y , cv = 3 , scoring = \"roc_auc\")"
   ]
  },
  {
   "cell_type": "code",
   "execution_count": 55,
   "metadata": {},
   "outputs": [
    {
     "name": "stdout",
     "output_type": "stream",
     "text": [
      "ローカルのAUC: 0.625736438551944\n",
      "kaggleに提出した結果のAUC: 0.62931\n"
     ]
    }
   ],
   "source": [
    "print(\"ローカルのAUC:\", result_cvs_best_RF.mean())\n",
    "print(\"kaggleに提出した結果のAUC:\", 0.62931)"
   ]
  },
  {
   "cell_type": "markdown",
   "metadata": {},
   "source": [
    "## まとめ"
   ]
  },
  {
   "cell_type": "code",
   "execution_count": 61,
   "metadata": {},
   "outputs": [],
   "source": [
    "cross_val_result = pd.DataFrame({\"number of features\": [44, 5, 5, 5, 5, 5],\n",
    "                                \"parameters\": [str(RFC.get_params()), str(RFC.get_params()),str(best_RFC.get_params()), \n",
    "                                               str(best_RFC_2.get_params()), str(best_RFC_3.get_params()),str(best_RF.get_params())],\n",
    "                                \"AUC\": [auc_1, result_1.mean(), 0.56855, 0.59282,0.62332, 0.62931]},\n",
    "                                index=[\"Normal RF\", \"Normal RF 5 features\", \"1st GSCV RF\", \"2nd GSCV RF\", \"3rd GSCV RF\", \"Final GSCV RF\"])"
   ]
  },
  {
   "cell_type": "code",
   "execution_count": 63,
   "metadata": {},
   "outputs": [
    {
     "data": {
      "text/html": [
       "<div>\n",
       "<style scoped>\n",
       "    .dataframe tbody tr th:only-of-type {\n",
       "        vertical-align: middle;\n",
       "    }\n",
       "\n",
       "    .dataframe tbody tr th {\n",
       "        vertical-align: top;\n",
       "    }\n",
       "\n",
       "    .dataframe thead th {\n",
       "        text-align: right;\n",
       "    }\n",
       "</style>\n",
       "<table border=\"1\" class=\"dataframe\">\n",
       "  <thead>\n",
       "    <tr style=\"text-align: right;\">\n",
       "      <th></th>\n",
       "      <th>number of features</th>\n",
       "      <th>parameters</th>\n",
       "      <th>AUC</th>\n",
       "    </tr>\n",
       "  </thead>\n",
       "  <tbody>\n",
       "    <tr>\n",
       "      <th>Normal RF</th>\n",
       "      <td>44</td>\n",
       "      <td>{'bootstrap': True, 'class_weight': None, 'cri...</td>\n",
       "      <td>0.500376</td>\n",
       "    </tr>\n",
       "    <tr>\n",
       "      <th>Normal RF 5 features</th>\n",
       "      <td>5</td>\n",
       "      <td>{'bootstrap': True, 'class_weight': None, 'cri...</td>\n",
       "      <td>0.547415</td>\n",
       "    </tr>\n",
       "    <tr>\n",
       "      <th>1st GSCV RF</th>\n",
       "      <td>5</td>\n",
       "      <td>{'bootstrap': True, 'class_weight': None, 'cri...</td>\n",
       "      <td>0.568550</td>\n",
       "    </tr>\n",
       "    <tr>\n",
       "      <th>2nd GSCV RF</th>\n",
       "      <td>5</td>\n",
       "      <td>{'bootstrap': True, 'class_weight': None, 'cri...</td>\n",
       "      <td>0.592820</td>\n",
       "    </tr>\n",
       "    <tr>\n",
       "      <th>3rd GSCV RF</th>\n",
       "      <td>5</td>\n",
       "      <td>{'bootstrap': True, 'class_weight': None, 'cri...</td>\n",
       "      <td>0.623320</td>\n",
       "    </tr>\n",
       "    <tr>\n",
       "      <th>Final GSCV RF</th>\n",
       "      <td>5</td>\n",
       "      <td>{'bootstrap': True, 'class_weight': None, 'cri...</td>\n",
       "      <td>0.629310</td>\n",
       "    </tr>\n",
       "  </tbody>\n",
       "</table>\n",
       "</div>"
      ],
      "text/plain": [
       "                      number of features  \\\n",
       "Normal RF                             44   \n",
       "Normal RF 5 features                   5   \n",
       "1st GSCV RF                            5   \n",
       "2nd GSCV RF                            5   \n",
       "3rd GSCV RF                            5   \n",
       "Final GSCV RF                          5   \n",
       "\n",
       "                                                             parameters  \\\n",
       "Normal RF             {'bootstrap': True, 'class_weight': None, 'cri...   \n",
       "Normal RF 5 features  {'bootstrap': True, 'class_weight': None, 'cri...   \n",
       "1st GSCV RF           {'bootstrap': True, 'class_weight': None, 'cri...   \n",
       "2nd GSCV RF           {'bootstrap': True, 'class_weight': None, 'cri...   \n",
       "3rd GSCV RF           {'bootstrap': True, 'class_weight': None, 'cri...   \n",
       "Final GSCV RF         {'bootstrap': True, 'class_weight': None, 'cri...   \n",
       "\n",
       "                           AUC  \n",
       "Normal RF             0.500376  \n",
       "Normal RF 5 features  0.547415  \n",
       "1st GSCV RF           0.568550  \n",
       "2nd GSCV RF           0.592820  \n",
       "3rd GSCV RF           0.623320  \n",
       "Final GSCV RF         0.629310  "
      ]
     },
     "execution_count": 63,
     "metadata": {},
     "output_type": "execute_result"
    }
   ],
   "source": [
    "cross_val_result"
   ]
  },
  {
   "cell_type": "code",
   "execution_count": 66,
   "metadata": {},
   "outputs": [
    {
     "name": "stdout",
     "output_type": "stream",
     "text": [
      "最後のモデルが最も高いAUCを返すモデルだった\n",
      " パラメータ\n",
      " {'bootstrap': True, 'class_weight': None, 'criterion': 'gini', 'max_depth': 8, 'max_features': 'auto', 'max_leaf_nodes': None, 'min_impurity_decrease': 0.0, 'min_impurity_split': None, 'min_samples_leaf': 1, 'min_samples_split': 2, 'min_weight_fraction_leaf': 0.0, 'n_estimators': 300, 'n_jobs': None, 'oob_score': False, 'random_state': None, 'verbose': 0, 'warm_start': False} \n",
      "\n",
      "------------------------------\n",
      "AUC: 0.62931\n"
     ]
    }
   ],
   "source": [
    "print(\"最後のモデルが最も高いAUCを返すモデルだった\\n\",\"パラメータ\\n\", str(best_RF.get_params()), \"\\n\")\n",
    "print(\"-\"*30)\n",
    "print(\"AUC:\", 0.62931)"
   ]
  },
  {
   "cell_type": "markdown",
   "metadata": {},
   "source": [
    "### おまけ"
   ]
  },
  {
   "cell_type": "code",
   "execution_count": 73,
   "metadata": {},
   "outputs": [],
   "source": [
    "rfc_sub = RandomForestClassifier(n_estimators=10)"
   ]
  },
  {
   "cell_type": "code",
   "execution_count": 95,
   "metadata": {
    "scrolled": true
   },
   "outputs": [
    {
     "name": "stdout",
     "output_type": "stream",
     "text": [
      "\n",
      "Starting KFold iterations...\n",
      "Iteration: 1   roc_auc_score: 0.500323854907132\n",
      "Iteration: 2   roc_auc_score: 0.5004014136839413\n",
      "Iteration: 3   roc_auc_score: 0.5004122910032089\n",
      "Iteration: 4   roc_auc_score: 0.50204093271296\n",
      "Iteration: 5   roc_auc_score: 0.5000340494997381\n",
      "Iteration: 6   roc_auc_score: 0.5002005311638683\n",
      "Iteration: 7   roc_auc_score: 0.5004304374829749\n",
      "Iteration: 8   roc_auc_score: 0.5009286617430699\n",
      "Iteration: 9   roc_auc_score: 0.5010347888125478\n",
      "Iteration: 10   roc_auc_score: 0.500727211299879\n",
      "平均値(AUC): 0.500653417230932\n",
      "中央値: 0.5004213642430919\n",
      "分散: 3.356166352277129e-07\n",
      "標準偏差: 0.0005793242919364878\n"
     ]
    }
   ],
   "source": [
    "k=1\n",
    "splits=10\n",
    "avg_score_1= []\n",
    "skf = StratifiedKFold(n_splits=splits, shuffle=True, random_state=200)\n",
    "print('\\nStarting KFold iterations...')\n",
    "for train_index,test_index in skf.split(X_5,y):\n",
    "    df_X=X_5.iloc[train_index,:]\n",
    "    df_y=y.iloc[train_index]\n",
    "    val_X=X_5.iloc[test_index,:]\n",
    "    val_y=y.iloc[test_index]\n",
    "\n",
    "    rfc_sub.fit(df_X,df_y)\n",
    "\n",
    "    pred_x = rfc_sub.predict(val_X)\n",
    "    fpr_sub, tpr_sub, thresholds_1 = roc_curve(val_y, pred_x)\n",
    "    auc_sub = auc(fpr_sub, tpr_sub)\n",
    "    \n",
    "    avg_score_1.append(auc_sub)\n",
    "    \n",
    "    print('Iteration:',k,'  roc_auc_score:',auc_sub)\n",
    "    k+= 1\n",
    "print(\"平均値(AUC):\", statistics.mean(avg_score_1))\n",
    "print(\"中央値:\", statistics.median(avg_score_1))\n",
    "print(\"分散:\", statistics.variance(avg_score_1))\n",
    "print(\"標準偏差:\", statistics.stdev(avg_score_1))"
   ]
  },
  {
   "cell_type": "code",
   "execution_count": 97,
   "metadata": {},
   "outputs": [
    {
     "name": "stdout",
     "output_type": "stream",
     "text": [
      "\n",
      "Starting KFold iterations...\n",
      "Iteration: 1   roc_auc_score: 0.49998799582016157\n",
      "Iteration: 2   roc_auc_score: 0.5011869140283971\n",
      "Iteration: 3   roc_auc_score: 0.500487530352102\n",
      "Iteration: 4   roc_auc_score: 0.5003300060145056\n",
      "Iteration: 5   roc_auc_score: 0.5006521932081408\n",
      "Iteration: 6   roc_auc_score: 0.4995519971563201\n",
      "Iteration: 7   roc_auc_score: 0.5012948809188171\n",
      "Iteration: 8   roc_auc_score: 0.5003321599318328\n",
      "Iteration: 9   roc_auc_score: 0.5004330424898812\n",
      "Iteration: 10   roc_auc_score: 0.5011547042162539\n",
      "--------------------------------------------------\n",
      "平均値(AUC): 0.5005411424136412\n",
      "中央値: 0.5004602864209916\n",
      "分散: 3.0679163050607624e-07\n",
      "標準偏差: 0.0005538877417907678\n"
     ]
    }
   ],
   "source": [
    "k=1\n",
    "splits=10\n",
    "avg_score_2= []\n",
    "k_fold = KFold(n_splits = splits, shuffle = True, random_state = 200)\n",
    "print('\\nStarting KFold iterations...')\n",
    "for train_index,test_index in k_fold.split(X_5,y):\n",
    "    df_X=X_5.iloc[train_index,:]\n",
    "    df_y=y.iloc[train_index]\n",
    "    val_X=X_5.iloc[test_index,:]\n",
    "    val_y=y.iloc[test_index]\n",
    "\n",
    "    rfc_sub.fit(df_X,df_y)\n",
    "\n",
    "    pred_x = rfc_sub.predict(val_X)\n",
    "    fpr_sub, tpr_sub, thresholds_1 = roc_curve(val_y, pred_x)\n",
    "    auc_sub = auc(fpr_sub, tpr_sub)\n",
    "    \n",
    "    avg_score_2.append(auc_sub)\n",
    "    \n",
    "    print('Iteration:',k,'  roc_auc_score:',auc_sub)\n",
    "    k+= 1\n",
    "print(\"-\"*50)\n",
    "print(\"平均値(AUC):\", statistics.mean(avg_score_2))\n",
    "print(\"中央値:\", statistics.median(avg_score_2))\n",
    "print(\"分散:\", statistics.variance(avg_score_2))\n",
    "print(\"標準偏差:\", statistics.stdev(avg_score_2))"
   ]
  },
  {
   "cell_type": "code",
   "execution_count": 100,
   "metadata": {},
   "outputs": [
    {
     "name": "stdout",
     "output_type": "stream",
     "text": [
      "\n",
      "Starting ShuffleSplit iterations...\n",
      "Iteration: 1   roc_auc_score: 0.499822902874039\n",
      "Iteration: 2   roc_auc_score: 0.49996065197572365\n",
      "Iteration: 3   roc_auc_score: 0.5015710126549928\n",
      "Iteration: 4   roc_auc_score: 0.5014367525856497\n",
      "Iteration: 5   roc_auc_score: 0.5003037010399796\n",
      "Iteration: 6   roc_auc_score: 0.501236691654067\n",
      "Iteration: 7   roc_auc_score: 0.5004905720625781\n",
      "Iteration: 8   roc_auc_score: 0.5009261590809692\n",
      "Iteration: 9   roc_auc_score: 0.5028851450986765\n",
      "Iteration: 10   roc_auc_score: 0.5018463733015907\n",
      "--------------------------------------------------\n",
      "平均値(AUC): 0.5010479962328266\n",
      "中央値: 0.5010814253675181\n",
      "分散: 8.92835349264487e-07\n",
      "標準偏差: 0.0009448996503674276\n"
     ]
    }
   ],
   "source": [
    "k=1\n",
    "splits=10\n",
    "avg_score_3= []\n",
    "ss = ShuffleSplit(n_splits=splits, random_state=200)\n",
    "print('\\nStarting ShuffleSplit iterations...')\n",
    "for train_index,test_index in ss.split(X_5,y):\n",
    "    df_X=X_5.iloc[train_index,:]\n",
    "    df_y=y.iloc[train_index]\n",
    "    val_X=X_5.iloc[test_index,:]\n",
    "    val_y=y.iloc[test_index]\n",
    "\n",
    "    rfc_sub.fit(df_X,df_y)\n",
    "\n",
    "    pred_x = rfc_sub.predict(val_X)\n",
    "    fpr_sub, tpr_sub, thresholds_1 = roc_curve(val_y, pred_x)\n",
    "    auc_sub = auc(fpr_sub, tpr_sub)\n",
    "    \n",
    "    avg_score_3.append(auc_sub)\n",
    "    \n",
    "    print('Iteration:',k,'  roc_auc_score:',auc_sub)\n",
    "    k+= 1\n",
    "\n",
    "print(\"-\"*50)\n",
    "print(\"平均値(AUC):\", statistics.mean(avg_score_3))\n",
    "print(\"中央値:\", statistics.median(avg_score_3))\n",
    "print(\"分散:\", statistics.variance(avg_score_3))\n",
    "print(\"標準偏差:\", statistics.stdev(avg_score_3))"
   ]
  },
  {
   "cell_type": "code",
   "execution_count": 107,
   "metadata": {},
   "outputs": [
    {
     "name": "stdout",
     "output_type": "stream",
     "text": [
      "\n",
      "Starting ShuffleSplit_testsize0.25 iterations...\n",
      "Iteration: 1   roc_auc_score: 0.5009026306493146\n",
      "Iteration: 2   roc_auc_score: 0.5013500848740691\n",
      "Iteration: 3   roc_auc_score: 0.5010147941528093\n",
      "Iteration: 4   roc_auc_score: 0.5008445152230082\n",
      "Iteration: 5   roc_auc_score: 0.5009329437558859\n",
      "Iteration: 6   roc_auc_score: 0.5004018973041269\n",
      "Iteration: 7   roc_auc_score: 0.5002058658076307\n",
      "Iteration: 8   roc_auc_score: 0.5006600314982652\n",
      "Iteration: 9   roc_auc_score: 0.5000792709285631\n",
      "Iteration: 10   roc_auc_score: 0.5011710514398945\n",
      "--------------------------------------------------\n",
      "平均値(AUC): 0.5007563085633567\n",
      "中央値: 0.5008735729361614\n",
      "分散: 1.7200345775912387e-07\n",
      "標準偏差: 0.0004147329957443992\n"
     ]
    }
   ],
   "source": [
    "k=1\n",
    "splits=10\n",
    "avg_score_4= []\n",
    "ss = ShuffleSplit(n_splits=splits, random_state=200, test_size=0.25)\n",
    "print('\\nStarting ShuffleSplit_testsize0.25 iterations...')\n",
    "for train_index,test_index in ss.split(X_5,y):\n",
    "    df_X=X_5.iloc[train_index,:]\n",
    "    df_y=y.iloc[train_index]\n",
    "    val_X=X_5.iloc[test_index,:]\n",
    "    val_y=y.iloc[test_index]\n",
    "\n",
    "    rfc_sub.fit(df_X,df_y)\n",
    "\n",
    "    pred_x = rfc_sub.predict(val_X)\n",
    "    fpr_sub, tpr_sub, thresholds_1 = roc_curve(val_y, pred_x)\n",
    "    auc_sub = auc(fpr_sub, tpr_sub)\n",
    "    \n",
    "    avg_score_4.append(auc_sub)\n",
    "    \n",
    "    print('Iteration:',k,'  roc_auc_score:',auc_sub)\n",
    "    k+= 1\n",
    "\n",
    "print(\"-\"*50)\n",
    "print(\"平均値(AUC):\", statistics.mean(avg_score_4))\n",
    "print(\"中央値:\", statistics.median(avg_score_4))\n",
    "print(\"分散:\", statistics.variance(avg_score_4))\n",
    "print(\"標準偏差:\", statistics.stdev(avg_score_4))"
   ]
  },
  {
   "cell_type": "code",
   "execution_count": 108,
   "metadata": {},
   "outputs": [],
   "source": [
    "cross_val_method= pd.DataFrame({\"平均値\": [statistics.mean(avg_score_1), statistics.mean(avg_score_2), statistics.mean(avg_score_3),\n",
    "                                      statistics.mean(avg_score_4)],\n",
    "                                \"中央値\": [statistics.median(avg_score_1), statistics.median(avg_score_1), statistics.median(avg_score_3),\n",
    "                                       statistics.median(avg_score_4)],\n",
    "                                \"分散\": [statistics.variance(avg_score_1), statistics.variance(avg_score_2), statistics.variance(avg_score_3),\n",
    "                                      statistics.variance(avg_score_4)],\n",
    "                               \"標準偏差\":[statistics.stdev(avg_score_1), statistics.stdev(avg_score_2), statistics.stdev(avg_score_3),\n",
    "                                      statistics.stdev(avg_score_4)]},\n",
    "                                index=[\"StratifiedKFold\", \"KFold\", \"ShuffleSplit\", \"ShuffleSplit test_size0.25\"])"
   ]
  },
  {
   "cell_type": "code",
   "execution_count": 109,
   "metadata": {},
   "outputs": [
    {
     "data": {
      "text/html": [
       "<div>\n",
       "<style scoped>\n",
       "    .dataframe tbody tr th:only-of-type {\n",
       "        vertical-align: middle;\n",
       "    }\n",
       "\n",
       "    .dataframe tbody tr th {\n",
       "        vertical-align: top;\n",
       "    }\n",
       "\n",
       "    .dataframe thead th {\n",
       "        text-align: right;\n",
       "    }\n",
       "</style>\n",
       "<table border=\"1\" class=\"dataframe\">\n",
       "  <thead>\n",
       "    <tr style=\"text-align: right;\">\n",
       "      <th></th>\n",
       "      <th>平均値</th>\n",
       "      <th>中央値</th>\n",
       "      <th>分散</th>\n",
       "      <th>標準偏差</th>\n",
       "    </tr>\n",
       "  </thead>\n",
       "  <tbody>\n",
       "    <tr>\n",
       "      <th>StratifiedKFold</th>\n",
       "      <td>0.500653</td>\n",
       "      <td>0.500421</td>\n",
       "      <td>3.356166e-07</td>\n",
       "      <td>0.000579</td>\n",
       "    </tr>\n",
       "    <tr>\n",
       "      <th>KFold</th>\n",
       "      <td>0.500541</td>\n",
       "      <td>0.500421</td>\n",
       "      <td>3.067916e-07</td>\n",
       "      <td>0.000554</td>\n",
       "    </tr>\n",
       "    <tr>\n",
       "      <th>ShuffleSplit</th>\n",
       "      <td>0.501048</td>\n",
       "      <td>0.501081</td>\n",
       "      <td>8.928353e-07</td>\n",
       "      <td>0.000945</td>\n",
       "    </tr>\n",
       "    <tr>\n",
       "      <th>ShuffleSplit test_size0.25</th>\n",
       "      <td>0.500756</td>\n",
       "      <td>0.500874</td>\n",
       "      <td>1.720035e-07</td>\n",
       "      <td>0.000415</td>\n",
       "    </tr>\n",
       "  </tbody>\n",
       "</table>\n",
       "</div>"
      ],
      "text/plain": [
       "                                 平均値       中央値            分散      標準偏差\n",
       "StratifiedKFold             0.500653  0.500421  3.356166e-07  0.000579\n",
       "KFold                       0.500541  0.500421  3.067916e-07  0.000554\n",
       "ShuffleSplit                0.501048  0.501081  8.928353e-07  0.000945\n",
       "ShuffleSplit test_size0.25  0.500756  0.500874  1.720035e-07  0.000415"
      ]
     },
     "execution_count": 109,
     "metadata": {},
     "output_type": "execute_result"
    }
   ],
   "source": [
    "cross_val_method"
   ]
  }
 ],
 "metadata": {
  "kernelspec": {
   "display_name": "Python 3",
   "language": "python",
   "name": "python3"
  },
  "language_info": {
   "codemirror_mode": {
    "name": "ipython",
    "version": 3
   },
   "file_extension": ".py",
   "mimetype": "text/x-python",
   "name": "python",
   "nbconvert_exporter": "python",
   "pygments_lexer": "ipython3",
   "version": "3.7.3"
  }
 },
 "nbformat": 4,
 "nbformat_minor": 2
}
