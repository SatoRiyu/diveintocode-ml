{
 "cells": [
  {
   "cell_type": "markdown",
   "metadata": {},
   "source": [
    "# Week1授業課題3 栗まんじゅう問題"
   ]
  },
  {
   "cell_type": "markdown",
   "metadata": {},
   "source": [
    "## 目的\n",
    "・基礎的なプログラミング力を確認する  \n",
    "・誘導なしにプログラムを書いてみる  \n",
    "・有名な問題をプログラミングによって解いてみる  "
   ]
  },
  {
   "cell_type": "markdown",
   "metadata": {},
   "source": [
    "## 栗まんじゅう問題\n",
    "漫画ドラえもんには「バイバイン」という道具が登場する、2のn乗に関する有名なエピソードがある。  \n",
    "「バイバイン」は薬品で、これを振掛けるとその物体は5分ごとに倍に増えるという働きがある。作中では栗まんじゅうを増やすが、食べきれなくなったためロケットを使い宇宙に捨てた。  \n",
    "ここで度々話題になるのが、栗まんじゅうはその後宇宙でどのように増えていくのかについてである。様々な議論がされているが、今回は単純に栗まんじゅうの体積がどう増えるかを計算してみる。  "
   ]
  },
  {
   "cell_type": "code",
   "execution_count": 1,
   "metadata": {},
   "outputs": [],
   "source": [
    "# モジュールのインポート\n",
    "# 計算処理で使用\n",
    "import math\n",
    "\n",
    "# 解答で使用\n",
    "import matplotlib.pyplot as plt\n",
    "%matplotlib inline"
   ]
  },
  {
   "cell_type": "code",
   "execution_count": 2,
   "metadata": {},
   "outputs": [
    {
     "name": "stdout",
     "output_type": "stream",
     "text": [
      "宇宙の体積:3.812590971970916e+38立方メートル\n",
      "栗まんじゅうの体積:7.199999999999999e-05立方メートル\n"
     ]
    }
   ],
   "source": [
    "# 栗まんじゅう体積参考\n",
    "# https://www.suya-honke.co.jp/products/detail.php?product_id=31\n",
    "# 大きさ(1コ) : 60mm × 40mm × 30mm\n",
    "# 太陽系を球形と仮定\n",
    "# 太陽系の中心からの距離\n",
    "# 4,498,252,900km\n",
    "# V = 4 / 3 * pi * r **3\n",
    "\n",
    "# 定数πを定義\n",
    "pai = math.pi\n",
    "\n",
    "# 太陽系の体積を求める\n",
    "r = 4498252900 * 1000  # kmをmに変換\n",
    "v_filled =  4/3* pai*r **3\n",
    "\n",
    "print(\"宇宙の体積:{}立方メートル\".format(v_filled))\n",
    "\n",
    "# 栗まんじゅうの体積を求める\n",
    "#v_manju = 0.06m*0.04m*0.03m\n",
    "v_manju = (60/1000)*(40/1000)*(30/1000)\n",
    "print(\"栗まんじゅうの体積:{}立方メートル\".format(v_manju))\n"
   ]
  },
  {
   "cell_type": "code",
   "execution_count": 3,
   "metadata": {},
   "outputs": [],
   "source": [
    "# 関数の定義\n",
    "def bibin(v_manju, v_filled, mag=2, term=5):\n",
    "    \"\"\"\n",
    "    バイバインで栗まんじゅうの体積がどう増えるかを計算する関数。\n",
    "\n",
    "    Parameteres\n",
    "    --------------\n",
    "    v_manju: int or float\n",
    "        倍になるものの体積(単位は立法メートル)\n",
    "        \n",
    "     v_filled​: int or float\n",
    "         満たされる対象の体積(単位は立法メートル)\n",
    "         \n",
    "    mag: int\n",
    "        体積が何倍ずつ増えるか(default: 2)\n",
    "    \n",
    "    term: int\n",
    "        倍になる間隔:(default: 5)\n",
    "    Returns\n",
    "    --------------\n",
    "    t_list: list \n",
    "        時間の経過のリスト(要素数は倍になる回数に1足した数)\n",
    "    \n",
    "    v_list: list\n",
    "        体積の変化のリスト(要素数は倍になる回数に1足した数)\n",
    "        \n",
    "    bi_times: int\n",
    "        倍になる回数\n",
    "    \"\"\"\n",
    "    try:\n",
    "        import math\n",
    "        # あえてfor文で書いてみる\n",
    "        # 倍になる回数\n",
    "        if v_manju < v_filled:\n",
    "            bi_times = math.ceil(math.log(v_filled/v_manju, mag))\n",
    "        elif v_manju >= v_filled:\n",
    "            bi_times = 0\n",
    "        # 時間の経過のリスト\n",
    "        t_list = [term*j for j in range(bi_times +1)]\n",
    "        # 体積の変化のリスト\n",
    "        v_list = [v_manju*mag**i for i in range(bi_times +1)]\n",
    "        return t_list, v_list, bi_times\n",
    "    except ZeroDivisionError:\n",
    "        print(\"ZeroDivisionError!!\")\n",
    "    except ValueError:\n",
    "        print(\"ValueError!!\")"
   ]
  },
  {
   "cell_type": "markdown",
   "metadata": {},
   "source": [
    "#### 検証"
   ]
  },
  {
   "cell_type": "code",
   "execution_count": 4,
   "metadata": {},
   "outputs": [],
   "source": [
    "# 関数の定義_test\n",
    "def bibin_test(v_manju, v_filled, mag=2, term=5):\n",
    "    \"\"\"\n",
    "    バイバインで栗まんじゅうの体積がどう増えるかを計算する関数をテストする関数。\n",
    "\n",
    "    Parameteres\n",
    "    --------------\n",
    "    v_manju: int or float\n",
    "        倍になるものの体積(単位は立法メートル)\n",
    "        \n",
    "     v_filled​: int or float\n",
    "         満たされる対象の体積(単位は立法メートル)\n",
    "         \n",
    "    mag: int or float\n",
    "        体積が何倍ずつ増えるか(default: 2)\n",
    "    \n",
    "    term: int or float\n",
    "        倍になる間隔:(default: 5)\n",
    "    Returns\n",
    "    --------------\n",
    "    t_list: list \n",
    "        時間の経過のリスト(要素数は倍になる回数に1足した数)\n",
    "    \n",
    "    v_list: list\n",
    "        体積の変化のリスト(要素数は倍になる回数に1足した数)\n",
    "        \n",
    "    bi_times: int\n",
    "        倍になる回数\n",
    "    \"\"\"\n",
    "    print(\"v_manju:{0} v_filled:{1} mag:{2} term:{3}\".format(v_manju, v_filled, mag, term))\n",
    "    try:\n",
    "        import math\n",
    "        # あえてfor文で書いてみる\n",
    "        # 倍になる回数\n",
    "        if v_manju < v_filled:\n",
    "            bi_times = math.ceil(math.log(v_filled/v_manju, mag))\n",
    "        elif v_manju >= v_filled:\n",
    "            bi_times = 0\n",
    "        # 時間の経過のリスト\n",
    "        t_list = [term*j for j in range(bi_times +1)]\n",
    "        # 体積の変化のリスト\n",
    "        v_list = [v_manju*mag**i for i in range(bi_times +1)]\n",
    "        return t_list, v_list, bi_times\n",
    "    except ZeroDivisionError:\n",
    "        print(\"ZeroDivisionError!!\")\n",
    "    except ValueError:\n",
    "        print(\"ValueError!!\")"
   ]
  },
  {
   "cell_type": "code",
   "execution_count": 5,
   "metadata": {},
   "outputs": [
    {
     "name": "stdout",
     "output_type": "stream",
     "text": [
      "v_manju:0 v_filled:0 mag:2 term:5\n",
      "(t_list, v_list, bi_times)=([0], [0], 0)\n",
      "----------------------------------------------------------------------\n",
      "v_manju:1 v_filled:0 mag:2 term:5\n",
      "(t_list, v_list, bi_times)=([0], [1], 0)\n",
      "----------------------------------------------------------------------\n",
      "v_manju:0 v_filled:1 mag:2 term:5\n",
      "ZeroDivisionError!!\n",
      "(t_list, v_list, bi_times)=None\n",
      "----------------------------------------------------------------------\n",
      "v_manju:1 v_filled:1 mag:2 term:5\n",
      "(t_list, v_list, bi_times)=([0], [1], 0)\n",
      "----------------------------------------------------------------------\n",
      "v_manju:2 v_filled:1 mag:2 term:5\n",
      "(t_list, v_list, bi_times)=([0], [2], 0)\n",
      "----------------------------------------------------------------------\n",
      "v_manju:-1 v_filled:0 mag:2 term:5\n",
      "ValueError!!\n",
      "(t_list, v_list, bi_times)=None\n",
      "----------------------------------------------------------------------\n",
      "v_manju:-1 v_filled:1 mag:2 term:5\n",
      "ValueError!!\n",
      "(t_list, v_list, bi_times)=None\n",
      "----------------------------------------------------------------------\n",
      "v_manju:1 v_filled:-1 mag:2 term:5\n",
      "(t_list, v_list, bi_times)=([0], [1], 0)\n",
      "----------------------------------------------------------------------\n",
      "v_manju:1 v_filled:4 mag:2 term:5\n",
      "(t_list, v_list, bi_times)=([0, 5, 10], [1, 2, 4], 2)\n",
      "----------------------------------------------------------------------\n",
      "v_manju:2 v_filled:36 mag:3 term:5\n",
      "(t_list, v_list, bi_times)=([0, 5, 10, 15], [2, 6, 18, 54], 3)\n",
      "----------------------------------------------------------------------\n",
      "v_manju:2 v_filled:36 mag:2 term:15\n",
      "(t_list, v_list, bi_times)=([0, 15, 30, 45, 60, 75], [2, 4, 8, 16, 32, 64], 5)\n",
      "----------------------------------------------------------------------\n",
      "v_manju:2 v_filled:36 mag:3.5 term:15\n",
      "(t_list, v_list, bi_times)=([0, 15, 30, 45], [2.0, 7.0, 24.5, 85.75], 3)\n",
      "----------------------------------------------------------------------\n",
      "v_manju:2 v_filled:36 mag:3.5 term:15.5\n",
      "(t_list, v_list, bi_times)=([0.0, 15.5, 31.0, 46.5], [2.0, 7.0, 24.5, 85.75], 3)\n"
     ]
    }
   ],
   "source": [
    "# 入力 まんじゅう:0立方メートル 太陽系:0立方メートル\n",
    "print(\"(t_list, v_list, bi_times)={}\".format(bibin_test(0,0)))\n",
    "print(\"-\"*70)\n",
    "# 入力 まんじゅう:1立方メートル 太陽系:0立方メートル\n",
    "print(\"(t_list, v_list, bi_times)={}\".format(bibin_test(1,0)))\n",
    "print(\"-\"*70)\n",
    "# 入力 まんじゅう:0立方メートル 太陽系:1立方メートル\n",
    "print(\"(t_list, v_list, bi_times)={}\".format(bibin_test(0,1)))\n",
    "print(\"-\"*70)\n",
    "# 入力 まんじゅう:1立方メートル 太陽系:1立方メートル\n",
    "print(\"(t_list, v_list, bi_times)={}\".format(bibin_test(1,1)))\n",
    "print(\"-\"*70)\n",
    "# 入力 まんじゅう:2立方メートル 太陽系:1立方メートル\n",
    "print(\"(t_list, v_list, bi_times)={}\".format(bibin_test(2,1)))\n",
    "print(\"-\"*70)\n",
    "# 入力 まんじゅう:-1立方メートル 太陽系:1立方メートル\n",
    "print(\"(t_list, v_list, bi_times)={}\".format(bibin_test(-1,0)))\n",
    "print(\"-\"*70)\n",
    "# 入力 まんじゅう:-1立方メートル 太陽系:1立方メートル\n",
    "print(\"(t_list, v_list, bi_times)={}\".format(bibin_test(-1,1)))\n",
    "print(\"-\"*70)\n",
    "# 入力 まんじゅう:1立方メートル 太陽系:-1立方メートル\n",
    "print(\"(t_list, v_list, bi_times)={}\".format(bibin_test(1,-1)))\n",
    "print(\"-\"*70)\n",
    "# 入力 まんじゅう:1立方メートル 太陽系:4立方メートル\n",
    "print(\"(t_list, v_list, bi_times)={}\".format(bibin_test(1, 4)))\n",
    "print(\"-\"*70)\n",
    "# 入力 まんじゅう:2立方メートル 太陽系:36立方メートル 倍率:3\n",
    "print(\"(t_list, v_list, bi_times)={}\".format(bibin_test(2, 36, 3)))\n",
    "print(\"-\"*70)\n",
    "# 入力 まんじゅう:2立方メートル 太陽系:36立方メートル 倍率:2 間隔:15分\n",
    "print(\"(t_list, v_list, bi_times)={}\".format(bibin_test(2, 36, 2,15)))\n",
    "print(\"-\"*70)\n",
    "# 入力 まんじゅう:2立方メートル 太陽系:36立方メートル 倍率:3.5 間隔:15分\n",
    "print(\"(t_list, v_list, bi_times)={}\".format(bibin_test(2, 36, 3.5,15)))\n",
    "print(\"-\"*70)\n",
    "# 入力 まんじゅう:2立方メートル 太陽系:36立方メートル 倍率:3.5 間隔:15.5分\n",
    "print(\"(t_list, v_list, bi_times)={}\".format(bibin_test(2, 36, 3.5,15.5)))"
   ]
  },
  {
   "cell_type": "markdown",
   "metadata": {},
   "source": [
    "問題ないようである。"
   ]
  },
  {
   "cell_type": "markdown",
   "metadata": {},
   "source": [
    "#### 解答用の関数"
   ]
  },
  {
   "cell_type": "code",
   "execution_count": 6,
   "metadata": {},
   "outputs": [],
   "source": [
    "# 解答用の関数\n",
    "def plot_and_print(items):\n",
    "    \"\"\"\n",
    "    栗まんじゅう問題をグラフと文字で解答する関数。\n",
    "    納期の都合上、グラフのタイトル等は固定である。\n",
    "    \n",
    "    Parameteres\n",
    "    --------------\n",
    "    items: list\n",
    "        以下のものが含まれるリスト\n",
    "        t_list: list \n",
    "            時間の経過のリスト(要素数は倍になる回数に1足した数)\n",
    "\n",
    "        v_list: list\n",
    "            体積の変化のリスト(要素数は倍になる回数に1足した数)\n",
    "\n",
    "        bi_times: int\n",
    "            倍になる回数\n",
    "    \"\"\"\n",
    "    plt.figure(figsize=(5, 3), dpi=100)\n",
    "    plt.title(\"How does the volume increase\") \n",
    "    plt.xlabel(\"time(minutes)\")\n",
    "    plt.ylabel(\"volume(cubic meters)\")\n",
    "    plt.plot(items[0], items[1], label=\"volume\") \n",
    "    plt.legend()\n",
    "    plt.show()\n",
    "    print(\"バイバインを掛けられたものは{0}分後に対象空間を満たす。結果的に{2}回体積を増加し、総量は{1}立方メートルとなる\"\n",
    "         .format(items[0][-1],items[1][-1],items[2]))"
   ]
  },
  {
   "cell_type": "markdown",
   "metadata": {},
   "source": [
    "#### 検証"
   ]
  },
  {
   "cell_type": "code",
   "execution_count": 7,
   "metadata": {},
   "outputs": [
    {
     "data": {
      "image/png": "[encoded data removed]",
      "text/plain": [
       "<Figure size 500x300 with 1 Axes>"
      ]
     },
     "metadata": {
      "needs_background": "light"
     },
     "output_type": "display_data"
    },
    {
     "name": "stdout",
     "output_type": "stream",
     "text": [
      "バイバインを掛けられたものは45分後に対象空間を満たす。結果的に9回体積を増加し、総量は1024立方メートルとなる\n"
     ]
    },
    {
     "data": {
      "image/png": "[encoded data removed]",
      "text/plain": [
       "<Figure size 500x300 with 1 Axes>"
      ]
     },
     "metadata": {
      "needs_background": "light"
     },
     "output_type": "display_data"
    },
    {
     "name": "stdout",
     "output_type": "stream",
     "text": [
      "バイバインを掛けられたものは50分後に対象空間を満たす。結果的に10回体積を増加し、総量は2048立方メートルとなる\n"
     ]
    }
   ],
   "source": [
    "plot_and_print(bibin(2, 1024))\n",
    "plot_and_print(bibin(2, 1025))"
   ]
  },
  {
   "cell_type": "markdown",
   "metadata": {},
   "source": [
    "問題ないようである。"
   ]
  },
  {
   "cell_type": "markdown",
   "metadata": {},
   "source": [
    "#### 解答"
   ]
  },
  {
   "cell_type": "code",
   "execution_count": 8,
   "metadata": {},
   "outputs": [
    {
     "data": {
      "image/png": "[encoded data removed]",
      "text/plain": [
       "<Figure size 500x300 with 1 Axes>"
      ]
     },
     "metadata": {
      "needs_background": "light"
     },
     "output_type": "display_data"
    },
    {
     "name": "stdout",
     "output_type": "stream",
     "text": [
      "バイバインを掛けられたものは710分後に対象空間を満たす。結果的に142回体積を増加し、総量は4.0141341357355115e+38立方メートルとなる\n"
     ]
    }
   ],
   "source": [
    "plot_and_print(bibin(v_manju, v_filled))"
   ]
  }
 ],
 "metadata": {
  "kernelspec": {
   "display_name": "Python 3",
   "language": "python",
   "name": "python3"
  },
  "language_info": {
   "codemirror_mode": {
    "name": "ipython",
    "version": 3
   },
   "file_extension": ".py",
   "mimetype": "text/x-python",
   "name": "python",
   "nbconvert_exporter": "python",
   "pygments_lexer": "ipython3",
   "version": "3.7.2"
  }
 },
 "nbformat": 4,
 "nbformat_minor": 2
}
