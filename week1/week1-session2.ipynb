{
 "cells": [
  {
   "cell_type": "markdown",
   "metadata": {},
   "source": [
    "# Week1授業課題2 何回折ったら富士山を超えるか問題"
   ]
  },
  {
   "cell_type": "markdown",
   "metadata": {},
   "source": [
    "## 目的\n",
    "・基礎的なプログラミング力を確認する  \n",
    "・数式をプログラムに落とし込めるようにする  "
   ]
  },
  {
   "cell_type": "markdown",
   "metadata": {},
   "source": [
    "## 何回折ったら富士山を超えるか問題\n",
    "「Pythonを使ってみよう」の問題では「1枚の紙を43回折り曲げた時の厚さを計算するプログラム」を作成し、43回折ることで月に届くことが確認出来た。  \n",
    "ここで「何回折ったらある厚さになるのか」という疑問が生まれる。こういったことを計算するプログラムを作成する。"
   ]
  },
  {
   "cell_type": "markdown",
   "metadata": {},
   "source": [
    "### 紙を折った時の厚さの数式\n",
    "授業前課題と同様であるが確認する。  \n",
    "n回折った紙の厚さ$ t_n $は以下のように表せる。  \n",
    "  \n",
    "$$\n",
    "    t_n = t_0 * 2^n\n",
    "$$\n",
    "  \n",
    "折る前の紙の厚さ$ t_0 $は0.00008mとする。一般的なコピー用紙の厚さである。"
   ]
  },
  {
   "cell_type": "markdown",
   "metadata": {},
   "source": [
    "### 【問題1】富士山を超える最小の折る回数\n",
    "厚さが「富士山(3776m)」を超えるのは何回紙を折った時か計算するプログラムを作成する。"
   ]
  },
  {
   "cell_type": "code",
   "execution_count": 1,
   "metadata": {},
   "outputs": [
    {
     "name": "stdout",
     "output_type": "stream",
     "text": [
      "紙の厚さが「富士山(3776m)」を超えるのは26回紙を折った時である。\n"
     ]
    }
   ],
   "source": [
    "# coding:utf-8\n",
    "# 【問題1】富士山を超える最小の折る回数\n",
    "\n",
    "import math\n",
    "\n",
    "THICKNESS = 0.00008  # 紙の厚さ\n",
    "HEIGHT_FUJI = 3776  # 富士山の高さ\n",
    "\n",
    "# t_n < t_0 * 2^n\n",
    "# t_n/t_0 < 2^n\n",
    "# 2^n > 3776 / 0.0008\n",
    "# n > log_2(3776/0.0008)\n",
    "# 単純に折る回数であれば、富士山の高さを紙の厚さで割り、底２として対数をとる\n",
    "# 富士山の高さは超えなければならないので、高さが等しい時の考慮をしなければならない\n",
    "# よって、対数に端数がなければ1を足し、端数があれば切り上げる\n",
    "fold_times_pre = math.log2(HEIGHT_FUJI/THICKNESS)\n",
    "if fold_times_pre.is_integer():\n",
    "    fold_times = fold_times_pre + 1\n",
    "else :\n",
    "    fold_times = math.ceil(fold_times_pre)\n",
    "\n",
    "print(\"紙の厚さが「富士山(3776m)」を超えるのは{}回紙を折った時である。\".format(fold_times))"
   ]
  },
  {
   "cell_type": "markdown",
   "metadata": {},
   "source": [
    "#### 念の為、検証する"
   ]
  },
  {
   "cell_type": "code",
   "execution_count": 2,
   "metadata": {},
   "outputs": [
    {
     "name": "stdout",
     "output_type": "stream",
     "text": [
      "富士山(3776m)を越えるか確認\n",
      "回数：26回\n",
      "紙厚さ：5368.70912m\n",
      "----------------------------------------------------------------------\n",
      "折る回数が一回少ない場合\n",
      "回数：25回\n",
      "紙厚さ：2684.35456m\n",
      "----------------------------------------------------------------------\n",
      "紙の厚さを考慮せず、不等号について確認する\n",
      "2^10m=1024mで検証\n",
      "回数：11.0回\n",
      "紙の厚さ：2048.0m\n",
      "----------------------------------------------------------------------\n",
      "(2^10)-1m=1023mで検証\n",
      "回数：10回\n",
      "紙の厚さ：1024m\n",
      "----------------------------------------------------------------------\n",
      "(2^10)+1m=1025mで検証\n",
      "回数：11回\n",
      "紙の厚さ：2048m\n"
     ]
    }
   ],
   "source": [
    "# 問題で与えられた式に当てはめてみる\n",
    "print(\"富士山(3776m)を越えるか確認\")\n",
    "fold_times_pre = math.log2(HEIGHT_FUJI/THICKNESS)\n",
    "if fold_times_pre.is_integer():\n",
    "    fold_times = fold_times_pre + 1\n",
    "else :\n",
    "    fold_times = math.ceil(fold_times_pre)\n",
    "print(\"回数：{}回\".format(fold_times))\n",
    "print(\"紙厚さ：{}m\".format(THICKNESS*2**fold_times))\n",
    "print(\"-\"*70)\n",
    "print(\"折る回数が一回少ない場合\")\n",
    "fold_times -= 1\n",
    "print(\"回数：{}回\".format(fold_times))\n",
    "print(\"紙厚さ：{}m\".format(THICKNESS*2**fold_times))\n",
    "print(\"-\"*70)\n",
    "\n",
    "print(\"紙の厚さを考慮せず、不等号について確認する\")\n",
    "print(\"2^10m=1024mで検証\")\n",
    "fold_times_pre = math.log2(1024)\n",
    "if fold_times_pre.is_integer():\n",
    "    fold_times = fold_times_pre + 1\n",
    "else :\n",
    "    fold_times = math.ceil(fold_times_pre)\n",
    "print(\"回数：{}回\".format(fold_times))\n",
    "print(\"紙の厚さ：{}m\".format(2**fold_times))\n",
    "print(\"-\"*70)\n",
    "\n",
    "print(\"(2^10)-1m=1023mで検証\")\n",
    "fold_times_pre = math.log2(1023)\n",
    "if fold_times_pre.is_integer():\n",
    "    fold_times = fold_times_pre + 1\n",
    "else :\n",
    "    fold_times = math.ceil(fold_times_pre)\n",
    "print(\"回数：{}回\".format(fold_times))\n",
    "print(\"紙の厚さ：{}m\".format(2**fold_times))\n",
    "print(\"-\"*70)\n",
    "\n",
    "print(\"(2^10)+1m=1025mで検証\")\n",
    "fold_times_pre = math.log2(1025)\n",
    "if fold_times_pre.is_integer():\n",
    "    fold_times = fold_times_pre + 1\n",
    "else :\n",
    "    fold_times = math.ceil(fold_times_pre)\n",
    "print(\"回数：{}回\".format(fold_times))\n",
    "print(\"紙の厚さ：{}m\".format(2**fold_times))"
   ]
  },
  {
   "cell_type": "markdown",
   "metadata": {},
   "source": [
    "考え方に問題はないようである。"
   ]
  },
  {
   "cell_type": "markdown",
   "metadata": {},
   "source": [
    "### 【問題2】任意の厚さに対応した関数を作成\n",
    "距離を入力すると、何回折った時に超えるかを出力する関数を作成する。引数として、折る前の厚さ$ t_0 $も設定できるようにする。  \n",
    "この関数を利用して、「最も近い太陽以外の恒星」に到達するには紙を何回折る必要があるか計算する。「最も近い太陽以外の恒星」の距離は調査する。"
   ]
  },
  {
   "cell_type": "code",
   "execution_count": 3,
   "metadata": {},
   "outputs": [],
   "source": [
    "# 【問題2】任意の厚さに対応した関数を作成\n",
    "\n",
    "# 関数の定義\n",
    "def how_many_times_fald(height, thickness=0.00008):\n",
    "    \"\"\"\n",
    "    対象の高さ、あるいは対象までの距離を入力すると、紙を何回折った時に超えるかを出力する関数。\n",
    "\n",
    "    Parameteres\n",
    "    --------------\n",
    "    height: int or float\n",
    "        対象の高さ、あるいは対象までの距離(単位はメートル)\n",
    "        \n",
    "     thickness​: int or float\n",
    "         紙の厚さ(単位はメートル)(default: 0.00008)\n",
    "\n",
    "    Returns\n",
    "    --------------\n",
    "    int\n",
    "        折る回数\n",
    "    \"\"\"\n",
    "    fold_times_pre = math.log2(height/thickness)\n",
    "    if fold_times_pre.is_integer():\n",
    "        fold_times = fold_times_pre + 1\n",
    "    else :\n",
    "        fold_times = math.ceil(fold_times_pre)\n",
    "    return int(fold_times)"
   ]
  },
  {
   "cell_type": "markdown",
   "metadata": {},
   "source": [
    "#### 検証する"
   ]
  },
  {
   "cell_type": "code",
   "execution_count": 4,
   "metadata": {},
   "outputs": [
    {
     "name": "stdout",
     "output_type": "stream",
     "text": [
      "紙の厚さが「富士山(3776m)」を超えるのは26回紙を折った時である。\n",
      "紙の厚さが1024mを超えるのは11回紙を折った時である。\n"
     ]
    }
   ],
   "source": [
    "# 富士山の場合\n",
    "print(\"紙の厚さが「富士山(3776m)」を超えるのは{}回紙を折った時である。\".format(how_many_times_fald(3776)))\n",
    "\n",
    "# 越える高さ2**10m=1024m, 紙の厚さ1mの場合\n",
    "print(\"紙の厚さが1024mを超えるのは{}回紙を折った時である。\".format(how_many_times_fald(1024, 1)))"
   ]
  },
  {
   "cell_type": "markdown",
   "metadata": {},
   "source": [
    "計算結果に問題はないようである。"
   ]
  },
  {
   "cell_type": "markdown",
   "metadata": {},
   "source": [
    "#### 「最も近い太陽以外の恒星」に到達するには紙を何回折る必要があるか計算する"
   ]
  },
  {
   "cell_type": "code",
   "execution_count": 5,
   "metadata": {},
   "outputs": [
    {
     "name": "stdout",
     "output_type": "stream",
     "text": [
      "紙の厚さが「プロキシマ・ケンタウリ」までの距離(4.243光年)を超えるのは69回紙を折った時である。\n"
     ]
    }
   ],
   "source": [
    "# 「最も近い太陽以外の恒星」はプロキシマ・ケンタウリで、見かけの距離は4.243光年である\n",
    "# 1光年は9 460 730 472 580 800 mである\n",
    "dis_proxima_centauri = 9460730472580800*4.243\n",
    "print(\"紙の厚さが「プロキシマ・ケンタウリ」までの距離(4.243光年)を超えるのは{}回紙を折った時である。\"\n",
    "      .format(how_many_times_fald(dis_proxima_centauri)))"
   ]
  },
  {
   "cell_type": "markdown",
   "metadata": {},
   "source": [
    "### 【問題3】必要な紙の長さ\n",
    "実際のところ身近にある紙は43回はおろか10回も折れない。しかし、大きな紙ほどたくさん折ることができ、トイレットペーパーのような長い紙を一方向に折ることを考えた時の折れる回数を求める公式が存在する。  \n",
    "厚さ$ t_0 $の紙をn回折るために必要な紙の長さLは以下の公式で求まる。  \n",
    "  \n",
    "$$\n",
    "    L = \\frac{πt_0} {6}(2^n+4)(2^n−1)\n",
    "$$\n",
    "  \n",
    "この公式を利用して、実際に紙を折り任意の厚さに到達するために必要な紙の長さを求める関数を作成する。  \n",
    "そしてこれを使って「月」「富士山」「最も近い太陽以外の恒星」に届くために必要な紙の長さを求める。  "
   ]
  },
  {
   "cell_type": "code",
   "execution_count": 6,
   "metadata": {},
   "outputs": [],
   "source": [
    "# 【問題3】必要な紙の長さ\n",
    "\n",
    "# 紙の長さを求める関数\n",
    "def how_long_paper(height, thickness=0.00008):\n",
    "    \"\"\"\n",
    "    紙を折り任意の厚さに到達するために必要な紙の長さを求める関数。\n",
    "    \n",
    "    Parameteres\n",
    "    --------------\n",
    "    height: int or float\n",
    "        対象の高さ、あるいは対象までの距離(単位はメートル)\n",
    "        \n",
    "     thickness​: int or float\n",
    "         紙の厚さ(単位はメートル)(default: 0.00008)\n",
    "    \n",
    "    Returns\n",
    "    --------------\n",
    "    int\n",
    "        必要な紙の長さ(単位はメートル)\n",
    "    \"\"\"\n",
    "    fold_times = how_many_times_fald(height, thickness)\n",
    "    return math.pi*thickness/6*(2**fold_times+4)*(2**fold_times-1)"
   ]
  },
  {
   "cell_type": "code",
   "execution_count": 7,
   "metadata": {},
   "outputs": [],
   "source": [
    "# print用の関数\n",
    "def print_how_long_paper(obj_name, height, thickness=0.00008):\n",
    "    \"\"\"\n",
    "    対象物の名称と高さ、あるいは距離を入力すると何メートルの紙が必要か出力する関数。\n",
    "    \n",
    "    Parameteres\n",
    "    --------------\n",
    "    obj_name: str\n",
    "        対象物の名称\n",
    "    \n",
    "    height: int or float\n",
    "        対象の高さ、あるいは対象までの距離(単位はメートル)\n",
    "        \n",
    "     thickness​: int or float\n",
    "         紙の厚さ(単位はメートル)(default: 0.00008)\n",
    "    \"\"\"\n",
    "    print(\"「{0}」に届くために必要な紙の長さは{1}メートルである。\".format(obj_name, how_long_paper(height, thickness=0.00008)))"
   ]
  },
  {
   "cell_type": "code",
   "execution_count": 8,
   "metadata": {},
   "outputs": [
    {
     "name": "stdout",
     "output_type": "stream",
     "text": [
      "「月」に届くために必要な紙の長さは3.240919444170781e+21メートルである。\n",
      "「富士山」に届くために必要な紙の長さは188646348487.24017メートルである。\n",
      "「最も近い太陽以外の恒星（プロキシマ・ケンタウリ）」に届くために必要な紙の長さは1.4595803601100348e+37メートルである。\n"
     ]
    }
   ],
   "source": [
    "# 解答\n",
    "print_how_long_paper(\"月\", 384400*1000)\n",
    "print_how_long_paper(\"富士山\", 3776)\n",
    "print_how_long_paper(\"最も近い太陽以外の恒星（プロキシマ・ケンタウリ）\", 9460730472580800*4.243)"
   ]
  }
 ],
 "metadata": {
  "kernelspec": {
   "display_name": "Python 3",
   "language": "python",
   "name": "python3"
  },
  "language_info": {
   "codemirror_mode": {
    "name": "ipython",
    "version": 3
   },
   "file_extension": ".py",
   "mimetype": "text/x-python",
   "name": "python",
   "nbconvert_exporter": "python",
   "pygments_lexer": "ipython3",
   "version": "3.7.2"
  }
 },
 "nbformat": 4,
 "nbformat_minor": 2
}
