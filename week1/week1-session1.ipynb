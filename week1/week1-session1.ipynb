{
 "cells": [
  {
   "cell_type": "markdown",
   "metadata": {},
   "source": [
    "# Week1授業課題1 曽呂利新左衛門問題"
   ]
  },
  {
   "cell_type": "markdown",
   "metadata": {},
   "source": [
    "## 目的\n",
    "・基礎的なプログラミング力を確認する  \n",
    "・見やすいコードを書けるようにする  "
   ]
  },
  {
   "cell_type": "markdown",
   "metadata": {},
   "source": [
    "## 2.曽呂利新左衛門問題\n",
    "曽呂利新左衛門の逸話を題材にプログラミングを進める。\n",
    ">秀吉から褒美を下される際、何を希望するか尋ねられた新左衛門は、今日は米1粒、翌日には倍の2粒、その翌日には更に倍の4粒と、日ごとに倍の量の米を100日間もらう事を希望した。米粒なら大した事はないと思った秀吉は簡単に承諾したが、日ごとに倍ずつ増やして行くと100日後には膨大な量になる事に途中で気づき、他の褒美に変えてもらった。  \n",
    "\n",
    "[曽呂利新左衛門 - Wikipedia](https://ja.wikipedia.org/wiki/曽呂利新左衛門)  \n",
    "（最終閲覧日：2019年7月13日）"
   ]
  },
  {
   "cell_type": "markdown",
   "metadata": {},
   "source": [
    "### 【問題1】100日後の米粒の数\n",
    "100日後には合計で米粒をいくつもらっているのかを計算するコードを作成し、答えを出力する。また、1日目から100日目までの「その日にもらう米の数」と「その日までに累計で貰う米の数」の推移を折れ線グラフで表現する。（縦軸が米の数、横軸が日数）"
   ]
  },
  {
   "cell_type": "code",
   "execution_count": 1,
   "metadata": {},
   "outputs": [
    {
     "name": "stdout",
     "output_type": "stream",
     "text": [
      "100日後には合計で米粒をいくつもらっているのか:1267650600228229401496703205375粒\n",
      "1粒0.２g換算で2.535301200456459e+22トンとなる。\n"
     ]
    },
    {
     "data": {
      "image/png": "[encoded data removed]",
      "text/plain": [
       "<Figure size 500x300 with 1 Axes>"
      ]
     },
     "metadata": {
      "needs_background": "light"
     },
     "output_type": "display_data"
    }
   ],
   "source": [
    "# coding:utf-8\n",
    "# 【問題1】100日後の米粒の数\n",
    "import numpy as np\n",
    "import math\n",
    "import matplotlib.pyplot as plt\n",
    "%matplotlib inline\n",
    "\n",
    "\n",
    "# 定数の設定\n",
    "GRAIN_START = 1\n",
    "TERM = 100  # お米をもらう期間\n",
    "MAG = 2 # 倍率\n",
    "\n",
    "# 「その日にもらう米の数」は、（初日の米の数）*（倍率）*（何日目であるか）で求まる\n",
    "grain_receive = [GRAIN_START * MAG ** i for i in range(TERM)]\n",
    "# 「その日までに累計で貰う米の数」は、「その日にもらう米の数」のリストを（何日目であるか）でスライス、合計すると求まる\n",
    "grain_total = [sum(grain_receive[:j + 1]) for j in range(TERM)]    \n",
    "\n",
    "print(\"100日後には合計で米粒をいくつもらっているのか:{}粒\".format(grain_total[-1]))\n",
    "print(\"1粒0.２g換算で{}トンとなる。\".format(grain_total[-1]/(5*10000*1000)))\n",
    "\n",
    "# 折れ線グラフでプロット\n",
    "plt.figure(figsize=(5, 3), dpi=100)\n",
    "plt.title(\"Number of rice grains\") \n",
    "plt.xlabel(\"days\")\n",
    "plt.ylabel(\"grains\")\n",
    "plt.plot(grain_receive, label=\"grain_receive\") \n",
    "plt.plot(grain_total, label=\"grain_total\") \n",
    "plt.legend()\n",
    "\n",
    "plt.show()"
   ]
  },
  {
   "cell_type": "markdown",
   "metadata": {},
   "source": [
    "### 【問題2】100日後以外の米粒の数\n",
    "この逸話は30日だったり81日だったりと日数が曖昧である。どの話にも対応できるように日数を引数とした関数を作成する。関数を作成した上で、コースを受講する日数の間でいくつ米粒をもらえるかを答える。前の問題同様に折れ線グラフも出力する。"
   ]
  },
  {
   "cell_type": "code",
   "execution_count": 2,
   "metadata": {},
   "outputs": [],
   "source": [
    "# 【問題2】100日後以外の米粒の数\n",
    "\n",
    "def compute_sorori_shinzaemon(term=100):\n",
    "    \"\"\"\n",
    "    曽呂利新左衛門の米の逸話を検証する関数。日にちごとの米の粒の数を計算する。\n",
    "\n",
    "    Parameteres\n",
    "    --------------\n",
    "    term: int\n",
    "        米を貰う日数 (default : 100)\n",
    "\n",
    "    Returns\n",
    "    --------------\n",
    "    grain_receive: list\n",
    "        ある日に貰う米の数のリスト（リストの長さはtermに等しくなる）\n",
    "   grain_total  : list\n",
    "        ある日までに累計で貰う米の数のリスト（リストの長さはtermに等しくなる）\n",
    "    \"\"\"\n",
    "    grain_receive = [1* 2** i for i in range(term)]\n",
    "    grain_total = [sum(grain_receive[:j + 1]) for j in range(term)] \n",
    "    \n",
    "    return grain_receive, grain_total \n",
    "\n",
    "def plot_sorori_shinzaemon(grain_receive, grain_total\n",
    "                           , plot_title=\"Number of rice grains\", plot_xlabel=\"days\", plot_ylabel=\"grains\"\n",
    "                           , plot_figsize=(5, 3), plot_dpi=100\n",
    "                          ):\n",
    "    \"\"\"\n",
    "    ２つのリストを折れ線グラフにプロットする。\n",
    "    \n",
    "    Parameteres\n",
    "    --------------\n",
    "    day: int\n",
    "        米を貰う日数 (default : 100)\n",
    "        \n",
    "    grain_receive: list\n",
    "        ある日に貰う米の数のリスト\n",
    "\n",
    "    grain_total: list\n",
    "        ある日までに累計で貰う米の数のリスト\n",
    "    \n",
    "    plot_title: str\n",
    "        グラフタイトル(default: \"Number of rice grains\")\n",
    "        \n",
    "    plot_xlabel: str\n",
    "        x軸ラベル(default: \"days\")\n",
    "\n",
    "    plot_ylabel: str\n",
    "        y軸ラベル(default: \"grains\")\n",
    "\n",
    "    plot_figsize: tuple\n",
    "        グラフのサイズ(default: (5, 3))\n",
    "        \n",
    "    plot_dpi: int\n",
    "        グラフの解像度(default: 100)\n",
    "    \"\"\"\n",
    "    plt.figure(figsize=plot_figsize, dpi=plot_dpi)\n",
    "    plt.title(plot_title) \n",
    "    plt.xlabel(plot_xlabel)\n",
    "    plt.ylabel(plot_ylabel)\n",
    "    plt.plot(grain_receive, label=\"grain_receive\") \n",
    "    plt.plot(grain_total, label=\"grain_total\") \n",
    "    plt.legend()\n",
    "    plt.show()\n",
    "\n"
   ]
  },
  {
   "cell_type": "markdown",
   "metadata": {},
   "source": [
    "#### テスト\n",
    "0日目、1日目、5日目でテストする。"
   ]
  },
  {
   "cell_type": "code",
   "execution_count": 3,
   "metadata": {},
   "outputs": [
    {
     "name": "stdout",
     "output_type": "stream",
     "text": [
      "0日目 正:([], []) テスト結果:([], [])\n",
      "1日目 正:([1], [1]) テスト結果:([1], [1])\n",
      "5日目 正:([1, 2, 4, 8, 16],[1, 3, 7, 15, 31]) テスト結果:([1, 2, 4, 8, 16], [1, 3, 7, 15, 31])\n"
     ]
    }
   ],
   "source": [
    "# テスト\n",
    "print(\"0日目 正:([], []) テスト結果:{}\".format(compute_sorori_shinzaemon(0)))\n",
    "print(\"1日目 正:([1], [1]) テスト結果:{}\".format(compute_sorori_shinzaemon(1)))\n",
    "print(\"5日目 正:([1, 2, 4, 8, 16],[1, 3, 7, 15, 31]) テスト結果:{}\".format(compute_sorori_shinzaemon(5)))"
   ]
  },
  {
   "cell_type": "markdown",
   "metadata": {},
   "source": [
    "#### コースを受講する日数の間でいくつ米粒をもらえるか\n",
    "コースの期間を2019年7月1日から2019年10月31日の122日間として計算する。"
   ]
  },
  {
   "cell_type": "code",
   "execution_count": 4,
   "metadata": {},
   "outputs": [
    {
     "data": {
      "image/png": "[encoded data removed]",
      "text/plain": [
       "<Figure size 500x300 with 1 Axes>"
      ]
     },
     "metadata": {
      "needs_background": "light"
     },
     "output_type": "display_data"
    },
    {
     "name": "stdout",
     "output_type": "stream",
     "text": [
      "コースを受講する日数の間でいくつ米粒をもらえるか:5316911983139663491615228241121378303粒\n",
      "1粒0.２g換算で1.0633823966279327e+29トンとなる。\n"
     ]
    }
   ],
   "source": [
    "grain_receive, grain_total=compute_sorori_shinzaemon(122)\n",
    "plot_sorori_shinzaemon(grain_receive, grain_total)\n",
    "print(\"コースを受講する日数の間でいくつ米粒をもらえるか:{}粒\".format(grain_total[-1]))\n",
    "print(\"1粒0.２g換算で{}トンとなる。\".format(grain_total[-1]/(5*10000*1000)))"
   ]
  },
  {
   "cell_type": "markdown",
   "metadata": {},
   "source": [
    "### 【問題3】何人が何日生活できる米か\n",
    "この米があれば何人が何日生活できるか計算する関数を作成する。コースを受講する期間に貰える米粒で、このクラスにいる人数であれば、何日間生活できるかを出力してみる。  \n",
    "関数の最低限の入力は 米粒の数(int) と 人数(int) 、出力は 生活できる日数(int) である。関数名やコメントなどは分かりやすく考えて作成する。  \n",
    "ここでは1日に必要な米粒の数は自分なりに調べて、計算式に落とし込む。どう調べ、何を根拠にしたかもコメントを残しておく。  "
   ]
  },
  {
   "cell_type": "code",
   "execution_count": 5,
   "metadata": {},
   "outputs": [],
   "source": [
    "# 【問題3】何人が何日生活できる米か\n",
    "\n",
    "def compute_how_many_days_can_people_live(grains, number_of_men, number_of_women):\n",
    "    \"\"\"\n",
    "    入力された米があれば何人が何日生活できるか計算する。\n",
    "    米1粒の重さを0.２グラムとする。\n",
    "    米を水稲穀粒、精白米、うるち米とし、100g当たりのカロリーを358kcalとする。\n",
    "    参考　食品栄養データベース（食品番号： 01083　食品群名/食品名： 穀類/こめ/［水稲穀粒］/精白米/うるち米）\n",
    "    https://fooddb.mext.go.jp/details/details.pl?ITEM_NO=1_01083_7\n",
    "\n",
    "    クラスに所属する全員の身体活動量が低い（1日のうち座っていることがほとんどである）ものとする。\n",
    "    年齢の範囲は12~69歳に収まるものとする。\n",
    "    以上の条件から、1日に必要なカロリーを男性2400kcal、女性2000kcalとして計算する。\n",
    "    参考　一日に必要なエネルギー量と摂取の目安\n",
    "    http://www.maff.go.jp/j/syokuiku/zissen_navi/balance/required.html\n",
    "    \n",
    "    Parameteres\n",
    "    --------------\n",
    "    grains: int\n",
    "        米粒の数(int) \n",
    "    \n",
    "    number_of_men: int\n",
    "        男性の人数(int)\n",
    "\n",
    "    number_of_women: int\n",
    "        女性の人数(int)\n",
    "\n",
    "    Returns\n",
    "    --------------\n",
    "    days_live: int\n",
    "        生活できる日数\n",
    "    \"\"\"\n",
    "    try:\n",
    "        # 1粒あたり0.２グラム、100グラムあたり358kcalとして、お米の総カロリーを計算する\n",
    "        cal_grains = 358/100*grains*0.2\n",
    "        # 入力された人数が1日生活するために必要なカロリーを計算する\n",
    "        cal_need = 2400*number_of_men + 2000*number_of_women\n",
    "        return int(cal_grains/cal_need)\n",
    "    except ZeroDivisionError:\n",
    "        print(\"ZeroDivisionError!!\")\n"
   ]
  },
  {
   "cell_type": "markdown",
   "metadata": {},
   "source": [
    "#### テスト"
   ]
  },
  {
   "cell_type": "code",
   "execution_count": 6,
   "metadata": {
    "scrolled": false
   },
   "outputs": [
    {
     "name": "stdout",
     "output_type": "stream",
     "text": [
      "入力:米０粒、男性０人、女性０人\n",
      "grains:0 number_of_men:0 number_of_women:0\n",
      "cal_grains:0.0\n",
      "cal_need:0\n",
      "ZeroDivisionError!!\n",
      "生活できる日数:None\n",
      "----------------------------------------------------------------------\n",
      "入力:米1粒、男性０人、女性０人\n",
      "grains:1 number_of_men:0 number_of_women:0\n",
      "cal_grains:0.7160000000000001\n",
      "cal_need:0\n",
      "ZeroDivisionError!!\n",
      "生活できる日数:None\n",
      "----------------------------------------------------------------------\n",
      "入力:米０粒、男性1人、女性０人\n",
      "grains:0 number_of_men:1 number_of_women:0\n",
      "cal_grains:0.0\n",
      "cal_need:2400\n",
      "生活できる日数:0\n",
      "----------------------------------------------------------------------\n",
      "入力:米０粒、男性０人、女性1人\n",
      "grains:0 number_of_men:0 number_of_women:1\n",
      "cal_grains:0.0\n",
      "cal_need:2000\n",
      "生活できる日数:0\n",
      "----------------------------------------------------------------------\n",
      "入力:米1粒、男性1人、女性０人\n",
      "grains:1 number_of_men:1 number_of_women:0\n",
      "cal_grains:0.7160000000000001\n",
      "cal_need:2400\n",
      "生活できる日数:0\n",
      "----------------------------------------------------------------------\n",
      "入力:米1粒、男性0人、女性1人\n",
      "grains:1 number_of_men:0 number_of_women:1\n",
      "cal_grains:0.7160000000000001\n",
      "cal_need:2000\n",
      "生活できる日数:0\n",
      "----------------------------------------------------------------------\n",
      "入力:米0粒、男性1人、女性1人\n",
      "grains:0 number_of_men:1 number_of_women:1\n",
      "cal_grains:0.0\n",
      "cal_need:4400\n",
      "生活できる日数:0\n",
      "----------------------------------------------------------------------\n",
      "入力:米1粒、男性1人、女性1人\n",
      "grains:1 number_of_men:1 number_of_women:1\n",
      "cal_grains:0.7160000000000001\n",
      "cal_need:4400\n",
      "生活できる日数:0\n",
      "----------------------------------------------------------------------\n",
      "男性1人が1日に必要なコメの数:3351.95530726257\n",
      "入力:米3351粒、男性1人、女性０人\n",
      "grains:3351 number_of_men:1 number_of_women:0\n",
      "cal_grains:2399.3160000000003\n",
      "cal_need:2400\n",
      "生活できる日数:0\n",
      "----------------------------------------------------------------------\n",
      "入力:米3352粒、男性1人、女性０人\n",
      "grains:3352 number_of_men:1 number_of_women:0\n",
      "cal_grains:2400.032\n",
      "cal_need:2400\n",
      "生活できる日数:1\n",
      "----------------------------------------------------------------------\n",
      "入力:米3352粒、男性1人、女性1人\n",
      "grains:3352 number_of_men:1 number_of_women:1\n",
      "cal_grains:2400.032\n",
      "cal_need:4400\n",
      "生活できる日数:0\n",
      "----------------------------------------------------------------------\n",
      "女性1人が1日に必要なコメの数:2793.2960893854747\n",
      "入力:米2793粒、男性0人、女性1人\n",
      "grains:2793 number_of_men:0 number_of_women:1\n",
      "cal_grains:1999.7880000000002\n",
      "cal_need:2000\n",
      "生活できる日数:0\n",
      "----------------------------------------------------------------------\n",
      "入力:米2794粒、男性0人、女性1人\n",
      "grains:2794 number_of_men:0 number_of_women:1\n",
      "cal_grains:2000.5040000000001\n",
      "cal_need:2000\n",
      "生活できる日数:1\n",
      "----------------------------------------------------------------------\n",
      "入力:米6146粒、男性1人、女性1人\n",
      "grains:6146 number_of_men:1 number_of_women:1\n",
      "cal_grains:4400.536\n",
      "cal_need:4400\n",
      "生活できる日数:1\n"
     ]
    }
   ],
   "source": [
    "# 【問題3】何人が何日生活できる米か_test\n",
    "\n",
    "def compute_how_many_days_can_people_live_test(grains, number_of_men, number_of_women):\n",
    "    \"\"\"\n",
    "    入力された米があれば何人が何日生活できるか計算する。\n",
    "    米1粒の重さを0.２グラムとする。\n",
    "    米を水稲穀粒、精白米、うるち米とし、100g当たりのカロリーを358kcalとする。\n",
    "    参考　食品栄養データベース（食品番号： 01083　食品群名/食品名： 穀類/こめ/［水稲穀粒］/精白米/うるち米）\n",
    "    https://fooddb.mext.go.jp/details/details.pl?ITEM_NO=1_01083_7\n",
    "\n",
    "    クラスに所属する全員の身体活動量が低い（1日のうち座っていることがほとんどである）ものとする。\n",
    "    年齢の範囲は12~69歳に収まるものとする。\n",
    "    以上の条件から、1日に必要なカロリーを男性2400kcal、女性2000kcalとして計算する。\n",
    "    参考　一日に必要なエネルギー量と摂取の目安\n",
    "    http://www.maff.go.jp/j/syokuiku/zissen_navi/balance/required.html\n",
    "    \n",
    "    Parameteres\n",
    "    --------------\n",
    "    grains: int\n",
    "        米粒の数(int) \n",
    "    \n",
    "    number_of_men: int\n",
    "        男性の人数(int)\n",
    "\n",
    "    number_of_women: int\n",
    "        女性の人数(int)\n",
    "\n",
    "    Returns\n",
    "    --------------\n",
    "    days_live: int\n",
    "        生活できる日数\n",
    "    \"\"\"\n",
    "    try:\n",
    "        print(\"grains:{0} number_of_men:{1} number_of_women:{2}\".format(grains, number_of_men, number_of_women))\n",
    "        # 1粒あたり0.２グラム、100グラムあたり358kcalとして、お米の総カロリーを計算する\n",
    "        cal_grains = 358/100*grains*0.2\n",
    "        print(\"cal_grains:{}\".format(cal_grains))\n",
    "        # 入力された人数が1日生活するために必要なカロリーを計算する\n",
    "        cal_need = 2400*number_of_men + 2000*number_of_women\n",
    "        print(\"cal_need:{}\".format(cal_need))\n",
    "        return int(cal_grains/cal_need)\n",
    "    except ZeroDivisionError:\n",
    "        print(\"ZeroDivisionError!!\")\n",
    "\n",
    "# 米０粒、男性０人、女性０人\n",
    "print(\"入力:米０粒、男性０人、女性０人\")\n",
    "print(\"生活できる日数:{}\".format(compute_how_many_days_can_people_live_test(0, 0, 0)))\n",
    "print(\"-\"*70)\n",
    "# 米1粒、男性０人、女性０人\n",
    "print(\"入力:米1粒、男性０人、女性０人\")\n",
    "print(\"生活できる日数:{}\".format(compute_how_many_days_can_people_live_test(1, 0, 0)))\n",
    "print(\"-\"*70)\n",
    "# 米０粒、男性1人、女性０人\n",
    "print(\"入力:米０粒、男性1人、女性０人\")\n",
    "print(\"生活できる日数:{}\".format(compute_how_many_days_can_people_live_test(0, 1, 0)))\n",
    "print(\"-\"*70)\n",
    "# 米０粒、男性０人、女性1人\n",
    "print(\"入力:米０粒、男性０人、女性1人\")\n",
    "print(\"生活できる日数:{}\".format(compute_how_many_days_can_people_live_test(0, 0, 1)))\n",
    "print(\"-\"*70)\n",
    "# 米1粒、男性1人、女性０人\n",
    "print(\"入力:米1粒、男性1人、女性０人\")\n",
    "print(\"生活できる日数:{}\".format(compute_how_many_days_can_people_live_test(1, 1, 0)))\n",
    "print(\"-\"*70)\n",
    "# 米1粒、男性0人、女性1人\n",
    "print(\"入力:米1粒、男性0人、女性1人\")\n",
    "print(\"生活できる日数:{}\".format(compute_how_many_days_can_people_live_test(1, 0, 1)))\n",
    "print(\"-\"*70)\n",
    "# 米0粒、男性1人、女性1人\n",
    "print(\"入力:米0粒、男性1人、女性1人\")\n",
    "print(\"生活できる日数:{}\".format(compute_how_many_days_can_people_live_test(0, 1, 1)))\n",
    "print(\"-\"*70)\n",
    "# 米1粒、男性1人、女性1人\n",
    "print(\"入力:米1粒、男性1人、女性1人\")\n",
    "print(\"生活できる日数:{}\".format(compute_how_many_days_can_people_live_test(1, 1, 1)))\n",
    "print(\"-\"*70)\n",
    "\n",
    "# 男性1人が1日に必要な米の数を計算し、入力する\n",
    "# 男性が1日に必要な米の数 = 必要なカロリー(2400kcal)/米100グラム当たりのカロリー(358kcal)*米100グラム当たりの米の数(100g/0.2g)\n",
    "grains_man_need = 2400/358*(100/0.2)\n",
    "print(\"男性1人が1日に必要なコメの数:{}\".format(grains_man_need))\n",
    "# 米3351粒、男性1人、女性０人\n",
    "print(\"入力:米3351粒、男性1人、女性０人\")\n",
    "print(\"生活できる日数:{}\".format(compute_how_many_days_can_people_live_test(3351, 1, 0)))\n",
    "print(\"-\"*70)\n",
    "# 米3352粒、男性1人、女性０人\n",
    "print(\"入力:米3352粒、男性1人、女性０人\")\n",
    "print(\"生活できる日数:{}\".format(compute_how_many_days_can_people_live_test(3352, 1, 0)))\n",
    "print(\"-\"*70)\n",
    "# 米3352粒、男性1人、女性1人\n",
    "print(\"入力:米3352粒、男性1人、女性1人\")\n",
    "print(\"生活できる日数:{}\".format(compute_how_many_days_can_people_live_test(3352, 1, 1)))\n",
    "print(\"-\"*70)\n",
    "\n",
    "# 女性1人が1日に必要な米の数を計算し、入力する\n",
    "# 女性が1日に必要な米の数 = 必要なカロリー(2000kcal)/米100グラム当たりのカロリー(358kcal)*米100グラム当たりの米の数(100g/0.2g)\n",
    "grains_woman_need = 2000/358*(100/0.2)\n",
    "print(\"女性1人が1日に必要なコメの数:{}\".format(grains_woman_need))\n",
    "# 米2793粒、男性0人、女性1人\n",
    "print(\"入力:米2793粒、男性0人、女性1人\")\n",
    "print(\"生活できる日数:{}\".format(compute_how_many_days_can_people_live_test(2793, 0, 1)))\n",
    "print(\"-\"*70)\n",
    "# 米2794粒、男性0人、女性1人\n",
    "print(\"入力:米2794粒、男性0人、女性1人\")\n",
    "print(\"生活できる日数:{}\".format(compute_how_many_days_can_people_live_test(2794, 0, 1)))\n",
    "print(\"-\"*70)\n",
    "\n",
    "# 米6146粒（男女1人ずつに必要な米）、男性1人、女性1人\n",
    "print(\"入力:米6146粒、男性1人、女性1人\")\n",
    "print(\"生活できる日数:{}\".format(compute_how_many_days_can_people_live_test(6146, 1, 1)))\n"
   ]
  },
  {
   "cell_type": "markdown",
   "metadata": {},
   "source": [
    "テストの結果は問題無いようである。"
   ]
  },
  {
   "cell_type": "markdown",
   "metadata": {},
   "source": [
    "#### 問題の解答"
   ]
  },
  {
   "cell_type": "code",
   "execution_count": 7,
   "metadata": {},
   "outputs": [
    {
     "name": "stdout",
     "output_type": "stream",
     "text": [
      "コースを受講する期間に貰える米粒で、このクラスにいる人数（男性10人、女性2人）であれば、135961034997428561460450536980480日間生活できる。\n",
      "年数に換算すると3.724959862943248e+29年間生活できる。\n"
     ]
    }
   ],
   "source": [
    "print(\"コースを受講する期間に貰える米粒で、このクラスにいる人数（男性10人、女性2人）であれば、{}日間生活できる。\"\n",
    "      .format(compute_how_many_days_can_people_live(grain_total[-1], 10, 2)))\n",
    "print(\"年数に換算すると{}年間生活できる。\"\n",
    "      .format(compute_how_many_days_can_people_live(grain_total[-1], 10, 2)/365))"
   ]
  }
 ],
 "metadata": {
  "kernelspec": {
   "display_name": "Python 3",
   "language": "python",
   "name": "python3"
  },
  "language_info": {
   "codemirror_mode": {
    "name": "ipython",
    "version": 3
   },
   "file_extension": ".py",
   "mimetype": "text/x-python",
   "name": "python",
   "nbconvert_exporter": "python",
   "pygments_lexer": "ipython3",
   "version": "3.7.2"
  }
 },
 "nbformat": 4,
 "nbformat_minor": 2
}
