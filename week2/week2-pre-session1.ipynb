{
 "cells": [
  {
   "cell_type": "markdown",
   "metadata": {},
   "source": [
    "# Week2授業前課題1 小麦とチェス盤問題"
   ]
  },
  {
   "cell_type": "markdown",
   "metadata": {},
   "source": [
    "## 目的\n",
    "・数式演算ライブラリのNumPyに慣れる  \n",
    "・グラフの表示に慣れグラフの表示に慣れる  "
   ]
  },
  {
   "cell_type": "markdown",
   "metadata": {},
   "source": [
    "## 小麦とチェス盤問題\n",
    "曽呂利新左衛門の米の逸話に似たものとして、小麦とチェス盤の話がある。これを題材に多次元配列を扱うための数値計算ライブラリ NumPy の使い方に慣れていく。  \n",
    ">If a chessboard were to have wheat placed upon each square such that one grain were placed on the first square, two on the second, four on the third, and so on (doubling the number of grains on each subsequent square), how many grains of wheat would be on the chessboard at the finish?\n",
    "  \n",
    "8×8マスのチェス盤の上に、小麦の粒を1, 2, 4と順番に置いていくと最終的な小麦の数はどのようになるかという問題である。"
   ]
  },
  {
   "cell_type": "markdown",
   "metadata": {},
   "source": [
    "### 少ないマスで考える\n",
    "まずは4マスの板に小麦の粒を並べていくことを考える。配列（リスト）の1つの要素を1つのマスに見立てていく。  "
   ]
  },
  {
   "cell_type": "code",
   "execution_count": 1,
   "metadata": {},
   "outputs": [
    {
     "name": "stdout",
     "output_type": "stream",
     "text": [
      "4マスの板に小麦を並べる（リスト）：[1, 2, 4, 8]\n",
      "4マスの板に小麦を並べる（ndarray）：[1 2 4 8]\n"
     ]
    }
   ],
   "source": [
    "# サンプルコード\n",
    "n_squares = 4\n",
    "small_board_list = [1]\n",
    "for _ in range(n_squares - 1):\n",
    "    small_board_list.append(2*small_board_list[-1])\n",
    "print(\"4マスの板に小麦を並べる（リスト）：{}\".format(small_board_list))\n",
    "\n",
    "import numpy as np\n",
    "\n",
    "small_board_ndarray = np.array(small_board_list)\n",
    "print(\"4マスの板に小麦を並べる（ndarray）：{}\".format(small_board_ndarray))"
   ]
  },
  {
   "cell_type": "markdown",
   "metadata": {},
   "source": [
    "### 【問題1】2×2マスのチェス盤の小麦の数\n",
    "2×2マスのチェス盤をndarrayによって表現し、各マスの小麦の数を計算する。左上のマスに小麦を1つ置いた後、その右が2つ、左下が4つ、右下が8つという風に進む。\n",
    "サンプルコードで作成したndarrayのshapeの変形を行っていく。"
   ]
  },
  {
   "cell_type": "code",
   "execution_count": 2,
   "metadata": {},
   "outputs": [
    {
     "name": "stdout",
     "output_type": "stream",
     "text": [
      "4マスの板に小麦を並べる（リスト）：[1, 2, 4, 8]\n",
      "4マスの板に小麦を並べる（ndarray）：[1 2 4 8]\n",
      "2×2マスの板に小麦を並べる（ndarray）：[[1 2]\n",
      " [4 8]]\n"
     ]
    }
   ],
   "source": [
    "# coding utf8\n",
    "# \n",
    "# 【問題1】2×2マスのチェス盤の小麦の数\n",
    "\n",
    "import numpy as np\n",
    "\n",
    "n_squares = 4\n",
    "small_board_list = [1]\n",
    "for _ in range(n_squares - 1):\n",
    "    small_board_list.append(2*small_board_list[-1])\n",
    "print(\"4マスの板に小麦を並べる（リスト）：{}\".format(small_board_list))\n",
    "\n",
    "small_board_ndarray = np.array(small_board_list)\n",
    "print(\"4マスの板に小麦を並べる（ndarray）：{}\".format(small_board_ndarray))\n",
    "\n",
    "small_board_ndarray_2_2 = small_board_ndarray.reshape(2, 2)\n",
    "print(\"2×2マスの板に小麦を並べる（ndarray）：{}\".format(small_board_ndarray_2_2))"
   ]
  },
  {
   "cell_type": "markdown",
   "metadata": {},
   "source": [
    "### 8×8マスのチェス盤"
   ]
  },
  {
   "cell_type": "markdown",
   "metadata": {},
   "source": [
    "### 【問題2】n×mマスへの拡張\n",
    "n×mマスのチェス盤の小麦の数を記したndarrayを返す関数を作成する。そして、この関数を使い8×8マスのチェス盤の小麦の数を求める。"
   ]
  },
  {
   "cell_type": "code",
   "execution_count": 3,
   "metadata": {},
   "outputs": [],
   "source": [
    "# 【問題2】n×mマスへの拡張\n",
    "\n",
    "def board_n_m(n, m):\n",
    "    \"\"\"\n",
    "    n×mマスのチェス盤の小麦の数を記したndarrayを返す関数。\n",
    "    \n",
    "    Parameteres\n",
    "    --------------\n",
    "    n: int\n",
    "        チェス盤の行数\n",
    "        \n",
    "     m: int\n",
    "         チェス盤の列数\n",
    "\n",
    "    Returns\n",
    "    --------------\n",
    "    board_ndarray: ndarray\n",
    "        n×mマスのチェス盤の小麦の数を記したndarray\n",
    "    \"\"\"\n",
    "    n_squares = n*m\n",
    "    small_board_list = [1]\n",
    "    for _ in range(n_squares - 1):\n",
    "        small_board_list.append(2*small_board_list[-1])\n",
    "    small_board_ndarray = np.array(small_board_list).astype(np.uint64)\n",
    "    board_ndarray_n_m = small_board_ndarray.reshape(n, m)\n",
    "    return board_ndarray_n_m"
   ]
  },
  {
   "cell_type": "code",
   "execution_count": 4,
   "metadata": {},
   "outputs": [
    {
     "name": "stdout",
     "output_type": "stream",
     "text": [
      "2×2マスの板に小麦を並べる（ndarray）：[[1 2]\n",
      " [4 8]]\n",
      "3×5マスの板に小麦を並べる（ndarray）：[[    1     2     4     8    16]\n",
      " [   32    64   128   256   512]\n",
      " [ 1024  2048  4096  8192 16384]]\n"
     ]
    }
   ],
   "source": [
    "# 検証\n",
    "print(\"2×2マスの板に小麦を並べる（ndarray）：{}\".format(board_n_m(2, 2)))\n",
    "print(\"3×5マスの板に小麦を並べる（ndarray）：{}\".format(board_n_m(3, 5)))"
   ]
  },
  {
   "cell_type": "code",
   "execution_count": 5,
   "metadata": {},
   "outputs": [
    {
     "name": "stdout",
     "output_type": "stream",
     "text": [
      "8×8マスの板に小麦を並べる（ndarray）：[[                  1                   2                   4\n",
      "                    8                  16                  32\n",
      "                   64                 128]\n",
      " [                256                 512                1024\n",
      "                 2048                4096                8192\n",
      "                16384               32768]\n",
      " [              65536              131072              262144\n",
      "               524288             1048576             2097152\n",
      "              4194304             8388608]\n",
      " [           16777216            33554432            67108864\n",
      "            134217728           268435456           536870912\n",
      "           1073741824          2147483648]\n",
      " [         4294967296          8589934592         17179869184\n",
      "          34359738368         68719476736        137438953472\n",
      "         274877906944        549755813888]\n",
      " [      1099511627776       2199023255552       4398046511104\n",
      "        8796093022208      17592186044416      35184372088832\n",
      "       70368744177664     140737488355328]\n",
      " [    281474976710656     562949953421312    1125899906842624\n",
      "     2251799813685248    4503599627370496    9007199254740992\n",
      "    18014398509481984   36028797018963968]\n",
      " [  72057594037927936  144115188075855872  288230376151711744\n",
      "   576460752303423488 1152921504606846976 2305843009213693952\n",
      "  4611686018427387904 9223372036854775808]]\n"
     ]
    }
   ],
   "source": [
    "# 解答\n",
    "print(\"8×8マスの板に小麦を並べる（ndarray）：{}\".format(board_n_m(8, 8)))"
   ]
  },
  {
   "cell_type": "markdown",
   "metadata": {},
   "source": [
    "### 【問題3】小麦の数の合計\n",
    "8×8マスのチェス盤の小麦の数の合計を求める。また、各列の平均を求め、それを棒グラフで可視化する。"
   ]
  },
  {
   "cell_type": "code",
   "execution_count": 6,
   "metadata": {},
   "outputs": [
    {
     "data": {
      "image/png": "[encoded data removed]",
      "text/plain": [
       "<Figure size 432x288 with 1 Axes>"
      ]
     },
     "metadata": {
      "needs_background": "light"
     },
     "output_type": "display_data"
    }
   ],
   "source": [
    "# 棒グラフのサンプルコード\n",
    "import matplotlib.pyplot as plt\n",
    "%matplotlib inline\n",
    "\n",
    "plt.xlabel(\"column\")\n",
    "plt.ylabel(\"number\")\n",
    "plt.title(\"number in each column\")\n",
    "plt.xticks(np.arange(0, 4, 1))  #フィードバック　横軸目盛りの修正\n",
    "plt.bar(np.arange(1,4), np.array([1, 2, 3]))\n",
    "plt.show()"
   ]
  },
  {
   "cell_type": "code",
   "execution_count": 7,
   "metadata": {},
   "outputs": [
    {
     "name": "stdout",
     "output_type": "stream",
     "text": [
      "8×8マスのチェス盤の小麦の数の合計:18446744073709551615\n"
     ]
    },
    {
     "data": {
      "image/png": "[encoded data removed]",
      "text/plain": [
       "<Figure size 432x288 with 1 Axes>"
      ]
     },
     "metadata": {
      "needs_background": "light"
     },
     "output_type": "display_data"
    }
   ],
   "source": [
    "#  【問題3】小麦の数の合計\n",
    "import matplotlib.pyplot as plt\n",
    "%matplotlib inline\n",
    "\n",
    "board_ndarray_8_8 = board_n_m(8, 8)\n",
    "print(\"8×8マスのチェス盤の小麦の数の合計:{}\".format(board_ndarray_8_8.sum()))\n",
    "\n",
    "plt.xlabel(\"column\")\n",
    "plt.ylabel(\"number\")\n",
    "plt.title(\"mean of each column\")\n",
    "plt.bar(np.arange(1,9), board_ndarray_8_8.mean(axis=0))\n",
    "plt.show()"
   ]
  },
  {
   "cell_type": "markdown",
   "metadata": {},
   "source": [
    "#### 検証"
   ]
  },
  {
   "cell_type": "code",
   "execution_count": 8,
   "metadata": {},
   "outputs": [
    {
     "name": "stdout",
     "output_type": "stream",
     "text": [
      "2×3マスの板に小麦を並べる（ndarray）：[[ 1  2  4]\n",
      " [ 8 16 32]]\n",
      "2×3マスのチェス盤の小麦の数の合計:18446744073709551615\n",
      "2×3マスの板に小麦を並べる（ndarray）：[ 4.5  9.  18. ]\n"
     ]
    },
    {
     "data": {
      "image/png": "[encoded data removed]",
      "text/plain": [
       "<Figure size 432x288 with 1 Axes>"
      ]
     },
     "metadata": {
      "needs_background": "light"
     },
     "output_type": "display_data"
    }
   ],
   "source": [
    "# 検証\n",
    "board_ndarray_2_3 = board_n_m(2, 3)\n",
    "print(\"2×3マスの板に小麦を並べる（ndarray）：{}\".format(board_ndarray_2_3))\n",
    "print(\"2×3マスのチェス盤の小麦の数の合計:{}\".format(board_ndarray_8_8.sum()))\n",
    "print(\"2×3マスの板に小麦を並べる（ndarray）：{}\".format(board_ndarray_2_3.mean(axis=0)))\n",
    "plt.xlabel(\"column\")\n",
    "plt.ylabel(\"number\")\n",
    "plt.title(\"mean of each column\")\n",
    "plt.xticks(np.arange(0, 4, 1))  #フィードバック　目盛りの修正\n",
    "plt.bar(np.arange(1,4), board_ndarray_2_3.mean(axis=0))\n",
    "plt.show()"
   ]
  },
  {
   "cell_type": "markdown",
   "metadata": {},
   "source": [
    "問題ないようである。"
   ]
  },
  {
   "cell_type": "markdown",
   "metadata": {},
   "source": [
    "### 【問題4】小麦の数のヒートマップ\n",
    "8×8マスのチェス盤の小麦の数をヒートマップとして可視化する。"
   ]
  },
  {
   "cell_type": "code",
   "execution_count": 9,
   "metadata": {},
   "outputs": [
    {
     "data": {
      "image/png": "[encoded data removed]",
      "text/plain": [
       "<Figure size 432x288 with 1 Axes>"
      ]
     },
     "metadata": {
      "needs_background": "light"
     },
     "output_type": "display_data"
    }
   ],
   "source": [
    "# ヒートマップのサンプルコード\n",
    "plt.xlabel(\"column\")\n",
    "plt.ylabel(\"row\")\n",
    "plt.title(\"heatmap\")\n",
    "plt.pcolor(np.array([0, 1, 3, 5, 7, 9, 11, 13]).reshape(4, 2))\n",
    "plt.show()"
   ]
  },
  {
   "cell_type": "code",
   "execution_count": 10,
   "metadata": {},
   "outputs": [
    {
     "data": {
      "image/png": "[encoded data removed]",
      "text/plain": [
       "<Figure size 432x288 with 1 Axes>"
      ]
     },
     "metadata": {
      "needs_background": "light"
     },
     "output_type": "display_data"
    }
   ],
   "source": [
    "# 【問題4】小麦の数のヒートマップ\n",
    "\n",
    "plt.xlabel(\"column\")\n",
    "plt.ylabel(\"row\")\n",
    "plt.title(\"heatmap\")\n",
    "plt.pcolor(board_ndarray_8_8)\n",
    "plt.show()"
   ]
  },
  {
   "cell_type": "markdown",
   "metadata": {},
   "source": [
    "## チェス盤の後半\n",
    "アメリカの発明家レイ・カーツワイルはこの逸話を引用し、「チェス盤の後半」というフレーズを作った。技術の進歩ははじめの内は社会に対して目立った影響が感じられなくとも、倍に倍にと進んでいくと、チェス盤の後半にさしかかったころから、急激な変化を起こすということを伝えている。"
   ]
  },
  {
   "cell_type": "markdown",
   "metadata": {},
   "source": [
    "### 【問題5】後半は前半の何倍か\n",
    "チェス盤の後半にある小麦の数は前半にある小麦の数の何倍かを求める。前半とは配列の0から3行目、後半は4から7行目である。"
   ]
  },
  {
   "cell_type": "code",
   "execution_count": 11,
   "metadata": {},
   "outputs": [
    {
     "name": "stdout",
     "output_type": "stream",
     "text": [
      "チェス盤の後半にある小麦の数は前半にある小麦の数の何倍か:1099511693311.004倍\n"
     ]
    }
   ],
   "source": [
    "print(\"チェス盤の後半にある小麦の数は前半にある小麦の数の何倍か:{}倍\"\n",
    "      .format(board_ndarray_8_8[3:].sum()/board_ndarray_8_8[:3].sum()))"
   ]
  },
  {
   "cell_type": "markdown",
   "metadata": {},
   "source": [
    "#### 検証"
   ]
  },
  {
   "cell_type": "code",
   "execution_count": 12,
   "metadata": {},
   "outputs": [
    {
     "name": "stdout",
     "output_type": "stream",
     "text": [
      "2×3マスの板に小麦を並べる（ndarray）：[[ 1  2  4]\n",
      " [ 8 16 32]]\n",
      "2×3マスのチェス盤の小麦の数の合計:18446744073709551615\n",
      "2×3マスの板に小麦を並べる（ndarray）：[ 4.5  9.  18. ]\n",
      "前半合計:7\n",
      "後半合計:56\n",
      "チェス盤の後半にある小麦の数は前半にある小麦の数の何倍か:8.0倍\n"
     ]
    }
   ],
   "source": [
    "print(\"2×3マスの板に小麦を並べる（ndarray）：{}\".format(board_ndarray_2_3))\n",
    "print(\"2×3マスのチェス盤の小麦の数の合計:{}\".format(board_ndarray_8_8.sum()))\n",
    "print(\"2×3マスの板に小麦を並べる（ndarray）：{}\".format(board_ndarray_2_3.mean(axis=0)))\n",
    "print(\"前半合計:{}\".format(board_ndarray_2_3[:1].sum()))\n",
    "print(\"後半合計:{}\".format(board_ndarray_2_3[1:].sum()))\n",
    "print(\"チェス盤の後半にある小麦の数は前半にある小麦の数の何倍か:{}倍\"\n",
    "      .format(board_ndarray_2_3[1:].sum()/board_ndarray_2_3[:1].sum()))"
   ]
  },
  {
   "cell_type": "markdown",
   "metadata": {},
   "source": [
    "### 他の計算方法\n",
    "はじめのサンプルコードではPythonのリストとfor文を使っていたが、他の方法も考えられる。\n",
    "ndarrayのnp.append()とfor文を使うと次のように作ることができる。"
   ]
  },
  {
   "cell_type": "code",
   "execution_count": 13,
   "metadata": {},
   "outputs": [
    {
     "name": "stdout",
     "output_type": "stream",
     "text": [
      "4マスの板に小麦を並べる（ndarray）：[1 2 4 8]\n"
     ]
    }
   ],
   "source": [
    "# サンプルコード（np.append()）\n",
    "n_squares = 4\n",
    "small_board_ndarray = np.array([1])\n",
    "for _ in range(n_squares - 1):\n",
    "    small_board_ndarray = np.append(small_board_ndarray, 2*small_board_ndarray[-1])\n",
    "print(\"4マスの板に小麦を並べる（ndarray）：{}\".format(small_board_ndarray))"
   ]
  },
  {
   "cell_type": "markdown",
   "metadata": {},
   "source": [
    "ブロードキャストを活用することで、次のようにも作ることができる。"
   ]
  },
  {
   "cell_type": "code",
   "execution_count": 14,
   "metadata": {},
   "outputs": [
    {
     "name": "stdout",
     "output_type": "stream",
     "text": [
      "4マスの板に小麦を並べる（ndarray）：[1 2 4 8]\n"
     ]
    }
   ],
   "source": [
    "# サンプルコード（ブロードキャスト）\n",
    "n_squares = 4\n",
    "indices_of_squares = np.arange(n_squares)\n",
    "small_board_ndarray = 2**indices_of_squares\n",
    "print(\"4マスの板に小麦を並べる（ndarray）：{}\".format(small_board_ndarray))"
   ]
  },
  {
   "cell_type": "markdown",
   "metadata": {},
   "source": [
    "int64は64ビットの整数型で、-9,223,372,036,854,775,808 ~ 9,223,372,036,854,775,807 の範囲の整数値しか扱えない。  \n",
    "今回は正の値しか利用しないため、 uint64 を使用することで解決する。 0 ~ 18,446,744,073,709,551,615 を扱うことができる。astypeメソッドを使うことで型を変換できるので、累乗の計算前にこれを使いndarrayをuint64型にしておく。"
   ]
  },
  {
   "cell_type": "code",
   "execution_count": 15,
   "metadata": {},
   "outputs": [
    {
     "name": "stdout",
     "output_type": "stream",
     "text": [
      "最後のマスの小麦の数：9223372036854775808\n"
     ]
    }
   ],
   "source": [
    "n_squares = 64\n",
    "indices_of_squares = np.arange(n_squares).astype(np.uint64)\n",
    "board_ndarray = 2**indices_of_squares\n",
    "print(\"最後のマスの小麦の数：{}\".format(board_ndarray[-1])) # 9223372036854775808"
   ]
  },
  {
   "cell_type": "markdown",
   "metadata": {},
   "source": [
    "### 【問題6】他の計算方法によるn×mマスへの拡張\n",
    "問題2と同様の「n×mマスのチェス盤の小麦の数を記したndarrayを返す関数」を、np.append()を使ったものと、ブロードキャストを使ったもので新たに作成する。  \n",
    "それらの関数を使い8×8マスのチェス盤の小麦の数を再び求める。"
   ]
  },
  {
   "cell_type": "code",
   "execution_count": 16,
   "metadata": {},
   "outputs": [],
   "source": [
    "#  【問題6】他の計算方法によるn×mマスへの拡張（np.append()）\n",
    "\n",
    "def board_n_m_ap(n, m):\n",
    "    \"\"\"\n",
    "    n×mマスのチェス盤の小麦の数を記したndarrayを返す関数。np.append()​を使用している。\n",
    "    \n",
    "    Parameteres\n",
    "    --------------\n",
    "    n: int\n",
    "        チェス盤の行数\n",
    "        \n",
    "     m: int\n",
    "         チェス盤の列数\n",
    "\n",
    "    Returns\n",
    "    --------------\n",
    "    board_ndarray: ndarray\n",
    "        n×mマスのチェス盤の小麦の数を記したndarray\n",
    "    \"\"\"\n",
    "    n_squares = n*m\n",
    "    small_board_ndarray = np.array([1]).astype(np.uint64)\n",
    "\n",
    "    for _ in range(n_squares - 1):\n",
    "        # ここでint型の2を掛けるとデータ型がfloat64型に変化してしまうため、ndarrayに変換、さらにuint64型に変換する\n",
    "        small_board_ndarray = np.append(small_board_ndarray, np.array([2]).astype(np.uint64)*small_board_ndarray[-1])\n",
    "    board_ndarray_n_m = small_board_ndarray.reshape(n, m)\n",
    "    return board_ndarray_n_m"
   ]
  },
  {
   "cell_type": "code",
   "execution_count": 17,
   "metadata": {},
   "outputs": [
    {
     "name": "stdout",
     "output_type": "stream",
     "text": [
      "データ型:uint64\n",
      "2×2マスの板に小麦を並べる（ndarray）：[[1 2]\n",
      " [4 8]]\n",
      "3×5マスの板に小麦を並べる（ndarray）：[[    1     2     4     8    16]\n",
      " [   32    64   128   256   512]\n",
      " [ 1024  2048  4096  8192 16384]]\n"
     ]
    }
   ],
   "source": [
    "# 検証\n",
    "print(\"データ型:{}\".format(board_n_m_ap(2, 2).dtype))\n",
    "print(\"2×2マスの板に小麦を並べる（ndarray）：{}\".format(board_n_m_ap(2, 2)))\n",
    "print(\"3×5マスの板に小麦を並べる（ndarray）：{}\".format(board_n_m_ap(3, 5)))"
   ]
  },
  {
   "cell_type": "markdown",
   "metadata": {},
   "source": [
    "データ型がfor文の中でfloat64に変わってしまう。  \n",
    "関数が返す時にデータ型を変換するようにしたが、計算結果に影響がないか確認したい。"
   ]
  },
  {
   "cell_type": "code",
   "execution_count": 18,
   "metadata": {},
   "outputs": [],
   "source": [
    "#  【問題6】他の計算方法によるn×mマスへの拡張（ブロードキャスト）\n",
    "\n",
    "def board_n_m_br(n, m):\n",
    "    \"\"\"\n",
    "    n×mマスのチェス盤の小麦の数を記したndarrayを返す関数。ブロードキャストを使用している。\n",
    "    \n",
    "    Parameteres\n",
    "    --------------\n",
    "    n: int\n",
    "        チェス盤の行数\n",
    "        \n",
    "     m: int\n",
    "         チェス盤の列数\n",
    "\n",
    "    Returns\n",
    "    --------------\n",
    "    board_ndarray: ndarray\n",
    "        n×mマスのチェス盤の小麦の数を記したndarray\n",
    "    \"\"\"\n",
    "    n_squares = n*m\n",
    "    indices_of_squares = np.arange(n_squares).astype(np.uint64)\n",
    "    # 各マスには2**nの小麦が入る\n",
    "    # nはnp.arange()で各マスに振ってある\n",
    "    # よって、各マスに振ってある値を指数に２の累乗計算を行えば小麦の数が求まる\n",
    "    small_board_ndarray = 2**indices_of_squares\n",
    "    board_ndarray_n_m = small_board_ndarray.reshape(n, m)\n",
    "    return board_ndarray_n_m"
   ]
  },
  {
   "cell_type": "code",
   "execution_count": 19,
   "metadata": {},
   "outputs": [
    {
     "name": "stdout",
     "output_type": "stream",
     "text": [
      "uint64\n",
      "2×2マスの板に小麦を並べる（ndarray）：[[1 2]\n",
      " [4 8]]\n",
      "3×5マスの板に小麦を並べる（ndarray）：[[    1     2     4     8    16]\n",
      " [   32    64   128   256   512]\n",
      " [ 1024  2048  4096  8192 16384]]\n"
     ]
    }
   ],
   "source": [
    "# 検証\n",
    "print(board_n_m_br(2, 2).dtype)\n",
    "print(\"2×2マスの板に小麦を並べる（ndarray）：{}\".format(board_n_m_br(2, 2)))\n",
    "print(\"3×5マスの板に小麦を並べる（ndarray）：{}\".format(board_n_m_br(3, 5)))"
   ]
  },
  {
   "cell_type": "markdown",
   "metadata": {},
   "source": [
    "#### 解答"
   ]
  },
  {
   "cell_type": "code",
   "execution_count": 20,
   "metadata": {},
   "outputs": [
    {
     "name": "stdout",
     "output_type": "stream",
     "text": [
      "（append）8×8マスのチェス盤の小麦の数の合計:18446744073709551615\n",
      "（ブロードキャスト）8×8マスのチェス盤の小麦の数の合計:18446744073709551615\n"
     ]
    }
   ],
   "source": [
    "print(\"（append）8×8マスのチェス盤の小麦の数の合計:{}\".format(board_n_m_ap(8, 8).sum()))\n",
    "print(\"（ブロードキャスト）8×8マスのチェス盤の小麦の数の合計:{}\".format(board_n_m_br(8, 8).sum()))"
   ]
  },
  {
   "cell_type": "markdown",
   "metadata": {},
   "source": [
    "### 【問題7】計算時間の比較\n",
    "3種類の方法を見てきました。それぞれの計算時間をJupyter Notebookの%%timeitを用いて計測し、比較と考察を行ってください。  \n",
    "%%timeitはセル内のコードを複数回実行し、その平均実行時間を出力する働きをします。  "
   ]
  },
  {
   "cell_type": "markdown",
   "metadata": {},
   "source": [
    "##### 計算時間:Pythonのリストとfor文"
   ]
  },
  {
   "cell_type": "code",
   "execution_count": null,
   "metadata": {},
   "outputs": [],
   "source": [
    "%%timeit\n",
    "board_n_m(8, 8)"
   ]
  },
  {
   "cell_type": "markdown",
   "metadata": {},
   "source": [
    "#### 計算時間:appendとfor文"
   ]
  },
  {
   "cell_type": "code",
   "execution_count": null,
   "metadata": {},
   "outputs": [],
   "source": [
    "%%timeit\n",
    "board_n_m_ap(8, 8)"
   ]
  },
  {
   "cell_type": "markdown",
   "metadata": {},
   "source": [
    "#### 計算時間:ブロードキャスト"
   ]
  },
  {
   "cell_type": "code",
   "execution_count": null,
   "metadata": {},
   "outputs": [],
   "source": [
    "%%timeit\n",
    "board_n_m_br(8, 8)"
   ]
  },
  {
   "cell_type": "markdown",
   "metadata": {},
   "source": [
    "#### 比較と考察\n",
    "私が計算時間を確認した時は、以下のようであった。  \n",
    "Pythonのリストとfor文:100000 loops, best of 5: 11.5 µs per loop  \n",
    "appendとfor文:1000 loops, best of 5: 324 µs per loop  \n",
    "ブロードキャスト:100000 loops, best of 5: 2.51 µs per loop  \n",
    "\n",
    "ブロードキャストを用いた関数は、Pythonのリストとfor文を用いた関数の4倍程速い。  \n",
    "Pythonのリストとfor文を用いた関数は、appendとfor文を用いた関数の30倍程速い。  \n",
    "ブロードキャストを用いた関数は速く処理できるようである。  \n",
    "appendとfor文を用いた関数は圧倒的に遅いので、出来るだけ避ける。  "
   ]
  },
  {
   "cell_type": "markdown",
   "metadata": {},
   "source": [
    "## 課題提出後フィードバック"
   ]
  },
  {
   "cell_type": "markdown",
   "metadata": {},
   "source": [
    "・棒グラフに関して、横軸目盛りがずれていた。以下のコードで修正した。\n",
    ">plt.xticks(np.arange(0, 4, 1))  \n",
    "plt.bar(np.arange(1,4), np.array([1, 2, 3]))  \n",
    "\n",
    "・ 【問題7】計算時間の比較の考察に関して、分類問題の予測ラベルなどで使用する連番を作成するときなどはブロードキャストを用いる方が無難である。"
   ]
  }
 ],
 "metadata": {
  "kernelspec": {
   "display_name": "Python 3",
   "language": "python",
   "name": "python3"
  },
  "language_info": {
   "codemirror_mode": {
    "name": "ipython",
    "version": 3
   },
   "file_extension": ".py",
   "mimetype": "text/x-python",
   "name": "python",
   "nbconvert_exporter": "python",
   "pygments_lexer": "ipython3",
   "version": "3.7.2"
  }
 },
 "nbformat": 4,
 "nbformat_minor": 2
}
