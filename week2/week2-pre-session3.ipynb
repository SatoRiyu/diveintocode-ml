{
 "cells": [
  {
   "cell_type": "markdown",
   "metadata": {},
   "source": [
    "# Week2授業前課題3 行列積のスクラッチ"
   ]
  },
  {
   "cell_type": "markdown",
   "metadata": {},
   "source": [
    "## 目的\n",
    "・数式演算ライブラリのNumPyに慣れる  \n",
    "・行列演算に慣れる  "
   ]
  },
  {
   "cell_type": "markdown",
   "metadata": {},
   "source": [
    "## 行列積\n",
    "以下のような行列A、Bを考える。  \n",
    "  \n",
    "$$\n",
    "        A =\n",
    "        \\left[\\begin{array}{c}\n",
    "            -1 & 2 & 3 \\\\\n",
    "            4 & -5 & 6 \\\\\n",
    "            7 & 8 & -9 \\\\\n",
    "        \\end{array}\\right] ,\n",
    "         \\quad\n",
    "         B = \n",
    "        \\left[\\begin{array}{c}\n",
    "            0 & 2 & 1 \\\\\n",
    "            0 & 2 & -8 \\\\\n",
    "            2 & 9 & -1 \\\\\n",
    "        \\end{array}\\right] \\quad\n",
    "$$\n",
    "  \n",
    "NumPyで表すと次のようになる。\n",
    "\n",
    ">import numpy as np  \n",
    "a_ndarray = np.array([[-1, 2, 3], [4, -5, 6], [7, 8, -9]])  \n",
    "b_ndarray = np.array([[0, 2, 1], [0, 2, -8], [2, 9, -1]])  "
   ]
  },
  {
   "cell_type": "markdown",
   "metadata": {},
   "source": [
    "### 【問題1】行列積を手計算する\n",
    "AとBの行列積を手計算で解く。\n",
    "計算過程もマークダウンテキストを用いて説明する。"
   ]
  },
  {
   "cell_type": "markdown",
   "metadata": {},
   "source": [
    "$$\n",
    "        AB =\n",
    "        \\left[\\begin{array}{c}\n",
    "            -1*0 + 2*0 + 3*2 & -1*2 + 2*2 + 3*9 & -1*1 + 2*-8 + 3*-1 \\\\\n",
    "            4*0  -5*0 + 6*2 & 4*2  -5*2 + 6*9 & 4*1  -5*-8 +6*-1 \\\\\n",
    "            7*0 + 8*0 + 9*2 & 7*2 + 8*2   -9*9 & 3*1 + 6*-8  -9*-1 \\\\\n",
    "        \\end{array}\\right] \n",
    "          = \n",
    "        \\left[\\begin{array}{c}\n",
    "            6 & 29 & -20 \\\\\n",
    "            14 & 52 & 38 \\\\\n",
    "            -18 & -51 & -48 \\\\\n",
    "        \\end{array}\\right] \\quad\n",
    "$$"
   ]
  },
  {
   "cell_type": "markdown",
   "metadata": {},
   "source": [
    "### 【問題2】NumPyの関数による計算\n",
    "この行列積はNumPyのnp.matmul()やnp.dot()、または@演算子を使うことで簡単に計算出来る。  \n",
    "これらを使い行列積を計算する。  \n",
    "[numpy.matmul — NumPy v1.16 Manual](https://docs.scipy.org/doc/numpy/reference/generated/numpy.matmul.html#numpy.matmul)  \n",
    "[numpy.dot — NumPy v1.16 Manual](https://docs.scipy.org/doc/numpy/reference/generated/numpy.dot.html)  \n",
    "3種類の違い  \n",
    "np.matmul()とnp.dot()は3次元以上の配列で挙動が変わります。@演算子はnp.matmul()と同じ働きをする。  \n",
    "今回のような2次元配列の行列積ではnp.matmul()や@演算子が公式に推奨されている。以下はnp.dot()の説明からの引用である。  \n",
    ">If both a and b are 2-D arrays, it is matrix multiplication, but using matmul or a @ b is preferred."
   ]
  },
  {
   "cell_type": "code",
   "execution_count": 1,
   "metadata": {},
   "outputs": [
    {
     "name": "stdout",
     "output_type": "stream",
     "text": [
      "arry_a:[[-1  2  3]\n",
      " [ 4 -5  6]\n",
      " [ 7  8 -9]]\n",
      "arry_b:[[ 0  2  1]\n",
      " [ 0  2 -8]\n",
      " [ 2  9 -1]]\n"
     ]
    }
   ],
   "source": [
    "import numpy as np\n",
    "arry_a = np.array([[-1, 2, 3], [4, -5, 6], [7, 8, -9]])\n",
    "arry_b = np.array([[0, 2, 1], [0, 2, -8], [2, 9, -1]])\n",
    "print(\"arry_a:{}\".format(arry_a))\n",
    "print(\"arry_b:{}\".format(arry_b))"
   ]
  },
  {
   "cell_type": "code",
   "execution_count": 2,
   "metadata": {},
   "outputs": [
    {
     "name": "stdout",
     "output_type": "stream",
     "text": [
      "arry_a・arry_b = [[  6  29 -20]\n",
      " [ 12  52  38]\n",
      " [-18 -51 -48]]\n"
     ]
    }
   ],
   "source": [
    "print(\"arry_a・arry_b = {}\".format(np.matmul(arry_a, arry_b)))"
   ]
  },
  {
   "cell_type": "markdown",
   "metadata": {},
   "source": [
    "## 行列積のスクラッチ実装\n",
    "np.matmul()やnp.dot()、または@演算子を使わずに、手計算で行った計算過程をNumPyによるスクラッチ実装で再現していく。これにより、行列積の計算に対する理解を深める。ここで考えるのは行列AとBのような次元が2の配列に限定する。"
   ]
  },
  {
   "cell_type": "markdown",
   "metadata": {},
   "source": [
    "### 【問題3】ある要素の計算を実装\n",
    "手計算をする際はまず行列Aの0行目と行列Bの0列目に注目し、以下の計算を行ったかと思います。  \n",
    "・行列Aの(0,0)の要素$ a_{0,0} $と行列Bの(0,0)の要素$ b_{0,0} $を掛け合わせる  \n",
    "・行列Aの(0,1)の要素$ a_{0,1} $と行列Bの(1,0)の要素$ b_{1,0} $を掛け合わせる  \n",
    "・行列Aの(0,2)の要素$ a_{0,2} $と行列Bの(2,0)の要素$ a_{2,0} $を掛け合わせる  \n",
    "それらの値を全て足し合わせる  \n",
    "数式で表すと  \n",
    "$$\n",
    "\\sum_{k=0}^{2}a_{0,k}b_{k,0} \\quad\n",
    "$$\n",
    "です。  \n",
    "この計算をnp.matmul()やnp.dot()、または@演算子を使わずに行うコードを書いてください。  "
   ]
  },
  {
   "cell_type": "code",
   "execution_count": 3,
   "metadata": {},
   "outputs": [
    {
     "name": "stdout",
     "output_type": "stream",
     "text": [
      "計算結果:6\n",
      "matmul関数を用いた場合： 6\n"
     ]
    }
   ],
   "source": [
    "ans = 0\n",
    "ans += arry_a[0][0]*arry_b[0][0]\n",
    "ans += arry_a[0][1]*arry_b[1][0]\n",
    "ans += arry_a[0][2]*arry_b[2][0]\n",
    "print(\"計算結果:{}\".format(ans))\n",
    "print(\"matmul関数を用いた場合： {}\".format(np.matmul(arry_a, arry_b)[0][0]))"
   ]
  },
  {
   "cell_type": "markdown",
   "metadata": {},
   "source": [
    "### 【問題4】行列積を行う関数の作成\n",
    "問題3のコードを拡張し、行列積のスクラッチ実装を完成させる。行列AとBを引数に受け取り、行列積を返す関数とする。  \n",
    "行列積を計算する場合は、問題3の計算を異なる行や列に対して繰り返していくことになる。  \n",
    "計算結果である $ 3 * 3 $の行列Cの各要素$ c_{i,j} $は数式で表すと次のようになる。  \n",
    "  \n",
    "$$\n",
    "c_{i,j} = \\sum_{k=0}^{2}a_{i,k}b_{k,j} \\quad\n",
    "$$\n",
    "  \n",
    "for文を使い、ndarrayのインデックスを動かしていくことで、合計9つの要素が計算できる。インデックス$ i $や$ j $を1増やすと、次の行や列に移ることができる。"
   ]
  },
  {
   "cell_type": "code",
   "execution_count": 4,
   "metadata": {},
   "outputs": [],
   "source": [
    "# 【問題4】行列積を行う関数の作成\n",
    "\n",
    "def calc_dot(arry_a,arry_b):\n",
    "    #import numpy as np  # 関数の中でimportはしない！\n",
    "\n",
    "    # 各行列の行数、列数を格納する\n",
    "    m = arry_a.shape[0]\n",
    "    n = arry_a.shape[1]\n",
    "    p = arry_b.shape[1]\n",
    "    \n",
    "    # 計算結果を格納する行列を初期化する \n",
    "    arry_ans = np.zeros((m, p))\n",
    "    \n",
    "    for i in range(p):\n",
    "        #print(i)\n",
    "        for j in range(m):\n",
    "            temp = 0\n",
    "            for k in range(n):\n",
    "                #print(\"j:{} k: {}\".format(j, k))\n",
    "                #print(\"A:{}\".format(arry_a[j][k]))\n",
    "                #print(\"B:{}\".format(arry_b[k][i]))\n",
    "                #print(\"ab:{}\".format(arry_a[j][k]*arry_b[k][i]))\n",
    "                temp += arry_a[j][k]*arry_b[k][i]\n",
    "                #print(\"ans[i][j]:{}\".format(temp))\n",
    "                #print(\"-\"*70)\n",
    "            arry_ans[j][i] = temp\n",
    "    return arry_ans"
   ]
  },
  {
   "cell_type": "markdown",
   "metadata": {},
   "source": [
    "#### 検証"
   ]
  },
  {
   "cell_type": "code",
   "execution_count": 5,
   "metadata": {},
   "outputs": [
    {
     "name": "stdout",
     "output_type": "stream",
     "text": [
      "[[  6.  29. -20.]\n",
      " [ 12.  52.  38.]\n",
      " [-18. -51. -48.]]\n",
      "(matmul)arry_b・arry_a = [[ 15  -2   3]\n",
      " [-48 -74  84]\n",
      " [ 27 -49  69]]\n",
      "(calc_dot)arry_b・arry_a = [[ 15.  -2.   3.]\n",
      " [-48. -74.  84.]\n",
      " [ 27. -49.  69.]]\n",
      "(matmul)arry_a・arry_a = [[ 30  12 -18]\n",
      " [ 18  81 -72]\n",
      " [-38 -98 150]]\n",
      "(calc_dot)arry_a・arry_a = [[ 30.  12. -18.]\n",
      " [ 18.  81. -72.]\n",
      " [-38. -98. 150.]]\n",
      "(matmul)arry_b・arry_b = [[  2  13 -17]\n",
      " [-16 -68  -8]\n",
      " [ -2  13 -69]]\n",
      "(calc_dot)arry_b・arry_b = [[  2.  13. -17.]\n",
      " [-16. -68.  -8.]\n",
      " [ -2.  13. -69.]]\n",
      "(matmul)arry_b・array_test_c= [[  -6  -24]\n",
      " [-132 -672]\n",
      " [-104 -502]]\n",
      "(calc_dot)arry_b・array_test_c = [[  -6.  -24.]\n",
      " [-132. -672.]\n",
      " [-104. -502.]]\n"
     ]
    }
   ],
   "source": [
    "print(calc_dot(arry_a, arry_b ))\n",
    "array_test_c =np.array([[0, 1], [-10, -48], [14, 72]])\n",
    "print(\"(matmul)arry_b・arry_a = {}\".format(np.matmul(arry_b, arry_a)))\n",
    "print(\"(calc_dot)arry_b・arry_a = {}\".format(calc_dot(arry_b, arry_a)))\n",
    "print(\"(matmul)arry_a・arry_a = {}\".format(np.matmul(arry_a, arry_a)))\n",
    "print(\"(calc_dot)arry_a・arry_a = {}\".format(calc_dot(arry_a, arry_a)))\n",
    "print(\"(matmul)arry_b・arry_b = {}\".format(np.matmul(arry_b, arry_b)))\n",
    "print(\"(calc_dot)arry_b・arry_b = {}\".format(calc_dot(arry_b, arry_b)))\n",
    "print(\"(matmul)arry_b・array_test_c= {}\".format(np.matmul(arry_b, array_test_c)))\n",
    "print(\"(calc_dot)arry_b・array_test_c = {}\".format(calc_dot(arry_b, array_test_c)))"
   ]
  },
  {
   "cell_type": "markdown",
   "metadata": {},
   "source": [
    "matmul関数と同じ結果になるので、問題ないようである。"
   ]
  },
  {
   "cell_type": "markdown",
   "metadata": {},
   "source": [
    "## 行列積が定義されない組み合わせの行列\n",
    "次に以下のような例を考える。\n",
    "$$\n",
    "        D =\n",
    "        \\left[\\begin{array}{c}\n",
    "            -1 & 2 & 3 \\\\\n",
    "            4 & -5 & 6 \\\\\n",
    "        \\end{array}\\right] ,\n",
    "        E = \n",
    "        \\left[\\begin{array}{c}\n",
    "            -9 & 8 & 7 \\\\\n",
    "            6 & -5 & 4 \\\\\n",
    "        \\end{array}\\right] \\quad\n",
    "$$\n",
    "  \n",
    ">d_ndarray = np.array([[-1, 2, 3], [4, -5, 6]])  \n",
    "e_ndarray = np.array([[-9, 8, 7], [6, -5, 4]])  \n",
    "  \n",
    "行列積DEはDの列数とEの行数が等しい場合に定義されているので、この例では計算ができない。"
   ]
  },
  {
   "cell_type": "markdown",
   "metadata": {},
   "source": [
    "### 【問題5】計算が定義されない入力を判定する\n",
    "問題4で作成した関数は、実装方法によってはこのDとEの配列を入力しても動いてしまう可能性がある。この場合、不適切な計算が行われることになります。また、途中でエラーになる場合でも、なぜエラーになったかが直接的には分かりづらいメッセージが表示される。\n",
    "if文などによってこれを防ぎ、入力される形に問題があることをprint()を使い表示するコードを書き加える。"
   ]
  },
  {
   "cell_type": "code",
   "execution_count": 6,
   "metadata": {},
   "outputs": [],
   "source": [
    "# 【問題5】計算が定義されない入力を判定する\n",
    "\n",
    "def calc_dot_fix(arry_a,arry_b):\n",
    "    # import numpy as np  # 関数の中でimportはしない！\n",
    "    #print(\"a\")\n",
    "    #print(arry_a.shape[0])\n",
    "    m = arry_a.shape[0]\n",
    "    n = arry_a.shape[1]\n",
    "    #print(arry_b.shape[1])\n",
    "    p = arry_b.shape[1]\n",
    "    # 行列Aの行数と行列Bの列数が等しくない場合、メッセージを表示する\n",
    "    if arry_a.shape[1] != arry_b.shape[0]:\n",
    "        print(\"行列積が計算できません。入力した行列の行数、列数を確認してください。\")\n",
    "        return\n",
    "    arry_ans = np.zeros((m, p))\n",
    "    #print(arry_ans)\n",
    "    for i in range(p):\n",
    "        #print(i)\n",
    "        for j in range(m):\n",
    "            temp = 0\n",
    "            for k in range(n):\n",
    "                #print(\"j:{} k: {}\".format(j, k))\n",
    "                #print(\"A:{}\".format(arry_a[j][k]))\n",
    "                #print(\"B:{}\".format(arry_b[k][i]))\n",
    "                #print(\"ab:{}\".format(arry_a[j][k]*arry_b[k][i]))\n",
    "                temp += arry_a[j][k]*arry_b[k][i]\n",
    "                #print(\"ans[i][j]:{}\".format(temp))\n",
    "                #print(\"-\"*70)\n",
    "            arry_ans[j][i] = temp\n",
    "    return arry_ans"
   ]
  },
  {
   "cell_type": "code",
   "execution_count": 7,
   "metadata": {},
   "outputs": [
    {
     "name": "stdout",
     "output_type": "stream",
     "text": [
      "行列積が計算できません。入力した行列の行数、列数を確認してください。\n",
      "None\n"
     ]
    }
   ],
   "source": [
    "d_ndarray = np.array([[-1, 2, 3], [4, -5, 6]])\n",
    "e_ndarray = np.array([[-9, 8, 7], [6, -5, 4]])\n",
    "\n",
    "print(calc_dot_fix(d_ndarray, e_ndarray))"
   ]
  },
  {
   "cell_type": "markdown",
   "metadata": {},
   "source": [
    "### 【問題6】転置\n",
    "片方の行列を転置することで、行列積が計算できるようにる。  \n",
    "np.transpose()や.Tアトリビュートを用いて転置し、行列積を計算する。  \n",
    "[numpy.transpose — NumPy v1.16 Manual](https://docs.scipy.org/doc/numpy/reference/generated/numpy.transpose.html)  \n",
    "[numpy.ndarray.T — NumPy v1.16 Manual](https://docs.scipy.org/doc/numpy/reference/generated/numpy.ndarray.T.html)  "
   ]
  },
  {
   "cell_type": "code",
   "execution_count": 8,
   "metadata": {},
   "outputs": [
    {
     "name": "stdout",
     "output_type": "stream",
     "text": [
      "d_ndarray.T・e_ndarray:[[ 33. -28.   9.]\n",
      " [-48.  41.  -6.]\n",
      " [  9.  -6.  45.]]\n"
     ]
    }
   ],
   "source": [
    "print(\"d_ndarray.T・e_ndarray:{}\".format(calc_dot_fix(d_ndarray.T, e_ndarray)))"
   ]
  },
  {
   "cell_type": "markdown",
   "metadata": {},
   "source": [
    "#### 【おまけ】yukitakamoriさんの良いとこどりversion\n",
    "for文がひとつ要らなくなる！さすがyukitakamoriさん！"
   ]
  },
  {
   "cell_type": "code",
   "execution_count": 9,
   "metadata": {},
   "outputs": [],
   "source": [
    "# 【問題4】行列積を行う関数の作成、【問題5】計算が定義されない入力を判定する_t\n",
    "\n",
    "def calc_dot_fix_t(arry_a,arry_b):\n",
    "   # import numpy as np  # 関数の中でimportはしない！\n",
    "\n",
    "    m = arry_a.shape[0]\n",
    "    n = arry_a.shape[1]\n",
    "    #print(arry_b.shape[1])\n",
    "    p = arry_b.shape[1]\n",
    "    # 行列Aの行数と行列Bの列数が等しくない場合、メッセージを表示する\n",
    "    if arry_a.shape[1] != arry_b.shape[0]:\n",
    "        print(\"行列積が計算できません。入力した行列の行数、列数を確認してください。\")\n",
    "        return\n",
    "    arry_ans = np.zeros((m, p))\n",
    "    for i in range(p):\n",
    "        for j in range(m):\n",
    "            # ここでfor文でループせず、行と列を掛けて、sumで合計する\n",
    "            #print(arry_a[j]*arry_b[:, i])\n",
    "            arry_ans[j][i] = sum(arry_a[j]*arry_b[:, i])\n",
    "    return arry_ans"
   ]
  },
  {
   "cell_type": "code",
   "execution_count": 10,
   "metadata": {},
   "outputs": [
    {
     "name": "stdout",
     "output_type": "stream",
     "text": [
      "[[  6.  29. -20.]\n",
      " [ 12.  52.  38.]\n",
      " [-18. -51. -48.]]\n",
      "(matmul)arry_b・arry_a = [[ 15  -2   3]\n",
      " [-48 -74  84]\n",
      " [ 27 -49  69]]\n",
      "(calc_dot_fix_t)arry_b・arry_a = [[ 15.  -2.   3.]\n",
      " [-48. -74.  84.]\n",
      " [ 27. -49.  69.]]\n",
      "(matmul)arry_a・arry_a = [[ 30  12 -18]\n",
      " [ 18  81 -72]\n",
      " [-38 -98 150]]\n",
      "(calc_dot_fix_t)arry_a・arry_a = [[ 30.  12. -18.]\n",
      " [ 18.  81. -72.]\n",
      " [-38. -98. 150.]]\n",
      "(matmul)arry_b・arry_b = [[  2  13 -17]\n",
      " [-16 -68  -8]\n",
      " [ -2  13 -69]]\n",
      "(calc_dot_fix_t)arry_b・arry_b = [[  2.  13. -17.]\n",
      " [-16. -68.  -8.]\n",
      " [ -2.  13. -69.]]\n",
      "(matmul)arry_b・array_test_c= [[  -6  -24]\n",
      " [-132 -672]\n",
      " [-104 -502]]\n",
      "(calc_dot_fix_t)arry_b・array_test_c = [[  -6.  -24.]\n",
      " [-132. -672.]\n",
      " [-104. -502.]]\n"
     ]
    }
   ],
   "source": [
    "print(calc_dot_fix_t(arry_a, arry_b ))\n",
    "array_test_c =np.array([[0, 1], [-10, -48], [14, 72]])\n",
    "print(\"(matmul)arry_b・arry_a = {}\".format(np.matmul(arry_b, arry_a)))\n",
    "print(\"(calc_dot_fix_t)arry_b・arry_a = {}\".format(calc_dot_fix_t(arry_b, arry_a)))\n",
    "print(\"(matmul)arry_a・arry_a = {}\".format(np.matmul(arry_a, arry_a)))\n",
    "print(\"(calc_dot_fix_t)arry_a・arry_a = {}\".format(calc_dot_fix_t(arry_a, arry_a)))\n",
    "print(\"(matmul)arry_b・arry_b = {}\".format(np.matmul(arry_b, arry_b)))\n",
    "print(\"(calc_dot_fix_t)arry_b・arry_b = {}\".format(calc_dot_fix_t(arry_b, arry_b)))\n",
    "print(\"(matmul)arry_b・array_test_c= {}\".format(np.matmul(arry_b, array_test_c)))\n",
    "print(\"(calc_dot_fix_t)arry_b・array_test_c = {}\".format(calc_dot_fix_t(arry_b, array_test_c)))"
   ]
  },
  {
   "cell_type": "code",
   "execution_count": 11,
   "metadata": {},
   "outputs": [
    {
     "name": "stdout",
     "output_type": "stream",
     "text": [
      "行列積が計算できません。入力した行列の行数、列数を確認してください。\n",
      "None\n"
     ]
    }
   ],
   "source": [
    "d_ndarray = np.array([[-1, 2, 3], [4, -5, 6]])\n",
    "e_ndarray = np.array([[-9, 8, 7], [6, -5, 4]])\n",
    "\n",
    "print(calc_dot_fix_t(d_ndarray, e_ndarray))"
   ]
  },
  {
   "cell_type": "code",
   "execution_count": 12,
   "metadata": {},
   "outputs": [
    {
     "name": "stdout",
     "output_type": "stream",
     "text": [
      "d_ndarray.T・e_ndarray:[[ 33. -28.   9.]\n",
      " [-48.  41.  -6.]\n",
      " [  9.  -6.  45.]]\n"
     ]
    }
   ],
   "source": [
    "print(\"d_ndarray.T・e_ndarray:{}\".format(calc_dot_fix_t(d_ndarray.T, e_ndarray)))"
   ]
  }
 ],
 "metadata": {
  "kernelspec": {
   "display_name": "Python 3",
   "language": "python",
   "name": "python3"
  },
  "language_info": {
   "codemirror_mode": {
    "name": "ipython",
    "version": 3
   },
   "file_extension": ".py",
   "mimetype": "text/x-python",
   "name": "python",
   "nbconvert_exporter": "python",
   "pygments_lexer": "ipython3",
   "version": "3.7.2"
  }
 },
 "nbformat": 4,
 "nbformat_minor": 2
}
