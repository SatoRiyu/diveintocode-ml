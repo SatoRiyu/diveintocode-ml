{
 "cells": [
  {
   "cell_type": "markdown",
   "metadata": {},
   "source": [
    "# Sprint 機械学習スクラッチ SVM"
   ]
  },
  {
   "cell_type": "markdown",
   "metadata": {},
   "source": []
  },
  {
   "cell_type": "markdown",
   "metadata": {},
   "source": [
    "## 目的\n",
    "・スクラッチを通してSVMを理解する  \n",
    "・線形モデルと異なる手法に触れる"
   ]
  },
  {
   "cell_type": "markdown",
   "metadata": {},
   "source": [
    "## SVMスクラッチ\n",
    "\n",
    "分類のためのサポートベクターマシン（SVM、サポートベクトルマシン）のクラスをスクラッチで作成していきます。NumPyなど最低限のライブラリのみを使いアルゴリズムを実装していきます。  \n",
    "SVMには学習時に分類の間違いを認めるソフトマージンSVMと、認めないハードマージンSVMがありますが、ここでは実装が単純なハードマージンSVMを扱います。  \n",
    "以下に雛形を用意してあります。このScratchSVMClassifierクラスにコードを書き加えていってください。  "
   ]
  },
  {
   "cell_type": "code",
   "execution_count": 1,
   "metadata": {
    "ExecuteTime": {
     "end_time": "2019-10-19T10:26:14.155609Z",
     "start_time": "2019-10-19T10:26:13.218259Z"
    }
   },
   "outputs": [],
   "source": [
    "from sklearn import metrics\n",
    "from sklearn.preprocessing import StandardScaler\n",
    "from sklearn.model_selection import train_test_split\n",
    "from sklearn.svm import SVC\n",
    "import numpy as np\n",
    "import matplotlib.pyplot as plt\n",
    "%matplotlib inline\n",
    "from matplotlib.colors import ListedColormap\n",
    "import matplotlib.patches as mpatches"
   ]
  },
  {
   "cell_type": "code",
   "execution_count": 29,
   "metadata": {
    "ExecuteTime": {
     "end_time": "2019-10-19T10:43:30.549357Z",
     "start_time": "2019-10-19T10:43:30.532848Z"
    }
   },
   "outputs": [],
   "source": [
    "class ScratchSVMClassifier():\n",
    "    \"\"\"\n",
    "    SVM分類器のスクラッチ実装\n",
    "\n",
    "    Parameters\n",
    "    ----------\n",
    "    num_iter : int\n",
    "      イテレーション数\n",
    "    lr : float\n",
    "      学習率\n",
    "    kernel : str\n",
    "      カーネルの種類。線形カーネル（linear）か多項式カーネル（polly）\n",
    "    threshold : float\n",
    "      サポートベクターを選ぶための閾値\n",
    "    verbose : bool\n",
    "      学習過程を出力する場合はTrue\n",
    "\n",
    "    Attributes\n",
    "    ----------\n",
    "    self.n_support_vectors : int\n",
    "      サポートベクターの数\n",
    "    self.index_support_vectors : 次の形のndarray, shape (n_support_vectors,)\n",
    "      サポートベクターのインデックス\n",
    "    self.X_sv :  次の形のndarray, shape(n_support_vectors, n_features)\n",
    "      サポートベクターの特徴量\n",
    "    self.lam_sv :  次の形のndarray, shape(n_support_vectors, 1)\n",
    "      サポートベクターの未定乗数\n",
    "    self.y_sv :  次の形のndarray, shape(n_support_vectors, 1)\n",
    "      サポートベクターのラベル\n",
    "\n",
    "    \"\"\"\n",
    "\n",
    "    def __init__(self, num_iter, lr, kernel='linear', threshold=1e-5, verbose=False):\n",
    "        # ハイパーパラメータを属性として記録\n",
    "        self.iter = num_iter\n",
    "        self.lr = lr\n",
    "        self.kernel = kernel\n",
    "        self.threshold = threshold\n",
    "        self.verbose = verbose\n",
    "        # サポートベクターの数を記録する配列を用意\n",
    "        self.num_support_vector = np.zeros(self.iter)\n",
    "\n",
    "        self.support_vector_index = None\n",
    "        self.support_vector_X = None\n",
    "        self.support_vector_y = None\n",
    "\n",
    "    def fit(self, X, y, X_val=None, y_val=None):\n",
    "        \"\"\"\n",
    "        SVM分類器を学習する。検証用データが入力された場合はそれに対する精度もイテレーションごとに計算する。\n",
    "\n",
    "        Parameters\n",
    "        ----------\n",
    "        X : 次の形のndarray, shape (n_samples, n_features)\n",
    "            学習用データの特徴量\n",
    "        y : 次の形のndarray, shape (n_samples, )\n",
    "            学習用データの正解値\n",
    "        X_val : 次の形のndarray, shape (n_samples, n_features)\n",
    "            検証用データの特徴量\n",
    "        y_val : 次の形のndarray, shape (n_samples, )\n",
    "            検証用データの正解値\n",
    "        \"\"\"\n",
    "        # λの初期値は幾つが良いのか？\n",
    "        self.lambda_lag = np.zeros(X.shape[0])\n",
    "\n",
    "        for i in range(self.iter):\n",
    "            self._gradient_descent(X, y)\n",
    "\n",
    "            # サポートベクターの決定\n",
    "            self._determine_support_vector(X)\n",
    "            # サポートベクターの数を記録\n",
    "            self.num_support_vector[i] = self.support_vector_index.shape[0]\n",
    "\n",
    "            if self.verbose:\n",
    "                # verboseをTrueにした際は学習過程を出力\n",
    "                print(\"iter:\", i)\n",
    "                print(\"lambda_lag\", self.lambda_lag)\n",
    "                print('num_support_vector', self.num_support_vector[i])\n",
    "\n",
    "    # 【問題1】ラグランジュの未定乗数法による最急降下\n",
    "\n",
    "    def _gradient_descent(self, X, y):\n",
    "        \"\"\"\n",
    "        ラグランジュの未定乗数法による最急降下より学習させる。\n",
    "        あるサンプルに対しての全てのサンプルとの関係を計算していく。\n",
    "\n",
    "        Parameters\n",
    "        ----------\n",
    "        X : 次の形のndarray, shape (n_samples, n_features)\n",
    "        学習データ\n",
    "\n",
    "        y : 次の形のndarray, shape (n_samples, )\n",
    "            学習用データの正解値\n",
    "\n",
    "        Returns\n",
    "        -------\n",
    "        なし\n",
    "        \"\"\"\n",
    "\n",
    "        # 更新前のパラメータを保存\n",
    "        lambda_before = self.lambda_lag.copy()\n",
    "\n",
    "        # サンプルごとに計算\n",
    "        for i in range(X.shape[0]):\n",
    "            delta_temp = 0  # deltaの初期化\n",
    "            # 他サンプルに対する計算\n",
    "            for j in range(X.shape[0]):\n",
    "                delta_temp += lambda_before[j] * y[i] * \\\n",
    "                    y[j] * self._liner_kernel(X[i], X[j])\n",
    "            self.lambda_lag[i] = lambda_before[i] + self.lr * (1 - delta_temp)\n",
    "        # 条件として、更新毎に λi>=0を満たす必要があります。満たさない場合は λi=0とします。\n",
    "        self.lambda_lag = self.lambda_lag.clip(min=0)\n",
    "\n",
    "    def _liner_kernel(self, x_i, x_j):\n",
    "        \"\"\"\n",
    "        線形カーネル\n",
    "\n",
    "        Parameters\n",
    "        ----------\n",
    "        x_i : i番目のサンプルの特徴量ベクトル\n",
    "        学習データ\n",
    "\n",
    "        x_j : j番目のサンプルの特徴量ベクトル\n",
    "        学習データ\n",
    "\n",
    "        Returns\n",
    "        -------\n",
    "        引数のドット積\n",
    "        \"\"\"\n",
    "        return np.dot(x_i, x_j.T)  # x_i.T@x_j\n",
    "\n",
    "    def _determine_support_vector(self, X):\n",
    "        \"\"\"\n",
    "        計算したラグランジュ乗数λが設定した閾値より大きいサンプルをサポートベクターとして扱います。\n",
    "\n",
    "        Parameters\n",
    "        ----------\n",
    "        X : サンプルの特徴量ベクトル\n",
    "\n",
    "        Returns\n",
    "        -------\n",
    "        なし\n",
    "        \"\"\"\n",
    "        self.support_vector_index = np.where(\n",
    "            self.lambda_lag > self.threshold)[0]\n",
    "        # サポートベクトルの特徴量\n",
    "        self.support_vector_X = X[self.support_vector_index]\n",
    "        # サポートベクトルのラベル\n",
    "        self.support_vector_y = y[self.support_vector_index]\n",
    "\n",
    "    def predict(self, X):\n",
    "        \"\"\"\n",
    "        SVM分類器を使いラベルを推定する。\n",
    "\n",
    "        Parameters\n",
    "        ----------\n",
    "        X : 次の形のndarray, shape (n_samples, n_features)\n",
    "            サンプル\n",
    "\n",
    "        Returns\n",
    "        -------\n",
    "            次の形のndarray, shape (n_samples, 1)\n",
    "            SVM分類器による推定結果\n",
    "        \"\"\"\n",
    "\n",
    "        result = np.zeros(X.shape[0])\n",
    "        for i in range(X.shape[0]):\n",
    "            result_temp = 0\n",
    "            for n in range(len(self.support_vector_X)):\n",
    "                result_temp += self.lambda_lag[self.support_vector_index[n]] * \\\n",
    "                    self.support_vector_y[n] * \\\n",
    "                    self._liner_kernel(X[i], self.support_vector_X[n])\n",
    "            if result_temp >= 0:\n",
    "                result[i] = 1\n",
    "            else:\n",
    "                result[i] = -1\n",
    "        return result"
   ]
  },
  {
   "cell_type": "markdown",
   "metadata": {},
   "source": [
    "### 【問題1】ラグランジュの未定乗数法による最急降下\n",
    "SVMの学習は、ラグランジュの未定乗数法を用います。サンプル数分のラグランジュ乗数 \n",
    "λ\n",
    " を用意して、以下の式により更新していきます。この計算を行うメソッドをScratchSVMClassifierクラスに実装してください。\n",
    "λ\n",
    "n\n",
    "e\n",
    "w\n",
    "i\n",
    "=\n",
    "λ\n",
    "i\n",
    "+\n",
    "α\n",
    "(\n",
    "1\n",
    "−\n",
    "n\n",
    "∑\n",
    "j\n",
    "=\n",
    "1\n",
    " \n",
    "λ\n",
    "j\n",
    "y\n",
    "i\n",
    "y\n",
    "j\n",
    "k\n",
    "(\n",
    "x\n",
    "i\n",
    ",\n",
    "x\n",
    "j\n",
    ")\n",
    ")\n",
    "ここで \n",
    "k\n",
    "(\n",
    "x\n",
    "i\n",
    ",\n",
    "x\n",
    "j\n",
    ")\n",
    " はカーネル関数です。線形カーネルの場合は次のようになります。他のカーネル関数にも対応できるように、この部分は独立したメソッドとしておきましょう。\n",
    "k\n",
    "(\n",
    "x\n",
    "i\n",
    ",\n",
    "x\n",
    "j\n",
    ")\n",
    "=\n",
    "x\n",
    "T\n",
    "i\n",
    "x\n",
    "j\n",
    "条件として、更新毎に \n",
    "λ\n",
    "i\n",
    "\\>=\n",
    "0\n",
    "を満たす必要があります。満たさない場合は \n",
    "λ\n",
    "i\n",
    "=\n",
    "0\n",
    "とします。\n",
    "i\n",
    ",\n",
    "j\n",
    " : サンプルのインデックス\n",
    "λ\n",
    "n\n",
    "e\n",
    "w\n",
    "i\n",
    " : 更新後のi番目のサンプルのラグランジュ乗数\n",
    "λ\n",
    "i\n",
    " : 更新前のi番目のサンプルのラグランジュ乗数\n",
    "α\n",
    " : 学習率\n",
    "λ\n",
    "j\n",
    " : j番目のサンプルのラグランジュ乗数\n",
    "y\n",
    "i\n",
    " : i番目のサンプルのラベル\n",
    "y\n",
    "j\n",
    " : j番目のサンプルのラベル\n",
    "x\n",
    "i\n",
    " : i番目のサンプルの特徴量ベクトル\n",
    "x\n",
    "j\n",
    " : j番目のサンプルの特徴量ベクトル\n",
    "あるサンプルに対しての全てのサンプルとの関係を計算していくことになります。"
   ]
  },
  {
   "cell_type": "markdown",
   "metadata": {},
   "source": [
    "## 【問題2】サポートベクターの決定\n",
    "計算したラグランジュ乗数 \n",
    "λ\n",
    " が設定した閾値より大きいサンプルをサポートベクターとして扱います。推定時にサポートベクターが必要になります。サポートベクターを決定し、インスタンス変数として保持しておくコードを書いてください。  \n",
    "閾値はハイパーパラメータですが、1e-5程度からはじめると良いでしょう。サポートベクターの数を出力させられるようにしておくと学習がうまく行えているかを確認できます。  "
   ]
  },
  {
   "cell_type": "markdown",
   "metadata": {},
   "source": [
    "### 【問題3】推定\n",
    "推定時には、推定したいデータの特徴量とサポートベクターの特徴量をカーネル関数によって計算します。求めた \n",
    "f\n",
    "(\n",
    "x\n",
    ")\n",
    " の符号が分類結果です。\n",
    " f\n",
    "(\n",
    "x\n",
    ")\n",
    "=\n",
    "N\n",
    "∑\n",
    "n\n",
    "=\n",
    "1\n",
    " \n",
    "λ\n",
    "n\n",
    "y\n",
    "s\n",
    "v\n",
    "_\n",
    "n\n",
    "k\n",
    "(\n",
    "x\n",
    ",\n",
    "s\n",
    "n\n",
    ")\n",
    "x\n",
    " : 推定したいデータの特徴量ベクトル\n",
    "N\n",
    " : サポートベクターの数\n",
    "n\n",
    " : サポートベクターのインデックス\n",
    "λ\n",
    "n\n",
    " : \n",
    "n\n",
    "番目のサポートベクターのラグランジュ乗数\n",
    "y\n",
    "s\n",
    "v\n",
    "n\n",
    " : \n",
    "n\n",
    "番目のサポートベクターのラベル\n",
    "k\n",
    "(\n",
    ")\n",
    " : カーネル関数\n",
    "s\n",
    "n\n",
    " : \n",
    "n\n",
    "番目のサポートベクターの特徴量"
   ]
  },
  {
   "cell_type": "markdown",
   "metadata": {},
   "source": [
    "### 【問題4】学習と推定\n",
    "機械学習スクラッチ入門のSprintで用意したシンプルデータセット1の2値分類に対してスクラッチ実装の学習と推定を行なってください。  \n",
    "scikit-learnによる実装と比べ、正しく動いているかを確認してください。  \n",
    "AccuracyやPrecision、Recallなどの指標値はscikit-learnを使用してください。  "
   ]
  },
  {
   "cell_type": "code",
   "execution_count": 24,
   "metadata": {
    "ExecuteTime": {
     "end_time": "2019-10-19T10:41:27.603978Z",
     "start_time": "2019-10-19T10:41:27.596386Z"
    }
   },
   "outputs": [],
   "source": [
    "import numpy as np\n",
    "\n",
    "np.random.seed(seed=0)\n",
    "n_samples = 500\n",
    "f0 = [-1, 2]\n",
    "f1 = [2, -1]\n",
    "cov = [[1.0,0.8], [0.8, 1.0]]\n",
    "\n",
    "f0 = np.random.multivariate_normal(f0, cov, int(n_samples/2))\n",
    "f1 = np.random.multivariate_normal(f1, cov, int(n_samples/2))\n",
    "\n",
    "X = np.concatenate((f0, f1))\n",
    "y = np.concatenate((np.ones((int(n_samples/2))), np.ones((int(n_samples/2))) *(-1))).astype(np.int)\n",
    "\n",
    "random_index = np.random.permutation(np.arange(n_samples))\n",
    "X = X[random_index]\n",
    "y = y[random_index]"
   ]
  },
  {
   "cell_type": "code",
   "execution_count": 25,
   "metadata": {
    "ExecuteTime": {
     "end_time": "2019-10-19T10:41:28.110626Z",
     "start_time": "2019-10-19T10:41:28.106990Z"
    }
   },
   "outputs": [],
   "source": [
    "def MSE(y_pred, y):\n",
    "    \"\"\"\n",
    "    平均二乗誤差の計算\n",
    "\n",
    "    Parameters\n",
    "    ----------\n",
    "    y_pred : 次の形のndarray, shape (n_samples,)\n",
    "      推定した値\n",
    "    y : 次の形のndarray, shape (n_samples,)\n",
    "      正解値\n",
    "\n",
    "    Returns\n",
    "    ----------\n",
    "    mse : numpy.float\n",
    "      平均二乗誤差\n",
    "    \"\"\"\n",
    "    mse = (1 / len(y)) * np.sum((y - y_pred) ** 2)\n",
    "    return mse"
   ]
  },
  {
   "cell_type": "code",
   "execution_count": 26,
   "metadata": {
    "ExecuteTime": {
     "end_time": "2019-10-19T10:41:28.481461Z",
     "start_time": "2019-10-19T10:41:28.477358Z"
    }
   },
   "outputs": [],
   "source": [
    "def evaluate(y_true, y_pred):\n",
    "    \"\"\"\n",
    "    2値分類の評価指標を計算する\n",
    "    \"\"\"\n",
    "    acc = metrics.accuracy_score(y_test, y_pred)\n",
    "    precision = metrics.precision_score(y_test, y_pred)\n",
    "    recall = metrics.recall_score(y_test, y_pred)\n",
    "    f1 = metrics.f1_score(y_test, y_pred)\n",
    "    confusion = metrics.confusion_matrix(y_test, y_pred)\n",
    "    return acc, precision, recall, f1, confusion"
   ]
  },
  {
   "cell_type": "code",
   "execution_count": 34,
   "metadata": {
    "ExecuteTime": {
     "end_time": "2019-10-19T10:49:53.449073Z",
     "start_time": "2019-10-19T10:49:50.948902Z"
    },
    "scrolled": true
   },
   "outputs": [
    {
     "name": "stdout",
     "output_type": "stream",
     "text": [
      "X_train.shape : (350, 2), X_test.shape : (150, 2)\n",
      "MSE : 0.0\n",
      "acc : 1.0\n",
      "precision : 1.0\n",
      "recall : 1.0\n",
      "f1 : 1.0\n",
      "confusion matrix \n",
      " [[76  0]\n",
      " [ 0 74]]\n"
     ]
    }
   ],
   "source": [
    "X_train, X_test, y_train, y_test = train_test_split(X, y, test_size=0.3) #test_size=0.25, random_state=42)\n",
    "\n",
    "print(\"X_train.shape : {}, X_test.shape : {}\".format(X_train.shape, X_test.shape))\n",
    "\n",
    "scaler = StandardScaler()\n",
    "\n",
    "scaler.fit(X_train)\n",
    "\n",
    "# 標準化\n",
    "#X_train_transformed = scaler.transform(X_train)\n",
    "#X_test_transformed = scaler.transform(X_test)\n",
    "\n",
    "X_train_transformed = X_train\n",
    "X_test_transformed = X_test\n",
    "\n",
    "scratch_svm= ScratchSVMClassifier(10, 0.001, threshold=1e-5)\n",
    "scratch_svm.fit(X_train_transformed, y_train)\n",
    "\n",
    "y_pred = scratch_svm.predict(X_test_transformed)\n",
    "\n",
    "print(\"MSE : {}\".format(MSE(y_test, y_pred)))\n",
    "\n",
    "print(\"acc : {}\\nprecision : {}\\nrecall : {}\\nf1 : {}\\nconfusion matrix \\n {}\".format(*evaluate(y_test, y_pred)))"
   ]
  },
  {
   "cell_type": "markdown",
   "metadata": {},
   "source": [
    "### sklearnで比較"
   ]
  },
  {
   "cell_type": "code",
   "execution_count": 35,
   "metadata": {
    "ExecuteTime": {
     "end_time": "2019-10-19T10:49:57.296445Z",
     "start_time": "2019-10-19T10:49:57.291743Z"
    }
   },
   "outputs": [],
   "source": [
    "# 線形SVMのインスタンスを生成\n",
    "model = SVC(kernel='linear', random_state=None)\n",
    "\n",
    "# モデルの学習。fit関数で行う。\n",
    "model.fit(X_train_transformed, y_train)\n",
    "y_pred_skl = model.predict(X_test_transformed)"
   ]
  },
  {
   "cell_type": "code",
   "execution_count": 36,
   "metadata": {
    "ExecuteTime": {
     "end_time": "2019-10-19T10:50:00.514989Z",
     "start_time": "2019-10-19T10:50:00.506758Z"
    }
   },
   "outputs": [
    {
     "name": "stdout",
     "output_type": "stream",
     "text": [
      "acc : 1.0\n",
      "precision : 1.0\n",
      "recall : 1.0\n",
      "f1 : 1.0\n",
      "confusion matrix \n",
      " [[76  0]\n",
      " [ 0 74]]\n"
     ]
    }
   ],
   "source": [
    "print(\"acc : {}\\nprecision : {}\\nrecall : {}\\nf1 : {}\\nconfusion matrix \\n {}\".format(*evaluate(y_test, y_pred_skl )))"
   ]
  },
  {
   "cell_type": "markdown",
   "metadata": {},
   "source": [
    "### 【問題5】決定領域の可視化\n",
    "決定領域を可視化してください。  \n",
    "以下の例のようにサポートベクターは異なる色で示してください。  "
   ]
  },
  {
   "cell_type": "code",
   "execution_count": 39,
   "metadata": {
    "ExecuteTime": {
     "end_time": "2019-10-19T11:00:50.672894Z",
     "start_time": "2019-10-19T11:00:50.661570Z"
    }
   },
   "outputs": [],
   "source": [
    "def decision_region(X, y, model, step=0.01, title='decision region', xlabel='xlabel', ylabel='ylabel', target_names=['1', '-1']):\n",
    "    \"\"\"\n",
    "    2値分類を2次元の特徴量で学習したモデルの決定領域を描く。\n",
    "    背景の色が学習したモデルによる推定値から描画される。\n",
    "    散布図の点は訓練データまたは検証データである。\n",
    "\n",
    "    Parameters\n",
    "    ----------------\n",
    "    X : ndarray, shape(n_samples, 2)\n",
    "        特徴量\n",
    "    y : ndarray, shape(n_samples,)\n",
    "        ラベル\n",
    "    model : object\n",
    "        学習したモデルのインスンタスを入れる\n",
    "    step : float, (default : 0.1)\n",
    "        推定値を計算する間隔を設定する\n",
    "    title : str\n",
    "        グラフのタイトルの文章を与える\n",
    "    xlabel, ylabel : str\n",
    "        軸ラベルの文章を与える\n",
    "    target_names= : list of str\n",
    "        凡例の一覧を与える\n",
    "    \"\"\"\n",
    "    # setting\n",
    "    scatter_color = ['red', 'blue']\n",
    "    contourf_color = ['pink', 'skyblue']\n",
    "    n_class = 2\n",
    "\n",
    "    # pred\n",
    "    mesh_f0, mesh_f1  = np.meshgrid(np.arange(np.min(X[:,0])-0.5, np.max(X[:,0])+0.5, step), np.arange(np.min(X[:,1])-0.5, np.max(X[:,1])+0.5, step))\n",
    "    mesh = np.c_[np.ravel(mesh_f0),np.ravel(mesh_f1)]\n",
    "    y_pred = model.predict(mesh).reshape(mesh_f0.shape)\n",
    "\n",
    "    # plot\n",
    "    plt.title(title)\n",
    "    plt.xlabel(xlabel)\n",
    "    plt.ylabel(ylabel)\n",
    "    plt.contourf(mesh_f0, mesh_f1, y_pred, n_class-1, cmap=ListedColormap(contourf_color))\n",
    "    plt.contour(mesh_f0, mesh_f1, y_pred, n_class-1, colors='y', linewidths=3, alpha=0.5)\n",
    "    for i, target in enumerate(set(y)):\n",
    "        plt.scatter(X[y==target][:, 0], X[y==target][:, 1], s=80, color=scatter_color[i], label=target_names[i], marker='o')\n",
    "    #サポートベクターは黄色にする\n",
    "    plt.scatter(model.support_vector_X[:, 0], model.support_vector_X[:, 1], s=80, color='yellow', label='support vector', marker='o')\n",
    "    patches = [mpatches.Patch(color=scatter_color[i], label=target_names[i]) for i in range(n_class)]\n",
    "    plt.legend(handles=patches)\n",
    "    plt.legend()\n",
    "    plt.show()"
   ]
  },
  {
   "cell_type": "code",
   "execution_count": 40,
   "metadata": {
    "ExecuteTime": {
     "end_time": "2019-10-19T11:11:47.322833Z",
     "start_time": "2019-10-19T11:00:55.880363Z"
    }
   },
   "outputs": [
    {
     "data": {
      "image/png": "[encoded data removed]",
      "text/plain": [
       "<Figure size 432x288 with 1 Axes>"
      ]
     },
     "metadata": {
      "needs_background": "light"
     },
     "output_type": "display_data"
    },
    {
     "data": {
      "image/png": "[encoded data removed]",
      "text/plain": [
       "<Figure size 432x288 with 1 Axes>"
      ]
     },
     "metadata": {
      "needs_background": "light"
     },
     "output_type": "display_data"
    }
   ],
   "source": [
    "model = scratch_svm\n",
    "model_name = \"scratch_svm\"\n",
    "decision_region(X_train_transformed, y_train, model, title=\"decision region' {}, {}\".format(model_name, \"train\"))\n",
    "decision_region(X_test_transformed, y_test, model, title=\"decision region' {}, {}\".format(model_name, \"test\"))"
   ]
  },
  {
   "cell_type": "markdown",
   "metadata": {},
   "source": [
    "サポートベクター"
   ]
  },
  {
   "cell_type": "code",
   "execution_count": null,
   "metadata": {},
   "outputs": [],
   "source": []
  }
 ],
 "metadata": {
  "kernelspec": {
   "display_name": "Python 3",
   "language": "python",
   "name": "python3"
  },
  "language_info": {
   "codemirror_mode": {
    "name": "ipython",
    "version": 3
   },
   "file_extension": ".py",
   "mimetype": "text/x-python",
   "name": "python",
   "nbconvert_exporter": "python",
   "pygments_lexer": "ipython3",
   "version": "3.7.3"
  }
 },
 "nbformat": 4,
 "nbformat_minor": 2
}
