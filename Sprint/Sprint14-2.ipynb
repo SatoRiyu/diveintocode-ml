{
 "cells": [
  {
   "cell_type": "markdown",
   "metadata": {},
   "source": [
    "# Sprint ディープラーニングフレームワーク2"
   ]
  },
  {
   "cell_type": "markdown",
   "metadata": {},
   "source": [
    "## 目的\n",
    "フレームワークのコードを読めるようにする  \n",
    "フレームワークを習得し続けられるようになる  \n",
    "理論を知っている範囲をフレームワークで動かす  "
   ]
  },
  {
   "cell_type": "code",
   "execution_count": 1,
   "metadata": {
    "ExecuteTime": {
     "end_time": "2019-09-09T06:57:24.808914Z",
     "start_time": "2019-09-09T06:57:22.360858Z"
    }
   },
   "outputs": [
    {
     "name": "stderr",
     "output_type": "stream",
     "text": [
      "Using TensorFlow backend.\n"
     ]
    }
   ],
   "source": [
    "import numpy as np\n",
    "import pandas as pd\n",
    "from sklearn.model_selection import train_test_split\n",
    "import tensorflow as tf\n",
    "from keras import backend as K\n",
    "from sklearn.preprocessing import StandardScaler\n",
    "#グラフ表示に必要\n",
    "from keras.utils import plot_model\n",
    "from IPython.display import SVG\n",
    "from keras.utils.vis_utils import model_to_dot"
   ]
  },
  {
   "cell_type": "markdown",
   "metadata": {},
   "source": [
    "### 【問題1】公式Exampleを分担して実行"
   ]
  },
  {
   "cell_type": "markdown",
   "metadata": {},
   "source": [
    "以下に記述\n",
    "https://colab.research.google.com/github/tensorflow/docs/blob/r2.0rc/site/ja/tutorials/keras/basic_classification.ipynb#scrollTo=MhoQ0WE77laV"
   ]
  },
  {
   "cell_type": "markdown",
   "metadata": {},
   "source": [
    "### 【問題2】Iris（2値分類）をKerasで学習"
   ]
  },
  {
   "cell_type": "code",
   "execution_count": 2,
   "metadata": {
    "ExecuteTime": {
     "end_time": "2019-09-09T06:57:24.840212Z",
     "start_time": "2019-09-09T06:57:24.811218Z"
    }
   },
   "outputs": [],
   "source": [
    "# データセットの読み込み\n",
    "dataset_path = \"Iris.csv\"\n",
    "df = pd.read_csv(dataset_path)\n",
    "# データフレームから条件抽出\n",
    "df = df[(df[\"Species\"] == \"Iris-versicolor\") |\n",
    "        (df[\"Species\"] == \"Iris-virginica\")]\n",
    "y = df[\"Species\"]\n",
    "X = df.loc[:, [\"SepalLengthCm\", \"SepalWidthCm\",\n",
    "               \"PetalLengthCm\", \"PetalWidthCm\"]]\n",
    "y = np.array(y)\n",
    "X = np.array(X)\n",
    "# ラベルを数値に変換\n",
    "y[y == 'Iris-versicolor'] = 0\n",
    "y[y == 'Iris-virginica'] = 1\n",
    "y = y.astype(np.int)[:, np.newaxis]\n",
    "\n",
    "# trainとtestに分割\n",
    "X_train, X_test, y_train, y_test = train_test_split(\n",
    "    X, y, test_size=0.2, random_state=0)\n",
    "# さらにtrainとvalに分割\n",
    "X_train, X_val, y_train, y_val = train_test_split(\n",
    "    X_train, y_train, test_size=0.2, random_state=0)"
   ]
  },
  {
   "cell_type": "markdown",
   "metadata": {},
   "source": [
    "### Sequentialモデル"
   ]
  },
  {
   "cell_type": "code",
   "execution_count": 3,
   "metadata": {
    "ExecuteTime": {
     "end_time": "2019-09-09T06:57:27.846014Z",
     "start_time": "2019-09-09T06:57:24.843326Z"
    },
    "scrolled": true
   },
   "outputs": [
    {
     "name": "stdout",
     "output_type": "stream",
     "text": [
      "WARNING:tensorflow:From /Users/ryuji_sato/.pyenv/versions/anaconda3-5.3.1/lib/python3.7/site-packages/tensorflow/python/ops/resource_variable_ops.py:435: colocate_with (from tensorflow.python.framework.ops) is deprecated and will be removed in a future version.\n",
      "Instructions for updating:\n",
      "Colocations handled automatically by placer.\n",
      "Train on 64 samples, validate on 16 samples\n",
      "WARNING:tensorflow:From /Users/ryuji_sato/.pyenv/versions/anaconda3-5.3.1/lib/python3.7/site-packages/tensorflow/python/ops/math_ops.py:3066: to_int32 (from tensorflow.python.ops.math_ops) is deprecated and will be removed in a future version.\n",
      "Instructions for updating:\n",
      "Use tf.cast instead.\n",
      "Epoch 1/100\n",
      "64/64 [==============================] - 0s 5ms/sample - loss: 0.7122 - acc: 0.5469 - val_loss: 0.7339 - val_acc: 0.3750\n",
      "Epoch 2/100\n",
      "64/64 [==============================] - 0s 320us/sample - loss: 0.6979 - acc: 0.5312 - val_loss: 0.7927 - val_acc: 0.3750\n",
      "Epoch 3/100\n",
      "64/64 [==============================] - 0s 229us/sample - loss: 0.6935 - acc: 0.5312 - val_loss: 0.7194 - val_acc: 0.3750\n",
      "Epoch 4/100\n",
      "64/64 [==============================] - 0s 394us/sample - loss: 0.6678 - acc: 0.6562 - val_loss: 0.6570 - val_acc: 0.6250\n",
      "Epoch 5/100\n",
      "64/64 [==============================] - 0s 216us/sample - loss: 0.6802 - acc: 0.4688 - val_loss: 0.6397 - val_acc: 0.6250\n",
      "Epoch 6/100\n",
      "64/64 [==============================] - 0s 348us/sample - loss: 0.6670 - acc: 0.5938 - val_loss: 0.6739 - val_acc: 0.4375\n",
      "Epoch 7/100\n",
      "64/64 [==============================] - 0s 177us/sample - loss: 0.6624 - acc: 0.5625 - val_loss: 0.6999 - val_acc: 0.3750\n",
      "Epoch 8/100\n",
      "64/64 [==============================] - 0s 334us/sample - loss: 0.6411 - acc: 0.6719 - val_loss: 0.6197 - val_acc: 0.8750\n",
      "Epoch 9/100\n",
      "64/64 [==============================] - 0s 167us/sample - loss: 0.6511 - acc: 0.5156 - val_loss: 0.5975 - val_acc: 0.6250\n",
      "Epoch 10/100\n",
      "64/64 [==============================] - 0s 377us/sample - loss: 0.6346 - acc: 0.5469 - val_loss: 0.6049 - val_acc: 0.9375\n",
      "Epoch 11/100\n",
      "64/64 [==============================] - 0s 160us/sample - loss: 0.6120 - acc: 0.8594 - val_loss: 0.6342 - val_acc: 0.6250\n",
      "Epoch 12/100\n",
      "64/64 [==============================] - 0s 248us/sample - loss: 0.6080 - acc: 0.5938 - val_loss: 0.5998 - val_acc: 0.8125\n",
      "Epoch 13/100\n",
      "64/64 [==============================] - 0s 253us/sample - loss: 0.5807 - acc: 0.8281 - val_loss: 0.5387 - val_acc: 0.9375\n",
      "Epoch 14/100\n",
      "64/64 [==============================] - 0s 186us/sample - loss: 0.5644 - acc: 0.7969 - val_loss: 0.5080 - val_acc: 0.9375\n",
      "Epoch 15/100\n",
      "64/64 [==============================] - 0s 356us/sample - loss: 0.5391 - acc: 0.9531 - val_loss: 0.4950 - val_acc: 1.0000\n",
      "Epoch 16/100\n",
      "64/64 [==============================] - 0s 177us/sample - loss: 0.4975 - acc: 0.9844 - val_loss: 0.4400 - val_acc: 0.9375\n",
      "Epoch 17/100\n",
      "64/64 [==============================] - 0s 361us/sample - loss: 0.4814 - acc: 0.9219 - val_loss: 0.3985 - val_acc: 0.9375\n",
      "Epoch 18/100\n",
      "64/64 [==============================] - 0s 166us/sample - loss: 0.4267 - acc: 0.9375 - val_loss: 0.3539 - val_acc: 1.0000\n",
      "Epoch 19/100\n",
      "64/64 [==============================] - 0s 350us/sample - loss: 0.3848 - acc: 0.9844 - val_loss: 0.3307 - val_acc: 1.0000\n",
      "Epoch 20/100\n",
      "64/64 [==============================] - 0s 175us/sample - loss: 0.3404 - acc: 0.9531 - val_loss: 0.2636 - val_acc: 0.9375\n",
      "Epoch 21/100\n",
      "64/64 [==============================] - 0s 360us/sample - loss: 0.3118 - acc: 0.9844 - val_loss: 0.2603 - val_acc: 1.0000\n",
      "Epoch 22/100\n",
      "64/64 [==============================] - 0s 166us/sample - loss: 0.2831 - acc: 0.9219 - val_loss: 0.2200 - val_acc: 0.9375\n",
      "Epoch 23/100\n",
      "64/64 [==============================] - 0s 246us/sample - loss: 0.3261 - acc: 0.8594 - val_loss: 0.2837 - val_acc: 0.9375\n",
      "Epoch 24/100\n",
      "64/64 [==============================] - 0s 328us/sample - loss: 0.2369 - acc: 0.9688 - val_loss: 0.1587 - val_acc: 0.9375\n",
      "Epoch 25/100\n",
      "64/64 [==============================] - 0s 182us/sample - loss: 0.2177 - acc: 0.9688 - val_loss: 0.1822 - val_acc: 1.0000\n",
      "Epoch 26/100\n",
      "64/64 [==============================] - 0s 329us/sample - loss: 0.1849 - acc: 0.9844 - val_loss: 0.1271 - val_acc: 0.9375\n",
      "Epoch 27/100\n",
      "64/64 [==============================] - 0s 173us/sample - loss: 0.1694 - acc: 0.9844 - val_loss: 0.1254 - val_acc: 1.0000\n",
      "Epoch 28/100\n",
      "64/64 [==============================] - 0s 349us/sample - loss: 0.1685 - acc: 0.9375 - val_loss: 0.1036 - val_acc: 1.0000\n",
      "Epoch 29/100\n",
      "64/64 [==============================] - 0s 160us/sample - loss: 0.1458 - acc: 0.9531 - val_loss: 0.0935 - val_acc: 1.0000\n",
      "Epoch 30/100\n",
      "64/64 [==============================] - 0s 334us/sample - loss: 0.1592 - acc: 0.9844 - val_loss: 0.1201 - val_acc: 1.0000\n",
      "Epoch 31/100\n",
      "64/64 [==============================] - 0s 155us/sample - loss: 0.1668 - acc: 0.9531 - val_loss: 0.0933 - val_acc: 0.9375\n",
      "Epoch 32/100\n",
      "64/64 [==============================] - 0s 314us/sample - loss: 0.1325 - acc: 0.9844 - val_loss: 0.0901 - val_acc: 1.0000\n",
      "Epoch 33/100\n",
      "64/64 [==============================] - 0s 156us/sample - loss: 0.1354 - acc: 0.9688 - val_loss: 0.0752 - val_acc: 1.0000\n",
      "Epoch 34/100\n",
      "64/64 [==============================] - 0s 301us/sample - loss: 0.1051 - acc: 0.9844 - val_loss: 0.0746 - val_acc: 1.0000\n",
      "Epoch 35/100\n",
      "64/64 [==============================] - 0s 156us/sample - loss: 0.1192 - acc: 0.9531 - val_loss: 0.0683 - val_acc: 1.0000\n",
      "Epoch 36/100\n",
      "64/64 [==============================] - 0s 173us/sample - loss: 0.1081 - acc: 0.9688 - val_loss: 0.0577 - val_acc: 1.0000\n",
      "Epoch 37/100\n",
      "64/64 [==============================] - 0s 231us/sample - loss: 0.0999 - acc: 0.9844 - val_loss: 0.0631 - val_acc: 1.0000\n",
      "Epoch 38/100\n",
      "64/64 [==============================] - 0s 205us/sample - loss: 0.1098 - acc: 0.9531 - val_loss: 0.0517 - val_acc: 1.0000\n",
      "Epoch 39/100\n",
      "64/64 [==============================] - 0s 321us/sample - loss: 0.1025 - acc: 0.9688 - val_loss: 0.0496 - val_acc: 1.0000\n",
      "Epoch 40/100\n",
      "64/64 [==============================] - 0s 155us/sample - loss: 0.1176 - acc: 0.9531 - val_loss: 0.0702 - val_acc: 0.9375\n",
      "Epoch 41/100\n",
      "64/64 [==============================] - 0s 2ms/sample - loss: 0.1022 - acc: 0.9844 - val_loss: 0.0476 - val_acc: 1.0000\n",
      "Epoch 42/100\n",
      "64/64 [==============================] - 0s 159us/sample - loss: 0.0930 - acc: 0.9531 - val_loss: 0.0472 - val_acc: 1.0000\n",
      "Epoch 43/100\n",
      "64/64 [==============================] - 0s 341us/sample - loss: 0.1002 - acc: 0.9688 - val_loss: 0.0450 - val_acc: 1.0000\n",
      "Epoch 44/100\n",
      "64/64 [==============================] - 0s 155us/sample - loss: 0.1202 - acc: 0.9531 - val_loss: 0.0469 - val_acc: 1.0000\n",
      "Epoch 45/100\n",
      "64/64 [==============================] - 0s 278us/sample - loss: 0.0795 - acc: 0.9844 - val_loss: 0.0402 - val_acc: 1.0000\n",
      "Epoch 46/100\n",
      "64/64 [==============================] - 0s 338us/sample - loss: 0.0814 - acc: 0.9844 - val_loss: 0.0385 - val_acc: 1.0000\n",
      "Epoch 47/100\n",
      "64/64 [==============================] - 0s 150us/sample - loss: 0.1019 - acc: 0.9531 - val_loss: 0.0738 - val_acc: 0.9375\n",
      "Epoch 48/100\n",
      "64/64 [==============================] - 0s 348us/sample - loss: 0.1019 - acc: 0.9688 - val_loss: 0.0381 - val_acc: 1.0000\n",
      "Epoch 49/100\n",
      "64/64 [==============================] - 0s 224us/sample - loss: 0.0952 - acc: 0.9531 - val_loss: 0.0401 - val_acc: 1.0000\n",
      "Epoch 50/100\n",
      "64/64 [==============================] - 0s 197us/sample - loss: 0.0734 - acc: 0.9844 - val_loss: 0.0336 - val_acc: 1.0000\n",
      "Epoch 51/100\n",
      "64/64 [==============================] - 0s 318us/sample - loss: 0.0800 - acc: 0.9531 - val_loss: 0.0398 - val_acc: 1.0000\n",
      "Epoch 52/100\n",
      "64/64 [==============================] - 0s 154us/sample - loss: 0.1094 - acc: 0.9375 - val_loss: 0.0388 - val_acc: 1.0000\n",
      "Epoch 53/100\n",
      "64/64 [==============================] - 0s 281us/sample - loss: 0.0820 - acc: 0.9844 - val_loss: 0.0302 - val_acc: 1.0000\n",
      "Epoch 54/100\n",
      "64/64 [==============================] - 0s 145us/sample - loss: 0.0757 - acc: 0.9531 - val_loss: 0.0319 - val_acc: 1.0000\n",
      "Epoch 55/100\n",
      "64/64 [==============================] - 0s 317us/sample - loss: 0.0687 - acc: 0.9688 - val_loss: 0.0398 - val_acc: 1.0000\n",
      "Epoch 56/100\n"
     ]
    },
    {
     "name": "stdout",
     "output_type": "stream",
     "text": [
      "64/64 [==============================] - 0s 148us/sample - loss: 0.0653 - acc: 0.9844 - val_loss: 0.0285 - val_acc: 1.0000\n",
      "Epoch 57/100\n",
      "64/64 [==============================] - 0s 350us/sample - loss: 0.0648 - acc: 0.9844 - val_loss: 0.0372 - val_acc: 1.0000\n",
      "Epoch 58/100\n",
      "64/64 [==============================] - 0s 157us/sample - loss: 0.0728 - acc: 0.9531 - val_loss: 0.0323 - val_acc: 1.0000\n",
      "Epoch 59/100\n",
      "64/64 [==============================] - 0s 289us/sample - loss: 0.0714 - acc: 0.9688 - val_loss: 0.0653 - val_acc: 0.9375\n",
      "Epoch 60/100\n",
      "64/64 [==============================] - 0s 175us/sample - loss: 0.0844 - acc: 0.9688 - val_loss: 0.0265 - val_acc: 1.0000\n",
      "Epoch 61/100\n",
      "64/64 [==============================] - 0s 314us/sample - loss: 0.0631 - acc: 0.9844 - val_loss: 0.0423 - val_acc: 1.0000\n",
      "Epoch 62/100\n",
      "64/64 [==============================] - 0s 165us/sample - loss: 0.0640 - acc: 0.9844 - val_loss: 0.0272 - val_acc: 1.0000\n",
      "Epoch 63/100\n",
      "64/64 [==============================] - 0s 312us/sample - loss: 0.0601 - acc: 0.9688 - val_loss: 0.0542 - val_acc: 0.9375\n",
      "Epoch 64/100\n",
      "64/64 [==============================] - 0s 169us/sample - loss: 0.0805 - acc: 0.9531 - val_loss: 0.0305 - val_acc: 1.0000\n",
      "Epoch 65/100\n",
      "64/64 [==============================] - 0s 303us/sample - loss: 0.0584 - acc: 0.9844 - val_loss: 0.0351 - val_acc: 1.0000\n",
      "Epoch 66/100\n",
      "64/64 [==============================] - 0s 191us/sample - loss: 0.0809 - acc: 0.9844 - val_loss: 0.0270 - val_acc: 1.0000\n",
      "Epoch 67/100\n",
      "64/64 [==============================] - 0s 323us/sample - loss: 0.0676 - acc: 0.9531 - val_loss: 0.0300 - val_acc: 1.0000\n",
      "Epoch 68/100\n",
      "64/64 [==============================] - 0s 184us/sample - loss: 0.0682 - acc: 0.9688 - val_loss: 0.0458 - val_acc: 1.0000\n",
      "Epoch 69/100\n",
      "64/64 [==============================] - 0s 294us/sample - loss: 0.1558 - acc: 0.9375 - val_loss: 0.0274 - val_acc: 1.0000\n",
      "Epoch 70/100\n",
      "64/64 [==============================] - 0s 167us/sample - loss: 0.1044 - acc: 0.9531 - val_loss: 0.0490 - val_acc: 0.9375\n",
      "Epoch 71/100\n",
      "64/64 [==============================] - 0s 294us/sample - loss: 0.0824 - acc: 0.9688 - val_loss: 0.0248 - val_acc: 1.0000\n",
      "Epoch 72/100\n",
      "64/64 [==============================] - 0s 161us/sample - loss: 0.1211 - acc: 0.9531 - val_loss: 0.0322 - val_acc: 1.0000\n",
      "Epoch 73/100\n",
      "64/64 [==============================] - 0s 354us/sample - loss: 0.0573 - acc: 0.9844 - val_loss: 0.0296 - val_acc: 1.0000\n",
      "Epoch 74/100\n",
      "64/64 [==============================] - 0s 191us/sample - loss: 0.0526 - acc: 0.9844 - val_loss: 0.0214 - val_acc: 1.0000\n",
      "Epoch 75/100\n",
      "64/64 [==============================] - 0s 375us/sample - loss: 0.0592 - acc: 0.9688 - val_loss: 0.0512 - val_acc: 0.9375\n",
      "Epoch 76/100\n",
      "64/64 [==============================] - 0s 162us/sample - loss: 0.0722 - acc: 0.9688 - val_loss: 0.0204 - val_acc: 1.0000\n",
      "Epoch 77/100\n",
      "64/64 [==============================] - 0s 338us/sample - loss: 0.0757 - acc: 0.9531 - val_loss: 0.0270 - val_acc: 1.0000\n",
      "Epoch 78/100\n",
      "64/64 [==============================] - 0s 158us/sample - loss: 0.0750 - acc: 0.9688 - val_loss: 0.0219 - val_acc: 1.0000\n",
      "Epoch 79/100\n",
      "64/64 [==============================] - 0s 352us/sample - loss: 0.0639 - acc: 0.9531 - val_loss: 0.0185 - val_acc: 1.0000\n",
      "Epoch 80/100\n",
      "64/64 [==============================] - 0s 171us/sample - loss: 0.1317 - acc: 0.9219 - val_loss: 0.0174 - val_acc: 1.0000\n",
      "Epoch 81/100\n",
      "64/64 [==============================] - 0s 253us/sample - loss: 0.2744 - acc: 0.9219 - val_loss: 0.0176 - val_acc: 1.0000\n",
      "Epoch 82/100\n",
      "64/64 [==============================] - 0s 246us/sample - loss: 0.1770 - acc: 0.9219 - val_loss: 0.0193 - val_acc: 1.0000\n",
      "Epoch 83/100\n",
      "64/64 [==============================] - 0s 177us/sample - loss: 0.1207 - acc: 0.9531 - val_loss: 0.0240 - val_acc: 1.0000\n",
      "Epoch 84/100\n",
      "64/64 [==============================] - 0s 291us/sample - loss: 0.0577 - acc: 0.9844 - val_loss: 0.1216 - val_acc: 0.9375\n",
      "Epoch 85/100\n",
      "64/64 [==============================] - 0s 205us/sample - loss: 0.0919 - acc: 0.9688 - val_loss: 0.0391 - val_acc: 1.0000\n",
      "Epoch 86/100\n",
      "64/64 [==============================] - 0s 328us/sample - loss: 0.0998 - acc: 0.9531 - val_loss: 0.0943 - val_acc: 0.9375\n",
      "Epoch 87/100\n",
      "64/64 [==============================] - 0s 154us/sample - loss: 0.0784 - acc: 0.9688 - val_loss: 0.0185 - val_acc: 1.0000\n",
      "Epoch 88/100\n",
      "64/64 [==============================] - 0s 377us/sample - loss: 0.1188 - acc: 0.9531 - val_loss: 0.0219 - val_acc: 1.0000\n",
      "Epoch 89/100\n",
      "64/64 [==============================] - 0s 153us/sample - loss: 0.0689 - acc: 0.9688 - val_loss: 0.0333 - val_acc: 1.0000\n",
      "Epoch 90/100\n",
      "64/64 [==============================] - 0s 313us/sample - loss: 0.0619 - acc: 0.9688 - val_loss: 0.0225 - val_acc: 1.0000\n",
      "Epoch 91/100\n",
      "64/64 [==============================] - 0s 191us/sample - loss: 0.0713 - acc: 0.9844 - val_loss: 0.0299 - val_acc: 1.0000\n",
      "Epoch 92/100\n",
      "64/64 [==============================] - 0s 346us/sample - loss: 0.0706 - acc: 0.9688 - val_loss: 0.0235 - val_acc: 1.0000\n",
      "Epoch 93/100\n",
      "64/64 [==============================] - ETA: 0s - loss: 0.0125 - acc: 1.000 - 0s 155us/sample - loss: 0.0739 - acc: 0.9688 - val_loss: 0.0494 - val_acc: 0.9375\n",
      "Epoch 94/100\n",
      "64/64 [==============================] - 0s 183us/sample - loss: 0.0722 - acc: 0.9688 - val_loss: 0.0560 - val_acc: 0.9375\n",
      "Epoch 95/100\n",
      "64/64 [==============================] - 0s 349us/sample - loss: 0.0566 - acc: 0.9844 - val_loss: 0.0187 - val_acc: 1.0000\n",
      "Epoch 96/100\n",
      "64/64 [==============================] - 0s 169us/sample - loss: 0.0651 - acc: 0.9844 - val_loss: 0.0362 - val_acc: 1.0000\n",
      "Epoch 97/100\n",
      "64/64 [==============================] - 0s 378us/sample - loss: 0.0504 - acc: 0.9844 - val_loss: 0.0243 - val_acc: 1.0000\n",
      "Epoch 98/100\n",
      "64/64 [==============================] - 0s 164us/sample - loss: 0.0499 - acc: 0.9844 - val_loss: 0.0364 - val_acc: 1.0000\n",
      "Epoch 99/100\n",
      "64/64 [==============================] - 0s 297us/sample - loss: 0.0536 - acc: 0.9844 - val_loss: 0.0291 - val_acc: 1.0000\n",
      "Epoch 100/100\n",
      "64/64 [==============================] - 0s 156us/sample - loss: 0.0572 - acc: 0.9844 - val_loss: 0.0175 - val_acc: 1.0000\n"
     ]
    }
   ],
   "source": [
    "layer_size_0 = 20\n",
    "layer_size_1 = 20\n",
    "layer_size_2 = 1\n",
    "\n",
    "#K.clear_session()\n",
    "#インスタンス化\n",
    "model = tf.keras.Sequential([tf.keras.layers.Dense(\n",
    "    layer_size_0, activation=tf.nn.sigmoid, input_shape=(4,))\n",
    "                            ,tf.keras.layers.Dense(\n",
    "    layer_size_1, activation=tf.nn.sigmoid)\n",
    "                            ,tf.keras.layers.Dense(\n",
    "   layer_size_2, activation=tf.nn.sigmoid)\n",
    "                            ])\n",
    "#コンパイル\n",
    "model.compile(optimizer=tf.train.AdamOptimizer(learning_rate=0.01),\n",
    "              loss='binary_crossentropy',\n",
    "              metrics=['accuracy'])\n",
    "\n",
    "history = model.fit(X_train, y_train,\n",
    "                    batch_size=10,\n",
    "                    epochs=100,\n",
    "                    verbose=1,\n",
    "                   validation_data=(X_val, y_val))"
   ]
  },
  {
   "cell_type": "code",
   "execution_count": 4,
   "metadata": {
    "ExecuteTime": {
     "end_time": "2019-09-09T06:57:28.558093Z",
     "start_time": "2019-09-09T06:57:27.854760Z"
    }
   },
   "outputs": [
    {
     "data": {
      "image/svg+xml": [
       "<svg height=\"264pt\" viewBox=\"0.00 0.00 113.00 264.00\" width=\"113pt\" xmlns=\"http://www.w3.org/2000/svg\" xmlns:xlink=\"http://www.w3.org/1999/xlink\">\n",
       "<g class=\"graph\" id=\"graph0\" transform=\"scale(1 1) rotate(0) translate(4 260)\">\n",
       "<title>G</title>\n",
       "<polygon fill=\"#ffffff\" points=\"-4,4 -4,-260 109,-260 109,4 -4,4\" stroke=\"transparent\"/>\n",
       "<!-- 112305926832 -->\n",
       "<g class=\"node\" id=\"node1\">\n",
       "<title>112305926832</title>\n",
       "<polygon fill=\"none\" points=\"7,-146.5 7,-182.5 98,-182.5 98,-146.5 7,-146.5\" stroke=\"#000000\"/>\n",
       "<text fill=\"#000000\" font-family=\"Times,serif\" font-size=\"14.00\" text-anchor=\"middle\" x=\"52.5\" y=\"-160.8\">dense: Dense</text>\n",
       "</g>\n",
       "<!-- 112305927224 -->\n",
       "<g class=\"node\" id=\"node2\">\n",
       "<title>112305927224</title>\n",
       "<polygon fill=\"none\" points=\"0,-73.5 0,-109.5 105,-109.5 105,-73.5 0,-73.5\" stroke=\"#000000\"/>\n",
       "<text fill=\"#000000\" font-family=\"Times,serif\" font-size=\"14.00\" text-anchor=\"middle\" x=\"52.5\" y=\"-87.8\">dense_1: Dense</text>\n",
       "</g>\n",
       "<!-- 112305926832&#45;&gt;112305927224 -->\n",
       "<g class=\"edge\" id=\"edge2\">\n",
       "<title>112305926832-&gt;112305927224</title>\n",
       "<path d=\"M52.5,-146.4551C52.5,-138.3828 52.5,-128.6764 52.5,-119.6817\" fill=\"none\" stroke=\"#000000\"/>\n",
       "<polygon fill=\"#000000\" points=\"56.0001,-119.5903 52.5,-109.5904 49.0001,-119.5904 56.0001,-119.5903\" stroke=\"#000000\"/>\n",
       "</g>\n",
       "<!-- 112305927840 -->\n",
       "<g class=\"node\" id=\"node3\">\n",
       "<title>112305927840</title>\n",
       "<polygon fill=\"none\" points=\"0,-.5 0,-36.5 105,-36.5 105,-.5 0,-.5\" stroke=\"#000000\"/>\n",
       "<text fill=\"#000000\" font-family=\"Times,serif\" font-size=\"14.00\" text-anchor=\"middle\" x=\"52.5\" y=\"-14.8\">dense_2: Dense</text>\n",
       "</g>\n",
       "<!-- 112305927224&#45;&gt;112305927840 -->\n",
       "<g class=\"edge\" id=\"edge3\">\n",
       "<title>112305927224-&gt;112305927840</title>\n",
       "<path d=\"M52.5,-73.4551C52.5,-65.3828 52.5,-55.6764 52.5,-46.6817\" fill=\"none\" stroke=\"#000000\"/>\n",
       "<polygon fill=\"#000000\" points=\"56.0001,-46.5903 52.5,-36.5904 49.0001,-46.5904 56.0001,-46.5903\" stroke=\"#000000\"/>\n",
       "</g>\n",
       "<!-- 112305930024 -->\n",
       "<g class=\"node\" id=\"node4\">\n",
       "<title>112305930024</title>\n",
       "<polygon fill=\"none\" points=\"2,-219.5 2,-255.5 103,-255.5 103,-219.5 2,-219.5\" stroke=\"#000000\"/>\n",
       "<text fill=\"#000000\" font-family=\"Times,serif\" font-size=\"14.00\" text-anchor=\"middle\" x=\"52.5\" y=\"-233.8\">112305930024</text>\n",
       "</g>\n",
       "<!-- 112305930024&#45;&gt;112305926832 -->\n",
       "<g class=\"edge\" id=\"edge1\">\n",
       "<title>112305930024-&gt;112305926832</title>\n",
       "<path d=\"M52.5,-219.4551C52.5,-211.3828 52.5,-201.6764 52.5,-192.6817\" fill=\"none\" stroke=\"#000000\"/>\n",
       "<polygon fill=\"#000000\" points=\"56.0001,-192.5903 52.5,-182.5904 49.0001,-192.5904 56.0001,-192.5903\" stroke=\"#000000\"/>\n",
       "</g>\n",
       "</g>\n",
       "</svg>"
      ],
      "text/plain": [
       "<IPython.core.display.SVG object>"
      ]
     },
     "execution_count": 4,
     "metadata": {},
     "output_type": "execute_result"
    }
   ],
   "source": [
    "SVG(model_to_dot(model).create(prog='dot', format='svg'))"
   ]
  },
  {
   "cell_type": "markdown",
   "metadata": {
    "ExecuteTime": {
     "end_time": "2019-09-07T11:47:34.229036Z",
     "start_time": "2019-09-07T11:47:33.787037Z"
    }
   },
   "source": [
    "### Functional API"
   ]
  },
  {
   "cell_type": "code",
   "execution_count": 5,
   "metadata": {
    "ExecuteTime": {
     "end_time": "2019-09-09T06:57:28.701916Z",
     "start_time": "2019-09-09T06:57:28.560225Z"
    }
   },
   "outputs": [],
   "source": [
    "#K.clear_session()\n",
    "input_data = tf.keras.layers.Input(shape=(4,))\n",
    "x1 = tf.keras.layers.Dense(100, activation=tf.nn.relu)(input_data)\n",
    "x2 = tf.keras.layers.Dense(100, activation=tf.nn.relu)(x1)\n",
    "y1 = tf.keras.layers.Dense(100, activation=tf.nn.relu)(x2)\n",
    "y2 = tf.keras.layers.Dense(100, activation=tf.nn.relu)(x2)\n",
    "z = tf.keras.layers.concatenate([x1, x2, y1])\n",
    "z = tf.keras.layers.Dense(100, activation=tf.nn.relu)(z)\n",
    "z = tf.keras.layers.concatenate([y2, z])\n",
    "output = tf.keras.layers.Dense(1, activation=tf.nn.sigmoid)(z)\n",
    "model_2 = tf.keras.Model(inputs=input_data, outputs=output)"
   ]
  },
  {
   "cell_type": "code",
   "execution_count": 6,
   "metadata": {
    "ExecuteTime": {
     "end_time": "2019-09-09T06:57:30.345714Z",
     "start_time": "2019-09-09T06:57:28.705207Z"
    }
   },
   "outputs": [
    {
     "name": "stdout",
     "output_type": "stream",
     "text": [
      "Train on 64 samples, validate on 16 samples\n",
      "Epoch 1/10\n",
      "64/64 [==============================] - 0s 6ms/sample - loss: 1.1693 - acc: 0.5000 - val_loss: 0.6410 - val_acc: 0.9375\n",
      "Epoch 2/10\n",
      "64/64 [==============================] - 0s 462us/sample - loss: 0.6156 - acc: 0.6250 - val_loss: 0.5779 - val_acc: 0.9375\n",
      "Epoch 3/10\n",
      "64/64 [==============================] - 0s 486us/sample - loss: 0.6091 - acc: 0.6406 - val_loss: 0.6689 - val_acc: 0.3750\n",
      "Epoch 4/10\n",
      "64/64 [==============================] - 0s 287us/sample - loss: 0.5734 - acc: 0.6562 - val_loss: 0.5878 - val_acc: 0.5625\n",
      "Epoch 5/10\n",
      "64/64 [==============================] - 0s 312us/sample - loss: 0.4530 - acc: 0.7500 - val_loss: 0.3399 - val_acc: 0.8750\n",
      "Epoch 6/10\n",
      "64/64 [==============================] - 0s 512us/sample - loss: 0.2556 - acc: 0.9531 - val_loss: 0.1615 - val_acc: 0.9375\n",
      "Epoch 7/10\n",
      "64/64 [==============================] - 0s 422us/sample - loss: 0.1915 - acc: 0.9531 - val_loss: 0.0972 - val_acc: 0.9375\n",
      "Epoch 8/10\n",
      "64/64 [==============================] - 0s 298us/sample - loss: 0.1255 - acc: 0.9531 - val_loss: 0.2116 - val_acc: 0.8750\n",
      "Epoch 9/10\n",
      "64/64 [==============================] - 0s 307us/sample - loss: 0.2134 - acc: 0.8750 - val_loss: 0.3338 - val_acc: 0.8750\n",
      "Epoch 10/10\n",
      "64/64 [==============================] - 0s 495us/sample - loss: 0.3247 - acc: 0.9062 - val_loss: 0.8845 - val_acc: 0.6250\n"
     ]
    }
   ],
   "source": [
    "#コンパイル\n",
    "model_2.compile(optimizer=tf.train.AdamOptimizer(learning_rate=0.01),\n",
    "              loss='binary_crossentropy',\n",
    "              metrics=['accuracy'])\n",
    "\n",
    "history = model_2.fit(X_train, y_train,\n",
    "                    batch_size=10,\n",
    "                    epochs=10,\n",
    "                    verbose=1,\n",
    "                   validation_data=(X_val, y_val))"
   ]
  },
  {
   "cell_type": "code",
   "execution_count": 7,
   "metadata": {
    "ExecuteTime": {
     "end_time": "2019-09-09T06:57:31.094616Z",
     "start_time": "2019-09-09T06:57:30.348792Z"
    }
   },
   "outputs": [
    {
     "data": {
      "image/svg+xml": [
       "<svg height=\"556pt\" viewBox=\"0.00 0.00 315.00 556.00\" width=\"315pt\" xmlns=\"http://www.w3.org/2000/svg\" xmlns:xlink=\"http://www.w3.org/1999/xlink\">\n",
       "<g class=\"graph\" id=\"graph0\" transform=\"scale(1 1) rotate(0) translate(4 552)\">\n",
       "<title>G</title>\n",
       "<polygon fill=\"#ffffff\" points=\"-4,4 -4,-552 311,-552 311,4 -4,4\" stroke=\"transparent\"/>\n",
       "<!-- 112313930752 -->\n",
       "<g class=\"node\" id=\"node1\">\n",
       "<title>112313930752</title>\n",
       "<polygon fill=\"none\" points=\"178,-511.5 178,-547.5 307,-547.5 307,-511.5 178,-511.5\" stroke=\"#000000\"/>\n",
       "<text fill=\"#000000\" font-family=\"Times,serif\" font-size=\"14.00\" text-anchor=\"middle\" x=\"242.5\" y=\"-525.8\">input_1: InputLayer</text>\n",
       "</g>\n",
       "<!-- 112313930696 -->\n",
       "<g class=\"node\" id=\"node2\">\n",
       "<title>112313930696</title>\n",
       "<polygon fill=\"none\" points=\"190,-438.5 190,-474.5 295,-474.5 295,-438.5 190,-438.5\" stroke=\"#000000\"/>\n",
       "<text fill=\"#000000\" font-family=\"Times,serif\" font-size=\"14.00\" text-anchor=\"middle\" x=\"242.5\" y=\"-452.8\">dense_3: Dense</text>\n",
       "</g>\n",
       "<!-- 112313930752&#45;&gt;112313930696 -->\n",
       "<g class=\"edge\" id=\"edge1\">\n",
       "<title>112313930752-&gt;112313930696</title>\n",
       "<path d=\"M242.5,-511.4551C242.5,-503.3828 242.5,-493.6764 242.5,-484.6817\" fill=\"none\" stroke=\"#000000\"/>\n",
       "<polygon fill=\"#000000\" points=\"246.0001,-484.5903 242.5,-474.5904 239.0001,-484.5904 246.0001,-484.5903\" stroke=\"#000000\"/>\n",
       "</g>\n",
       "<!-- 112313712536 -->\n",
       "<g class=\"node\" id=\"node3\">\n",
       "<title>112313712536</title>\n",
       "<polygon fill=\"none\" points=\"150,-365.5 150,-401.5 255,-401.5 255,-365.5 150,-365.5\" stroke=\"#000000\"/>\n",
       "<text fill=\"#000000\" font-family=\"Times,serif\" font-size=\"14.00\" text-anchor=\"middle\" x=\"202.5\" y=\"-379.8\">dense_4: Dense</text>\n",
       "</g>\n",
       "<!-- 112313930696&#45;&gt;112313712536 -->\n",
       "<g class=\"edge\" id=\"edge2\">\n",
       "<title>112313930696-&gt;112313712536</title>\n",
       "<path d=\"M232.6124,-438.4551C227.9969,-430.0319 222.4064,-419.8292 217.3015,-410.5128\" fill=\"none\" stroke=\"#000000\"/>\n",
       "<polygon fill=\"#000000\" points=\"220.2873,-408.6782 212.4125,-401.5904 214.1485,-412.042 220.2873,-408.6782\" stroke=\"#000000\"/>\n",
       "</g>\n",
       "<!-- 112313700592 -->\n",
       "<g class=\"node\" id=\"node5\">\n",
       "<title>112313700592</title>\n",
       "<polygon fill=\"none\" points=\"123,-219.5 123,-255.5 282,-255.5 282,-219.5 123,-219.5\" stroke=\"#000000\"/>\n",
       "<text fill=\"#000000\" font-family=\"Times,serif\" font-size=\"14.00\" text-anchor=\"middle\" x=\"202.5\" y=\"-233.8\">concatenate: Concatenate</text>\n",
       "</g>\n",
       "<!-- 112313930696&#45;&gt;112313700592 -->\n",
       "<g class=\"edge\" id=\"edge4\">\n",
       "<title>112313930696-&gt;112313700592</title>\n",
       "<path d=\"M250.8381,-438.3038C263.9208,-406.9622 285.6107,-341.4046 263.5,-292 258.3333,-280.4553 249.3784,-270.347 239.8966,-262.073\" fill=\"none\" stroke=\"#000000\"/>\n",
       "<polygon fill=\"#000000\" points=\"241.8488,-259.1497 231.8795,-255.563 237.4362,-264.5838 241.8488,-259.1497\" stroke=\"#000000\"/>\n",
       "</g>\n",
       "<!-- 112313712032 -->\n",
       "<g class=\"node\" id=\"node4\">\n",
       "<title>112313712032</title>\n",
       "<polygon fill=\"none\" points=\"150,-292.5 150,-328.5 255,-328.5 255,-292.5 150,-292.5\" stroke=\"#000000\"/>\n",
       "<text fill=\"#000000\" font-family=\"Times,serif\" font-size=\"14.00\" text-anchor=\"middle\" x=\"202.5\" y=\"-306.8\">dense_5: Dense</text>\n",
       "</g>\n",
       "<!-- 112313712536&#45;&gt;112313712032 -->\n",
       "<g class=\"edge\" id=\"edge3\">\n",
       "<title>112313712536-&gt;112313712032</title>\n",
       "<path d=\"M202.5,-365.4551C202.5,-357.3828 202.5,-347.6764 202.5,-338.6817\" fill=\"none\" stroke=\"#000000\"/>\n",
       "<polygon fill=\"#000000\" points=\"206.0001,-338.5903 202.5,-328.5904 199.0001,-338.5904 206.0001,-338.5903\" stroke=\"#000000\"/>\n",
       "</g>\n",
       "<!-- 112313712536&#45;&gt;112313700592 -->\n",
       "<g class=\"edge\" id=\"edge5\">\n",
       "<title>112313712536-&gt;112313700592</title>\n",
       "<path d=\"M121.5,-310.5C113.346,-289.9447 129.4982,-272.9489 149.4726,-260.544\" fill=\"none\" stroke=\"#000000\"/>\n",
       "<polygon fill=\"#000000\" points=\"151.2897,-263.5365 158.2073,-255.5117 147.7952,-257.4711 151.2897,-263.5365\" stroke=\"#000000\"/>\n",
       "</g>\n",
       "<!-- 112313505272 -->\n",
       "<g class=\"node\" id=\"node6\">\n",
       "<title>112313505272</title>\n",
       "<polygon fill=\"none\" points=\"0,-219.5 0,-255.5 105,-255.5 105,-219.5 0,-219.5\" stroke=\"#000000\"/>\n",
       "<text fill=\"#000000\" font-family=\"Times,serif\" font-size=\"14.00\" text-anchor=\"middle\" x=\"52.5\" y=\"-233.8\">dense_6: Dense</text>\n",
       "</g>\n",
       "<!-- 112313712536&#45;&gt;112313505272 -->\n",
       "<g class=\"edge\" id=\"edge7\">\n",
       "<title>112313712536-&gt;112313505272</title>\n",
       "<path d=\"M170.8014,-365.3459C152.2842,-352.6932 130.7839,-333.9038 121.5,-310.5\" fill=\"none\" stroke=\"#000000\"/>\n",
       "<path d=\"M121.5,-310.5C114.0669,-291.762 99.2783,-275.0621 85.2922,-262.3802\" fill=\"none\" stroke=\"#000000\"/>\n",
       "<polygon fill=\"#000000\" points=\"87.5052,-259.6665 77.6566,-255.7606 82.9199,-264.9557 87.5052,-259.6665\" stroke=\"#000000\"/>\n",
       "</g>\n",
       "<!-- 112313712032&#45;&gt;112313700592 -->\n",
       "<g class=\"edge\" id=\"edge6\">\n",
       "<title>112313712032-&gt;112313700592</title>\n",
       "<path d=\"M202.5,-292.4551C202.5,-284.3828 202.5,-274.6764 202.5,-265.6817\" fill=\"none\" stroke=\"#000000\"/>\n",
       "<polygon fill=\"#000000\" points=\"206.0001,-265.5903 202.5,-255.5904 199.0001,-265.5904 206.0001,-265.5903\" stroke=\"#000000\"/>\n",
       "</g>\n",
       "<!-- 112313649248 -->\n",
       "<g class=\"node\" id=\"node7\">\n",
       "<title>112313649248</title>\n",
       "<polygon fill=\"none\" points=\"132,-146.5 132,-182.5 237,-182.5 237,-146.5 132,-146.5\" stroke=\"#000000\"/>\n",
       "<text fill=\"#000000\" font-family=\"Times,serif\" font-size=\"14.00\" text-anchor=\"middle\" x=\"184.5\" y=\"-160.8\">dense_7: Dense</text>\n",
       "</g>\n",
       "<!-- 112313700592&#45;&gt;112313649248 -->\n",
       "<g class=\"edge\" id=\"edge8\">\n",
       "<title>112313700592-&gt;112313649248</title>\n",
       "<path d=\"M198.0506,-219.4551C196.0385,-211.2951 193.6147,-201.4652 191.3767,-192.3887\" fill=\"none\" stroke=\"#000000\"/>\n",
       "<polygon fill=\"#000000\" points=\"194.753,-191.4616 188.9606,-182.5904 187.9565,-193.1375 194.753,-191.4616\" stroke=\"#000000\"/>\n",
       "</g>\n",
       "<!-- 112313478168 -->\n",
       "<g class=\"node\" id=\"node8\">\n",
       "<title>112313478168</title>\n",
       "<polygon fill=\"none\" points=\"40,-73.5 40,-109.5 213,-109.5 213,-73.5 40,-73.5\" stroke=\"#000000\"/>\n",
       "<text fill=\"#000000\" font-family=\"Times,serif\" font-size=\"14.00\" text-anchor=\"middle\" x=\"126.5\" y=\"-87.8\">concatenate_1: Concatenate</text>\n",
       "</g>\n",
       "<!-- 112313505272&#45;&gt;112313478168 -->\n",
       "<g class=\"edge\" id=\"edge9\">\n",
       "<title>112313505272-&gt;112313478168</title>\n",
       "<path d=\"M61.7225,-219.3042C74.4627,-194.1682 97.5574,-148.6029 112.4514,-119.2175\" fill=\"none\" stroke=\"#000000\"/>\n",
       "<polygon fill=\"#000000\" points=\"115.7621,-120.4272 117.1612,-109.9251 109.5183,-117.2625 115.7621,-120.4272\" stroke=\"#000000\"/>\n",
       "</g>\n",
       "<!-- 112313649248&#45;&gt;112313478168 -->\n",
       "<g class=\"edge\" id=\"edge10\">\n",
       "<title>112313649248-&gt;112313478168</title>\n",
       "<path d=\"M170.1629,-146.4551C163.2614,-137.7686 154.8563,-127.1898 147.2704,-117.642\" fill=\"none\" stroke=\"#000000\"/>\n",
       "<polygon fill=\"#000000\" points=\"149.8343,-115.2427 140.8732,-109.5904 144.3536,-119.5972 149.8343,-115.2427\" stroke=\"#000000\"/>\n",
       "</g>\n",
       "<!-- 112313513184 -->\n",
       "<g class=\"node\" id=\"node9\">\n",
       "<title>112313513184</title>\n",
       "<polygon fill=\"none\" points=\"74,-.5 74,-36.5 179,-36.5 179,-.5 74,-.5\" stroke=\"#000000\"/>\n",
       "<text fill=\"#000000\" font-family=\"Times,serif\" font-size=\"14.00\" text-anchor=\"middle\" x=\"126.5\" y=\"-14.8\">dense_8: Dense</text>\n",
       "</g>\n",
       "<!-- 112313478168&#45;&gt;112313513184 -->\n",
       "<g class=\"edge\" id=\"edge11\">\n",
       "<title>112313478168-&gt;112313513184</title>\n",
       "<path d=\"M126.5,-73.4551C126.5,-65.3828 126.5,-55.6764 126.5,-46.6817\" fill=\"none\" stroke=\"#000000\"/>\n",
       "<polygon fill=\"#000000\" points=\"130.0001,-46.5903 126.5,-36.5904 123.0001,-46.5904 130.0001,-46.5903\" stroke=\"#000000\"/>\n",
       "</g>\n",
       "</g>\n",
       "</svg>"
      ],
      "text/plain": [
       "<IPython.core.display.SVG object>"
      ]
     },
     "execution_count": 7,
     "metadata": {},
     "output_type": "execute_result"
    }
   ],
   "source": [
    "SVG(model_to_dot(model_2).create(prog='dot', format='svg'))"
   ]
  },
  {
   "cell_type": "markdown",
   "metadata": {},
   "source": [
    "複雑な構造にしてみたが、accは下がった。"
   ]
  },
  {
   "cell_type": "markdown",
   "metadata": {},
   "source": [
    "### ラッパーとしてのKeras\n",
    "後回し"
   ]
  },
  {
   "cell_type": "markdown",
   "metadata": {},
   "source": [
    "### 【問題3】Iris（多値分類）をKerasで学習"
   ]
  },
  {
   "cell_type": "code",
   "execution_count": 8,
   "metadata": {
    "ExecuteTime": {
     "end_time": "2019-09-09T06:57:31.116370Z",
     "start_time": "2019-09-09T06:57:31.098489Z"
    }
   },
   "outputs": [],
   "source": [
    "# データセットの読み込み\n",
    "dataset_path = \"Iris.csv\"\n",
    "df = pd.read_csv(dataset_path)\n",
    "# ３種全てなのでデータフレームから条件抽出しない\n",
    "\n",
    "y = df[\"Species\"]\n",
    "X = df.loc[:, [\"SepalLengthCm\", \"SepalWidthCm\",\n",
    "               \"PetalLengthCm\", \"PetalWidthCm\"]]\n",
    "y = np.array(y).reshape((-1, 1))\n",
    "X = np.array(X)\n",
    "# ラベルをone-hot encording\n",
    "from sklearn.preprocessing import OneHotEncoder\n",
    "enc = OneHotEncoder(categories=\"auto\", sparse=False, dtype=np.int)\n",
    "y = enc.fit_transform(y)\n",
    "\n",
    "#y = y.astype(np.int)[:, np.newaxis]\n",
    "\n",
    "# trainとtestに分割\n",
    "X_train, X_test, y_train, y_test = train_test_split(\n",
    "    X, y, test_size=0.2, random_state=0)\n",
    "# さらにtrainとvalに分割\n",
    "X_train, X_val, y_train, y_val = train_test_split(\n",
    "    X_train, y_train, test_size=0.2, random_state=0)"
   ]
  },
  {
   "cell_type": "code",
   "execution_count": 9,
   "metadata": {
    "ExecuteTime": {
     "end_time": "2019-09-09T06:57:31.198722Z",
     "start_time": "2019-09-09T06:57:31.119018Z"
    }
   },
   "outputs": [],
   "source": [
    "#K.clear_session()\n",
    "input_data = tf.keras.layers.Input(shape=(4,))\n",
    "x1 = tf.keras.layers.Dense(100, activation=tf.nn.relu)(input_data)\n",
    "x2 = tf.keras.layers.Dense(100, activation=tf.nn.relu)(x1)\n",
    "output = tf.keras.layers.Dense(3, activation=tf.nn.softmax)(x2) #３値分類なので出力ユニットは３\n",
    "model_3 = tf.keras.Model(inputs=input_data, outputs=output)"
   ]
  },
  {
   "cell_type": "code",
   "execution_count": 10,
   "metadata": {
    "ExecuteTime": {
     "end_time": "2019-09-09T06:57:32.711578Z",
     "start_time": "2019-09-09T06:57:31.202538Z"
    }
   },
   "outputs": [
    {
     "name": "stdout",
     "output_type": "stream",
     "text": [
      "Train on 96 samples, validate on 24 samples\n",
      "Epoch 1/10\n",
      "96/96 [==============================] - 0s 3ms/sample - loss: 0.7603 - acc: 0.6042 - val_loss: 0.7737 - val_acc: 0.7083\n",
      "Epoch 2/10\n",
      "96/96 [==============================] - 0s 293us/sample - loss: 0.5770 - acc: 0.7188 - val_loss: 0.4131 - val_acc: 0.7083\n",
      "Epoch 3/10\n",
      "96/96 [==============================] - 0s 289us/sample - loss: 0.3937 - acc: 0.7500 - val_loss: 0.3993 - val_acc: 0.7500\n",
      "Epoch 4/10\n",
      "96/96 [==============================] - 0s 184us/sample - loss: 0.2915 - acc: 0.9167 - val_loss: 0.3045 - val_acc: 0.9167\n",
      "Epoch 5/10\n",
      "96/96 [==============================] - 0s 220us/sample - loss: 0.1977 - acc: 0.9688 - val_loss: 0.2532 - val_acc: 0.9583\n",
      "Epoch 6/10\n",
      "96/96 [==============================] - 0s 309us/sample - loss: 0.1615 - acc: 0.9375 - val_loss: 0.2345 - val_acc: 0.8333\n",
      "Epoch 7/10\n",
      "96/96 [==============================] - 0s 305us/sample - loss: 0.1765 - acc: 0.9062 - val_loss: 0.2544 - val_acc: 0.9167\n",
      "Epoch 8/10\n",
      "96/96 [==============================] - 0s 262us/sample - loss: 0.0834 - acc: 0.9792 - val_loss: 0.2016 - val_acc: 0.9167\n",
      "Epoch 9/10\n",
      "96/96 [==============================] - 0s 200us/sample - loss: 0.0726 - acc: 0.9792 - val_loss: 0.2361 - val_acc: 0.8333\n",
      "Epoch 10/10\n",
      "96/96 [==============================] - 0s 318us/sample - loss: 0.0697 - acc: 0.9688 - val_loss: 0.1891 - val_acc: 0.9583\n"
     ]
    }
   ],
   "source": [
    "#コンパイル\n",
    "model_3.compile(optimizer=tf.train.AdamOptimizer(learning_rate=0.01),\n",
    "              loss='categorical_crossentropy',\n",
    "              metrics=['accuracy'])\n",
    "\n",
    "history = model_3.fit(X_train, y_train,\n",
    "                    batch_size=10,\n",
    "                    epochs=10,\n",
    "                    verbose=1,\n",
    "                   validation_data=(X_val, y_val))"
   ]
  },
  {
   "cell_type": "markdown",
   "metadata": {},
   "source": [
    "### 【問題4】House PricesをKerasで学習"
   ]
  },
  {
   "cell_type": "code",
   "execution_count": 11,
   "metadata": {
    "ExecuteTime": {
     "end_time": "2019-09-09T06:57:32.775791Z",
     "start_time": "2019-09-09T06:57:32.713215Z"
    }
   },
   "outputs": [],
   "source": [
    "# データセットの読み込み\n",
    "dataset_path = \"train.csv\"\n",
    "df = pd.read_csv(dataset_path)\n",
    "# ３種全てなのでデータフレームから条件抽出しない\n",
    "\n",
    "y = df[\"SalePrice\"]\n",
    "X = df.loc[:, [\"GrLivArea\", \"YearBuilt\"]]\n",
    "y = np.array(y).reshape((-1, 1))\n",
    "X = np.array(X)\n",
    "\n",
    "#対数変換\n",
    "y = np.log10(y)\n",
    "\n",
    "# trainとtestに分割\n",
    "X_train, X_test, y_train, y_test = train_test_split(\n",
    "    X, y, test_size=0.2, random_state=0)\n",
    "# 標準化\n",
    "scaler = StandardScaler()\n",
    "scaler.fit(X_train)\n",
    "X_train = scaler.transform(X_train)\n",
    "X_test = scaler.transform(X_test)\n",
    "\n",
    "# さらにtrainとvalに分割\n",
    "X_train, X_val, y_train, y_val = train_test_split(\n",
    "    X_train, y_train, test_size=0.2, random_state=0)"
   ]
  },
  {
   "cell_type": "code",
   "execution_count": 12,
   "metadata": {
    "ExecuteTime": {
     "end_time": "2019-09-09T06:57:32.861181Z",
     "start_time": "2019-09-09T06:57:32.777461Z"
    }
   },
   "outputs": [],
   "source": [
    "#K.clear_session()\n",
    "input_data = tf.keras.layers.Input(shape=(2,))\n",
    "x1 = tf.keras.layers.Dense(100, activation=tf.nn.relu)(input_data)\n",
    "x2 = tf.keras.layers.Dense(100, activation=tf.nn.relu)(x1)\n",
    "output = tf.keras.layers.Dense(1,)(x2)\n",
    "model_4 = tf.keras.Model(inputs=input_data, outputs=output)"
   ]
  },
  {
   "cell_type": "code",
   "execution_count": 13,
   "metadata": {
    "ExecuteTime": {
     "end_time": "2019-09-09T06:57:35.634435Z",
     "start_time": "2019-09-09T06:57:32.863180Z"
    }
   },
   "outputs": [
    {
     "name": "stdout",
     "output_type": "stream",
     "text": [
      "WARNING:tensorflow:From /Users/ryuji_sato/.pyenv/versions/anaconda3-5.3.1/lib/python3.7/site-packages/tensorflow/python/keras/utils/losses_utils.py:170: to_float (from tensorflow.python.ops.math_ops) is deprecated and will be removed in a future version.\n",
      "Instructions for updating:\n",
      "Use tf.cast instead.\n",
      "Train on 934 samples, validate on 234 samples\n",
      "Epoch 1/10\n",
      "934/934 [==============================] - 0s 456us/sample - loss: 1.9711 - mean_squared_error: 1.9711 - val_loss: 0.0248 - val_mean_squared_error: 0.0248\n",
      "Epoch 2/10\n",
      "934/934 [==============================] - 0s 184us/sample - loss: 0.0196 - mean_squared_error: 0.0196 - val_loss: 0.0136 - val_mean_squared_error: 0.0136\n",
      "Epoch 3/10\n",
      "934/934 [==============================] - 0s 180us/sample - loss: 0.0152 - mean_squared_error: 0.0152 - val_loss: 0.0105 - val_mean_squared_error: 0.0105\n",
      "Epoch 4/10\n",
      "934/934 [==============================] - 0s 169us/sample - loss: 0.0126 - mean_squared_error: 0.0126 - val_loss: 0.0243 - val_mean_squared_error: 0.0243\n",
      "Epoch 5/10\n",
      "934/934 [==============================] - 0s 177us/sample - loss: 0.0177 - mean_squared_error: 0.0177 - val_loss: 0.0196 - val_mean_squared_error: 0.0196\n",
      "Epoch 6/10\n",
      "934/934 [==============================] - 0s 183us/sample - loss: 0.0176 - mean_squared_error: 0.0176 - val_loss: 0.0224 - val_mean_squared_error: 0.0224\n",
      "Epoch 7/10\n",
      "934/934 [==============================] - 0s 184us/sample - loss: 0.0281 - mean_squared_error: 0.0281 - val_loss: 0.0150 - val_mean_squared_error: 0.0150\n",
      "Epoch 8/10\n",
      "934/934 [==============================] - 0s 178us/sample - loss: 0.0180 - mean_squared_error: 0.0180 - val_loss: 0.0161 - val_mean_squared_error: 0.0161\n",
      "Epoch 9/10\n",
      "934/934 [==============================] - 0s 187us/sample - loss: 0.0218 - mean_squared_error: 0.0218 - val_loss: 0.0164 - val_mean_squared_error: 0.0164\n",
      "Epoch 10/10\n",
      "934/934 [==============================] - 0s 173us/sample - loss: 0.0149 - mean_squared_error: 0.0149 - val_loss: 0.0406 - val_mean_squared_error: 0.0406\n"
     ]
    }
   ],
   "source": [
    "#コンパイル\n",
    "model_4.compile(optimizer=tf.train.AdamOptimizer(learning_rate=0.01),\n",
    "              loss='mean_squared_error',\n",
    "              metrics=['mean_squared_error'])\n",
    "\n",
    "history = model_4.fit(X_train, y_train,\n",
    "                    batch_size=10,\n",
    "                    epochs=10,\n",
    "                    verbose=1,\n",
    "                   validation_data=(X_val, y_val))"
   ]
  },
  {
   "cell_type": "markdown",
   "metadata": {},
   "source": [
    "### 【問題5】MNISTをKerasで学習"
   ]
  },
  {
   "cell_type": "code",
   "execution_count": 14,
   "metadata": {
    "ExecuteTime": {
     "end_time": "2019-09-09T06:57:36.039556Z",
     "start_time": "2019-09-09T06:57:35.640898Z"
    }
   },
   "outputs": [],
   "source": [
    "from keras.datasets import mnist\n",
    "(X_train, y_train), (X_test, y_test) = mnist.load_data()"
   ]
  },
  {
   "cell_type": "code",
   "execution_count": 15,
   "metadata": {
    "ExecuteTime": {
     "end_time": "2019-09-09T06:57:36.051882Z",
     "start_time": "2019-09-09T06:57:36.041083Z"
    }
   },
   "outputs": [],
   "source": [
    "# 平滑化\n",
    "X_train = X_train.reshape(-1, 784)\n",
    "X_test = X_test.reshape(-1, 784)"
   ]
  },
  {
   "cell_type": "code",
   "execution_count": 16,
   "metadata": {
    "ExecuteTime": {
     "end_time": "2019-09-09T06:57:36.868947Z",
     "start_time": "2019-09-09T06:57:36.058798Z"
    }
   },
   "outputs": [
    {
     "name": "stdout",
     "output_type": "stream",
     "text": [
      "(48000, 784)\n",
      "(12000, 784)\n"
     ]
    }
   ],
   "source": [
    "# 前処理\n",
    "X_train = X_train.astype(np.float)\n",
    "X_test = X_test.astype(np.float)\n",
    "X_train /= 255\n",
    "X_test /= 255\n",
    "enc = OneHotEncoder(handle_unknown='ignore', sparse=False)\n",
    "y_train = enc.fit_transform(y_train[:, np.newaxis])\n",
    "y_test = enc.transform(y_test[:, np.newaxis])\n",
    "X_train, X_val, y_train, y_val = train_test_split(X_train, y_train, test_size=0.2)\n",
    "print(X_train.shape) # (48000, 784)\n",
    "print(X_val.shape) # (12000, 784)"
   ]
  },
  {
   "cell_type": "code",
   "execution_count": 17,
   "metadata": {
    "ExecuteTime": {
     "end_time": "2019-09-09T06:57:36.958731Z",
     "start_time": "2019-09-09T06:57:36.875641Z"
    }
   },
   "outputs": [],
   "source": [
    "#K.clear_session()\n",
    "input_data = tf.keras.layers.Input(shape=(784,))\n",
    "x1 = tf.keras.layers.Dense(100, activation=tf.nn.relu)(input_data)\n",
    "x2 = tf.keras.layers.Dense(100, activation=tf.nn.relu)(x1)\n",
    "output = tf.keras.layers.Dense(10,activation=tf.nn.softmax)(x2)\n",
    "model_5 = tf.keras.Model(inputs=input_data, outputs=output)"
   ]
  },
  {
   "cell_type": "code",
   "execution_count": 18,
   "metadata": {
    "ExecuteTime": {
     "end_time": "2019-09-09T06:59:41.552675Z",
     "start_time": "2019-09-09T06:57:36.960385Z"
    }
   },
   "outputs": [
    {
     "name": "stdout",
     "output_type": "stream",
     "text": [
      "Train on 48000 samples, validate on 12000 samples\n",
      "Epoch 1/10\n",
      "48000/48000 [==============================] - 13s 262us/sample - loss: 0.3751 - acc: 0.8970 - val_loss: 0.2740 - val_acc: 0.9290\n",
      "Epoch 2/10\n",
      "48000/48000 [==============================] - 12s 254us/sample - loss: 0.2834 - acc: 0.9300 - val_loss: 0.2535 - val_acc: 0.9422\n",
      "Epoch 3/10\n",
      "48000/48000 [==============================] - 12s 253us/sample - loss: 0.2499 - acc: 0.9403 - val_loss: 0.2589 - val_acc: 0.9388\n",
      "Epoch 4/10\n",
      "48000/48000 [==============================] - 12s 256us/sample - loss: 0.2407 - acc: 0.9467 - val_loss: 0.2317 - val_acc: 0.9487\n",
      "Epoch 5/10\n",
      "48000/48000 [==============================] - 12s 258us/sample - loss: 0.2243 - acc: 0.9493 - val_loss: 0.2316 - val_acc: 0.9478\n",
      "Epoch 6/10\n",
      "48000/48000 [==============================] - 12s 256us/sample - loss: 0.2290 - acc: 0.9498 - val_loss: 0.2816 - val_acc: 0.9407\n",
      "Epoch 7/10\n",
      "48000/48000 [==============================] - 12s 255us/sample - loss: 0.2168 - acc: 0.9514 - val_loss: 0.3313 - val_acc: 0.9356\n",
      "Epoch 8/10\n",
      "48000/48000 [==============================] - 12s 255us/sample - loss: 0.2274 - acc: 0.9525 - val_loss: 0.3056 - val_acc: 0.9392\n",
      "Epoch 9/10\n",
      "48000/48000 [==============================] - 12s 258us/sample - loss: 0.2287 - acc: 0.9494 - val_loss: 0.2915 - val_acc: 0.9472\n",
      "Epoch 10/10\n",
      "48000/48000 [==============================] - 13s 268us/sample - loss: 0.2444 - acc: 0.9498 - val_loss: 0.3203 - val_acc: 0.9230\n"
     ]
    }
   ],
   "source": [
    "#コンパイル\n",
    "model_5.compile(optimizer=tf.train.AdamOptimizer(learning_rate=0.01),\n",
    "              loss='categorical_crossentropy',\n",
    "              metrics=['accuracy'])\n",
    "\n",
    "history = model_5.fit(X_train, y_train,\n",
    "                    batch_size=10,\n",
    "                    epochs=10,\n",
    "                    verbose=1,\n",
    "                   validation_data=(X_val, y_val))"
   ]
  },
  {
   "cell_type": "code",
   "execution_count": null,
   "metadata": {},
   "outputs": [],
   "source": []
  }
 ],
 "metadata": {
  "kernelspec": {
   "display_name": "Python 3",
   "language": "python",
   "name": "python3"
  },
  "language_info": {
   "codemirror_mode": {
    "name": "ipython",
    "version": 3
   },
   "file_extension": ".py",
   "mimetype": "text/x-python",
   "name": "python",
   "nbconvert_exporter": "python",
   "pygments_lexer": "ipython3",
   "version": "3.7.3"
  }
 },
 "nbformat": 4,
 "nbformat_minor": 2
}
