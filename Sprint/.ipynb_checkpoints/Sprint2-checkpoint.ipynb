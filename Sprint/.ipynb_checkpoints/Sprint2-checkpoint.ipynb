{
 "cells": [
  {
   "cell_type": "markdown",
   "metadata": {},
   "source": [
    " # Sprint課題　機械学習スクラッチ入門"
   ]
  },
  {
   "cell_type": "markdown",
   "metadata": {},
   "source": [
    "## 目的  \n",
    "機械学習スクラッチの準備をする  \n",
    "  \n",
    "## どのように学ぶか   \n",
    "今後の機械学習スクラッチ課題で作成するモデルを、scikit-learnを用いて一度動かしておきます。これまでの復習を兼ねたスクラッチ課題の準備です。\n"
   ]
  },
  {
   "cell_type": "markdown",
   "metadata": {},
   "source": [
    "## スクラッチ  \n",
    "このSprintでは機械学習手法のスクラッチ課題に取り組む準備を行います。scikit-learnを用いて分類・回帰問題を解くコードを書いておき、今後のSprintではそれと同じ動作をするクラスをスクラッチで作成していきます。  \n",
    "  \n",
    "スクラッチの意義  \n",
    "ここでのスクラッチとは、NumPyなどの基本的なライブラリを組み合わせることで、scikit-learnのような応用的なライブラリと同じ機能のクラス・関数を自作することを指します。  \n",
    "スクラッチをすることでscikit-learnなどのライブラリを動かすだけでは掴みづらい、アルゴリズムの深い理解を目指します。コーディングのスキル向上も兼ねますが、それは主な目的ではありません。  \n",
    "以下のような効果を狙っています。  \n",
    "・新たな手法に出会った時に理論・数式を理解しやすくする  \n",
    "・ライブラリを使う上での曖昧さを減らす  \n",
    "・既存の実装を読みやすくする  "
   ]
  },
  {
   "cell_type": "markdown",
   "metadata": {},
   "source": [
    "### 【問題1】train_test_splitのスクラッチ  \n",
    "スクラッチの練習として、scikit-learnのtrain_test_splitを自作してみます。以下の雛形をベースとして関数を完成させてください。\n",
    "[sklearn.model_selection.train_test_split — scikit-learn 0.21.3 documentation](https://scikit-learn.org/stable/modules/generated/sklearn.model_selection.train_test_split.html)  \n",
    "なお、作成した関数がscikit-learnのtrain_test_splitと同じ動作をしているか必ず確認をするようにしましょう。"
   ]
  },
  {
   "cell_type": "markdown",
   "metadata": {},
   "source": [
    "**雛形**  \n",
    "def scratch_train_test_split(X, y, train_size=0.8,):  \n",
    "    \"\"\"  \n",
    "    検証用データを分割する。\n",
    "\n",
    "    Parameters\n",
    "    ----------\n",
    "    X : 次の形のndarray, shape (n_samples, n_features)\n",
    "      学習データ\n",
    "    y : 次の形のndarray, shape (n_samples, )\n",
    "      正解値\n",
    "    train_size : float (0<train_size<1)\n",
    "      何割をtrainとするか指定\n",
    "\n",
    "    Returns\n",
    "    ----------\n",
    "    X_train : 次の形のndarray, shape (n_samples, n_features)\n",
    "      学習データ\n",
    "    X_test : 次の形のndarray, shape (n_samples, n_features)\n",
    "      検証データ\n",
    "    y_train : 次の形のndarray, shape (n_samples, )\n",
    "      学習データの正解値\n",
    "    y_test : 次の形のndarray, shape (n_samples, )\n",
    "      検証データの正解値\n",
    "    \"\"\"\n",
    "    #ここにコードを書く\n",
    "    pass\n",
    "\n",
    "    return X_train, X_test, y_train, y_test"
   ]
  },
  {
   "cell_type": "code",
   "execution_count": 49,
   "metadata": {},
   "outputs": [],
   "source": [
    "# ライブラリのインポート\n",
    "import pandas as pd\n",
    "import numpy as np\n",
    "import matplotlib.pyplot as plt\n",
    "%matplotlib inline \n",
    "import seaborn as sns\n",
    "from sklearn.model_selection import train_test_split\n",
    "from sklearn.preprocessing import StandardScaler\n",
    "from sklearn.ensemble import RandomForestClassifier\n",
    "import missingno as msno\n",
    "# 層化抽出法を用いたK-分割交差検証\n",
    "from sklearn.model_selection import StratifiedKFold, cross_validate\n",
    "\n",
    "from sklearn.model_selection import GridSearchCV\n",
    "\n",
    "import threading\n",
    "\n",
    "# 予測結果CSVのファイル名に時刻を入れるため\n",
    "from datetime import datetime\n"
   ]
  },
  {
   "cell_type": "code",
   "execution_count": 69,
   "metadata": {},
   "outputs": [],
   "source": [
    "def scratch_train_test_split(X, y, train_size=0.8,):\n",
    "    \"\"\"\n",
    "    検証用データを分割する。\n",
    "\n",
    "    Parameters\n",
    "    ----------\n",
    "    X : 次の形のndarray, shape (n_samples, n_features)\n",
    "      学習データ\n",
    "    y : 次の形のndarray, shape (n_samples, )\n",
    "      正解値\n",
    "    train_size : float (0<train_size<1)\n",
    "      何割をtrainとするか指定\n",
    "      要素数に端数が生じた場合は切り捨てにする。\n",
    "\n",
    "    Returns\n",
    "    ----------\n",
    "    X_train : 次の形のndarray, shape (n_samples, n_features)\n",
    "      学習データ\n",
    "    X_test : 次の形のndarray, shape (n_samples, n_features)\n",
    "      検証データ\n",
    "    y_train : 次の形のndarray, shape (n_samples, )\n",
    "      学習データの正解値\n",
    "    y_test : 次の形のndarray, shape (n_samples, )\n",
    "      検証データの正解値\n",
    "    \"\"\"\n",
    "    \n",
    "    # 受け取った配列のサイズを調べる\n",
    "    #print(X.size)\n",
    "    size_arry_X = X.size\n",
    "    #print(arry_size_X)\n",
    "    \n",
    "    size_arry_y = y.size\n",
    "    \n",
    "    #Xとyのサイズが合っているかチェックする\n",
    "    #サイズが合っていなかったら、エラーとする\n",
    "    # tryに書き直す？\n",
    "    assert size_arry_X == size_arry_y, \"X and y is not same size.\"\n",
    "    \n",
    "    # サイズが合っていたら、インデックスを要素とした配列を作る\n",
    "    index_arry = np.arange(size_arry_X)\n",
    "    #print(index_arry)\n",
    "    \n",
    "    #train_size掛ける要素数だけ、インデックスをランダムにポップする。ポップしたインデックスを格納する。\n",
    "    train_size_int = int(size_arry_X * train_size)\n",
    "    #print(np.random.choice(index_arry, train_size_int, replace=False))\n",
    "    index_train = np.random.choice(index_arry, train_size_int, replace=False)\n",
    "    \n",
    "    # trainにないインデックスをtestに振る\n",
    "    index_test_boolean = np.ones(size_arry_X, dtype=bool)\n",
    "    index_test_boolean[index_train] = False\n",
    "    \n",
    "    #格納されたインデックスのX、yをX_train, y_trainとする\n",
    "    X_train, y_train = X[index_train], y[index_train]\n",
    "    \n",
    "    \n",
    "    # ポップしたインデックスにないものをX_test、y_testとする\n",
    "    X_test, y_test = X[index_test_boolean], y[index_test_boolean]\n",
    "    \n",
    "    return X_train, X_test, y_train, y_test"
   ]
  },
  {
   "cell_type": "code",
   "execution_count": 71,
   "metadata": {},
   "outputs": [
    {
     "name": "stdout",
     "output_type": "stream",
     "text": [
      "[0 1 2 3 4 5]\n"
     ]
    }
   ],
   "source": [
    "# 検証\n",
    "arry_test_X = np.array([0, 1, 2, 3, 4, 5])\n",
    "print(arry_test_X)\n",
    "arry_test_y = np.array([0, 0, 1, 1, 2, 2])"
   ]
  },
  {
   "cell_type": "code",
   "execution_count": 72,
   "metadata": {},
   "outputs": [
    {
     "data": {
      "text/plain": [
       "(array([5, 4, 2, 3]), array([0, 1]), array([2, 2, 1, 1]), array([0, 0]))"
      ]
     },
     "execution_count": 72,
     "metadata": {},
     "output_type": "execute_result"
    }
   ],
   "source": [
    "scratch_train_test_split(arry_test_X, arry_test_y)"
   ]
  },
  {
   "cell_type": "code",
   "execution_count": null,
   "metadata": {},
   "outputs": [],
   "source": []
  },
  {
   "cell_type": "code",
   "execution_count": null,
   "metadata": {},
   "outputs": [],
   "source": []
  }
 ],
 "metadata": {
  "kernelspec": {
   "display_name": "Python 3",
   "language": "python",
   "name": "python3"
  },
  "language_info": {
   "codemirror_mode": {
    "name": "ipython",
    "version": 3
   },
   "file_extension": ".py",
   "mimetype": "text/x-python",
   "name": "python",
   "nbconvert_exporter": "python",
   "pygments_lexer": "ipython3",
   "version": "3.7.3"
  }
 },
 "nbformat": 4,
 "nbformat_minor": 2
}
