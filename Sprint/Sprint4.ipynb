{
 "cells": [
  {
   "cell_type": "markdown",
   "metadata": {},
   "source": [
    "# Sprint 機械学習スクラッチ ロジスティック回帰"
   ]
  },
  {
   "cell_type": "markdown",
   "metadata": {},
   "source": [
    "## 目的\n",
    "・スクラッチを通してロジスティック回帰を理解する\n",
    "・分類問題についての基礎を学ぶ"
   ]
  },
  {
   "cell_type": "markdown",
   "metadata": {},
   "source": [
    "## ロジスティック回帰スクラッチ  \n",
    "\n",
    "ロジスティック回帰のクラスをスクラッチで作成していきます。NumPyなど最低限のライブラリのみを使いアルゴリズムを実装していきます。  \n",
    "以下に雛形を用意してあります。このScratchLogisticRegressionクラスにコードを書き加えていってください。推定関係のメソッドは線形回帰と異なり、ラベルを出力するpredictメソッドと、確率を出力するpredict_probaメソッドの2種類を作成します。  "
   ]
  },
  {
   "cell_type": "code",
   "execution_count": 1,
   "metadata": {
    "ExecuteTime": {
     "end_time": "2019-10-18T08:27:29.898917Z",
     "start_time": "2019-10-18T08:27:28.701914Z"
    }
   },
   "outputs": [],
   "source": [
    "import matplotlib.pyplot as plt\n",
    "%matplotlib inline\n",
    "import numpy as np\n",
    "import pandas as pd\n",
    "\n",
    "from sklearn.datasets import load_iris\n",
    "from sklearn.model_selection import train_test_split\n",
    "from sklearn.preprocessing import StandardScaler\n",
    "from sklearn.linear_model import LogisticRegression\n",
    "from sklearn import metrics"
   ]
  },
  {
   "cell_type": "code",
   "execution_count": 2,
   "metadata": {
    "ExecuteTime": {
     "end_time": "2019-10-18T08:27:29.921614Z",
     "start_time": "2019-10-18T08:27:29.901834Z"
    }
   },
   "outputs": [],
   "source": [
    "class ScratchLogisticRegression():\n",
    "    \"\"\"\n",
    "    ロジスティック回帰のスクラッチ実装\n",
    "\n",
    "    Parameters\n",
    "    ----------\n",
    "    num_iter : int\n",
    "      イテレーション数\n",
    "    lr : float\n",
    "      学習率\n",
    "    no_bias : bool\n",
    "      バイアス項を入れない場合はTrue\n",
    "    verbose : bool\n",
    "      学習過程を出力する場合はTrue\n",
    "\n",
    "    Attributes\n",
    "    ----------\n",
    "    self.coef_ : 次の形のndarray, shape (n_features,)\n",
    "      パラメータ\n",
    "    self.loss : 次の形のndarray, shape (self.iter,)\n",
    "      学習用データに対する損失の記録\n",
    "    self.val_loss : 次の形のndarray, shape (self.iter,)\n",
    "      検証用データに対する損失の記録\n",
    "\n",
    "    \"\"\"\n",
    "\n",
    "    def __init__(self, num_iter, lr, bias, verbose):\n",
    "        # ハイパーパラメータを属性として記録\n",
    "        self.iter = num_iter\n",
    "        self.lr = lr\n",
    "        self.bias = bias\n",
    "        self.verbose = verbose\n",
    "        # 損失を記録する配列を用意\n",
    "        self.loss = np.zeros(self.iter)\n",
    "        self.val_loss = np.zeros(self.iter)\n",
    "\n",
    "    def fit(self, X, y, X_val=None, y_val=None, LAMBDA=1.0):\n",
    "        \"\"\"\n",
    "        ロジスティック回帰を学習する。検証用データが入力された場合はそれに対する損失と精度もイテレーションごとに計算する。\n",
    "\n",
    "        Parameters\n",
    "        ----------\n",
    "        X : 次の形のndarray, shape (n_samples, n_features)\n",
    "            学習用データの特徴量\n",
    "        y : 次の形のndarray, shape (n_samples, )\n",
    "            学習用データの正解値\n",
    "        X_val : 次の形のndarray, shape (n_samples, n_features)\n",
    "            検証用データの特徴量\n",
    "        y_val : 次の形のndarray, shape (n_samples, )\n",
    "            検証用データの正解値\n",
    "       LAMBDA:float\n",
    "           正則化パラメータ(default=1.0)\n",
    "            \n",
    "        \"\"\"\n",
    "\n",
    "        if not self.bias:\n",
    "            #print(\"X.shape\", X.shape)\n",
    "            X = np.concatenate([np.ones((X.shape[0], 1)), X], axis=1)\n",
    "            X_val = np.concatenate([np.ones((X_val.shape[0], 1)), X_val], axis=1)\n",
    "            \n",
    "        self.theta = np.array([np.random.rand() for i in range(X.shape[1])])\n",
    "\n",
    "        \n",
    "        for i in range(self.iter):\n",
    "            #print(\"iter:\", i)\n",
    "            # 引数error どうする？\n",
    "            self._gradient_descent(X, y, LAMBDA)\n",
    "            \n",
    "            # 目的関数（損失関数）の記録\n",
    "            #print(\"self.loss[i]\", self.loss[i])\n",
    "            #print(\"self.J(X, y, LAMBDA) \", self.J(X, y, LAMBDA))\n",
    "            self.loss[i] = self.J(X, y, LAMBDA) \n",
    "            \n",
    "            if X_val is not None and y_val is not None:\n",
    "                self.val_loss[i] = self.J(X_val, y_val, LAMBDA) \n",
    "            \n",
    "            if self.verbose:\n",
    "                #verboseをTrueにした際は学習過程を出力\n",
    "                print(\"iter:\", i)\n",
    "                print(\"theta\", self.theta)\n",
    "\n",
    "\n",
    "    def predict(self, X, threshold=0.5):\n",
    "        \"\"\"\n",
    "        ロジスティック回帰を使いラベルを推定する。\n",
    "\n",
    "        Parameters\n",
    "        ----------\n",
    "        X : 次の形のndarray, shape (n_samples, n_features)\n",
    "            サンプル\n",
    "            \n",
    "        threshold:float\n",
    "            しきい値(default:0.5)\n",
    "\n",
    "        Returns\n",
    "        -------\n",
    "            次の形のndarray, shape (n_samples, 1)\n",
    "            ロジスティック回帰による推定結果\n",
    "        \"\"\"\n",
    "        #biasの扱いがよく分からない\n",
    "        \"\"\"\n",
    "        if not self.bias:\n",
    "            result = (self.predict_proba(X) >= threshold + 1).astype(np.int)\n",
    "        else:\n",
    "            result = (self.predict_proba(X) >= threshold).astype(np.int)\n",
    "        \"\"\"\n",
    "        result = (self.predict_proba(X) >= threshold).astype(np.int)\n",
    "        return result \n",
    "\n",
    "    def predict_proba(self, X):\n",
    "        \"\"\"\n",
    "        ロジスティック回帰を使い確率を推定する。\n",
    "\n",
    "        Parameters\n",
    "        ----------\n",
    "        X : 次の形のndarray, shape (n_samples, n_features)\n",
    "            サンプル\n",
    "\n",
    "        Returns\n",
    "        -------\n",
    "            次の形のndarray, shape (n_samples, 1)\n",
    "            ロジスティック回帰による推定結果\n",
    "        \"\"\"\n",
    "        #print(self.bias)\n",
    "        if not self.bias:\n",
    "            #print(\"X.shape\", X.shape)\n",
    "            X = np.concatenate([np.ones((X.shape[0], 1)), X], axis=1)\n",
    "            \n",
    "        return self._logistic_hypothesis(X)\n",
    "    \n",
    "    #【問題1】仮定関数\n",
    "    def _logistic_hypothesis(self, X):\n",
    "        \"\"\"\n",
    "        ロジスティック回帰の仮定関数を計算する\n",
    "\n",
    "        Parameters\n",
    "        ----------\n",
    "        X : 次の形のndarray, shape (n_samples, n_features)\n",
    "        学習データ\n",
    "\n",
    "        Returns\n",
    "        -------\n",
    "        次の形のndarray, shape (n_samples, 1)\n",
    "        線形の仮定関数による推定結果\n",
    "\n",
    "        \"\"\"\n",
    "        return 1/(1+ np.exp(-np.dot(X, self.theta.T)))\n",
    "    \n",
    "    # 【問題2】最急降下法\n",
    "    def _gradient_descent(self, X, y, LAMBDA, error=0):\n",
    "        \"\"\"\n",
    "        最急降下法より学習させる\n",
    "        \n",
    "        Parameters\n",
    "        ----------\n",
    "        X : 次の形のndarray, shape (n_samples, n_features)\n",
    "        学習データ\n",
    "        \n",
    "        y : 次の形のndarray, shape (n_samples, )\n",
    "            学習用データの正解値\n",
    "        \n",
    "        error:i今のところ、使用していない        \n",
    "\n",
    "        Returns\n",
    "        -------\n",
    "        なし\n",
    "        \"\"\"\n",
    "        #print(\"X.shape\", X.shape)\n",
    "        #print(\"np.dot(self._linear_hypothesis(X) - y , X)\" , np.dot(self._linear_hypothesis(X) - y , X))\n",
    "        # パラメータを更新\n",
    "        # X.shapeの方が良い？\n",
    "\n",
    "        #print(\"パラメータ更新前:{}\".format(self.theta))\n",
    "        #self.theta = self.theta - (self.lr /X.shape[0] * (np.dot((self._logistic_hypothesis(X) - y) + (LAMBDA * np.hstack([0, np.square(self.theta[1:])])).T)))\n",
    "        #self.theta = self.theta - (self.lr /X.shape[0] * (np.dot((self._logistic_hypothesis(X) - y)))) \n",
    "        #theta_copy = self.theta\n",
    "        #print(\"勾配\",self.lr /X.shape[0] * ((np.dot(X.T, self._logistic_hypothesis(X) - y))))\n",
    "        #print(\"正則化\", LAMBDA*np.hstack([0, theta_copy[1:]]))\n",
    "        #print(\"np.dot(X.T, self._logistic_hypothesis(X) - y\", np.dot(X.T, self._logistic_hypothesis(X) - y))\n",
    "        \n",
    "        # バイアス項は正則化しない\n",
    "        if not self.bias:\n",
    "            theta_copy = np.hstack([0, self.theta[1:]])\n",
    "        else:\n",
    "            theta_copy = self.theta\n",
    "        \n",
    "        self.theta = self.theta - (self.lr /X.shape[0] * ((np.dot(X.T, self._logistic_hypothesis(X) - y) + LAMBDA*theta_copy)))\n",
    "        #print(\"パラメータ更新後:{}\".format(self.theta))\n",
    "        \n",
    "        return\n",
    " \n",
    "\n",
    "    def J(self, X, y, LAMBDA):\n",
    "        \"\"\"\n",
    "        目的関数（損失関数）\n",
    "        \n",
    "        Parameters\n",
    "        ----------\n",
    "        X : 次の形のndarray, shape (n_samples, n_features)\n",
    "        学習データ\n",
    "        \n",
    "        y : 次の形のndarray, shape (n_samples, )\n",
    "            学習用データの正解値\n",
    "\n",
    "        Returns\n",
    "        -------\n",
    "        float型\n",
    "        目的関数による計算結果\n",
    "        \n",
    "        \"\"\"\n",
    "        #reg_term = LAMBDA * np.hstack([0, np.square(self.theta[1:])])\n",
    "        #1/X.shape[0] * (np.dot(-y, np.log(self._logistic_hypothesis(X))) - np.dot((1 - y), np.log(1 - self._logistic_hypothesis(X)))) +  np.sum(reg_term /2*X.shape[0])\n",
    "        \n",
    "        #print(\"(-y*np.log(self._logistic_hypothesis(X))\", (-y*np.log(self._logistic_hypothesis(X))))\n",
    "        #print(\"((1 - y)*np.log(1 - self._logistic_hypothesis(X)))\", ((1 - y)*np.log(1 - self._logistic_hypothesis(X))))\n",
    "        #print(\"(LAMBDA/2*X.shape[0])*np.sum(np.square(self.theta[1:]))\", (LAMBDA/2*X.shape[0])*np.sum(np.square(self.theta[1:])))\n",
    "        #print(\"\", )\n",
    "              \n",
    "        return 1/X.shape[0] * np.sum((-y*np.log(self._logistic_hypothesis(X))) - ((1 - y)*np.log(1 - self._logistic_hypothesis(X)))) +  (LAMBDA/(2*X.shape[0]))*np.sum(np.square(self.theta[1:]))\n",
    "\n",
    "    def to_matrix(x):\n",
    "        x3 = x[:, 0, np.newaxis] ** 2\n",
    "        return np.hstack([x, x3])"
   ]
  },
  {
   "cell_type": "markdown",
   "metadata": {},
   "source": [
    "## 【問題1】仮定関数\n",
    "ロジスティック回帰の仮定関数のメソッドをScratchLogisticRegressionクラスに実装してください。  \n",
    "ロジスティック回帰の仮定関数は、線形回帰の仮定関数を シグモイド関数 に通したものです。シグモイド関数は以下の式で表されます。  \n",
    "g\n",
    "(\n",
    "z\n",
    ")\n",
    "=\n",
    "1\n",
    "1\n",
    "+\n",
    "e\n",
    "−\n",
    "z\n",
    ".\n",
    "線形回帰の仮定関数は次の式でした。\n",
    "h\n",
    "θ\n",
    "(\n",
    "x\n",
    ")\n",
    "=\n",
    "θ\n",
    "T\n",
    "⋅\n",
    "x\n",
    ".\n",
    "まとめて書くと、ロジスティック回帰の仮定関数は次のようになります。\n",
    "h\n",
    "θ\n",
    "(\n",
    "x\n",
    ")\n",
    "=\n",
    "1\n",
    "1\n",
    "+\n",
    "e\n",
    "−\n",
    "θ\n",
    "T\n",
    "⋅\n",
    "x\n",
    ".\n",
    "x\n",
    " : 特徴量ベクトル\n",
    "θ\n",
    " : パラメータ（重み）ベクトル"
   ]
  },
  {
   "cell_type": "markdown",
   "metadata": {},
   "source": [
    "## 【問題2】最急降下法\n",
    "最急降下法により学習させる実装を行なってください。以下の式で表されるパラメータの更新式のメソッド_gradient_descentを追加し、fit\n",
    "メソッドから呼び出すようにしてください。\n",
    "θ\n",
    "j\n",
    ":=\n",
    "θ\n",
    "j\n",
    "−\n",
    "α\n",
    "∂\n",
    "J\n",
    "(\n",
    "θ\n",
    ")\n",
    "∂\n",
    "θ\n",
    "j\n",
    "∂\n",
    "J\n",
    "(\n",
    "θ\n",
    ")\n",
    "∂\n",
    "θ\n",
    "0\n",
    "=\n",
    "1\n",
    "m\n",
    "m\n",
    "∑\n",
    "i\n",
    "=\n",
    "1\n",
    " \n",
    "(\n",
    "h\n",
    "θ\n",
    "(\n",
    "x\n",
    "(\n",
    "i\n",
    ")\n",
    ")\n",
    "−\n",
    "y\n",
    "(\n",
    "i\n",
    ")\n",
    ")\n",
    "x\n",
    "(\n",
    "i\n",
    ")\n",
    "j\n",
    ",\n",
    "j\n",
    "=\n",
    "0\n",
    "∂\n",
    "J\n",
    "(\n",
    "θ\n",
    ")\n",
    "∂\n",
    "θ\n",
    "j\n",
    "=\n",
    "(\n",
    "1\n",
    "m\n",
    "m\n",
    "∑\n",
    "i\n",
    "=\n",
    "1\n",
    " \n",
    "(\n",
    "h\n",
    "θ\n",
    "(\n",
    "x\n",
    "(\n",
    "i\n",
    ")\n",
    ")\n",
    "−\n",
    "y\n",
    "(\n",
    "i\n",
    ")\n",
    ")\n",
    "x\n",
    "(\n",
    "i\n",
    ")\n",
    "j\n",
    ")\n",
    "+\n",
    "λ\n",
    "m\n",
    "θ\n",
    "j\n",
    "　\n",
    ",\n",
    "j\n",
    "≥\n",
    "1\n",
    "α\n",
    " : 学習率\n",
    "i\n",
    " : サンプルのインデックス\n",
    "j\n",
    " : 特徴量のインデックス\n",
    "m\n",
    " : 入力されるデータの数\n",
    "h\n",
    "θ\n",
    "(\n",
    ")\n",
    " : 仮定関数\n",
    "x\n",
    " : 特徴量ベクトル\n",
    "θ\n",
    " : パラメータ（重み）ベクトル\n",
    "x\n",
    "(\n",
    "i\n",
    ")\n",
    " : i番目のサンプルの特徴量ベクトル\n",
    "y\n",
    "(\n",
    "i\n",
    ")\n",
    " : i番目のサンプルの正解ラベル\n",
    "θ\n",
    "j\n",
    " : j番目のパラメータ（重み）\n",
    "λ\n",
    " : 正則化パラメータ"
   ]
  },
  {
   "cell_type": "markdown",
   "metadata": {},
   "source": [
    "## 【問題3】推定\n",
    "推定する仕組みを実装してください。ScratchLogisticRegressionクラスの雛形に含まれるpredictメソッドとpredict_probaメソッドに書き加えてください。\n",
    "仮定関数 \n",
    "h\n",
    "θ\n",
    "(\n",
    "x\n",
    ")\n",
    " の出力がpredict_probaの返り値、さらにその値に閾値を設けて1と0のラベルとしたものがpredictの返り値となります。"
   ]
  },
  {
   "cell_type": "markdown",
   "metadata": {},
   "source": [
    "## 【問題4】目的関数\n",
    "以下の数式で表されるロジスティック回帰の 目的関数（損失関数） を実装してください。そして、これをself.loss, self.val_lossに記録するようにしてください。\n",
    "なお、この数式には正則化項が含まれています。\n",
    "＊数式が見切れる場合、DIVERを全画面にして御覧ください。\n",
    "J\n",
    "(\n",
    "θ\n",
    ")\n",
    "=\n",
    "1\n",
    "m\n",
    "m\n",
    "∑\n",
    "i\n",
    "=\n",
    "1\n",
    " \n",
    "[\n",
    "−\n",
    "y\n",
    "(\n",
    "i\n",
    ")\n",
    "l\n",
    "o\n",
    "g\n",
    "(\n",
    "h\n",
    "θ\n",
    "(\n",
    "x\n",
    "(\n",
    "i\n",
    ")\n",
    ")\n",
    ")\n",
    "−\n",
    "(\n",
    "1\n",
    "−\n",
    "y\n",
    "(\n",
    "i\n",
    ")\n",
    ")\n",
    "l\n",
    "o\n",
    "g\n",
    "(\n",
    "1\n",
    "−\n",
    "h\n",
    "θ\n",
    "(\n",
    "x\n",
    "(\n",
    "i\n",
    ")\n",
    ")\n",
    ")\n",
    "]\n",
    "+\n",
    "λ\n",
    "2\n",
    "m\n",
    "n\n",
    "∑\n",
    "j\n",
    "=\n",
    "1\n",
    " \n",
    "θ\n",
    "2\n",
    "j\n",
    ".\n",
    "m\n",
    " : 入力されるデータの数\n",
    "h\n",
    "θ\n",
    "(\n",
    ")\n",
    " : 仮定関数\n",
    "x\n",
    " : 特徴量ベクトル\n",
    "θ\n",
    " : パラメータ（重み）ベクトル\n",
    "x\n",
    "(\n",
    "i\n",
    ")\n",
    " : i番目のサンプルの特徴量ベクトル\n",
    "y\n",
    "(\n",
    "i\n",
    ")\n",
    " : i番目のサンプルの正解ラベル\n",
    "θ\n",
    "j\n",
    " : j番目のパラメータ（重み）\n",
    "n\n",
    " : 特徴量の数\n",
    "λ\n",
    " : 正則化パラメータ\n"
   ]
  },
  {
   "cell_type": "markdown",
   "metadata": {},
   "source": [
    "## 検証"
   ]
  },
  {
   "cell_type": "markdown",
   "metadata": {},
   "source": [
    "### 【問題6】学習と推定\n",
    "機械学習スクラッチ入門のSprintで用意したirisデータセットのvirgicolorとvirginicaの2値分類に対してスクラッチ実装の学習と推定を行なってください。\n",
    "scikit-learnによる実装と比べ、正しく動いているかを確認してください。\n",
    "AccuracyやPrecision、Recallなどの指標値はscikit-learnを使用してください。"
   ]
  },
  {
   "cell_type": "code",
   "execution_count": 3,
   "metadata": {
    "ExecuteTime": {
     "end_time": "2019-10-18T08:27:29.949176Z",
     "start_time": "2019-10-18T08:27:29.924021Z"
    }
   },
   "outputs": [
    {
     "data": {
      "text/html": [
       "<div>\n",
       "<style scoped>\n",
       "    .dataframe tbody tr th:only-of-type {\n",
       "        vertical-align: middle;\n",
       "    }\n",
       "\n",
       "    .dataframe tbody tr th {\n",
       "        vertical-align: top;\n",
       "    }\n",
       "\n",
       "    .dataframe thead th {\n",
       "        text-align: right;\n",
       "    }\n",
       "</style>\n",
       "<table border=\"1\" class=\"dataframe\">\n",
       "  <thead>\n",
       "    <tr style=\"text-align: right;\">\n",
       "      <th></th>\n",
       "      <th>sepal_length</th>\n",
       "      <th>petal_length</th>\n",
       "      <th>Species</th>\n",
       "    </tr>\n",
       "  </thead>\n",
       "  <tbody>\n",
       "    <tr>\n",
       "      <th>50</th>\n",
       "      <td>7.0</td>\n",
       "      <td>4.7</td>\n",
       "      <td>1</td>\n",
       "    </tr>\n",
       "    <tr>\n",
       "      <th>51</th>\n",
       "      <td>6.4</td>\n",
       "      <td>4.5</td>\n",
       "      <td>1</td>\n",
       "    </tr>\n",
       "    <tr>\n",
       "      <th>52</th>\n",
       "      <td>6.9</td>\n",
       "      <td>4.9</td>\n",
       "      <td>1</td>\n",
       "    </tr>\n",
       "    <tr>\n",
       "      <th>53</th>\n",
       "      <td>5.5</td>\n",
       "      <td>4.0</td>\n",
       "      <td>1</td>\n",
       "    </tr>\n",
       "    <tr>\n",
       "      <th>54</th>\n",
       "      <td>6.5</td>\n",
       "      <td>4.6</td>\n",
       "      <td>1</td>\n",
       "    </tr>\n",
       "  </tbody>\n",
       "</table>\n",
       "</div>"
      ],
      "text/plain": [
       "    sepal_length  petal_length  Species\n",
       "50           7.0           4.7        1\n",
       "51           6.4           4.5        1\n",
       "52           6.9           4.9        1\n",
       "53           5.5           4.0        1\n",
       "54           6.5           4.6        1"
      ]
     },
     "execution_count": 3,
     "metadata": {},
     "output_type": "execute_result"
    }
   ],
   "source": [
    "iris_dataset = load_iris()\n",
    "X = pd.DataFrame(iris_dataset.data, columns=[\"sepal_length\", \"sepal_width\", \"petal_length\", \"petal_width\"])\n",
    "y = pd.DataFrame(iris_dataset.target, columns=[\"Species\"])\n",
    "df = pd.concat([X, y], axis=1)\n",
    "\n",
    "df_selected = df.query(\"Species == [1, 2]\").loc[:, [\"sepal_length\", \"petal_length\", \"Species\"]]\n",
    "df_selected.head()"
   ]
  },
  {
   "cell_type": "code",
   "execution_count": 4,
   "metadata": {
    "ExecuteTime": {
     "end_time": "2019-10-18T08:27:29.961978Z",
     "start_time": "2019-10-18T08:27:29.951023Z"
    }
   },
   "outputs": [
    {
     "data": {
      "text/html": [
       "<div>\n",
       "<style scoped>\n",
       "    .dataframe tbody tr th:only-of-type {\n",
       "        vertical-align: middle;\n",
       "    }\n",
       "\n",
       "    .dataframe tbody tr th {\n",
       "        vertical-align: top;\n",
       "    }\n",
       "\n",
       "    .dataframe thead th {\n",
       "        text-align: right;\n",
       "    }\n",
       "</style>\n",
       "<table border=\"1\" class=\"dataframe\">\n",
       "  <thead>\n",
       "    <tr style=\"text-align: right;\">\n",
       "      <th></th>\n",
       "      <th>sepal_length</th>\n",
       "      <th>petal_length</th>\n",
       "      <th>Species</th>\n",
       "    </tr>\n",
       "  </thead>\n",
       "  <tbody>\n",
       "    <tr>\n",
       "      <th>50</th>\n",
       "      <td>7.0</td>\n",
       "      <td>4.7</td>\n",
       "      <td>1</td>\n",
       "    </tr>\n",
       "    <tr>\n",
       "      <th>51</th>\n",
       "      <td>6.4</td>\n",
       "      <td>4.5</td>\n",
       "      <td>1</td>\n",
       "    </tr>\n",
       "    <tr>\n",
       "      <th>52</th>\n",
       "      <td>6.9</td>\n",
       "      <td>4.9</td>\n",
       "      <td>1</td>\n",
       "    </tr>\n",
       "    <tr>\n",
       "      <th>53</th>\n",
       "      <td>5.5</td>\n",
       "      <td>4.0</td>\n",
       "      <td>1</td>\n",
       "    </tr>\n",
       "    <tr>\n",
       "      <th>54</th>\n",
       "      <td>6.5</td>\n",
       "      <td>4.6</td>\n",
       "      <td>1</td>\n",
       "    </tr>\n",
       "  </tbody>\n",
       "</table>\n",
       "</div>"
      ],
      "text/plain": [
       "    sepal_length  petal_length  Species\n",
       "50           7.0           4.7        1\n",
       "51           6.4           4.5        1\n",
       "52           6.9           4.9        1\n",
       "53           5.5           4.0        1\n",
       "54           6.5           4.6        1"
      ]
     },
     "execution_count": 4,
     "metadata": {},
     "output_type": "execute_result"
    }
   ],
   "source": [
    "df_selected = df.loc[:, [\"sepal_length\", \"petal_length\", \"Species\"]].query(\"Species == [1, 2]\")\n",
    "df_selected.head()"
   ]
  },
  {
   "cell_type": "code",
   "execution_count": 5,
   "metadata": {
    "ExecuteTime": {
     "end_time": "2019-10-18T08:27:29.969993Z",
     "start_time": "2019-10-18T08:27:29.963810Z"
    }
   },
   "outputs": [
    {
     "name": "stdout",
     "output_type": "stream",
     "text": [
      "X_train.shape : (75, 2), X_test.shape : (25, 2)\n"
     ]
    }
   ],
   "source": [
    "X_train, X_test, y_train_pre, y_test_pre = train_test_split(df_selected.iloc[:, :-1], df_selected.loc[:, \"Species\"], test_size=0.25, random_state=42)\n",
    "\n",
    "print(\"X_train.shape : {}, X_test.shape : {}\".format(X_train.shape, X_test.shape))"
   ]
  },
  {
   "cell_type": "code",
   "execution_count": 6,
   "metadata": {
    "ExecuteTime": {
     "end_time": "2019-10-18T08:27:33.795187Z",
     "start_time": "2019-10-18T08:27:29.972147Z"
    },
    "scrolled": true
   },
   "outputs": [],
   "source": [
    "#標準化\n",
    "scaler = StandardScaler()\n",
    "\n",
    "scaler.fit(X_train)\n",
    "\n",
    "X_train_transformed = scaler.transform(X_train)\n",
    "X_test_transformed = scaler.transform(X_test)\n",
    "\n",
    "#正解ラベルを0,1にする\n",
    "y_train = y_train_pre-1\n",
    "y_test = y_test_pre-1\n",
    "\n",
    "scratch_logistic_reg = ScratchLogisticRegression(3000, 0.01, False, False)\n",
    "scratch_logistic_reg.fit(X_train_transformed, y_train, X_test_transformed, y_test, 0.1)\n",
    "\n",
    "y_pred_proba = scratch_logistic_reg.predict_proba(X_test_transformed)\n",
    "y_pred = scratch_logistic_reg.predict(X_test_transformed)"
   ]
  },
  {
   "cell_type": "code",
   "execution_count": 7,
   "metadata": {
    "ExecuteTime": {
     "end_time": "2019-10-18T08:27:33.802381Z",
     "start_time": "2019-10-18T08:27:33.798252Z"
    }
   },
   "outputs": [],
   "source": [
    "def evaluate(y_true, y_pred):\n",
    "    \"\"\"\n",
    "    2値分類の評価指標を計算する\n",
    "    \"\"\"\n",
    "    acc = metrics.accuracy_score(y_test, y_pred)\n",
    "    precision = metrics.precision_score(y_test, y_pred)\n",
    "    recall = metrics.recall_score(y_test, y_pred)\n",
    "    f1 = metrics.f1_score(y_test, y_pred)\n",
    "    confusion = metrics.confusion_matrix(y_test, y_pred)\n",
    "    return acc, precision, recall, f1, confusion"
   ]
  },
  {
   "cell_type": "code",
   "execution_count": 8,
   "metadata": {
    "ExecuteTime": {
     "end_time": "2019-10-18T08:27:33.814120Z",
     "start_time": "2019-10-18T08:27:33.805379Z"
    }
   },
   "outputs": [
    {
     "name": "stdout",
     "output_type": "stream",
     "text": [
      "acc : 0.84\n",
      "precision : 0.8181818181818182\n",
      "recall : 0.8181818181818182\n",
      "f1 : 0.8181818181818182\n",
      "confusion matrix \n",
      " [[12  2]\n",
      " [ 2  9]]\n",
      "y_pred_proba 推定結果：\n",
      "[0.68508216 0.93215074 0.94948485 0.07691789 0.07757312 0.03902349\n",
      " 0.5100075  0.98740856 0.00668752 0.31831969 0.19385466 0.01905891\n",
      " 0.5100075  0.69100134 0.92978789 0.25272386 0.42082981 0.51460099\n",
      " 0.0373359  0.01326106 0.99794754 0.42531729 0.40744843 0.03800235\n",
      " 0.60735534]\n",
      "y_pred 推定結果：\n",
      "[1 1 1 0 0 0 1 1 0 0 0 0 1 1 1 0 0 1 0 0 1 0 0 0 1]\n"
     ]
    }
   ],
   "source": [
    "print(\"acc : {}\\nprecision : {}\\nrecall : {}\\nf1 : {}\\nconfusion matrix \\n {}\".format(*evaluate(y_test, y_pred)))\n",
    "print(\"y_pred_proba 推定結果：\\n{}\".format(y_pred_proba))\n",
    "print(\"y_pred 推定結果：\\n{}\".format(y_pred))"
   ]
  },
  {
   "cell_type": "markdown",
   "metadata": {},
   "source": [
    "### scikit-learn"
   ]
  },
  {
   "cell_type": "code",
   "execution_count": 9,
   "metadata": {
    "ExecuteTime": {
     "end_time": "2019-10-18T08:27:33.821909Z",
     "start_time": "2019-10-18T08:27:33.815641Z"
    }
   },
   "outputs": [],
   "source": [
    "logistic_reg = LogisticRegression(random_state=0, solver='lbfgs')\n",
    "logistic_reg.fit(X_train_transformed, y_train)\n",
    "y_pred_proba_sl = logistic_reg.predict_proba(X_test_transformed)\n",
    "y_pred_sl = logistic_reg.predict(X_test_transformed)"
   ]
  },
  {
   "cell_type": "code",
   "execution_count": 10,
   "metadata": {
    "ExecuteTime": {
     "end_time": "2019-10-18T08:27:33.833690Z",
     "start_time": "2019-10-18T08:27:33.823751Z"
    }
   },
   "outputs": [
    {
     "name": "stdout",
     "output_type": "stream",
     "text": [
      "acc : 0.84\n",
      "precision : 0.8181818181818182\n",
      "recall : 0.8181818181818182\n",
      "f1 : 0.8181818181818182\n",
      "confusion matrix \n",
      " [[12  2]\n",
      " [ 2  9]]\n",
      "y_pred_proba_sl 推定結果：[[0.30764419 0.69235581]\n",
      " [0.05559464 0.94440536]\n",
      " [0.05362308 0.94637692]\n",
      " [0.92137205 0.07862795]\n",
      " [0.91683684 0.08316316]\n",
      " [0.95881557 0.04118443]\n",
      " [0.49934223 0.50065777]\n",
      " [0.01502866 0.98497134]\n",
      " [0.99233878 0.00766122]\n",
      " [0.77433891 0.22566109]\n",
      " [0.82540531 0.17459469]\n",
      " [0.98122293 0.01877707]\n",
      " [0.49934223 0.50065777]\n",
      " [0.27008507 0.72991493]\n",
      " [0.06988728 0.93011272]\n",
      " [0.79120096 0.20879904]\n",
      " [0.58434107 0.41565893]\n",
      " [0.4688767  0.5311233 ]\n",
      " [0.96931146 0.03068854]\n",
      " [0.98738814 0.01261186]\n",
      " [0.00227853 0.99772147]\n",
      " [0.55443255 0.44556745]\n",
      " [0.66966927 0.33033073]\n",
      " [0.96546623 0.03453377]\n",
      " [0.35665126 0.64334874]]\n",
      "y_pred_sl 推定結果：[1 1 1 0 0 0 1 1 0 0 0 0 1 1 1 0 0 1 0 0 1 0 0 0 1]\n"
     ]
    }
   ],
   "source": [
    "print(\"acc : {}\\nprecision : {}\\nrecall : {}\\nf1 : {}\\nconfusion matrix \\n {}\".format(*evaluate(y_test, y_pred_sl)))\n",
    "print(\"y_pred_proba_sl 推定結果：{}\".format(y_pred_proba_sl))\n",
    "print(\"y_pred_sl 推定結果：{}\".format(y_pred_sl))"
   ]
  },
  {
   "cell_type": "code",
   "execution_count": 11,
   "metadata": {
    "ExecuteTime": {
     "end_time": "2019-10-18T08:27:33.838684Z",
     "start_time": "2019-10-18T08:27:33.835470Z"
    }
   },
   "outputs": [
    {
     "name": "stdout",
     "output_type": "stream",
     "text": [
      "y_pred 推定結果：[1 1 1 0 0 0 1 1 0 0 0 0 1 1 1 0 0 1 0 0 1 0 0 0 1]\n",
      "y_pred_sl 推定結果：[1 1 1 0 0 0 1 1 0 0 0 0 1 1 1 0 0 1 0 0 1 0 0 0 1]\n"
     ]
    }
   ],
   "source": [
    "print(\"y_pred 推定結果：{}\".format(y_pred))\n",
    "print(\"y_pred_sl 推定結果：{}\".format(y_pred_sl))"
   ]
  },
  {
   "cell_type": "markdown",
   "metadata": {},
   "source": [
    "### 【問題7】学習曲線のプロット"
   ]
  },
  {
   "cell_type": "code",
   "execution_count": 12,
   "metadata": {
    "ExecuteTime": {
     "end_time": "2019-10-18T08:27:33.978748Z",
     "start_time": "2019-10-18T08:27:33.840535Z"
    }
   },
   "outputs": [
    {
     "data": {
      "image/png": "[encoded data removed]",
      "text/plain": [
       "<Figure size 432x288 with 1 Axes>"
      ]
     },
     "metadata": {
      "needs_background": "light"
     },
     "output_type": "display_data"
    }
   ],
   "source": [
    "#plt.figure(figsize=(15,10))\n",
    "plt.title(\"model loss\")\n",
    "plt.xlabel(\"iter\")\n",
    "plt.ylabel(\"loss\")\n",
    "plt.plot(scratch_logistic_reg.loss, label=\"loss\")\n",
    "plt.plot(scratch_logistic_reg.val_loss, label=\"val_loss\")\n",
    "plt.legend()\n",
    "plt.show()"
   ]
  },
  {
   "cell_type": "markdown",
   "metadata": {},
   "source": [
    "### 【問題8】決定領域の可視化\n",
    "決定領域を可視化してください。"
   ]
  },
  {
   "cell_type": "code",
   "execution_count": 13,
   "metadata": {
    "ExecuteTime": {
     "end_time": "2019-10-18T08:27:33.988398Z",
     "start_time": "2019-10-18T08:27:33.980416Z"
    }
   },
   "outputs": [],
   "source": [
    "from matplotlib.colors import ListedColormap\n",
    "import matplotlib.patches as mpatches\n",
    "\n",
    "def decision_region(X, y, model, step=0.01, title='decision region', xlabel='xlabel', ylabel='ylabel', target_names=['versicolor', 'virginica']):\n",
    "    \"\"\"\n",
    "    2値分類を2次元の特徴量で学習したモデルの決定領域を描く。\n",
    "    背景の色が学習したモデルによる推定値から描画される。\n",
    "    散布図の点は訓練データまたは検証データである。\n",
    "\n",
    "    Parameters\n",
    "    ----------------\n",
    "    X : ndarray, shape(n_samples, 2)\n",
    "        特徴量\n",
    "    y : ndarray, shape(n_samples,)\n",
    "        ラベル\n",
    "    model : object\n",
    "        学習したモデルのインスンタスを入れる\n",
    "    step : float, (default : 0.1)\n",
    "        推定値を計算する間隔を設定する\n",
    "    title : str\n",
    "        グラフのタイトルの文章を与える\n",
    "    xlabel, ylabel : str\n",
    "        軸ラベルの文章を与える\n",
    "    target_names= : list of str\n",
    "        凡例の一覧を与える\n",
    "    \"\"\"\n",
    "    # setting\n",
    "    scatter_color = ['red', 'blue']\n",
    "    contourf_color = ['pink', 'skyblue']\n",
    "    n_class = 2\n",
    "\n",
    "    # pred\n",
    "    mesh_f0, mesh_f1  = np.meshgrid(np.arange(np.min(X[:,0])-0.5, np.max(X[:,0])+0.5, step), np.arange(np.min(X[:,1])-0.5, np.max(X[:,1])+0.5, step))\n",
    "    mesh = np.c_[np.ravel(mesh_f0),np.ravel(mesh_f1)]\n",
    "    y_pred = model.predict(mesh).reshape(mesh_f0.shape)\n",
    "\n",
    "    # plot\n",
    "    plt.title(title)\n",
    "    plt.xlabel(xlabel)\n",
    "    plt.ylabel(ylabel)\n",
    "    plt.contourf(mesh_f0, mesh_f1, y_pred, n_class-1, cmap=ListedColormap(contourf_color))\n",
    "    plt.contour(mesh_f0, mesh_f1, y_pred, n_class-1, colors='y', linewidths=3, alpha=0.5)\n",
    "    for i, target in enumerate(set(y)):\n",
    "        plt.scatter(X[y==target][:, 0], X[y==target][:, 1], s=80, color=scatter_color[i], label=target_names[i], marker='o')\n",
    "    patches = [mpatches.Patch(color=scatter_color[i], label=target_names[i]) for i in range(n_class)]\n",
    "    plt.legend(handles=patches)\n",
    "    plt.legend()\n",
    "    plt.show()"
   ]
  },
  {
   "cell_type": "code",
   "execution_count": 14,
   "metadata": {
    "ExecuteTime": {
     "end_time": "2019-10-18T08:27:34.281625Z",
     "start_time": "2019-10-18T08:27:33.989922Z"
    }
   },
   "outputs": [
    {
     "data": {
      "image/png": "[encoded data removed]",
      "text/plain": [
       "<Figure size 432x288 with 1 Axes>"
      ]
     },
     "metadata": {
      "needs_background": "light"
     },
     "output_type": "display_data"
    },
    {
     "data": {
      "image/png": "[encoded data removed]",
      "text/plain": [
       "<Figure size 432x288 with 1 Axes>"
      ]
     },
     "metadata": {
      "needs_background": "light"
     },
     "output_type": "display_data"
    }
   ],
   "source": [
    "model = scratch_logistic_reg\n",
    "model_name = \"scratch_logistic_reg\"\n",
    "decision_region(X_train_transformed, y_train, model, title=\"decision region' {}, {}\".format(model_name, \"train\"))\n",
    "decision_region(X_test_transformed, y_test, model, title=\"decision region' {}, {}\".format(model_name, \"test\"))"
   ]
  }
 ],
 "metadata": {
  "celltoolbar": "Raw Cell Format",
  "kernelspec": {
   "display_name": "Python 3",
   "language": "python",
   "name": "python3"
  },
  "language_info": {
   "codemirror_mode": {
    "name": "ipython",
    "version": 3
   },
   "file_extension": ".py",
   "mimetype": "text/x-python",
   "name": "python",
   "nbconvert_exporter": "python",
   "pygments_lexer": "ipython3",
   "version": "3.7.3"
  }
 },
 "nbformat": 4,
 "nbformat_minor": 2
}
