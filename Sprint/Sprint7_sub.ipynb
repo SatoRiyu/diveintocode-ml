{
 "cells": [
  {
   "cell_type": "markdown",
   "metadata": {},
   "source": [
    "# Sprint 機械学習スクラッチ　クラスタリング"
   ]
  },
  {
   "cell_type": "markdown",
   "metadata": {},
   "source": [
    "## 目的\n",
    "スクラッチを通してK-meansを理解する  \n",
    "クラスタ分析を行う  "
   ]
  },
  {
   "cell_type": "code",
   "execution_count": 1,
   "metadata": {
    "ExecuteTime": {
     "end_time": "2019-10-20T14:32:22.770388Z",
     "start_time": "2019-10-20T14:32:21.450625Z"
    }
   },
   "outputs": [],
   "source": [
    "import numpy as np\n",
    "from sklearn.datasets import make_blobs\n",
    "from numpy import linalg as LA\n",
    "\n",
    "import pandas as pd"
   ]
  },
  {
   "cell_type": "markdown",
   "metadata": {},
   "source": [
    "## 2.K-meansスクラッチ\n",
    "K-meansのクラスをスクラッチで作成していきます。NumPyなど最低限のライブラリのみを使いアルゴリズムを実装していきます。  \n",
    "以下に雛形を用意してあります。このScratchKMeansクラスにコードを書き加えていってください。  "
   ]
  },
  {
   "cell_type": "code",
   "execution_count": 2,
   "metadata": {
    "ExecuteTime": {
     "end_time": "2019-10-20T14:32:22.791135Z",
     "start_time": "2019-10-20T14:32:22.773401Z"
    }
   },
   "outputs": [],
   "source": [
    "class ScratchKMeans():\n",
    "    \"\"\"\n",
    "    K-meansのスクラッチ実装\n",
    "\n",
    "    Parameters\n",
    "    ----------\n",
    "    n_clusters : int\n",
    "      クラスタ数\n",
    "    n_init : int\n",
    "      中心点の初期値を何回変えて計算するか\n",
    "    max_iter : int\n",
    "      1回の計算で最大何イテレーションするか\n",
    "    tol : float\n",
    "      イテレーションを終了する基準となる中心点と重心の許容誤差\n",
    "    verbose : bool\n",
    "      学習過程を出力する場合はTrue\n",
    "    \"\"\"\n",
    "\n",
    "    def __init__(self, n_clusters, n_init, max_iter, tol, verbose=False):\n",
    "        # ハイパーパラメータを属性として記録\n",
    "        self.n_clusters = n_clusters\n",
    "        self.n_init = n_init\n",
    "        self.max_iter = max_iter\n",
    "        self.tol = tol\n",
    "        self.verbose = verbose\n",
    "\n",
    "    def fit(self, X):\n",
    "        \"\"\"\n",
    "        K-meansによるクラスタリングを計算\n",
    "        Parameters\n",
    "        ----------\n",
    "        X : 次の形のndarray, shape (n_samples, n_features)\n",
    "            学習用データの特徴量\n",
    "        \"\"\"\n",
    "\n",
    "        #mu_list = np.zeros((self.n_init, self.n_clusters))\n",
    "        #print(\"mu_list.shape\", mu_list.shape)\n",
    "\n",
    "        for i in range(self.n_init):\n",
    "            # muの初期化\n",
    "            mu = self.mu_ini(X, self.n_clusters)\n",
    "            for j in range(self.max_iter):\n",
    "                # 更新前の保存\n",
    "                #rnk_copy = rnk.copy()\n",
    "                mu_copy = mu.copy()\n",
    "\n",
    "                # 更新\n",
    "                rnk = self.distribute_to_clusters(X, mu)\n",
    "                mu = self.move_mu(X, rnk, mu)\n",
    "\n",
    "                # 重心の差が指定した許容値以下になると終了\n",
    "                # これであっているのか？\n",
    "                diff_mu_center = LA.norm(mu_copy - mu, ord=2)\n",
    "                if diff_mu_center <= self.tol:\n",
    "                    # 更新前に戻す必要ある？\n",
    "                    #rnk = self.distribute_to_clusters(X, mu)\n",
    "                    #mu = self.move_mu(X, rnk, mu)\n",
    "                    break\n",
    "\n",
    "            # muの記録\n",
    "            # 記録する必要ないかも\n",
    "            #mu_list[i] = mu\n",
    "            #print('i, j', i, j)\n",
    "\n",
    "            # SSEの最小値\n",
    "            if i == 0:\n",
    "                self.best_mu = mu.copy()\n",
    "                self.best_sse = compute_sse(X, mu, rnk)\n",
    "            elif self.best_sse > compute_sse(X, mu, rnk):\n",
    "                self.best_mu = mu.copy()\n",
    "                self.best_sse = compute_sse(X, mu, rnk)\n",
    "\n",
    "        \"\"\"\n",
    "\n",
    "        if self.verbose:\n",
    "            #verboseをTrueにした際は学習過程を出力\n",
    "            print()\n",
    "        pass\n",
    "        \"\"\"\n",
    "\n",
    "    def predict(self, X):\n",
    "        \"\"\"\n",
    "        入力されたデータがどのクラスタに属するかを計算\n",
    "        \"\"\"\n",
    "\n",
    "        rnk = self.distribute_to_clusters(X, self.best_mu)\n",
    "        clusters_index = np.argmax(rnk, axis=1)\n",
    "\n",
    "        return clusters_index\n",
    "\n",
    "    def mu_ini(self, X, k):\n",
    "        # 重複なし\n",
    "        return X[np.random.choice(np.arange(X.shape[0]), k, replace=False)]\n",
    "\n",
    "    # 【問題2】SSEを求める関数の作成\n",
    "    def compute_sse(self, X, mu, rnk):\n",
    "        # for使いたくない\n",
    "        sse = 0\n",
    "        for n in range(lX.shape[0]):\n",
    "\n",
    "            for k in range(mu.shape[0]):\n",
    "                #sse += rnk[n, k] * (X[n] - mu[k])**2\n",
    "                sse += rnk[n, k] * LA.norm(X[n] - mu[k], ord=2)**2\n",
    "\n",
    "        return sse\n",
    "\n",
    "    def distribute_to_clusters(self, X, mu):\n",
    "        #　どのクラスタに属しているかフラグ、初期化\n",
    "        rnk = np.zeros([X.shape[0], mu.shape[0]])\n",
    "        #　ユークリッド距離の計算結果、初期化\n",
    "        norm_X_mu = np.zeros([X.shape[0], mu.shape[0]])\n",
    "\n",
    "        # サンプルごと\n",
    "        for n in range(X.shape[0]):\n",
    "            # クラスタごと\n",
    "            for k in range(mu.shape[0]):\n",
    "                norm_X_mu[n, k] = LA.norm(X[n] - mu[k], ord=2)\n",
    "        # for使いたくないけど、お腹痛いから使う\n",
    "        for k in range(mu.shape[0]):\n",
    "            rnk[k == np.argmin(norm_X_mu, axis=1), k] = 1\n",
    "        return rnk\n",
    "\n",
    "    def move_mu(self, X, rnk, mu):\n",
    "        # それぞれのクラスタについてrnkにフラグが立っているサンプルのXの値の平均をとり中心点とする\n",
    "        for k in range(mu.shape[0]):\n",
    "            mu[k] = np.mean(X[rnk[:, k].astype(bool)], axis=0)\n",
    "        return mu"
   ]
  },
  {
   "cell_type": "markdown",
   "metadata": {},
   "source": [
    "### クラスタリングのための人工データセット\n",
    "クラスタリングを実験するための人工データセットを作成するコードを用意しています。  \n",
    "このmake_blobs関数は正解ラベルも出力してますが、今回は使用しません。使用しないことを明示するために、 _（アンダースコア） で受け取っています。"
   ]
  },
  {
   "cell_type": "code",
   "execution_count": 3,
   "metadata": {
    "ExecuteTime": {
     "end_time": "2019-10-20T14:32:22.797166Z",
     "start_time": "2019-10-20T14:32:22.793674Z"
    }
   },
   "outputs": [],
   "source": [
    "X, _ = make_blobs(n_samples=100, n_features=2, centers=4, cluster_std=0.5, shuffle=True, random_state=0)"
   ]
  },
  {
   "cell_type": "markdown",
   "metadata": {},
   "source": [
    "## 【問題1】中心点の初期値を決める\n",
    "入力されたデータから \n",
    "K\n",
    " 個の中心点 \n",
    "μ\n",
    "1\n",
    " から \n",
    "μ\n",
    "K\n",
    " の初期値を決めるコードを作成してください。\n",
    "K\n",
    " は指定したクラスタ数です。\n",
    "最もシンプルな初期値の決定方法は、データ点 \n",
    "X\n",
    "n\n",
    " の中からランダムに \n",
    "K\n",
    " 個選ぶことです。今回はこれを実装してください。\n",
    "K-meansの学習結果は中心点 \n",
    "μ\n",
    " の初期値に影響を受けます。そのため、学習時には複数個の初期値で計算を行います。"
   ]
  },
  {
   "cell_type": "code",
   "execution_count": 4,
   "metadata": {
    "ExecuteTime": {
     "end_time": "2019-10-20T14:32:22.802239Z",
     "start_time": "2019-10-20T14:32:22.799186Z"
    }
   },
   "outputs": [],
   "source": [
    "def mu_ini(X, k):\n",
    "    return X[np.random.choice(np.arange(X.shape[0]), k, replace=False)] # 重複なし    "
   ]
  },
  {
   "cell_type": "code",
   "execution_count": 5,
   "metadata": {
    "ExecuteTime": {
     "end_time": "2019-10-20T14:32:22.813082Z",
     "start_time": "2019-10-20T14:32:22.804193Z"
    },
    "scrolled": true
   },
   "outputs": [
    {
     "data": {
      "text/plain": [
       "array([[ 0.72086751,  3.71347124],\n",
       "       [-1.89468423,  7.96898545],\n",
       "       [ 1.35678894,  4.36462484],\n",
       "       [ 1.05374379,  4.49286859],\n",
       "       [ 1.59141542,  4.90497725],\n",
       "       [ 0.78260667,  4.15263595],\n",
       "       [-1.95751686,  3.87291474],\n",
       "       [-0.77354537,  7.87923564],\n",
       "       [ 0.12313498,  5.27917503],\n",
       "       [-1.43284669,  7.71577043]])"
      ]
     },
     "execution_count": 5,
     "metadata": {},
     "output_type": "execute_result"
    }
   ],
   "source": [
    "X[:10]"
   ]
  },
  {
   "cell_type": "code",
   "execution_count": 6,
   "metadata": {
    "ExecuteTime": {
     "end_time": "2019-10-20T14:32:22.817661Z",
     "start_time": "2019-10-20T14:32:22.815085Z"
    }
   },
   "outputs": [],
   "source": [
    "mu = mu_ini(X, 3)"
   ]
  },
  {
   "cell_type": "code",
   "execution_count": 7,
   "metadata": {
    "ExecuteTime": {
     "end_time": "2019-10-20T14:32:22.825012Z",
     "start_time": "2019-10-20T14:32:22.821163Z"
    }
   },
   "outputs": [
    {
     "data": {
      "text/plain": [
       "array([[ 1.00952869,  4.45502328],\n",
       "       [-0.565433  ,  3.65813966],\n",
       "       [ 1.46870582,  1.86947425]])"
      ]
     },
     "execution_count": 7,
     "metadata": {},
     "output_type": "execute_result"
    }
   ],
   "source": [
    "mu"
   ]
  },
  {
   "cell_type": "markdown",
   "metadata": {},
   "source": [
    "## 【問題2】SSEを求める関数の作成\n",
    "クラスタ内誤差平方和（SSE, Sum of Squared Errors）を計算する関数を作成してください。\n",
    "K-meansはこのSSEを最小化する \n",
    "r\n",
    "n\n",
    "k\n",
    " と \n",
    "μ\n",
    "k\n",
    " を求めることが目的となります。複数個の初期値で計算したクラスタリング結果から、どれを最終的に採用するかを決める際にこのSSEを求める関数を使用します。\n",
    "S\n",
    "S\n",
    "E\n",
    "=\n",
    "N\n",
    "∑\n",
    "n\n",
    "=\n",
    "1\n",
    "  \n",
    "K\n",
    "∑\n",
    "k\n",
    "=\n",
    "1\n",
    " \n",
    "r\n",
    "n\n",
    "k\n",
    "∥\n",
    "X\n",
    "n\n",
    "−\n",
    "μ\n",
    "k\n",
    "∥\n",
    "2\n",
    "n\n",
    " : データ点のインデックス\n",
    "k\n",
    " : クラスタのインデックス\n",
    "X\n",
    "n\n",
    " : \n",
    "n\n",
    "番目のデータ点\n",
    "μ\n",
    "k\n",
    " : \n",
    "k\n",
    "番目の中心点\n",
    "r\n",
    "n\n",
    "k\n",
    " : データ点\n",
    "X\n",
    "n\n",
    "がクラスタ\n",
    "k\n",
    "に所属していたら1、そうでなければ0"
   ]
  },
  {
   "cell_type": "code",
   "execution_count": 8,
   "metadata": {
    "ExecuteTime": {
     "end_time": "2019-10-20T14:32:22.830618Z",
     "start_time": "2019-10-20T14:32:22.827888Z"
    }
   },
   "outputs": [],
   "source": [
    "# 仮にrnkのリストを作る\n",
    "rnk = np.zeros([X.shape[0], mu.shape[0]])"
   ]
  },
  {
   "cell_type": "code",
   "execution_count": 9,
   "metadata": {
    "ExecuteTime": {
     "end_time": "2019-10-20T14:32:22.835050Z",
     "start_time": "2019-10-20T14:32:22.832623Z"
    }
   },
   "outputs": [],
   "source": [
    "# rnk"
   ]
  },
  {
   "cell_type": "code",
   "execution_count": 10,
   "metadata": {
    "ExecuteTime": {
     "end_time": "2019-10-20T14:32:22.841224Z",
     "start_time": "2019-10-20T14:32:22.837096Z"
    }
   },
   "outputs": [],
   "source": [
    "# 仮にrnkのリストを作る\n",
    "#rnk = np.zeros([X.shape[0], mu.shape[0]])\n",
    "\n",
    "\n",
    "# 【問題2】SSEを求める関数の作成\n",
    "def compute_sse(X, mu, rnk):\n",
    "    # for使いたくない\n",
    "    sse = 0\n",
    "    for n in range(X.shape[0]):\n",
    "        \n",
    "        for k in range(mu.shape[0]):\n",
    "            #sse += rnk[n, k] * (X[n] - mu[k])**2\n",
    "            sse += rnk[n, k] * LA.norm(X[n] - mu[k], ord=2)**2\n",
    "            \n",
    "    return sse"
   ]
  },
  {
   "cell_type": "code",
   "execution_count": 11,
   "metadata": {
    "ExecuteTime": {
     "end_time": "2019-10-20T14:32:22.847272Z",
     "start_time": "2019-10-20T14:32:22.843076Z"
    }
   },
   "outputs": [],
   "source": [
    "# 仮にrnkのリストを作る\n",
    "#rnk = np.zeros([X.shape[0], mu.shape[0]])\n",
    "\n",
    "\n",
    "# 【問題2】SSEを求める関数の作成\n",
    "def compute_sse(X, mu, rnk):\n",
    "    # for使いたくない\n",
    "    sse = 0\n",
    "    for n in range(X.shape[0]):\n",
    "        \n",
    "        for k in range(mu.shape[0]):\n",
    "            #sse += rnk[n, k] * (X[n] - mu[k])**2\n",
    "            sse += rnk[n, k] * LA.norm(X[n] - mu[k], ord=2)**2\n",
    "            \n",
    "    return sse"
   ]
  },
  {
   "cell_type": "code",
   "execution_count": 12,
   "metadata": {
    "ExecuteTime": {
     "end_time": "2019-10-20T14:32:22.855788Z",
     "start_time": "2019-10-20T14:32:22.849426Z"
    }
   },
   "outputs": [
    {
     "data": {
      "text/plain": [
       "0.0"
      ]
     },
     "execution_count": 12,
     "metadata": {},
     "output_type": "execute_result"
    }
   ],
   "source": [
    "compute_sse(X, mu, rnk)"
   ]
  },
  {
   "cell_type": "markdown",
   "metadata": {},
   "source": [
    "## クラスタの割り当てと中心点の移動を繰り返す\n",
    "K-meansの学習の基本は以下の2つのフェーズを繰り返すことです。\n",
    "中心点 \n",
    "μ\n",
    "k\n",
    " を固定した上で \n",
    "S\n",
    "S\n",
    "E\n",
    " を最小化する クラスタの割り当て \n",
    "r\n",
    "n\n",
    "k\n",
    " を選ぶ。\n",
    "クラスタの割り当て \n",
    "r\n",
    "n\n",
    "k\n",
    " を固定した上で \n",
    "S\n",
    "S\n",
    "E\n",
    " を最小化する 中心点 \n",
    "μ\n",
    "k\n",
    " を選ぶ。\n",
    "最初の中心点 \n",
    "μ\n",
    "k\n",
    " は問題1で作成した初期値です。\n",
    "順番に見ていきます。"
   ]
  },
  {
   "cell_type": "markdown",
   "metadata": {},
   "source": [
    "## 【問題3】クラスタへの割り当て\n",
    "全てのデータ点 \n",
    "X\n",
    "n\n",
    " を最も近い中心点 \n",
    "μ\n",
    "k\n",
    " に割り当てるコードを作成してください。\n",
    "K-menasにおける 近い とは点と点のユークリッド距離が小さくなることです。ユークリッド距離とはピタゴラスの定理（三平方の定理）で求められるものですが、ベクトル \n",
    "p\n",
    ",\n",
    "q\n",
    " に対しては以下の数式で表現できます。\n",
    "∥\n",
    "q\n",
    "−\n",
    "p\n",
    "∥\n",
    "=\n",
    "√\n",
    "(\n",
    "q\n",
    "−\n",
    "p\n",
    ")\n",
    "⋅\n",
    "(\n",
    "q\n",
    "−\n",
    "p\n",
    ")\n",
    "NumPyにはこの関数がnp.linalg.normとして用意されているため使用してください。\n",
    "numpy.linalg.norm — NumPy v1.17 Manual\n",
    "中心点 \n",
    "μ\n",
    "k\n",
    " を固定した上でSSEを最小化していることになりますが、SSE自体を求める必要はありません。"
   ]
  },
  {
   "cell_type": "code",
   "execution_count": 13,
   "metadata": {
    "ExecuteTime": {
     "end_time": "2019-10-20T14:32:22.862093Z",
     "start_time": "2019-10-20T14:32:22.857944Z"
    }
   },
   "outputs": [
    {
     "data": {
      "text/plain": [
       "0.79575417450003"
      ]
     },
     "execution_count": 13,
     "metadata": {},
     "output_type": "execute_result"
    }
   ],
   "source": [
    "LA.norm(X[0] - mu[0], ord=2)"
   ]
  },
  {
   "cell_type": "code",
   "execution_count": 14,
   "metadata": {
    "ExecuteTime": {
     "end_time": "2019-10-20T14:32:22.869415Z",
     "start_time": "2019-10-20T14:32:22.864047Z"
    }
   },
   "outputs": [],
   "source": [
    "def distribute_to_clusters(X, mu):\n",
    "    #　どのクラスに所属しているかフラグ、初期化\n",
    "    rnk = np.zeros([X.shape[0], mu.shape[0]])\n",
    "    #　ユークリッド距離の計算結果、初期化\n",
    "    norm_X_mu= np.zeros([X.shape[0], mu.shape[0]])\n",
    "    \n",
    "    # サンプルごと\n",
    "    for n in range(X.shape[0]):\n",
    "        # クラスごと\n",
    "        for k in range(mu.shape[0]):\n",
    "            norm_X_mu[n, k] = LA.norm(X[n] - mu[k], ord=2)\n",
    "    # for使いたくないけど、お腹痛いから使う\n",
    "    for k in range(mu.shape[0]):\n",
    "        rnk[k==np.argmin(norm_X_mu, axis=1), k] = 1\n",
    "    return rnk"
   ]
  },
  {
   "cell_type": "code",
   "execution_count": 15,
   "metadata": {
    "ExecuteTime": {
     "end_time": "2019-10-20T14:32:22.876739Z",
     "start_time": "2019-10-20T14:32:22.871530Z"
    }
   },
   "outputs": [],
   "source": [
    "rnk = distribute_to_clusters(X, mu)"
   ]
  },
  {
   "cell_type": "code",
   "execution_count": 16,
   "metadata": {
    "ExecuteTime": {
     "end_time": "2019-10-20T14:32:22.880717Z",
     "start_time": "2019-10-20T14:32:22.878594Z"
    }
   },
   "outputs": [],
   "source": [
    "#rnk"
   ]
  },
  {
   "cell_type": "markdown",
   "metadata": {},
   "source": [
    "## 【問題4】中心点の移動\n",
    "中心点 \n",
    "μ\n",
    "k\n",
    " を \n",
    "k\n",
    " 番目のクラスタに割り当てられる全てのデータ点 \n",
    "X\n",
    "n\n",
    " の平均値（重心）に移動するコードを作成してください。\n",
    "クラスタの割り当て \n",
    "r\n",
    "n\n",
    "k\n",
    " を固定した上でSSEを最小化していることになりますが、SSE自体を求める必要はありません。"
   ]
  },
  {
   "cell_type": "code",
   "execution_count": 17,
   "metadata": {
    "ExecuteTime": {
     "end_time": "2019-10-20T14:32:22.886323Z",
     "start_time": "2019-10-20T14:32:22.882661Z"
    }
   },
   "outputs": [],
   "source": [
    "def move_mu(X, rnk, mu): # rnk, muはインスタンス変数として定義するので引数から除くことになる\n",
    "    #mu = np.zeros(mu.shape[0]) # 初期化も不要になる\n",
    "    for k in range(mu.shape[0]):\n",
    "        #print(rnk[:, k])\n",
    "        #print(X[rnk[:, k].astype(bool)])\n",
    "        #mu[k] = np.average(X[rnk[:, k].astype(bool)], axis=0)\n",
    "        #mu[k] = X[rnk[:, k].astype(bool)].mean(axis=0)\n",
    "        #print(np.mean(X[rnk[:, k].astype(bool)], axis=0))\n",
    "        mu[k] = np.mean(X[rnk[:, k].astype(bool)], axis=0)\n",
    "    return mu"
   ]
  },
  {
   "cell_type": "code",
   "execution_count": 18,
   "metadata": {
    "ExecuteTime": {
     "end_time": "2019-10-20T14:32:22.890799Z",
     "start_time": "2019-10-20T14:32:22.888186Z"
    }
   },
   "outputs": [],
   "source": [
    "mu = move_mu(X, rnk, mu)"
   ]
  },
  {
   "cell_type": "code",
   "execution_count": 19,
   "metadata": {
    "ExecuteTime": {
     "end_time": "2019-10-20T14:32:22.896644Z",
     "start_time": "2019-10-20T14:32:22.892878Z"
    }
   },
   "outputs": [
    {
     "data": {
      "text/plain": [
       "array([[ 0.0667074 ,  5.97007925],\n",
       "       [-1.37744392,  4.03827339],\n",
       "       [ 1.99186903,  0.96561071]])"
      ]
     },
     "execution_count": 19,
     "metadata": {},
     "output_type": "execute_result"
    }
   ],
   "source": [
    "mu"
   ]
  },
  {
   "cell_type": "markdown",
   "metadata": {
    "ExecuteTime": {
     "end_time": "2019-08-16T05:35:02.323655Z",
     "start_time": "2019-08-16T05:35:02.320352Z"
    }
   },
   "source": [
    "### 【問題5】繰り返し\n",
    "クラスタへの割り当てと中心点の移動を繰り返すことで学習を行うコードを作成してください。\n",
    "次のどれかの条件を満たしたらこれを止めます。\n",
    "繰り返しが指定した回数に到達する。（雛形では引数max_iter）\n",
    "中心点 \n",
    "μ\n",
    "k\n",
    " と重心の差が指定した許容値以下になる。（雛形では引数tol）"
   ]
  },
  {
   "cell_type": "code",
   "execution_count": 20,
   "metadata": {
    "ExecuteTime": {
     "end_time": "2019-10-20T14:32:22.904809Z",
     "start_time": "2019-10-20T14:32:22.898544Z"
    },
    "scrolled": true
   },
   "outputs": [
    {
     "data": {
      "text/plain": [
       "array([[1., 0., 0.],\n",
       "       [0., 1., 0.],\n",
       "       [1., 0., 0.],\n",
       "       [1., 0., 0.],\n",
       "       [1., 0., 0.],\n",
       "       [1., 0., 0.],\n",
       "       [0., 1., 0.],\n",
       "       [1., 0., 0.],\n",
       "       [1., 0., 0.],\n",
       "       [1., 0., 0.],\n",
       "       [1., 0., 0.],\n",
       "       [0., 1., 0.],\n",
       "       [1., 0., 0.],\n",
       "       [1., 0., 0.],\n",
       "       [1., 0., 0.],\n",
       "       [0., 0., 1.],\n",
       "       [0., 0., 1.],\n",
       "       [0., 1., 0.],\n",
       "       [0., 1., 0.],\n",
       "       [0., 0., 1.],\n",
       "       [1., 0., 0.],\n",
       "       [0., 1., 0.],\n",
       "       [0., 1., 0.],\n",
       "       [0., 0., 1.],\n",
       "       [1., 0., 0.],\n",
       "       [0., 1., 0.],\n",
       "       [0., 1., 0.],\n",
       "       [1., 0., 0.],\n",
       "       [0., 0., 1.],\n",
       "       [0., 0., 1.],\n",
       "       [0., 0., 1.],\n",
       "       [1., 0., 0.],\n",
       "       [0., 0., 1.],\n",
       "       [0., 0., 1.],\n",
       "       [0., 1., 0.],\n",
       "       [1., 0., 0.],\n",
       "       [1., 0., 0.],\n",
       "       [0., 0., 1.],\n",
       "       [1., 0., 0.],\n",
       "       [0., 1., 0.],\n",
       "       [1., 0., 0.],\n",
       "       [0., 1., 0.],\n",
       "       [0., 1., 0.],\n",
       "       [0., 1., 0.],\n",
       "       [0., 1., 0.],\n",
       "       [1., 0., 0.],\n",
       "       [0., 0., 1.],\n",
       "       [0., 1., 0.],\n",
       "       [1., 0., 0.],\n",
       "       [0., 1., 0.],\n",
       "       [1., 0., 0.],\n",
       "       [0., 0., 1.],\n",
       "       [0., 1., 0.],\n",
       "       [0., 1., 0.],\n",
       "       [0., 1., 0.],\n",
       "       [1., 0., 0.],\n",
       "       [1., 0., 0.],\n",
       "       [0., 0., 1.],\n",
       "       [0., 0., 1.],\n",
       "       [1., 0., 0.],\n",
       "       [0., 1., 0.],\n",
       "       [0., 0., 1.],\n",
       "       [0., 0., 1.],\n",
       "       [1., 0., 0.],\n",
       "       [0., 0., 1.],\n",
       "       [1., 0., 0.],\n",
       "       [0., 1., 0.],\n",
       "       [0., 1., 0.],\n",
       "       [0., 0., 1.],\n",
       "       [1., 0., 0.],\n",
       "       [1., 0., 0.],\n",
       "       [0., 0., 1.],\n",
       "       [1., 0., 0.],\n",
       "       [1., 0., 0.],\n",
       "       [1., 0., 0.],\n",
       "       [1., 0., 0.],\n",
       "       [0., 1., 0.],\n",
       "       [0., 1., 0.],\n",
       "       [0., 0., 1.],\n",
       "       [0., 0., 1.],\n",
       "       [0., 0., 1.],\n",
       "       [1., 0., 0.],\n",
       "       [0., 1., 0.],\n",
       "       [1., 0., 0.],\n",
       "       [0., 0., 1.],\n",
       "       [0., 1., 0.],\n",
       "       [0., 0., 1.],\n",
       "       [0., 0., 1.],\n",
       "       [1., 0., 0.],\n",
       "       [1., 0., 0.],\n",
       "       [1., 0., 0.],\n",
       "       [0., 1., 0.],\n",
       "       [0., 1., 0.],\n",
       "       [0., 1., 0.],\n",
       "       [0., 1., 0.],\n",
       "       [0., 1., 0.],\n",
       "       [0., 1., 0.],\n",
       "       [0., 1., 0.],\n",
       "       [1., 0., 0.],\n",
       "       [0., 1., 0.]])"
      ]
     },
     "execution_count": 20,
     "metadata": {},
     "output_type": "execute_result"
    }
   ],
   "source": [
    "rnk"
   ]
  },
  {
   "cell_type": "code",
   "execution_count": 21,
   "metadata": {
    "ExecuteTime": {
     "end_time": "2019-10-20T14:32:22.910898Z",
     "start_time": "2019-10-20T14:32:22.906975Z"
    }
   },
   "outputs": [
    {
     "data": {
      "text/plain": [
       "array([0, 1, 0, 0, 0, 0, 1, 0, 0, 0, 0, 1, 0, 0, 0, 2, 2, 1, 1, 2, 0, 1,\n",
       "       1, 2, 0, 1, 1, 0, 2, 2, 2, 0, 2, 2, 1, 0, 0, 2, 0, 1, 0, 1, 1, 1,\n",
       "       1, 0, 2, 1, 0, 1, 0, 2, 1, 1, 1, 0, 0, 2, 2, 0, 1, 2, 2, 0, 2, 0,\n",
       "       1, 1, 2, 0, 0, 2, 0, 0, 0, 0, 1, 1, 2, 2, 2, 0, 1, 0, 2, 1, 2, 2,\n",
       "       0, 0, 0, 1, 1, 1, 1, 1, 1, 1, 0, 1])"
      ]
     },
     "execution_count": 21,
     "metadata": {},
     "output_type": "execute_result"
    }
   ],
   "source": [
    "np.argmax(rnk, axis=1)"
   ]
  },
  {
   "cell_type": "markdown",
   "metadata": {},
   "source": [
    "### 【問題7】推定\n",
    "新たなデータに対してどのクラスタに所属するかの推定の際は、学習時の1つ目のフェーズと同じことを行います。\n",
    "データ点 \n",
    "X\n",
    "n\n",
    " と学習で決まった中心点 \n",
    "μ\n",
    "k\n",
    " に対し、 \n",
    "S\n",
    "S\n",
    "E\n",
    " を最小化する \n",
    "r\n",
    "n\n",
    "k\n",
    " を選ぶ。\n",
    "具体的には次のことです。\n",
    "データ点 \n",
    "X\n",
    "n\n",
    " を最も近い \n",
    "μ\n",
    "k\n",
    " に割り当てる。"
   ]
  },
  {
   "cell_type": "code",
   "execution_count": 22,
   "metadata": {
    "ExecuteTime": {
     "end_time": "2019-10-20T14:32:23.967141Z",
     "start_time": "2019-10-20T14:32:22.916846Z"
    }
   },
   "outputs": [],
   "source": [
    "model = ScratchKMeans(4, 100, 10, 0.01)\n",
    "model.fit(X)"
   ]
  },
  {
   "cell_type": "code",
   "execution_count": 23,
   "metadata": {
    "ExecuteTime": {
     "end_time": "2019-10-20T14:32:23.973820Z",
     "start_time": "2019-10-20T14:32:23.969977Z"
    }
   },
   "outputs": [
    {
     "data": {
      "text/plain": [
       "array([[-1.26811733,  7.76378266],\n",
       "       [-1.47935679,  3.11716896],\n",
       "       [ 1.99186903,  0.96561071],\n",
       "       [ 0.92578447,  4.32475792]])"
      ]
     },
     "execution_count": 23,
     "metadata": {},
     "output_type": "execute_result"
    }
   ],
   "source": [
    "model.best_mu"
   ]
  },
  {
   "cell_type": "code",
   "execution_count": 24,
   "metadata": {
    "ExecuteTime": {
     "end_time": "2019-10-20T14:32:23.979324Z",
     "start_time": "2019-10-20T14:32:23.975897Z"
    }
   },
   "outputs": [
    {
     "data": {
      "text/plain": [
       "48.633783207064035"
      ]
     },
     "execution_count": 24,
     "metadata": {},
     "output_type": "execute_result"
    }
   ],
   "source": [
    "model.best_sse"
   ]
  },
  {
   "cell_type": "code",
   "execution_count": 25,
   "metadata": {
    "ExecuteTime": {
     "end_time": "2019-10-20T14:32:23.986487Z",
     "start_time": "2019-10-20T14:32:23.981493Z"
    }
   },
   "outputs": [],
   "source": [
    "y_pred = model.predict(X)"
   ]
  },
  {
   "cell_type": "code",
   "execution_count": 26,
   "metadata": {
    "ExecuteTime": {
     "end_time": "2019-10-20T14:32:24.378668Z",
     "start_time": "2019-10-20T14:32:23.988241Z"
    }
   },
   "outputs": [
    {
     "data": {
      "image/png": "[encoded data removed]",
      "text/plain": [
       "<Figure size 432x288 with 1 Axes>"
      ]
     },
     "metadata": {
      "needs_background": "light"
     },
     "output_type": "display_data"
    }
   ],
   "source": [
    "import matplotlib.pyplot as plt\n",
    "%matplotlib inline\n",
    "\n",
    "\n",
    "y = y_pred\n",
    "mu = model.best_mu\n",
    "plot_colors =[\"g\", \"b\", \"c\", \"m\", \"y\", \"k\"]\n",
    "\n",
    "for i in np.unique(y):\n",
    "    plt.scatter(X[y==i, 0], X[y==i, 1], color=plot_colors[i],  s=30)\n",
    "    plt.scatter(mu[i, 0], mu[i, 1],  color=\"r\", marker=\"*\", s=250)\n",
    "plt.show()"
   ]
  },
  {
   "cell_type": "code",
   "execution_count": 27,
   "metadata": {
    "ExecuteTime": {
     "end_time": "2019-10-20T14:32:24.384160Z",
     "start_time": "2019-10-20T14:32:24.380592Z"
    }
   },
   "outputs": [
    {
     "data": {
      "text/plain": [
       "array([[-1.26811733,  7.76378266],\n",
       "       [-1.47935679,  3.11716896],\n",
       "       [ 1.99186903,  0.96561071],\n",
       "       [ 0.92578447,  4.32475792]])"
      ]
     },
     "execution_count": 27,
     "metadata": {},
     "output_type": "execute_result"
    }
   ],
   "source": [
    "mu"
   ]
  },
  {
   "cell_type": "markdown",
   "metadata": {},
   "source": [
    "### 【問題8】エルボー法の実装\n",
    "K-meansにおいて中心点の個数 \n",
    "k\n",
    " は人為的に決める必要がありますが、その判断方法としてエルボー法があります。エルボー法により中心点の個数 \n",
    "k\n",
    " を検討するためのコードを作成してください。  \n",
    "SSEを縦軸、クラスタ数 \n",
    "k\n",
    " を横軸にした折れ線グラフを表示します。このためにK-meansのインスタンスからはSSEを取得できるようにしてください。  "
   ]
  },
  {
   "cell_type": "code",
   "execution_count": 28,
   "metadata": {
    "ExecuteTime": {
     "end_time": "2019-10-20T14:32:37.284882Z",
     "start_time": "2019-10-20T14:32:24.386033Z"
    }
   },
   "outputs": [
    {
     "name": "stderr",
     "output_type": "stream",
     "text": [
      "/Users/ryuji_sato/.pyenv/versions/anaconda3-5.3.1/lib/python3.7/site-packages/numpy/core/fromnumeric.py:3118: RuntimeWarning: Mean of empty slice.\n",
      "  out=out, **kwargs)\n",
      "/Users/ryuji_sato/.pyenv/versions/anaconda3-5.3.1/lib/python3.7/site-packages/numpy/core/_methods.py:78: RuntimeWarning: invalid value encountered in true_divide\n",
      "  ret, rcount, out=ret, casting='unsafe', subok=False)\n"
     ]
    }
   ],
   "source": [
    "# クラスを作りたい\n",
    "#あとで\n",
    "\n",
    "max_cluster = 10\n",
    "array_sse = np.zeros(max_cluster)\n",
    "for i in range(1, max_cluster):\n",
    "    \n",
    "    model = ScratchKMeans(i, X.shape[0], 100, 0.01)\n",
    "    model.fit(X)\n",
    "    array_sse[i] = model.best_sse\n",
    "    "
   ]
  },
  {
   "cell_type": "code",
   "execution_count": 29,
   "metadata": {
    "ExecuteTime": {
     "end_time": "2019-10-20T14:32:37.289655Z",
     "start_time": "2019-10-20T14:32:37.287088Z"
    }
   },
   "outputs": [],
   "source": [
    "array_sse_100 = array_sse.copy()"
   ]
  },
  {
   "cell_type": "code",
   "execution_count": 30,
   "metadata": {
    "ExecuteTime": {
     "end_time": "2019-10-20T14:32:37.403956Z",
     "start_time": "2019-10-20T14:32:37.291581Z"
    }
   },
   "outputs": [
    {
     "data": {
      "text/plain": [
       "[<matplotlib.lines.Line2D at 0x1a1e2b2d30>]"
      ]
     },
     "execution_count": 30,
     "metadata": {},
     "output_type": "execute_result"
    },
    {
     "data": {
      "image/png": "[encoded data removed]",
      "text/plain": [
       "<Figure size 432x288 with 1 Axes>"
      ]
     },
     "metadata": {
      "needs_background": "light"
     },
     "output_type": "display_data"
    }
   ],
   "source": [
    "plt.xlabel(\"n_clusters\")\n",
    "plt.ylabel(\"SSE\")\n",
    "\n",
    "plt.plot(array_sse_100[1:10])"
   ]
  },
  {
   "cell_type": "markdown",
   "metadata": {},
   "source": [
    "### 【問題9】（アドバンス課題）シルエット図 →パス\n",
    "k\n",
    " を決める助けになるものとしてシルエット図もあります。シルエット図を表示するコードを作成してください。\n",
    "Matplotlibを使い図を表示するコードは用意しました。以下を与えてください。\n",
    "silhouette_vals : shape(n_samples,)のndarray、各データ点のシルエット係数\n",
    "silhouette_avg : float、シルエット係数の平均値\n",
    "y_km : shape(n_samples,)のndarray、各データ点のクラスタラベル名\n",
    "cluster_labels : list、クラスタのラベル名のリスト\n",
    "n_clusters : int、クラスタ数\n",
    "n\n",
    " 番目のデータ点に対するシルエット係数 \n",
    "s\n",
    "n\n",
    " は以下の数式でを求められます。この数式を実装し、シルエット図を確認してください。\n",
    "s\n",
    "n\n",
    "=\n",
    "b\n",
    "n\n",
    "−\n",
    "a\n",
    "n\n",
    "m\n",
    "a\n",
    "x\n",
    "(\n",
    "b\n",
    "n\n",
    ",\n",
    "a\n",
    "n\n",
    ")\n",
    "a\n",
    "n\n",
    " : 凝集度。同じクラスタ内の他のデータ点との距離の平均値。\n",
    "b\n",
    "n\n",
    " : 乖離度。最も近い他のクラスタ内の全てのデータ点との距離の平均値。\n",
    "乖離度 \n",
    "b\n",
    " が大きく、凝集度 \n",
    "a\n",
    " が小さい時が理想的であり、シルエット係数 \n",
    "s\n",
    " は1に近くなります"
   ]
  },
  {
   "cell_type": "markdown",
   "metadata": {},
   "source": [
    "## 3.クラスタ分析\n",
    "\n",
    "### 卸売業者のデータ分析\n",
    "クラスタリングを利用法を学ぶために、Wholesale customers Data Setを使用します。\n",
    "UCI Machine Learning Repository: Wholesale customers Data Set\n",
    "Data Folderの中からWholesale customers data.csvをダウンロードしてください。これはポルトガルのリスボンにある卸売業者（wholesale）が顧客から集めたデータです。中身は各顧客が年間でミルクや食料品を何ユーロ購入しているかというデータになっています。顧客は小売店やレストランです。RegionとChannelは取り覗き、金額のデータでK-meansを利用します。\n",
    "\n",
    "### 次元削減\n",
    "金額に関する特徴量は6個ありますが、可視化するために次元削減を行います。これに関してはscikit-learnによるPCAのサンプルコードを用意したので利用してください。"
   ]
  },
  {
   "cell_type": "code",
   "execution_count": 31,
   "metadata": {
    "ExecuteTime": {
     "end_time": "2019-10-20T14:32:37.418513Z",
     "start_time": "2019-10-20T14:32:37.405521Z"
    }
   },
   "outputs": [
    {
     "data": {
      "text/html": [
       "<div>\n",
       "<style scoped>\n",
       "    .dataframe tbody tr th:only-of-type {\n",
       "        vertical-align: middle;\n",
       "    }\n",
       "\n",
       "    .dataframe tbody tr th {\n",
       "        vertical-align: top;\n",
       "    }\n",
       "\n",
       "    .dataframe thead th {\n",
       "        text-align: right;\n",
       "    }\n",
       "</style>\n",
       "<table border=\"1\" class=\"dataframe\">\n",
       "  <thead>\n",
       "    <tr style=\"text-align: right;\">\n",
       "      <th></th>\n",
       "      <th>Channel</th>\n",
       "      <th>Region</th>\n",
       "      <th>Fresh</th>\n",
       "      <th>Milk</th>\n",
       "      <th>Grocery</th>\n",
       "      <th>Frozen</th>\n",
       "      <th>Detergents_Paper</th>\n",
       "      <th>Delicassen</th>\n",
       "    </tr>\n",
       "  </thead>\n",
       "  <tbody>\n",
       "    <tr>\n",
       "      <th>0</th>\n",
       "      <td>2</td>\n",
       "      <td>3</td>\n",
       "      <td>12669</td>\n",
       "      <td>9656</td>\n",
       "      <td>7561</td>\n",
       "      <td>214</td>\n",
       "      <td>2674</td>\n",
       "      <td>1338</td>\n",
       "    </tr>\n",
       "    <tr>\n",
       "      <th>1</th>\n",
       "      <td>2</td>\n",
       "      <td>3</td>\n",
       "      <td>7057</td>\n",
       "      <td>9810</td>\n",
       "      <td>9568</td>\n",
       "      <td>1762</td>\n",
       "      <td>3293</td>\n",
       "      <td>1776</td>\n",
       "    </tr>\n",
       "    <tr>\n",
       "      <th>2</th>\n",
       "      <td>2</td>\n",
       "      <td>3</td>\n",
       "      <td>6353</td>\n",
       "      <td>8808</td>\n",
       "      <td>7684</td>\n",
       "      <td>2405</td>\n",
       "      <td>3516</td>\n",
       "      <td>7844</td>\n",
       "    </tr>\n",
       "    <tr>\n",
       "      <th>3</th>\n",
       "      <td>1</td>\n",
       "      <td>3</td>\n",
       "      <td>13265</td>\n",
       "      <td>1196</td>\n",
       "      <td>4221</td>\n",
       "      <td>6404</td>\n",
       "      <td>507</td>\n",
       "      <td>1788</td>\n",
       "    </tr>\n",
       "    <tr>\n",
       "      <th>4</th>\n",
       "      <td>2</td>\n",
       "      <td>3</td>\n",
       "      <td>22615</td>\n",
       "      <td>5410</td>\n",
       "      <td>7198</td>\n",
       "      <td>3915</td>\n",
       "      <td>1777</td>\n",
       "      <td>5185</td>\n",
       "    </tr>\n",
       "  </tbody>\n",
       "</table>\n",
       "</div>"
      ],
      "text/plain": [
       "   Channel  Region  Fresh  Milk  Grocery  Frozen  Detergents_Paper  Delicassen\n",
       "0        2       3  12669  9656     7561     214              2674        1338\n",
       "1        2       3   7057  9810     9568    1762              3293        1776\n",
       "2        2       3   6353  8808     7684    2405              3516        7844\n",
       "3        1       3  13265  1196     4221    6404               507        1788\n",
       "4        2       3  22615  5410     7198    3915              1777        5185"
      ]
     },
     "metadata": {},
     "output_type": "display_data"
    }
   ],
   "source": [
    "data = pd.read_csv(\"Sprint7/Wholesale customers data.csv\")\n",
    "display(data.head())"
   ]
  },
  {
   "cell_type": "code",
   "execution_count": 32,
   "metadata": {
    "ExecuteTime": {
     "end_time": "2019-10-20T14:32:37.428556Z",
     "start_time": "2019-10-20T14:32:37.420342Z"
    }
   },
   "outputs": [
    {
     "data": {
      "text/html": [
       "<div>\n",
       "<style scoped>\n",
       "    .dataframe tbody tr th:only-of-type {\n",
       "        vertical-align: middle;\n",
       "    }\n",
       "\n",
       "    .dataframe tbody tr th {\n",
       "        vertical-align: top;\n",
       "    }\n",
       "\n",
       "    .dataframe thead th {\n",
       "        text-align: right;\n",
       "    }\n",
       "</style>\n",
       "<table border=\"1\" class=\"dataframe\">\n",
       "  <thead>\n",
       "    <tr style=\"text-align: right;\">\n",
       "      <th></th>\n",
       "      <th>Fresh</th>\n",
       "      <th>Milk</th>\n",
       "      <th>Grocery</th>\n",
       "      <th>Frozen</th>\n",
       "      <th>Detergents_Paper</th>\n",
       "      <th>Delicassen</th>\n",
       "    </tr>\n",
       "  </thead>\n",
       "  <tbody>\n",
       "    <tr>\n",
       "      <th>0</th>\n",
       "      <td>12669</td>\n",
       "      <td>9656</td>\n",
       "      <td>7561</td>\n",
       "      <td>214</td>\n",
       "      <td>2674</td>\n",
       "      <td>1338</td>\n",
       "    </tr>\n",
       "    <tr>\n",
       "      <th>1</th>\n",
       "      <td>7057</td>\n",
       "      <td>9810</td>\n",
       "      <td>9568</td>\n",
       "      <td>1762</td>\n",
       "      <td>3293</td>\n",
       "      <td>1776</td>\n",
       "    </tr>\n",
       "    <tr>\n",
       "      <th>2</th>\n",
       "      <td>6353</td>\n",
       "      <td>8808</td>\n",
       "      <td>7684</td>\n",
       "      <td>2405</td>\n",
       "      <td>3516</td>\n",
       "      <td>7844</td>\n",
       "    </tr>\n",
       "    <tr>\n",
       "      <th>3</th>\n",
       "      <td>13265</td>\n",
       "      <td>1196</td>\n",
       "      <td>4221</td>\n",
       "      <td>6404</td>\n",
       "      <td>507</td>\n",
       "      <td>1788</td>\n",
       "    </tr>\n",
       "    <tr>\n",
       "      <th>4</th>\n",
       "      <td>22615</td>\n",
       "      <td>5410</td>\n",
       "      <td>7198</td>\n",
       "      <td>3915</td>\n",
       "      <td>1777</td>\n",
       "      <td>5185</td>\n",
       "    </tr>\n",
       "  </tbody>\n",
       "</table>\n",
       "</div>"
      ],
      "text/plain": [
       "   Fresh  Milk  Grocery  Frozen  Detergents_Paper  Delicassen\n",
       "0  12669  9656     7561     214              2674        1338\n",
       "1   7057  9810     9568    1762              3293        1776\n",
       "2   6353  8808     7684    2405              3516        7844\n",
       "3  13265  1196     4221    6404               507        1788\n",
       "4  22615  5410     7198    3915              1777        5185"
      ]
     },
     "execution_count": 32,
     "metadata": {},
     "output_type": "execute_result"
    }
   ],
   "source": [
    "data =data.drop(['Region', 'Channel'], axis=1)\n",
    "data.head()"
   ]
  },
  {
   "cell_type": "markdown",
   "metadata": {},
   "source": [
    "### 対数化する"
   ]
  },
  {
   "cell_type": "code",
   "execution_count": 33,
   "metadata": {
    "ExecuteTime": {
     "end_time": "2019-10-20T14:32:37.433337Z",
     "start_time": "2019-10-20T14:32:37.430656Z"
    }
   },
   "outputs": [],
   "source": [
    "data = np.log10(data)"
   ]
  },
  {
   "cell_type": "code",
   "execution_count": 34,
   "metadata": {
    "ExecuteTime": {
     "end_time": "2019-10-20T14:32:37.512440Z",
     "start_time": "2019-10-20T14:32:37.435258Z"
    }
   },
   "outputs": [],
   "source": [
    "from sklearn.decomposition import PCA\n",
    "pca = PCA(n_components = 2)\n",
    "pca = pca.fit(data)\n",
    "data_pca = pca.transform(data)"
   ]
  },
  {
   "cell_type": "code",
   "execution_count": 35,
   "metadata": {
    "ExecuteTime": {
     "end_time": "2019-10-20T14:32:37.642703Z",
     "start_time": "2019-10-20T14:32:37.514443Z"
    }
   },
   "outputs": [
    {
     "name": "stdout",
     "output_type": "stream",
     "text": [
      "[0.44237417 0.71894523 0.83511865 0.93129585 0.97705265 1.        ]\n"
     ]
    },
    {
     "data": {
      "image/png": "[encoded data removed]",
      "text/plain": [
       "<Figure size 432x288 with 1 Axes>"
      ]
     },
     "metadata": {
      "needs_background": "light"
     },
     "output_type": "display_data"
    }
   ],
   "source": [
    "from sklearn.decomposition import PCA\n",
    "import matplotlib.pyplot as plt\n",
    "pca = PCA(n_components=None)\n",
    "pca = pca.fit(data)\n",
    "var_exp = pca.explained_variance_ratio_\n",
    "cum_var_exp = np.cumsum(var_exp)\n",
    "print(cum_var_exp)\n",
    "plt.bar(range(1,7), var_exp, alpha=0.5, align='center', label='individual explained variance')\n",
    "plt.step(range(1,7), cum_var_exp, where='mid', label='cumulative expalined variance')\n",
    "plt.ylabel('Explained variance ratio')\n",
    "plt.xlabel('Principal components')\n",
    "plt.hlines(0.7, 0, 6,  \"blue\", linestyles='dashed')\n",
    "plt.legend(loc='best')\n",
    "plt.grid()\n",
    "plt.show()"
   ]
  },
  {
   "cell_type": "markdown",
   "metadata": {},
   "source": [
    "## 【問題10】クラスタ数kの選択\n",
    "最適だと思われるクラスタ数 \n",
    "k\n",
    " を選択してください。エルボー法やシルエット図を活用する他、人間が後々どう利用したいのかも選択に関わってきます。選択した上で、なぜそれを選んだか説明してください。"
   ]
  },
  {
   "cell_type": "code",
   "execution_count": 36,
   "metadata": {
    "ExecuteTime": {
     "end_time": "2019-10-20T14:43:30.336652Z",
     "start_time": "2019-10-20T14:32:37.644554Z"
    }
   },
   "outputs": [],
   "source": [
    "\n",
    "max_cluster = 10\n",
    "array_sse = np.zeros(max_cluster)\n",
    "for i in range(1, max_cluster):\n",
    "    \n",
    "    model = ScratchKMeans(i, data_pca.shape[0], 100, 0.01)\n",
    "    model.fit(data_pca)\n",
    "    array_sse[i] = model.best_sse\n",
    "    "
   ]
  },
  {
   "cell_type": "code",
   "execution_count": 37,
   "metadata": {
    "ExecuteTime": {
     "end_time": "2019-10-20T14:43:30.349551Z",
     "start_time": "2019-10-20T14:43:30.342790Z"
    }
   },
   "outputs": [],
   "source": [
    "array_sse_20 = array_sse.copy()"
   ]
  },
  {
   "cell_type": "code",
   "execution_count": 47,
   "metadata": {
    "ExecuteTime": {
     "end_time": "2019-10-20T14:53:03.285934Z",
     "start_time": "2019-10-20T14:53:03.077780Z"
    }
   },
   "outputs": [
    {
     "data": {
      "text/plain": [
       "[<matplotlib.lines.Line2D at 0x1a1ee12d30>]"
      ]
     },
     "execution_count": 47,
     "metadata": {},
     "output_type": "execute_result"
    },
    {
     "data": {
      "image/png": "[encoded data removed]",
      "text/plain": [
       "<Figure size 432x288 with 1 Axes>"
      ]
     },
     "metadata": {
      "needs_background": "light"
     },
     "output_type": "display_data"
    }
   ],
   "source": [
    "plt.xlabel(\"n_clusters\")\n",
    "plt.ylabel(\"SSE\")\n",
    "\n",
    "plt.plot(array_sse_20[1:])"
   ]
  },
  {
   "cell_type": "markdown",
   "metadata": {},
   "source": [
    "SSE値が著しく下がっているところはどこ？"
   ]
  },
  {
   "cell_type": "code",
   "execution_count": 39,
   "metadata": {
    "ExecuteTime": {
     "end_time": "2019-10-20T14:44:04.923559Z",
     "start_time": "2019-10-20T14:43:30.571181Z"
    }
   },
   "outputs": [],
   "source": [
    "best_n_clusters = 3\n",
    "model = ScratchKMeans(best_n_clusters, data_pca.shape[0], 100, 0.01)\n",
    "model.fit(data_pca)"
   ]
  },
  {
   "cell_type": "code",
   "execution_count": 40,
   "metadata": {
    "ExecuteTime": {
     "end_time": "2019-10-20T14:44:04.943805Z",
     "start_time": "2019-10-20T14:44:04.926128Z"
    }
   },
   "outputs": [],
   "source": [
    "y_pred_wcd = model.predict(data_pca)"
   ]
  },
  {
   "cell_type": "code",
   "execution_count": 41,
   "metadata": {
    "ExecuteTime": {
     "end_time": "2019-10-20T14:44:05.118292Z",
     "start_time": "2019-10-20T14:44:04.946625Z"
    }
   },
   "outputs": [
    {
     "data": {
      "image/png": "[encoded data removed]",
      "text/plain": [
       "<Figure size 432x288 with 1 Axes>"
      ]
     },
     "metadata": {
      "needs_background": "light"
     },
     "output_type": "display_data"
    }
   ],
   "source": [
    "y = y_pred_wcd\n",
    "mu = model.best_mu\n",
    "plot_colors =[\"g\", \"b\", \"c\", \"m\", \"y\", \"k\"]\n",
    "\n",
    "for i in np.unique(y):\n",
    "    plt.scatter(data_pca[y==i, 0], data_pca[y==i, 1], color=plot_colors[i],  s=30)\n",
    "    plt.scatter(mu[i, 0], mu[i, 1],  color=\"r\", marker=\"*\", s=250)\n",
    "plt.show()"
   ]
  },
  {
   "cell_type": "markdown",
   "metadata": {},
   "source": [
    "ソース：  \n",
    "\n",
    "Margarida GMS Cardoso、 margarida.cardoso '@' iscte.pt 、ISCTE-IUL、リスボン、ポルトガル  \n",
    "\n",
    "  \n",
    "データセット情報：  \n",
    "  \n",
    "データセットに関するすべての関連情報を提供します。  \n",
    "  \n",
    "  \n",
    "属性情報：  \n",
    "  \n",
    "1）フレッシュ：新鮮な製品の年間支出（mu）（連続）;   \n",
    "2）MILK：乳製品の年間支出（mu）（連続）;   \n",
    "3）食料品：食料品の年間支出（mu）（連続）;   \n",
    "4）FROZEN：冷凍製品の年間支出（mu）（連続）   \n",
    "5）DETERGENTS_PAPER：洗剤と紙製品の年間支出（mu）（連続）   \n",
    "6）デリカテッセン：年間消費（mu）およびデリカテッセン製品（継続）。   \n",
    "7）CHANNEL：customersâ€™チャネル-Horeca（ホテル/レストラン/カフェ）またはRetailチャネル（公称）   \n",
    "8）地域：顧客–地域– Lisnon、Oporto、またはその他（公称）   \n",
    "記述統計：   \n",
    "\n",
    "（最小、最大、平均、標準偏差）   \n",
    "フレッシュ（3、112151、12000.30、12647.329）   \n",
    "ミルク（55、73498、5796.27、7380.377）   \n",
    "食料品（3、92780、7951.28、9503.163）   \n",
    "冷凍（25、60869、3071.93、4854.673）   \n",
    "DETERGENTS_PAPER（3、40827、2881.49、4767.854）   \n",
    "デリカテッセン（3、47943、1524.87、2820.106）   \n",
    "\n"
   ]
  },
  {
   "cell_type": "markdown",
   "metadata": {},
   "source": [
    "クラスター数を増やせばSSEの値は下がっていくが、クラスタ分類後の分析が煩雑になることを考えあまり多くはしたくない。\n",
    "グラフからエルボー法より4個で試してみる"
   ]
  },
  {
   "cell_type": "code",
   "execution_count": 50,
   "metadata": {
    "ExecuteTime": {
     "end_time": "2019-10-20T14:57:36.866415Z",
     "start_time": "2019-10-20T14:56:26.167943Z"
    }
   },
   "outputs": [],
   "source": [
    "skm_2_clusters = ScratchKMeans(4, data_pca.shape[0], 100, 0.01)\n",
    "skm_2_clusters.fit(data_pca)\n",
    "y_pred_data2 = skm_2_clusters.predict(data_pca)"
   ]
  },
  {
   "cell_type": "markdown",
   "metadata": {},
   "source": [
    "### 【問題11】既知のグループとの比較\n",
    "RegionとChannelはK-meansに使用しなかったが、これれらは既知のグループです。クラスタとこれら既知のグループがどう違うかを確認し、説明してください。まずはそれぞれを可視化してください。"
   ]
  },
  {
   "cell_type": "code",
   "execution_count": 52,
   "metadata": {
    "ExecuteTime": {
     "end_time": "2019-10-20T15:01:32.461807Z",
     "start_time": "2019-10-20T15:01:32.453296Z"
    }
   },
   "outputs": [],
   "source": [
    "data = pd.read_csv(\"Sprint7/Wholesale customers data.csv\")"
   ]
  },
  {
   "cell_type": "code",
   "execution_count": 53,
   "metadata": {
    "ExecuteTime": {
     "end_time": "2019-10-20T15:01:33.157289Z",
     "start_time": "2019-10-20T15:01:32.990218Z"
    }
   },
   "outputs": [
    {
     "data": {
      "image/png": "[encoded data removed]",
      "text/plain": [
       "<Figure size 432x288 with 1 Axes>"
      ]
     },
     "metadata": {
      "needs_background": "light"
     },
     "output_type": "display_data"
    }
   ],
   "source": [
    "plt.hist(data.loc[:,\"Channel\" ], alpha = 0.3, label=\"channel\")\n",
    "plt.hist(data.loc[:,\"Region\" ], alpha = 0.3, label=\"region\")\n",
    "plt.hist(y_pred_data2, alpha = 0.3, label=\"clusters\")\n",
    "plt.xlabel(\"class\")\n",
    "plt.ylabel(\"count\")\n",
    "plt.legend()\n",
    "plt.show()"
   ]
  },
  {
   "cell_type": "markdown",
   "metadata": {},
   "source": [
    "channel:2, region:2, cluster:2の集団は比較的数が似ている"
   ]
  },
  {
   "cell_type": "markdown",
   "metadata": {},
   "source": [
    "## 【問題12】卸売業者にとって有益な情報¶\n",
    "卸売業者にとって有益な情報を探し出し文章にまとめてください。"
   ]
  },
  {
   "cell_type": "code",
   "execution_count": 54,
   "metadata": {
    "ExecuteTime": {
     "end_time": "2019-10-20T15:01:43.270425Z",
     "start_time": "2019-10-20T15:01:43.246059Z"
    }
   },
   "outputs": [
    {
     "data": {
      "text/html": [
       "<div>\n",
       "<style scoped>\n",
       "    .dataframe tbody tr th:only-of-type {\n",
       "        vertical-align: middle;\n",
       "    }\n",
       "\n",
       "    .dataframe tbody tr th {\n",
       "        vertical-align: top;\n",
       "    }\n",
       "\n",
       "    .dataframe thead th {\n",
       "        text-align: right;\n",
       "    }\n",
       "</style>\n",
       "<table border=\"1\" class=\"dataframe\">\n",
       "  <thead>\n",
       "    <tr style=\"text-align: right;\">\n",
       "      <th></th>\n",
       "      <th>Channel</th>\n",
       "      <th>Region</th>\n",
       "      <th>Fresh</th>\n",
       "      <th>Milk</th>\n",
       "      <th>Grocery</th>\n",
       "      <th>Frozen</th>\n",
       "      <th>Detergents_Paper</th>\n",
       "      <th>Delicassen</th>\n",
       "      <th>cluster</th>\n",
       "    </tr>\n",
       "  </thead>\n",
       "  <tbody>\n",
       "    <tr>\n",
       "      <th>0</th>\n",
       "      <td>2</td>\n",
       "      <td>3</td>\n",
       "      <td>12669</td>\n",
       "      <td>9656</td>\n",
       "      <td>7561</td>\n",
       "      <td>214</td>\n",
       "      <td>2674</td>\n",
       "      <td>1338</td>\n",
       "      <td>2</td>\n",
       "    </tr>\n",
       "    <tr>\n",
       "      <th>1</th>\n",
       "      <td>2</td>\n",
       "      <td>3</td>\n",
       "      <td>7057</td>\n",
       "      <td>9810</td>\n",
       "      <td>9568</td>\n",
       "      <td>1762</td>\n",
       "      <td>3293</td>\n",
       "      <td>1776</td>\n",
       "      <td>2</td>\n",
       "    </tr>\n",
       "    <tr>\n",
       "      <th>2</th>\n",
       "      <td>2</td>\n",
       "      <td>3</td>\n",
       "      <td>6353</td>\n",
       "      <td>8808</td>\n",
       "      <td>7684</td>\n",
       "      <td>2405</td>\n",
       "      <td>3516</td>\n",
       "      <td>7844</td>\n",
       "      <td>2</td>\n",
       "    </tr>\n",
       "    <tr>\n",
       "      <th>3</th>\n",
       "      <td>1</td>\n",
       "      <td>3</td>\n",
       "      <td>13265</td>\n",
       "      <td>1196</td>\n",
       "      <td>4221</td>\n",
       "      <td>6404</td>\n",
       "      <td>507</td>\n",
       "      <td>1788</td>\n",
       "      <td>0</td>\n",
       "    </tr>\n",
       "    <tr>\n",
       "      <th>4</th>\n",
       "      <td>2</td>\n",
       "      <td>3</td>\n",
       "      <td>22615</td>\n",
       "      <td>5410</td>\n",
       "      <td>7198</td>\n",
       "      <td>3915</td>\n",
       "      <td>1777</td>\n",
       "      <td>5185</td>\n",
       "      <td>0</td>\n",
       "    </tr>\n",
       "    <tr>\n",
       "      <th>5</th>\n",
       "      <td>2</td>\n",
       "      <td>3</td>\n",
       "      <td>9413</td>\n",
       "      <td>8259</td>\n",
       "      <td>5126</td>\n",
       "      <td>666</td>\n",
       "      <td>1795</td>\n",
       "      <td>1451</td>\n",
       "      <td>2</td>\n",
       "    </tr>\n",
       "    <tr>\n",
       "      <th>6</th>\n",
       "      <td>2</td>\n",
       "      <td>3</td>\n",
       "      <td>12126</td>\n",
       "      <td>3199</td>\n",
       "      <td>6975</td>\n",
       "      <td>480</td>\n",
       "      <td>3140</td>\n",
       "      <td>545</td>\n",
       "      <td>2</td>\n",
       "    </tr>\n",
       "    <tr>\n",
       "      <th>7</th>\n",
       "      <td>2</td>\n",
       "      <td>3</td>\n",
       "      <td>7579</td>\n",
       "      <td>4956</td>\n",
       "      <td>9426</td>\n",
       "      <td>1669</td>\n",
       "      <td>3321</td>\n",
       "      <td>2566</td>\n",
       "      <td>2</td>\n",
       "    </tr>\n",
       "    <tr>\n",
       "      <th>8</th>\n",
       "      <td>1</td>\n",
       "      <td>3</td>\n",
       "      <td>5963</td>\n",
       "      <td>3648</td>\n",
       "      <td>6192</td>\n",
       "      <td>425</td>\n",
       "      <td>1716</td>\n",
       "      <td>750</td>\n",
       "      <td>2</td>\n",
       "    </tr>\n",
       "    <tr>\n",
       "      <th>9</th>\n",
       "      <td>2</td>\n",
       "      <td>3</td>\n",
       "      <td>6006</td>\n",
       "      <td>11093</td>\n",
       "      <td>18881</td>\n",
       "      <td>1159</td>\n",
       "      <td>7425</td>\n",
       "      <td>2098</td>\n",
       "      <td>2</td>\n",
       "    </tr>\n",
       "    <tr>\n",
       "      <th>10</th>\n",
       "      <td>2</td>\n",
       "      <td>3</td>\n",
       "      <td>3366</td>\n",
       "      <td>5403</td>\n",
       "      <td>12974</td>\n",
       "      <td>4400</td>\n",
       "      <td>5977</td>\n",
       "      <td>1744</td>\n",
       "      <td>2</td>\n",
       "    </tr>\n",
       "    <tr>\n",
       "      <th>11</th>\n",
       "      <td>2</td>\n",
       "      <td>3</td>\n",
       "      <td>13146</td>\n",
       "      <td>1124</td>\n",
       "      <td>4523</td>\n",
       "      <td>1420</td>\n",
       "      <td>549</td>\n",
       "      <td>497</td>\n",
       "      <td>0</td>\n",
       "    </tr>\n",
       "    <tr>\n",
       "      <th>12</th>\n",
       "      <td>2</td>\n",
       "      <td>3</td>\n",
       "      <td>31714</td>\n",
       "      <td>12319</td>\n",
       "      <td>11757</td>\n",
       "      <td>287</td>\n",
       "      <td>3881</td>\n",
       "      <td>2931</td>\n",
       "      <td>2</td>\n",
       "    </tr>\n",
       "    <tr>\n",
       "      <th>13</th>\n",
       "      <td>2</td>\n",
       "      <td>3</td>\n",
       "      <td>21217</td>\n",
       "      <td>6208</td>\n",
       "      <td>14982</td>\n",
       "      <td>3095</td>\n",
       "      <td>6707</td>\n",
       "      <td>602</td>\n",
       "      <td>2</td>\n",
       "    </tr>\n",
       "    <tr>\n",
       "      <th>14</th>\n",
       "      <td>2</td>\n",
       "      <td>3</td>\n",
       "      <td>24653</td>\n",
       "      <td>9465</td>\n",
       "      <td>12091</td>\n",
       "      <td>294</td>\n",
       "      <td>5058</td>\n",
       "      <td>2168</td>\n",
       "      <td>2</td>\n",
       "    </tr>\n",
       "    <tr>\n",
       "      <th>15</th>\n",
       "      <td>1</td>\n",
       "      <td>3</td>\n",
       "      <td>10253</td>\n",
       "      <td>1114</td>\n",
       "      <td>3821</td>\n",
       "      <td>397</td>\n",
       "      <td>964</td>\n",
       "      <td>412</td>\n",
       "      <td>1</td>\n",
       "    </tr>\n",
       "    <tr>\n",
       "      <th>16</th>\n",
       "      <td>2</td>\n",
       "      <td>3</td>\n",
       "      <td>1020</td>\n",
       "      <td>8816</td>\n",
       "      <td>12121</td>\n",
       "      <td>134</td>\n",
       "      <td>4508</td>\n",
       "      <td>1080</td>\n",
       "      <td>3</td>\n",
       "    </tr>\n",
       "    <tr>\n",
       "      <th>17</th>\n",
       "      <td>1</td>\n",
       "      <td>3</td>\n",
       "      <td>5876</td>\n",
       "      <td>6157</td>\n",
       "      <td>2933</td>\n",
       "      <td>839</td>\n",
       "      <td>370</td>\n",
       "      <td>4478</td>\n",
       "      <td>0</td>\n",
       "    </tr>\n",
       "    <tr>\n",
       "      <th>18</th>\n",
       "      <td>2</td>\n",
       "      <td>3</td>\n",
       "      <td>18601</td>\n",
       "      <td>6327</td>\n",
       "      <td>10099</td>\n",
       "      <td>2205</td>\n",
       "      <td>2767</td>\n",
       "      <td>3181</td>\n",
       "      <td>2</td>\n",
       "    </tr>\n",
       "    <tr>\n",
       "      <th>19</th>\n",
       "      <td>1</td>\n",
       "      <td>3</td>\n",
       "      <td>7780</td>\n",
       "      <td>2495</td>\n",
       "      <td>9464</td>\n",
       "      <td>669</td>\n",
       "      <td>2518</td>\n",
       "      <td>501</td>\n",
       "      <td>2</td>\n",
       "    </tr>\n",
       "    <tr>\n",
       "      <th>20</th>\n",
       "      <td>2</td>\n",
       "      <td>3</td>\n",
       "      <td>17546</td>\n",
       "      <td>4519</td>\n",
       "      <td>4602</td>\n",
       "      <td>1066</td>\n",
       "      <td>2259</td>\n",
       "      <td>2124</td>\n",
       "      <td>2</td>\n",
       "    </tr>\n",
       "    <tr>\n",
       "      <th>21</th>\n",
       "      <td>1</td>\n",
       "      <td>3</td>\n",
       "      <td>5567</td>\n",
       "      <td>871</td>\n",
       "      <td>2010</td>\n",
       "      <td>3383</td>\n",
       "      <td>375</td>\n",
       "      <td>569</td>\n",
       "      <td>1</td>\n",
       "    </tr>\n",
       "    <tr>\n",
       "      <th>22</th>\n",
       "      <td>1</td>\n",
       "      <td>3</td>\n",
       "      <td>31276</td>\n",
       "      <td>1917</td>\n",
       "      <td>4469</td>\n",
       "      <td>9408</td>\n",
       "      <td>2381</td>\n",
       "      <td>4334</td>\n",
       "      <td>0</td>\n",
       "    </tr>\n",
       "    <tr>\n",
       "      <th>23</th>\n",
       "      <td>2</td>\n",
       "      <td>3</td>\n",
       "      <td>26373</td>\n",
       "      <td>36423</td>\n",
       "      <td>22019</td>\n",
       "      <td>5154</td>\n",
       "      <td>4337</td>\n",
       "      <td>16523</td>\n",
       "      <td>2</td>\n",
       "    </tr>\n",
       "    <tr>\n",
       "      <th>24</th>\n",
       "      <td>2</td>\n",
       "      <td>3</td>\n",
       "      <td>22647</td>\n",
       "      <td>9776</td>\n",
       "      <td>13792</td>\n",
       "      <td>2915</td>\n",
       "      <td>4482</td>\n",
       "      <td>5778</td>\n",
       "      <td>2</td>\n",
       "    </tr>\n",
       "    <tr>\n",
       "      <th>25</th>\n",
       "      <td>2</td>\n",
       "      <td>3</td>\n",
       "      <td>16165</td>\n",
       "      <td>4230</td>\n",
       "      <td>7595</td>\n",
       "      <td>201</td>\n",
       "      <td>4003</td>\n",
       "      <td>57</td>\n",
       "      <td>3</td>\n",
       "    </tr>\n",
       "    <tr>\n",
       "      <th>26</th>\n",
       "      <td>1</td>\n",
       "      <td>3</td>\n",
       "      <td>9898</td>\n",
       "      <td>961</td>\n",
       "      <td>2861</td>\n",
       "      <td>3151</td>\n",
       "      <td>242</td>\n",
       "      <td>833</td>\n",
       "      <td>0</td>\n",
       "    </tr>\n",
       "    <tr>\n",
       "      <th>27</th>\n",
       "      <td>1</td>\n",
       "      <td>3</td>\n",
       "      <td>14276</td>\n",
       "      <td>803</td>\n",
       "      <td>3045</td>\n",
       "      <td>485</td>\n",
       "      <td>100</td>\n",
       "      <td>518</td>\n",
       "      <td>1</td>\n",
       "    </tr>\n",
       "    <tr>\n",
       "      <th>28</th>\n",
       "      <td>2</td>\n",
       "      <td>3</td>\n",
       "      <td>4113</td>\n",
       "      <td>20484</td>\n",
       "      <td>25957</td>\n",
       "      <td>1158</td>\n",
       "      <td>8604</td>\n",
       "      <td>5206</td>\n",
       "      <td>2</td>\n",
       "    </tr>\n",
       "    <tr>\n",
       "      <th>29</th>\n",
       "      <td>1</td>\n",
       "      <td>3</td>\n",
       "      <td>43088</td>\n",
       "      <td>2100</td>\n",
       "      <td>2609</td>\n",
       "      <td>1200</td>\n",
       "      <td>1107</td>\n",
       "      <td>823</td>\n",
       "      <td>0</td>\n",
       "    </tr>\n",
       "    <tr>\n",
       "      <th>...</th>\n",
       "      <td>...</td>\n",
       "      <td>...</td>\n",
       "      <td>...</td>\n",
       "      <td>...</td>\n",
       "      <td>...</td>\n",
       "      <td>...</td>\n",
       "      <td>...</td>\n",
       "      <td>...</td>\n",
       "      <td>...</td>\n",
       "    </tr>\n",
       "    <tr>\n",
       "      <th>410</th>\n",
       "      <td>1</td>\n",
       "      <td>3</td>\n",
       "      <td>6633</td>\n",
       "      <td>2096</td>\n",
       "      <td>4563</td>\n",
       "      <td>1389</td>\n",
       "      <td>1860</td>\n",
       "      <td>1892</td>\n",
       "      <td>0</td>\n",
       "    </tr>\n",
       "    <tr>\n",
       "      <th>411</th>\n",
       "      <td>1</td>\n",
       "      <td>3</td>\n",
       "      <td>2126</td>\n",
       "      <td>3289</td>\n",
       "      <td>3281</td>\n",
       "      <td>1535</td>\n",
       "      <td>235</td>\n",
       "      <td>4365</td>\n",
       "      <td>0</td>\n",
       "    </tr>\n",
       "    <tr>\n",
       "      <th>412</th>\n",
       "      <td>1</td>\n",
       "      <td>3</td>\n",
       "      <td>97</td>\n",
       "      <td>3605</td>\n",
       "      <td>12400</td>\n",
       "      <td>98</td>\n",
       "      <td>2970</td>\n",
       "      <td>62</td>\n",
       "      <td>3</td>\n",
       "    </tr>\n",
       "    <tr>\n",
       "      <th>413</th>\n",
       "      <td>1</td>\n",
       "      <td>3</td>\n",
       "      <td>4983</td>\n",
       "      <td>4859</td>\n",
       "      <td>6633</td>\n",
       "      <td>17866</td>\n",
       "      <td>912</td>\n",
       "      <td>2435</td>\n",
       "      <td>0</td>\n",
       "    </tr>\n",
       "    <tr>\n",
       "      <th>414</th>\n",
       "      <td>1</td>\n",
       "      <td>3</td>\n",
       "      <td>5969</td>\n",
       "      <td>1990</td>\n",
       "      <td>3417</td>\n",
       "      <td>5679</td>\n",
       "      <td>1135</td>\n",
       "      <td>290</td>\n",
       "      <td>0</td>\n",
       "    </tr>\n",
       "    <tr>\n",
       "      <th>415</th>\n",
       "      <td>2</td>\n",
       "      <td>3</td>\n",
       "      <td>7842</td>\n",
       "      <td>6046</td>\n",
       "      <td>8552</td>\n",
       "      <td>1691</td>\n",
       "      <td>3540</td>\n",
       "      <td>1874</td>\n",
       "      <td>2</td>\n",
       "    </tr>\n",
       "    <tr>\n",
       "      <th>416</th>\n",
       "      <td>2</td>\n",
       "      <td>3</td>\n",
       "      <td>4389</td>\n",
       "      <td>10940</td>\n",
       "      <td>10908</td>\n",
       "      <td>848</td>\n",
       "      <td>6728</td>\n",
       "      <td>993</td>\n",
       "      <td>2</td>\n",
       "    </tr>\n",
       "    <tr>\n",
       "      <th>417</th>\n",
       "      <td>1</td>\n",
       "      <td>3</td>\n",
       "      <td>5065</td>\n",
       "      <td>5499</td>\n",
       "      <td>11055</td>\n",
       "      <td>364</td>\n",
       "      <td>3485</td>\n",
       "      <td>1063</td>\n",
       "      <td>2</td>\n",
       "    </tr>\n",
       "    <tr>\n",
       "      <th>418</th>\n",
       "      <td>2</td>\n",
       "      <td>3</td>\n",
       "      <td>660</td>\n",
       "      <td>8494</td>\n",
       "      <td>18622</td>\n",
       "      <td>133</td>\n",
       "      <td>6740</td>\n",
       "      <td>776</td>\n",
       "      <td>3</td>\n",
       "    </tr>\n",
       "    <tr>\n",
       "      <th>419</th>\n",
       "      <td>1</td>\n",
       "      <td>3</td>\n",
       "      <td>8861</td>\n",
       "      <td>3783</td>\n",
       "      <td>2223</td>\n",
       "      <td>633</td>\n",
       "      <td>1580</td>\n",
       "      <td>1521</td>\n",
       "      <td>0</td>\n",
       "    </tr>\n",
       "    <tr>\n",
       "      <th>420</th>\n",
       "      <td>1</td>\n",
       "      <td>3</td>\n",
       "      <td>4456</td>\n",
       "      <td>5266</td>\n",
       "      <td>13227</td>\n",
       "      <td>25</td>\n",
       "      <td>6818</td>\n",
       "      <td>1393</td>\n",
       "      <td>3</td>\n",
       "    </tr>\n",
       "    <tr>\n",
       "      <th>421</th>\n",
       "      <td>2</td>\n",
       "      <td>3</td>\n",
       "      <td>17063</td>\n",
       "      <td>4847</td>\n",
       "      <td>9053</td>\n",
       "      <td>1031</td>\n",
       "      <td>3415</td>\n",
       "      <td>1784</td>\n",
       "      <td>2</td>\n",
       "    </tr>\n",
       "    <tr>\n",
       "      <th>422</th>\n",
       "      <td>1</td>\n",
       "      <td>3</td>\n",
       "      <td>26400</td>\n",
       "      <td>1377</td>\n",
       "      <td>4172</td>\n",
       "      <td>830</td>\n",
       "      <td>948</td>\n",
       "      <td>1218</td>\n",
       "      <td>0</td>\n",
       "    </tr>\n",
       "    <tr>\n",
       "      <th>423</th>\n",
       "      <td>2</td>\n",
       "      <td>3</td>\n",
       "      <td>17565</td>\n",
       "      <td>3686</td>\n",
       "      <td>4657</td>\n",
       "      <td>1059</td>\n",
       "      <td>1803</td>\n",
       "      <td>668</td>\n",
       "      <td>0</td>\n",
       "    </tr>\n",
       "    <tr>\n",
       "      <th>424</th>\n",
       "      <td>2</td>\n",
       "      <td>3</td>\n",
       "      <td>16980</td>\n",
       "      <td>2884</td>\n",
       "      <td>12232</td>\n",
       "      <td>874</td>\n",
       "      <td>3213</td>\n",
       "      <td>249</td>\n",
       "      <td>2</td>\n",
       "    </tr>\n",
       "    <tr>\n",
       "      <th>425</th>\n",
       "      <td>1</td>\n",
       "      <td>3</td>\n",
       "      <td>11243</td>\n",
       "      <td>2408</td>\n",
       "      <td>2593</td>\n",
       "      <td>15348</td>\n",
       "      <td>108</td>\n",
       "      <td>1886</td>\n",
       "      <td>0</td>\n",
       "    </tr>\n",
       "    <tr>\n",
       "      <th>426</th>\n",
       "      <td>1</td>\n",
       "      <td>3</td>\n",
       "      <td>13134</td>\n",
       "      <td>9347</td>\n",
       "      <td>14316</td>\n",
       "      <td>3141</td>\n",
       "      <td>5079</td>\n",
       "      <td>1894</td>\n",
       "      <td>2</td>\n",
       "    </tr>\n",
       "    <tr>\n",
       "      <th>427</th>\n",
       "      <td>1</td>\n",
       "      <td>3</td>\n",
       "      <td>31012</td>\n",
       "      <td>16687</td>\n",
       "      <td>5429</td>\n",
       "      <td>15082</td>\n",
       "      <td>439</td>\n",
       "      <td>1163</td>\n",
       "      <td>0</td>\n",
       "    </tr>\n",
       "    <tr>\n",
       "      <th>428</th>\n",
       "      <td>1</td>\n",
       "      <td>3</td>\n",
       "      <td>3047</td>\n",
       "      <td>5970</td>\n",
       "      <td>4910</td>\n",
       "      <td>2198</td>\n",
       "      <td>850</td>\n",
       "      <td>317</td>\n",
       "      <td>0</td>\n",
       "    </tr>\n",
       "    <tr>\n",
       "      <th>429</th>\n",
       "      <td>1</td>\n",
       "      <td>3</td>\n",
       "      <td>8607</td>\n",
       "      <td>1750</td>\n",
       "      <td>3580</td>\n",
       "      <td>47</td>\n",
       "      <td>84</td>\n",
       "      <td>2501</td>\n",
       "      <td>1</td>\n",
       "    </tr>\n",
       "    <tr>\n",
       "      <th>430</th>\n",
       "      <td>1</td>\n",
       "      <td>3</td>\n",
       "      <td>3097</td>\n",
       "      <td>4230</td>\n",
       "      <td>16483</td>\n",
       "      <td>575</td>\n",
       "      <td>241</td>\n",
       "      <td>2080</td>\n",
       "      <td>0</td>\n",
       "    </tr>\n",
       "    <tr>\n",
       "      <th>431</th>\n",
       "      <td>1</td>\n",
       "      <td>3</td>\n",
       "      <td>8533</td>\n",
       "      <td>5506</td>\n",
       "      <td>5160</td>\n",
       "      <td>13486</td>\n",
       "      <td>1377</td>\n",
       "      <td>1498</td>\n",
       "      <td>0</td>\n",
       "    </tr>\n",
       "    <tr>\n",
       "      <th>432</th>\n",
       "      <td>1</td>\n",
       "      <td>3</td>\n",
       "      <td>21117</td>\n",
       "      <td>1162</td>\n",
       "      <td>4754</td>\n",
       "      <td>269</td>\n",
       "      <td>1328</td>\n",
       "      <td>395</td>\n",
       "      <td>0</td>\n",
       "    </tr>\n",
       "    <tr>\n",
       "      <th>433</th>\n",
       "      <td>1</td>\n",
       "      <td>3</td>\n",
       "      <td>1982</td>\n",
       "      <td>3218</td>\n",
       "      <td>1493</td>\n",
       "      <td>1541</td>\n",
       "      <td>356</td>\n",
       "      <td>1449</td>\n",
       "      <td>1</td>\n",
       "    </tr>\n",
       "    <tr>\n",
       "      <th>434</th>\n",
       "      <td>1</td>\n",
       "      <td>3</td>\n",
       "      <td>16731</td>\n",
       "      <td>3922</td>\n",
       "      <td>7994</td>\n",
       "      <td>688</td>\n",
       "      <td>2371</td>\n",
       "      <td>838</td>\n",
       "      <td>2</td>\n",
       "    </tr>\n",
       "    <tr>\n",
       "      <th>435</th>\n",
       "      <td>1</td>\n",
       "      <td>3</td>\n",
       "      <td>29703</td>\n",
       "      <td>12051</td>\n",
       "      <td>16027</td>\n",
       "      <td>13135</td>\n",
       "      <td>182</td>\n",
       "      <td>2204</td>\n",
       "      <td>0</td>\n",
       "    </tr>\n",
       "    <tr>\n",
       "      <th>436</th>\n",
       "      <td>1</td>\n",
       "      <td>3</td>\n",
       "      <td>39228</td>\n",
       "      <td>1431</td>\n",
       "      <td>764</td>\n",
       "      <td>4510</td>\n",
       "      <td>93</td>\n",
       "      <td>2346</td>\n",
       "      <td>0</td>\n",
       "    </tr>\n",
       "    <tr>\n",
       "      <th>437</th>\n",
       "      <td>2</td>\n",
       "      <td>3</td>\n",
       "      <td>14531</td>\n",
       "      <td>15488</td>\n",
       "      <td>30243</td>\n",
       "      <td>437</td>\n",
       "      <td>14841</td>\n",
       "      <td>1867</td>\n",
       "      <td>2</td>\n",
       "    </tr>\n",
       "    <tr>\n",
       "      <th>438</th>\n",
       "      <td>1</td>\n",
       "      <td>3</td>\n",
       "      <td>10290</td>\n",
       "      <td>1981</td>\n",
       "      <td>2232</td>\n",
       "      <td>1038</td>\n",
       "      <td>168</td>\n",
       "      <td>2125</td>\n",
       "      <td>0</td>\n",
       "    </tr>\n",
       "    <tr>\n",
       "      <th>439</th>\n",
       "      <td>1</td>\n",
       "      <td>3</td>\n",
       "      <td>2787</td>\n",
       "      <td>1698</td>\n",
       "      <td>2510</td>\n",
       "      <td>65</td>\n",
       "      <td>477</td>\n",
       "      <td>52</td>\n",
       "      <td>3</td>\n",
       "    </tr>\n",
       "  </tbody>\n",
       "</table>\n",
       "<p>440 rows × 9 columns</p>\n",
       "</div>"
      ],
      "text/plain": [
       "     Channel  Region  Fresh   Milk  Grocery  Frozen  Detergents_Paper  \\\n",
       "0          2       3  12669   9656     7561     214              2674   \n",
       "1          2       3   7057   9810     9568    1762              3293   \n",
       "2          2       3   6353   8808     7684    2405              3516   \n",
       "3          1       3  13265   1196     4221    6404               507   \n",
       "4          2       3  22615   5410     7198    3915              1777   \n",
       "5          2       3   9413   8259     5126     666              1795   \n",
       "6          2       3  12126   3199     6975     480              3140   \n",
       "7          2       3   7579   4956     9426    1669              3321   \n",
       "8          1       3   5963   3648     6192     425              1716   \n",
       "9          2       3   6006  11093    18881    1159              7425   \n",
       "10         2       3   3366   5403    12974    4400              5977   \n",
       "11         2       3  13146   1124     4523    1420               549   \n",
       "12         2       3  31714  12319    11757     287              3881   \n",
       "13         2       3  21217   6208    14982    3095              6707   \n",
       "14         2       3  24653   9465    12091     294              5058   \n",
       "15         1       3  10253   1114     3821     397               964   \n",
       "16         2       3   1020   8816    12121     134              4508   \n",
       "17         1       3   5876   6157     2933     839               370   \n",
       "18         2       3  18601   6327    10099    2205              2767   \n",
       "19         1       3   7780   2495     9464     669              2518   \n",
       "20         2       3  17546   4519     4602    1066              2259   \n",
       "21         1       3   5567    871     2010    3383               375   \n",
       "22         1       3  31276   1917     4469    9408              2381   \n",
       "23         2       3  26373  36423    22019    5154              4337   \n",
       "24         2       3  22647   9776    13792    2915              4482   \n",
       "25         2       3  16165   4230     7595     201              4003   \n",
       "26         1       3   9898    961     2861    3151               242   \n",
       "27         1       3  14276    803     3045     485               100   \n",
       "28         2       3   4113  20484    25957    1158              8604   \n",
       "29         1       3  43088   2100     2609    1200              1107   \n",
       "..       ...     ...    ...    ...      ...     ...               ...   \n",
       "410        1       3   6633   2096     4563    1389              1860   \n",
       "411        1       3   2126   3289     3281    1535               235   \n",
       "412        1       3     97   3605    12400      98              2970   \n",
       "413        1       3   4983   4859     6633   17866               912   \n",
       "414        1       3   5969   1990     3417    5679              1135   \n",
       "415        2       3   7842   6046     8552    1691              3540   \n",
       "416        2       3   4389  10940    10908     848              6728   \n",
       "417        1       3   5065   5499    11055     364              3485   \n",
       "418        2       3    660   8494    18622     133              6740   \n",
       "419        1       3   8861   3783     2223     633              1580   \n",
       "420        1       3   4456   5266    13227      25              6818   \n",
       "421        2       3  17063   4847     9053    1031              3415   \n",
       "422        1       3  26400   1377     4172     830               948   \n",
       "423        2       3  17565   3686     4657    1059              1803   \n",
       "424        2       3  16980   2884    12232     874              3213   \n",
       "425        1       3  11243   2408     2593   15348               108   \n",
       "426        1       3  13134   9347    14316    3141              5079   \n",
       "427        1       3  31012  16687     5429   15082               439   \n",
       "428        1       3   3047   5970     4910    2198               850   \n",
       "429        1       3   8607   1750     3580      47                84   \n",
       "430        1       3   3097   4230    16483     575               241   \n",
       "431        1       3   8533   5506     5160   13486              1377   \n",
       "432        1       3  21117   1162     4754     269              1328   \n",
       "433        1       3   1982   3218     1493    1541               356   \n",
       "434        1       3  16731   3922     7994     688              2371   \n",
       "435        1       3  29703  12051    16027   13135               182   \n",
       "436        1       3  39228   1431      764    4510                93   \n",
       "437        2       3  14531  15488    30243     437             14841   \n",
       "438        1       3  10290   1981     2232    1038               168   \n",
       "439        1       3   2787   1698     2510      65               477   \n",
       "\n",
       "     Delicassen  cluster  \n",
       "0          1338        2  \n",
       "1          1776        2  \n",
       "2          7844        2  \n",
       "3          1788        0  \n",
       "4          5185        0  \n",
       "5          1451        2  \n",
       "6           545        2  \n",
       "7          2566        2  \n",
       "8           750        2  \n",
       "9          2098        2  \n",
       "10         1744        2  \n",
       "11          497        0  \n",
       "12         2931        2  \n",
       "13          602        2  \n",
       "14         2168        2  \n",
       "15          412        1  \n",
       "16         1080        3  \n",
       "17         4478        0  \n",
       "18         3181        2  \n",
       "19          501        2  \n",
       "20         2124        2  \n",
       "21          569        1  \n",
       "22         4334        0  \n",
       "23        16523        2  \n",
       "24         5778        2  \n",
       "25           57        3  \n",
       "26          833        0  \n",
       "27          518        1  \n",
       "28         5206        2  \n",
       "29          823        0  \n",
       "..          ...      ...  \n",
       "410        1892        0  \n",
       "411        4365        0  \n",
       "412          62        3  \n",
       "413        2435        0  \n",
       "414         290        0  \n",
       "415        1874        2  \n",
       "416         993        2  \n",
       "417        1063        2  \n",
       "418         776        3  \n",
       "419        1521        0  \n",
       "420        1393        3  \n",
       "421        1784        2  \n",
       "422        1218        0  \n",
       "423         668        0  \n",
       "424         249        2  \n",
       "425        1886        0  \n",
       "426        1894        2  \n",
       "427        1163        0  \n",
       "428         317        0  \n",
       "429        2501        1  \n",
       "430        2080        0  \n",
       "431        1498        0  \n",
       "432         395        0  \n",
       "433        1449        1  \n",
       "434         838        2  \n",
       "435        2204        0  \n",
       "436        2346        0  \n",
       "437        1867        2  \n",
       "438        2125        0  \n",
       "439          52        3  \n",
       "\n",
       "[440 rows x 9 columns]"
      ]
     },
     "execution_count": 54,
     "metadata": {},
     "output_type": "execute_result"
    }
   ],
   "source": [
    "data_2 = data.copy()\n",
    "data_2[\"cluster\"] = y_pred_data2\n",
    "data_2\n"
   ]
  },
  {
   "cell_type": "code",
   "execution_count": 55,
   "metadata": {
    "ExecuteTime": {
     "end_time": "2019-10-20T15:01:43.290157Z",
     "start_time": "2019-10-20T15:01:43.272628Z"
    }
   },
   "outputs": [
    {
     "data": {
      "text/html": [
       "<div>\n",
       "<style scoped>\n",
       "    .dataframe tbody tr th:only-of-type {\n",
       "        vertical-align: middle;\n",
       "    }\n",
       "\n",
       "    .dataframe tbody tr th {\n",
       "        vertical-align: top;\n",
       "    }\n",
       "\n",
       "    .dataframe thead th {\n",
       "        text-align: right;\n",
       "    }\n",
       "</style>\n",
       "<table border=\"1\" class=\"dataframe\">\n",
       "  <thead>\n",
       "    <tr style=\"text-align: right;\">\n",
       "      <th></th>\n",
       "      <th>Channel</th>\n",
       "      <th>Region</th>\n",
       "      <th>Fresh</th>\n",
       "      <th>Milk</th>\n",
       "      <th>Grocery</th>\n",
       "      <th>Frozen</th>\n",
       "      <th>Detergents_Paper</th>\n",
       "      <th>Delicassen</th>\n",
       "    </tr>\n",
       "    <tr>\n",
       "      <th>cluster</th>\n",
       "      <th></th>\n",
       "      <th></th>\n",
       "      <th></th>\n",
       "      <th></th>\n",
       "      <th></th>\n",
       "      <th></th>\n",
       "      <th></th>\n",
       "      <th></th>\n",
       "    </tr>\n",
       "  </thead>\n",
       "  <tbody>\n",
       "    <tr>\n",
       "      <th>0</th>\n",
       "      <td>1.0</td>\n",
       "      <td>3.0</td>\n",
       "      <td>19255.0</td>\n",
       "      <td>4041.0</td>\n",
       "      <td>4358.0</td>\n",
       "      <td>5582.0</td>\n",
       "      <td>639.0</td>\n",
       "      <td>2033.0</td>\n",
       "    </tr>\n",
       "    <tr>\n",
       "      <th>1</th>\n",
       "      <td>1.0</td>\n",
       "      <td>3.0</td>\n",
       "      <td>8549.0</td>\n",
       "      <td>1643.0</td>\n",
       "      <td>1956.0</td>\n",
       "      <td>2281.0</td>\n",
       "      <td>282.0</td>\n",
       "      <td>578.0</td>\n",
       "    </tr>\n",
       "    <tr>\n",
       "      <th>2</th>\n",
       "      <td>2.0</td>\n",
       "      <td>3.0</td>\n",
       "      <td>11475.0</td>\n",
       "      <td>11259.0</td>\n",
       "      <td>15663.0</td>\n",
       "      <td>2044.0</td>\n",
       "      <td>6781.0</td>\n",
       "      <td>2227.0</td>\n",
       "    </tr>\n",
       "    <tr>\n",
       "      <th>3</th>\n",
       "      <td>2.0</td>\n",
       "      <td>3.0</td>\n",
       "      <td>2262.0</td>\n",
       "      <td>7171.0</td>\n",
       "      <td>12760.0</td>\n",
       "      <td>574.0</td>\n",
       "      <td>5520.0</td>\n",
       "      <td>734.0</td>\n",
       "    </tr>\n",
       "  </tbody>\n",
       "</table>\n",
       "</div>"
      ],
      "text/plain": [
       "         Channel  Region    Fresh     Milk  Grocery  Frozen  Detergents_Paper  \\\n",
       "cluster                                                                         \n",
       "0            1.0     3.0  19255.0   4041.0   4358.0  5582.0             639.0   \n",
       "1            1.0     3.0   8549.0   1643.0   1956.0  2281.0             282.0   \n",
       "2            2.0     3.0  11475.0  11259.0  15663.0  2044.0            6781.0   \n",
       "3            2.0     3.0   2262.0   7171.0  12760.0   574.0            5520.0   \n",
       "\n",
       "         Delicassen  \n",
       "cluster              \n",
       "0            2033.0  \n",
       "1             578.0  \n",
       "2            2227.0  \n",
       "3             734.0  "
      ]
     },
     "execution_count": 55,
     "metadata": {},
     "output_type": "execute_result"
    }
   ],
   "source": [
    "data_2_groupby_cluster = data_2.groupby([\"cluster\"]).mean().round()\n",
    "data_2_groupby_cluster\n"
   ]
  },
  {
   "cell_type": "code",
   "execution_count": 56,
   "metadata": {
    "ExecuteTime": {
     "end_time": "2019-10-20T15:01:44.239476Z",
     "start_time": "2019-10-20T15:01:43.292569Z"
    }
   },
   "outputs": [
    {
     "data": {
      "image/png": "[encoded data removed]",
      "text/plain": [
       "<Figure size 432x288 with 1 Axes>"
      ]
     },
     "metadata": {
      "needs_background": "light"
     },
     "output_type": "display_data"
    },
    {
     "data": {
      "image/png": "[encoded data removed]",
      "text/plain": [
       "<Figure size 432x288 with 1 Axes>"
      ]
     },
     "metadata": {
      "needs_background": "light"
     },
     "output_type": "display_data"
    },
    {
     "data": {
      "image/png": "[encoded data removed]",
      "text/plain": [
       "<Figure size 432x288 with 1 Axes>"
      ]
     },
     "metadata": {
      "needs_background": "light"
     },
     "output_type": "display_data"
    },
    {
     "data": {
      "image/png": "[encoded data removed]",
      "text/plain": [
       "<Figure size 432x288 with 1 Axes>"
      ]
     },
     "metadata": {
      "needs_background": "light"
     },
     "output_type": "display_data"
    },
    {
     "data": {
      "image/png": "[encoded data removed]",
      "text/plain": [
       "<Figure size 432x288 with 1 Axes>"
      ]
     },
     "metadata": {
      "needs_background": "light"
     },
     "output_type": "display_data"
    },
    {
     "data": {
      "image/png": "[encoded data removed]",
      "text/plain": [
       "<Figure size 432x288 with 1 Axes>"
      ]
     },
     "metadata": {
      "needs_background": "light"
     },
     "output_type": "display_data"
    },
    {
     "data": {
      "image/png": "[encoded data removed]",
      "text/plain": [
       "<Figure size 432x288 with 1 Axes>"
      ]
     },
     "metadata": {
      "needs_background": "light"
     },
     "output_type": "display_data"
    },
    {
     "data": {
      "image/png": "[encoded data removed]",
      "text/plain": [
       "<Figure size 432x288 with 1 Axes>"
      ]
     },
     "metadata": {
      "needs_background": "light"
     },
     "output_type": "display_data"
    }
   ],
   "source": [
    "for col in data_2_groupby_cluster :\n",
    "    plt.title(col)\n",
    "    plt.xlabel(\"cluster\")\n",
    "    plt.bar(x = [0, 1, 2, 3], height=data_2_groupby_cluster[col])\n",
    "    plt.show()"
   ]
  },
  {
   "cell_type": "markdown",
   "metadata": {},
   "source": [
    "cluster:１の人は, cluster:2, cluster3に比べ消費しやすい  \n",
    "特にDelicassenは顕著に高い  \n",
    "cluster:1の人はchannel:1の人が多い  \n",
    "channel:2の中でcluster:0の人はDetergents_Paperをよく購入する、しかしregion:3の人はあまり購入しない。  \n",
    "  \n",
    "  \n",
    "cluster:1の人はchannel:1の人が多く、このセクションの購入が多いため、ホテル・レストランに向けたプロモーションを強化する  \n",
    "channel:2でcluster:0の人のDetergents_Paperの購入が多い、一方region:3の人が高くない。  \n",
    "なので、リスボン・ポルトでの個人向けDetergents_Paperの広告を増やす、特にcluster:0の人の特徴に合わせて行う。  "
   ]
  }
 ],
 "metadata": {
  "kernelspec": {
   "display_name": "Python 3",
   "language": "python",
   "name": "python3"
  },
  "language_info": {
   "codemirror_mode": {
    "name": "ipython",
    "version": 3
   },
   "file_extension": ".py",
   "mimetype": "text/x-python",
   "name": "python",
   "nbconvert_exporter": "python",
   "pygments_lexer": "ipython3",
   "version": "3.7.3"
  }
 },
 "nbformat": 4,
 "nbformat_minor": 2
}
