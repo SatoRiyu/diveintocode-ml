{
 "cells": [
  {
   "cell_type": "markdown",
   "metadata": {},
   "source": [
    "# Sprint 深層学習スクラッチリカレントニューラルネットワーク"
   ]
  },
  {
   "cell_type": "markdown",
   "metadata": {},
   "source": [
    "## 【問題1】SimpleRNNのフォワードプロパゲーション実装"
   ]
  },
  {
   "cell_type": "code",
   "execution_count": 1,
   "metadata": {
    "ExecuteTime": {
     "end_time": "2019-09-30T06:23:47.535578Z",
     "start_time": "2019-09-30T06:23:47.317041Z"
    }
   },
   "outputs": [],
   "source": [
    "import numpy as np"
   ]
  },
  {
   "cell_type": "code",
   "execution_count": 2,
   "metadata": {
    "ExecuteTime": {
     "end_time": "2019-09-30T06:23:47.546443Z",
     "start_time": "2019-09-30T06:23:47.537319Z"
    }
   },
   "outputs": [],
   "source": [
    "class SimpleRNN:\n",
    "    \"\"\"\n",
    "    ノード数n_nodes1からn_nodes2への全結合層\n",
    "    Parameters\n",
    "    ----------\n",
    "    n_nodes1 : int\n",
    "      前の層のノード数\n",
    "    n_nodes2 : int\n",
    "      後の層のノード数\n",
    "    initializer : 初期化方法のインスタンス\n",
    "    optimizer : 最適化手法のインスタンス\n",
    "    \"\"\"\n",
    "\n",
    "    def __init__(self, n_nodes1=None, n_nodes2=None, initializer=None, optimizer=None, test=False):\n",
    "        self.optimizer = optimizer\n",
    "        # 初期化\n",
    "        if test:\n",
    "            #test用\n",
    "            self.W = np.array([[1, 3, 5, 7], [3, 5, 7, 8]]) / \\\n",
    "                100  # (n_features, n_nodes)\n",
    "            self.W_h = w_h = np.array([[1, 3, 5, 7], [2, 4, 6, 8], [3, 5, 7, 8], [\n",
    "                                      4, 6, 8, 10]])/100  # (n_nodes, n_nodes)\n",
    "            self.B = np.array([1, 1, 1, 1])  # (n_nodes,)\n",
    "        else:\n",
    "            # initializerのメソッドを使い、self.Wとself.Bを初期化する\n",
    "            init = initializer\n",
    "            self.n_nodes1 = n_nodes1\n",
    "            self.W = init.W(n_nodes1, n_nodes2)\n",
    "            self.W_h = init.W(n_nodes1, n_nodes2)\n",
    "            self.B = init.B(n_nodes2)\n",
    "\n",
    "    def forward(self, X):\n",
    "        \"\"\"\n",
    "        フォワード\n",
    "        Parameters\n",
    "        ----------\n",
    "        X : 次の形のndarray, shape (batch_size, n_sequences, n_features)\n",
    "            入力\n",
    "        Returns\n",
    "        ----------\n",
    "        A : 次の形のndarray, shape (batch_size, n_nodes2)\n",
    "            出力\n",
    "        \"\"\"\n",
    "\n",
    "        batch_size = X.shape[0]  # 1\n",
    "        n_sequences = X.shape[1]  # 3\n",
    "        n_features = X.shape[2]  # 2\n",
    "        n_nodes = self.W.shape[1]  # 4\n",
    "        h_temp = np.zeros((batch_size, n_nodes))  # (batch_size, n_nodes)\n",
    "        for i in range(X.shape[1]):\n",
    "            a = X[:, i]@self.W + h_temp@self.W_h + self.B\n",
    "            h_temp = np.tanh(a)\n",
    "\n",
    "        return h_temp"
   ]
  },
  {
   "cell_type": "markdown",
   "metadata": {},
   "source": [
    "## 【問題2】小さな配列でのフォワードプロパゲーションの実験"
   ]
  },
  {
   "cell_type": "code",
   "execution_count": 3,
   "metadata": {
    "ExecuteTime": {
     "end_time": "2019-09-30T06:23:47.552996Z",
     "start_time": "2019-09-30T06:23:47.548198Z"
    }
   },
   "outputs": [],
   "source": [
    "x = np.array([[[1, 2], [2, 3], [3, 4]]])/100 # (batch_size, n_sequences, n_features)\n",
    "w_x = np.array([[1, 3, 5, 7], [3, 5, 7, 8]])/100 # (n_features, n_nodes)\n",
    "w_h = np.array([[1, 3, 5, 7], [2, 4, 6, 8], [3, 5, 7, 8], [4, 6, 8, 10]])/100 # (n_nodes, n_nodes)\n",
    "batch_size = x.shape[0] # 1\n",
    "n_sequences = x.shape[1] # 3\n",
    "n_features = x.shape[2] # 2\n",
    "n_nodes = w_x.shape[1] # 4\n",
    "h = np.zeros((batch_size, n_nodes)) # (batch_size, n_nodes)\n",
    "b = np.array([1, 1, 1, 1]) # (n_nodes,)"
   ]
  },
  {
   "cell_type": "code",
   "execution_count": 4,
   "metadata": {
    "ExecuteTime": {
     "end_time": "2019-09-30T06:23:47.557793Z",
     "start_time": "2019-09-30T06:23:47.554373Z"
    }
   },
   "outputs": [],
   "source": [
    "x = np.array([[[1, 2], [2, 3], [3, 4]]])/100 # (batch_size, n_sequences, n_features)\n",
    "forward_test = SimpleRNN(test=True).forward(x)"
   ]
  },
  {
   "cell_type": "code",
   "execution_count": 5,
   "metadata": {
    "ExecuteTime": {
     "end_time": "2019-09-30T06:23:47.562370Z",
     "start_time": "2019-09-30T06:23:47.559331Z"
    }
   },
   "outputs": [
    {
     "name": "stdout",
     "output_type": "stream",
     "text": [
      "[[0.79494228 0.81839002 0.83939649 0.85584174]]\n"
     ]
    }
   ],
   "source": [
    "print(forward_test)"
   ]
  }
 ],
 "metadata": {
  "kernelspec": {
   "display_name": "Python 3",
   "language": "python",
   "name": "python3"
  },
  "language_info": {
   "codemirror_mode": {
    "name": "ipython",
    "version": 3
   },
   "file_extension": ".py",
   "mimetype": "text/x-python",
   "name": "python",
   "nbconvert_exporter": "python",
   "pygments_lexer": "ipython3",
   "version": "3.7.3"
  }
 },
 "nbformat": 4,
 "nbformat_minor": 2
}
